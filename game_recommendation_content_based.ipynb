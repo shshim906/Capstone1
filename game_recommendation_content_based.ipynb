{
 "cells": [
  {
   "cell_type": "markdown",
   "metadata": {},
   "source": [
    "## This code will recommend games to a player using reviews each game received from each player and what games that player played the most."
   ]
  },
  {
   "cell_type": "markdown",
   "metadata": {},
   "source": [
    "In order to test this, please write a player's steam game id in to the input. If nothing is written, the default id will be placed to run the code"
   ]
  },
  {
   "cell_type": "code",
   "execution_count": 4,
   "metadata": {},
   "outputs": [
    {
     "name": "stdout",
     "output_type": "stream",
     "text": [
      "Enter a player id: \n"
     ]
    }
   ],
   "source": [
    "test_id=input('Enter a player id: ')"
   ]
  },
  {
   "cell_type": "code",
   "execution_count": 5,
   "metadata": {},
   "outputs": [],
   "source": [
    "if len(test_id)!=17 and not test_id.isdigit():\n",
    "    test_id=76561198141485825"
   ]
  },
  {
   "cell_type": "markdown",
   "metadata": {},
   "source": [
    "We will first gather game review data from STEAM using API."
   ]
  },
  {
   "cell_type": "code",
   "execution_count": 6,
   "metadata": {},
   "outputs": [],
   "source": [
    "import requests\n",
    "# Get all the games that the player played\n",
    "def getownedgames(idnum):\n",
    "    \"\"\"Takes the id number of a steam user and returns the id num of games they own\"\"\"\n",
    "    url='http://api.steampowered.com/IPlayerService/GetOwnedGames/v0001/?key=3A629E52AE594CB777253431189F2967&steamid={}&format=json'.format(idnum)\n",
    "    r=requests.get(url)\n",
    "    json_data=r.json()\n",
    "    return json_data"
   ]
  },
  {
   "cell_type": "code",
   "execution_count": 7,
   "metadata": {},
   "outputs": [],
   "source": [
    "def get_reviews(gameid,num):\n",
    "    \"\"\"Takes the id number of a game and returns 20 reviews\"\"\"\n",
    "    url='http://store.steampowered.com/appreviews/{}?json=1&start_offset={} '.format(gameid,num)\n",
    "    r=requests.get(url)\n",
    "    json_data=r.json()\n",
    "    return json_data"
   ]
  },
  {
   "cell_type": "code",
   "execution_count": 8,
   "metadata": {},
   "outputs": [],
   "source": [
    "import pandas as pd\n",
    "def get_all_reviews(gameid):\n",
    "    \"\"\"Uses 'get_review' function to pull as many reviews as it can from steam website\"\"\"\n",
    "    \"\"\"STEAM website usually have limitation (20 reviews) on how many reviews we can pull\"\"\"\n",
    "    n=0\n",
    "    stop=0\n",
    "    fst_iterat=get_reviews(gameid,n)\n",
    "    if fst_iterat['success']==1:\n",
    "        df=pd.DataFrame(fst_iterat['reviews'])\n",
    "        numreview=fst_iterat['query_summary']['num_reviews']             \n",
    "        while numreview==20:\n",
    "            if len(df)>=120:\n",
    "                break\n",
    "            n+=20\n",
    "            add_iterat=get_reviews(gameid,n)\n",
    "            df_add=pd.DataFrame(add_iterat['reviews'])\n",
    "            df=df.append(df_add)\n",
    "            numreview=add_iterat['query_summary']['num_reviews']\n",
    "        df_author=pd.DataFrame(df['author'].tolist())\n",
    "        df['author']=df_author['steamid']\n",
    "    return df[['author','recommendationid','language','review','steam_purchase','timestamp_created','timestamp_updated']]"
   ]
  },
  {
   "cell_type": "markdown",
   "metadata": {},
   "source": [
    "Get all the application id that is on STEAM website."
   ]
  },
  {
   "cell_type": "code",
   "execution_count": 9,
   "metadata": {},
   "outputs": [],
   "source": [
    "api_key='3A629E52AE594CB777253431189F2967' # API key for getting information from Steam\n",
    "allgame='http://api.steampowered.com/ISteamApps/GetAppList/v0002/?key={}&format=json'.format(api_key)\n",
    "all_r=requests.get(allgame)\n",
    "allgame_id=all_r.json()"
   ]
  },
  {
   "cell_type": "code",
   "execution_count": 10,
   "metadata": {},
   "outputs": [],
   "source": [
    "steamapp_dict=dict()\n",
    "for num in range(len(allgame_id['applist']['apps'])):\n",
    "    key=allgame_id['applist']['apps'][num]['appid']\n",
    "    value=allgame_id['applist']['apps'][num]['name']\n",
    "    if key in steamapp_dict:\n",
    "        continue\n",
    "    else:\n",
    "        steamapp_dict[key]=value"
   ]
  },
  {
   "cell_type": "code",
   "execution_count": 69,
   "metadata": {},
   "outputs": [
    {
     "data": {
      "text/plain": [
       "'Counter-Strike'"
      ]
     },
     "execution_count": 69,
     "metadata": {},
     "output_type": "execute_result"
    }
   ],
   "source": [
    "steamapp_dict[10]"
   ]
  },
  {
   "cell_type": "code",
   "execution_count": 11,
   "metadata": {},
   "outputs": [
    {
     "data": {
      "text/plain": [
       "76832"
      ]
     },
     "execution_count": 11,
     "metadata": {},
     "output_type": "execute_result"
    }
   ],
   "source": [
    "len(steamapp_dict)"
   ]
  },
  {
   "cell_type": "markdown",
   "metadata": {},
   "source": [
    "For the sake of our code, we will use a portion of the steam apps because iterating over hundreds of reviews from 76479 apps will be very time consuming.\n",
    "The games that we will recommending to the consumer was determined by looking at the ranking on metacritic.\n",
    "\n",
    "Metacritic have their own way of determining the rankings including opinions from game reviewers, popularity from players, etc.\n",
    "\n",
    "However, not every game from metacritic is on STEAM website and not all names are the same in these two websites.\n",
    "\n",
    "Therefore we will use top 300 game names from metacritic and find games on STEAM that shares a part of that name(e.g. \"Witcher 3\" vs. \"Witcher 3: Wild hunt\" or \"Witcher 2: Assassins of Kings\")"
   ]
  },
  {
   "cell_type": "code",
   "execution_count": 12,
   "metadata": {},
   "outputs": [],
   "source": [
    "top300file=open('E:\\Desktop\\jupyter\\metacritic top 300.txt','r').read().split('\\n')"
   ]
  },
  {
   "cell_type": "markdown",
   "metadata": {},
   "source": [
    "to make the comparison easier, each game names will be tokenized and lower cased"
   ]
  },
  {
   "cell_type": "code",
   "execution_count": 13,
   "metadata": {},
   "outputs": [],
   "source": [
    "games_names_lowered=[name.lower() for name in steamapp_dict.values()]\n",
    "new_game_names=zip(games_names_lowered,steamapp_dict.values())"
   ]
  },
  {
   "cell_type": "code",
   "execution_count": 14,
   "metadata": {},
   "outputs": [],
   "source": [
    "token_w_origin=list(new_game_names)"
   ]
  },
  {
   "cell_type": "markdown",
   "metadata": {},
   "source": [
    "Stopwords including punctuation and version codes are removed"
   ]
  },
  {
   "cell_type": "code",
   "execution_count": 15,
   "metadata": {},
   "outputs": [],
   "source": [
    "import string\n",
    "from nltk.tokenize import word_tokenize\n",
    "from nltk.corpus import stopwords\n",
    "\n",
    "all_stops = stopwords.words('english')+list(string.punctuation)+['I','II','III','IV','V','VI','game','games','play']"
   ]
  },
  {
   "cell_type": "markdown",
   "metadata": {},
   "source": [
    "filter out words that are included in stopwords and the words that are composed of numbers (e.g.1,2,3,4,5, ... )"
   ]
  },
  {
   "cell_type": "code",
   "execution_count": 16,
   "metadata": {},
   "outputs": [],
   "source": [
    "ranked_game_list=list()\n",
    "for name in top300file:\n",
    "    tokens=word_tokenize(name)\n",
    "    words=[word1.lower() for word1 in tokens if word1 not in all_stops]\n",
    "    only_words=[word2 for word2 in words if not word2.isdigit()]\n",
    "    if only_words not in ranked_game_list:\n",
    "        ranked_game_list.append(only_words)"
   ]
  },
  {
   "cell_type": "markdown",
   "metadata": {},
   "source": [
    "identify games that have more same tokens than the number of tokens that comprise the game name "
   ]
  },
  {
   "cell_type": "code",
   "execution_count": 17,
   "metadata": {
    "scrolled": true
   },
   "outputs": [],
   "source": [
    "keys_of_good_games=list()\n",
    "names_of_good_games=list()\n",
    "for element in ranked_game_list:\n",
    "    if len(element)==0:\n",
    "        continue\n",
    "    number_of_matched_words=len(element)\n",
    "    if number_of_matched_words==0:\n",
    "        number_of_matched_words=1\n",
    "    for num in range(len(token_w_origin)):\n",
    "        steam_game=token_w_origin[num][0].split()\n",
    "        matches = {token for token in steam_game if token in element}\n",
    "        if len(matches)>=number_of_matched_words:\n",
    "            key=list(steamapp_dict.keys())[list(steamapp_dict.values()).index(token_w_origin[num][1])]\n",
    "            keys_of_good_games.append(key)\n",
    "            names_of_good_games.append(token_w_origin[num][1])\n",
    "        else:\n",
    "            continue"
   ]
  },
  {
   "cell_type": "code",
   "execution_count": 18,
   "metadata": {},
   "outputs": [
    {
     "data": {
      "text/plain": [
       "2690"
      ]
     },
     "execution_count": 18,
     "metadata": {},
     "output_type": "execute_result"
    }
   ],
   "source": [
    "len(keys_of_good_games)"
   ]
  },
  {
   "cell_type": "markdown",
   "metadata": {},
   "source": [
    "filter out the duplicates"
   ]
  },
  {
   "cell_type": "code",
   "execution_count": 19,
   "metadata": {},
   "outputs": [],
   "source": [
    "keys_of_good_games=list(set(keys_of_good_games))"
   ]
  },
  {
   "cell_type": "code",
   "execution_count": 20,
   "metadata": {},
   "outputs": [
    {
     "data": {
      "text/plain": [
       "2525"
      ]
     },
     "execution_count": 20,
     "metadata": {},
     "output_type": "execute_result"
    }
   ],
   "source": [
    "len(keys_of_good_games)"
   ]
  },
  {
   "cell_type": "markdown",
   "metadata": {},
   "source": [
    "retrieve all the review data from the games that are in the list \"keys_of_good_games\"\n",
    "This takes a while, so it should be saved as pickle"
   ]
  },
  {
   "cell_type": "code",
   "execution_count": null,
   "metadata": {},
   "outputs": [],
   "source": [
    "#pickle\n",
    "\n",
    "for key in keys_of_good_games:\n",
    "    try:\n",
    "        df=get_all_reviews(key)\n",
    "        print(key)\n",
    "    except: \n",
    "        continue\n",
    "        print('failed')\n",
    "    df['game_name']=steamapp_dict.get(key)\n",
    "    if 'review_df' not in locals():\n",
    "        review_df=df\n",
    "    else:\n",
    "        review_df=review_df.append(df, ignore_index=True, sort=False)"
   ]
  },
  {
   "cell_type": "code",
   "execution_count": 21,
   "metadata": {},
   "outputs": [],
   "source": [
    "import pickle"
   ]
  },
  {
   "cell_type": "markdown",
   "metadata": {},
   "source": [
    "Now that we have the database to get games from, we will test it with a player."
   ]
  },
  {
   "cell_type": "code",
   "execution_count": 22,
   "metadata": {},
   "outputs": [],
   "source": [
    "file_name='testfile'"
   ]
  },
  {
   "cell_type": "code",
   "execution_count": 23,
   "metadata": {},
   "outputs": [],
   "source": [
    "review_df=pickle.load(open(file_name,\"rb\"))"
   ]
  },
  {
   "cell_type": "code",
   "execution_count": 24,
   "metadata": {},
   "outputs": [
    {
     "data": {
      "text/html": [
       "<div>\n",
       "<style scoped>\n",
       "    .dataframe tbody tr th:only-of-type {\n",
       "        vertical-align: middle;\n",
       "    }\n",
       "\n",
       "    .dataframe tbody tr th {\n",
       "        vertical-align: top;\n",
       "    }\n",
       "\n",
       "    .dataframe thead th {\n",
       "        text-align: right;\n",
       "    }\n",
       "</style>\n",
       "<table border=\"1\" class=\"dataframe\">\n",
       "  <thead>\n",
       "    <tr style=\"text-align: right;\">\n",
       "      <th></th>\n",
       "      <th>author</th>\n",
       "      <th>recommendationid</th>\n",
       "      <th>language</th>\n",
       "      <th>review</th>\n",
       "      <th>steam_purchase</th>\n",
       "      <th>timestamp_created</th>\n",
       "      <th>timestamp_updated</th>\n",
       "      <th>game_name</th>\n",
       "    </tr>\n",
       "  </thead>\n",
       "  <tbody>\n",
       "    <tr>\n",
       "      <th>0</th>\n",
       "      <td>76561198116100475</td>\n",
       "      <td>49214617</td>\n",
       "      <td>english</td>\n",
       "      <td>A little biased as I got this for 'free' with ...</td>\n",
       "      <td>True</td>\n",
       "      <td>1551026300</td>\n",
       "      <td>1551026424</td>\n",
       "      <td>Mafia III: Faster, Baby!</td>\n",
       "    </tr>\n",
       "    <tr>\n",
       "      <th>1</th>\n",
       "      <td>76561198116100475</td>\n",
       "      <td>49334938</td>\n",
       "      <td>english</td>\n",
       "      <td>On a sale - HELLA YES!\\nWithout a discount - N...</td>\n",
       "      <td>True</td>\n",
       "      <td>1551614792</td>\n",
       "      <td>1551614792</td>\n",
       "      <td>Mafia III: Stones Unturned</td>\n",
       "    </tr>\n",
       "    <tr>\n",
       "      <th>2</th>\n",
       "      <td>76561198116100475</td>\n",
       "      <td>49301576</td>\n",
       "      <td>english</td>\n",
       "      <td>Why isn't the Main Game like this DLC?\\nAbsolu...</td>\n",
       "      <td>True</td>\n",
       "      <td>1551470571</td>\n",
       "      <td>1551470571</td>\n",
       "      <td>Mafia III: Sign of the Times</td>\n",
       "    </tr>\n",
       "    <tr>\n",
       "      <th>3</th>\n",
       "      <td>76561198821796334</td>\n",
       "      <td>49358363</td>\n",
       "      <td>english</td>\n",
       "      <td>Pretty fucking hard but very cool game!</td>\n",
       "      <td>True</td>\n",
       "      <td>1551720577</td>\n",
       "      <td>1551720577</td>\n",
       "      <td>Spelunky</td>\n",
       "    </tr>\n",
       "    <tr>\n",
       "      <th>4</th>\n",
       "      <td>76561198133963882</td>\n",
       "      <td>49386129</td>\n",
       "      <td>english</td>\n",
       "      <td>I don't even play many platformers, but I stil...</td>\n",
       "      <td>True</td>\n",
       "      <td>1551833236</td>\n",
       "      <td>1551833236</td>\n",
       "      <td>Spelunky</td>\n",
       "    </tr>\n",
       "    <tr>\n",
       "      <th>5</th>\n",
       "      <td>76561198043141890</td>\n",
       "      <td>49283358</td>\n",
       "      <td>english</td>\n",
       "      <td>Just one... more... horribly... brutal... deat...</td>\n",
       "      <td>True</td>\n",
       "      <td>1551380309</td>\n",
       "      <td>1551380309</td>\n",
       "      <td>Spelunky</td>\n",
       "    </tr>\n",
       "    <tr>\n",
       "      <th>6</th>\n",
       "      <td>76561198063251252</td>\n",
       "      <td>49264539</td>\n",
       "      <td>english</td>\n",
       "      <td>Its hard.</td>\n",
       "      <td>True</td>\n",
       "      <td>1551282914</td>\n",
       "      <td>1551282914</td>\n",
       "      <td>Spelunky</td>\n",
       "    </tr>\n",
       "    <tr>\n",
       "      <th>7</th>\n",
       "      <td>76561198058640737</td>\n",
       "      <td>49079132</td>\n",
       "      <td>english</td>\n",
       "      <td>★★★★★\\n\\nWhip arrows</td>\n",
       "      <td>True</td>\n",
       "      <td>1550520690</td>\n",
       "      <td>1550520690</td>\n",
       "      <td>Spelunky</td>\n",
       "    </tr>\n",
       "    <tr>\n",
       "      <th>8</th>\n",
       "      <td>76561198836750310</td>\n",
       "      <td>49150591</td>\n",
       "      <td>english</td>\n",
       "      <td>Don't think about graphics. Still it's so much...</td>\n",
       "      <td>True</td>\n",
       "      <td>1550819202</td>\n",
       "      <td>1550819202</td>\n",
       "      <td>Counter-Strike</td>\n",
       "    </tr>\n",
       "    <tr>\n",
       "      <th>9</th>\n",
       "      <td>76561198849360285</td>\n",
       "      <td>49434533</td>\n",
       "      <td>english</td>\n",
       "      <td>Old but Gold</td>\n",
       "      <td>True</td>\n",
       "      <td>1552058322</td>\n",
       "      <td>1552058322</td>\n",
       "      <td>Counter-Strike</td>\n",
       "    </tr>\n",
       "  </tbody>\n",
       "</table>\n",
       "</div>"
      ],
      "text/plain": [
       "              author recommendationid language  \\\n",
       "0  76561198116100475         49214617  english   \n",
       "1  76561198116100475         49334938  english   \n",
       "2  76561198116100475         49301576  english   \n",
       "3  76561198821796334         49358363  english   \n",
       "4  76561198133963882         49386129  english   \n",
       "5  76561198043141890         49283358  english   \n",
       "6  76561198063251252         49264539  english   \n",
       "7  76561198058640737         49079132  english   \n",
       "8  76561198836750310         49150591  english   \n",
       "9  76561198849360285         49434533  english   \n",
       "\n",
       "                                              review  steam_purchase  \\\n",
       "0  A little biased as I got this for 'free' with ...            True   \n",
       "1  On a sale - HELLA YES!\\nWithout a discount - N...            True   \n",
       "2  Why isn't the Main Game like this DLC?\\nAbsolu...            True   \n",
       "3            Pretty fucking hard but very cool game!            True   \n",
       "4  I don't even play many platformers, but I stil...            True   \n",
       "5  Just one... more... horribly... brutal... deat...            True   \n",
       "6                                          Its hard.            True   \n",
       "7                               ★★★★★\\n\\nWhip arrows            True   \n",
       "8  Don't think about graphics. Still it's so much...            True   \n",
       "9                                       Old but Gold            True   \n",
       "\n",
       "   timestamp_created  timestamp_updated                     game_name  \n",
       "0         1551026300         1551026424      Mafia III: Faster, Baby!  \n",
       "1         1551614792         1551614792    Mafia III: Stones Unturned  \n",
       "2         1551470571         1551470571  Mafia III: Sign of the Times  \n",
       "3         1551720577         1551720577                      Spelunky  \n",
       "4         1551833236         1551833236                      Spelunky  \n",
       "5         1551380309         1551380309                      Spelunky  \n",
       "6         1551282914         1551282914                      Spelunky  \n",
       "7         1550520690         1550520690                      Spelunky  \n",
       "8         1550819202         1550819202                Counter-Strike  \n",
       "9         1552058322         1552058322                Counter-Strike  "
      ]
     },
     "execution_count": 24,
     "metadata": {},
     "output_type": "execute_result"
    }
   ],
   "source": [
    "review_df.head(10)"
   ]
  },
  {
   "cell_type": "code",
   "execution_count": 25,
   "metadata": {},
   "outputs": [],
   "source": [
    "from langdetect import detect"
   ]
  },
  {
   "cell_type": "code",
   "execution_count": 26,
   "metadata": {},
   "outputs": [],
   "source": [
    "from langdetect import DetectorFactory \n",
    "DetectorFactory.seed = 0"
   ]
  },
  {
   "cell_type": "code",
   "execution_count": 27,
   "metadata": {},
   "outputs": [],
   "source": [
    "lang=list()\n",
    "for num in range(len(review_df['review'])):\n",
    "    try: \n",
    "        detected=detect(review_df['review'][num])\n",
    "        lang.append(detected)\n",
    "    except:\n",
    "        lang.append('NaN')"
   ]
  },
  {
   "cell_type": "code",
   "execution_count": 28,
   "metadata": {},
   "outputs": [],
   "source": [
    "review_df['detected_lang']=lang\n",
    "review_df=review_df[review_df['detected_lang']=='en']"
   ]
  },
  {
   "cell_type": "markdown",
   "metadata": {},
   "source": [
    "Define function to take all the review data into documents; one review document from each game"
   ]
  },
  {
   "cell_type": "code",
   "execution_count": 29,
   "metadata": {},
   "outputs": [],
   "source": [
    "def amalgamate(df):\n",
    "    dumped_dict=dict()\n",
    "    for name in df['game_name'].unique():\n",
    "        dump=df.loc[(df['game_name']==name)]['review'].sum(axis=0)\n",
    "        dumped_dict[name]=dump\n",
    "    return dumped_dict"
   ]
  },
  {
   "cell_type": "code",
   "execution_count": 30,
   "metadata": {},
   "outputs": [],
   "source": [
    "allgamedatabase=amalgamate(review_df)"
   ]
  },
  {
   "cell_type": "markdown",
   "metadata": {},
   "source": [
    "save the game data of a player in the variable: testperson\n",
    "extract the game ids and the time the player spent on each game: testids, testplaytimes"
   ]
  },
  {
   "cell_type": "code",
   "execution_count": 31,
   "metadata": {},
   "outputs": [],
   "source": [
    "def rawplayergamelist(_id):\n",
    "    gamelist=getownedgames(_id)['response']['games']\n",
    "    return gamelist"
   ]
  },
  {
   "cell_type": "code",
   "execution_count": 32,
   "metadata": {},
   "outputs": [],
   "source": [
    "testperson=rawplayergamelist(test_id)"
   ]
  },
  {
   "cell_type": "code",
   "execution_count": 33,
   "metadata": {},
   "outputs": [],
   "source": [
    "testids=list()\n",
    "testplaytimes=list()\n",
    "for i in range(len(testperson)):\n",
    "    testids.append(testperson[i]['appid'])\n",
    "    testplaytimes.append(testperson[i]['playtime_forever'])"
   ]
  },
  {
   "cell_type": "code",
   "execution_count": 34,
   "metadata": {},
   "outputs": [],
   "source": [
    "test_df=pd.DataFrame(list(zip(testids,testplaytimes)),columns=['ids','playtime']).sort_values('playtime',ascending=False)\n",
    "playedgame_name=list()\n",
    "for id_ in test_df['ids']:\n",
    "    name=steamapp_dict.get(id_)\n",
    "    playedgame_name.append(name)\n",
    "test_df['name']=playedgame_name"
   ]
  },
  {
   "cell_type": "markdown",
   "metadata": {},
   "source": [
    "select the games that are present in the database we set up for this analysis and make a new dataframe comprised of playtime and game ids: test_df"
   ]
  },
  {
   "cell_type": "code",
   "execution_count": 35,
   "metadata": {},
   "outputs": [
    {
     "data": {
      "text/html": [
       "<div>\n",
       "<style scoped>\n",
       "    .dataframe tbody tr th:only-of-type {\n",
       "        vertical-align: middle;\n",
       "    }\n",
       "\n",
       "    .dataframe tbody tr th {\n",
       "        vertical-align: top;\n",
       "    }\n",
       "\n",
       "    .dataframe thead th {\n",
       "        text-align: right;\n",
       "    }\n",
       "</style>\n",
       "<table border=\"1\" class=\"dataframe\">\n",
       "  <thead>\n",
       "    <tr style=\"text-align: right;\">\n",
       "      <th></th>\n",
       "      <th>ids</th>\n",
       "      <th>playtime</th>\n",
       "      <th>name</th>\n",
       "    </tr>\n",
       "  </thead>\n",
       "  <tbody>\n",
       "    <tr>\n",
       "      <th>27</th>\n",
       "      <td>72850</td>\n",
       "      <td>38007</td>\n",
       "      <td>The Elder Scrolls V: Skyrim</td>\n",
       "    </tr>\n",
       "    <tr>\n",
       "      <th>53</th>\n",
       "      <td>219740</td>\n",
       "      <td>10490</td>\n",
       "      <td>Don't Starve</td>\n",
       "    </tr>\n",
       "    <tr>\n",
       "      <th>15</th>\n",
       "      <td>33230</td>\n",
       "      <td>5768</td>\n",
       "      <td>Assassin's Creed II</td>\n",
       "    </tr>\n",
       "    <tr>\n",
       "      <th>39</th>\n",
       "      <td>317110</td>\n",
       "      <td>5524</td>\n",
       "      <td>Uncharted Waters Online: Episode Atlantis</td>\n",
       "    </tr>\n",
       "    <tr>\n",
       "      <th>32</th>\n",
       "      <td>242050</td>\n",
       "      <td>4405</td>\n",
       "      <td>Assassin's Creed IV Black Flag</td>\n",
       "    </tr>\n",
       "  </tbody>\n",
       "</table>\n",
       "</div>"
      ],
      "text/plain": [
       "       ids  playtime                                       name\n",
       "27   72850     38007                The Elder Scrolls V: Skyrim\n",
       "53  219740     10490                               Don't Starve\n",
       "15   33230      5768                        Assassin's Creed II\n",
       "39  317110      5524  Uncharted Waters Online: Episode Atlantis\n",
       "32  242050      4405             Assassin's Creed IV Black Flag"
      ]
     },
     "execution_count": 35,
     "metadata": {},
     "output_type": "execute_result"
    }
   ],
   "source": [
    "test_df.head()"
   ]
  },
  {
   "cell_type": "markdown",
   "metadata": {},
   "source": [
    "pick most played game in the list and retreive all the reviews that are present there : player_df\n",
    "\n",
    "default number of games is 15 but if the player played less than 15 games, it will adjust to the games that the player played for at least 30 minutes"
   ]
  },
  {
   "cell_type": "code",
   "execution_count": 36,
   "metadata": {},
   "outputs": [],
   "source": [
    "if len(test_df[test_df['playtime']>=30])<15:\n",
    "    topplayedgame=test_df[test_df['playtime']>=30]\n",
    "else:\n",
    "    topplayedgame=test_df[0:15]"
   ]
  },
  {
   "cell_type": "code",
   "execution_count": 37,
   "metadata": {
    "scrolled": true
   },
   "outputs": [],
   "source": [
    "topplayedgame=topplayedgame.set_index('ids')"
   ]
  },
  {
   "cell_type": "code",
   "execution_count": 38,
   "metadata": {},
   "outputs": [
    {
     "data": {
      "text/plain": [
       "Int64Index([ 72850, 219740,  33230, 317110, 242050,  22330,  48190, 413150,\n",
       "            391540, 205100, 311560, 208480, 368500, 201870, 261570],\n",
       "           dtype='int64', name='ids')"
      ]
     },
     "execution_count": 38,
     "metadata": {},
     "output_type": "execute_result"
    }
   ],
   "source": [
    "topplayedgame.index"
   ]
  },
  {
   "cell_type": "markdown",
   "metadata": {},
   "source": [
    "get all reviews of the games this player enjoys: player_df"
   ]
  },
  {
   "cell_type": "code",
   "execution_count": 39,
   "metadata": {},
   "outputs": [],
   "source": [
    "error=list()\n",
    "for ids in topplayedgame.index:\n",
    "    try:\n",
    "        data=get_all_reviews(ids)\n",
    "        data['game_name']=steamapp_dict.get(ids)\n",
    "        if 'player_df' not in locals():\n",
    "            player_df=data\n",
    "        else:\n",
    "            player_df=player_df.append(data, ignore_index=True, sort=False)\n",
    "    except:\n",
    "        error.append(ids)\n",
    "        topplayedgame['name']"
   ]
  },
  {
   "cell_type": "code",
   "execution_count": 40,
   "metadata": {},
   "outputs": [],
   "source": [
    "topplayedgame=topplayedgame.drop(error)"
   ]
  },
  {
   "cell_type": "code",
   "execution_count": 41,
   "metadata": {},
   "outputs": [
    {
     "data": {
      "text/html": [
       "<div>\n",
       "<style scoped>\n",
       "    .dataframe tbody tr th:only-of-type {\n",
       "        vertical-align: middle;\n",
       "    }\n",
       "\n",
       "    .dataframe tbody tr th {\n",
       "        vertical-align: top;\n",
       "    }\n",
       "\n",
       "    .dataframe thead th {\n",
       "        text-align: right;\n",
       "    }\n",
       "</style>\n",
       "<table border=\"1\" class=\"dataframe\">\n",
       "  <thead>\n",
       "    <tr style=\"text-align: right;\">\n",
       "      <th></th>\n",
       "      <th>playtime</th>\n",
       "      <th>name</th>\n",
       "    </tr>\n",
       "    <tr>\n",
       "      <th>ids</th>\n",
       "      <th></th>\n",
       "      <th></th>\n",
       "    </tr>\n",
       "  </thead>\n",
       "  <tbody>\n",
       "    <tr>\n",
       "      <th>72850</th>\n",
       "      <td>38007</td>\n",
       "      <td>The Elder Scrolls V: Skyrim</td>\n",
       "    </tr>\n",
       "    <tr>\n",
       "      <th>219740</th>\n",
       "      <td>10490</td>\n",
       "      <td>Don't Starve</td>\n",
       "    </tr>\n",
       "    <tr>\n",
       "      <th>33230</th>\n",
       "      <td>5768</td>\n",
       "      <td>Assassin's Creed II</td>\n",
       "    </tr>\n",
       "    <tr>\n",
       "      <th>242050</th>\n",
       "      <td>4405</td>\n",
       "      <td>Assassin's Creed IV Black Flag</td>\n",
       "    </tr>\n",
       "    <tr>\n",
       "      <th>22330</th>\n",
       "      <td>3391</td>\n",
       "      <td>The Elder Scrolls IV: Oblivion</td>\n",
       "    </tr>\n",
       "    <tr>\n",
       "      <th>48190</th>\n",
       "      <td>2773</td>\n",
       "      <td>Assassin's Creed Brotherhood</td>\n",
       "    </tr>\n",
       "    <tr>\n",
       "      <th>413150</th>\n",
       "      <td>2250</td>\n",
       "      <td>Stardew Valley</td>\n",
       "    </tr>\n",
       "    <tr>\n",
       "      <th>391540</th>\n",
       "      <td>1726</td>\n",
       "      <td>Undertale</td>\n",
       "    </tr>\n",
       "    <tr>\n",
       "      <th>205100</th>\n",
       "      <td>1542</td>\n",
       "      <td>Dishonored</td>\n",
       "    </tr>\n",
       "    <tr>\n",
       "      <th>311560</th>\n",
       "      <td>1525</td>\n",
       "      <td>Assassin's Creed Rogue</td>\n",
       "    </tr>\n",
       "    <tr>\n",
       "      <th>208480</th>\n",
       "      <td>1390</td>\n",
       "      <td>Assassin's Creed® III</td>\n",
       "    </tr>\n",
       "    <tr>\n",
       "      <th>368500</th>\n",
       "      <td>1263</td>\n",
       "      <td>Assassin's Creed Syndicate</td>\n",
       "    </tr>\n",
       "    <tr>\n",
       "      <th>201870</th>\n",
       "      <td>1011</td>\n",
       "      <td>Assassin's Creed Revelations</td>\n",
       "    </tr>\n",
       "    <tr>\n",
       "      <th>261570</th>\n",
       "      <td>682</td>\n",
       "      <td>Ori and the Blind Forest</td>\n",
       "    </tr>\n",
       "  </tbody>\n",
       "</table>\n",
       "</div>"
      ],
      "text/plain": [
       "        playtime                             name\n",
       "ids                                              \n",
       "72850      38007      The Elder Scrolls V: Skyrim\n",
       "219740     10490                     Don't Starve\n",
       "33230       5768              Assassin's Creed II\n",
       "242050      4405   Assassin's Creed IV Black Flag\n",
       "22330       3391  The Elder Scrolls IV: Oblivion \n",
       "48190       2773     Assassin's Creed Brotherhood\n",
       "413150      2250                   Stardew Valley\n",
       "391540      1726                        Undertale\n",
       "205100      1542                       Dishonored\n",
       "311560      1525           Assassin's Creed Rogue\n",
       "208480      1390            Assassin's Creed® III\n",
       "368500      1263       Assassin's Creed Syndicate\n",
       "201870      1011     Assassin's Creed Revelations\n",
       "261570       682         Ori and the Blind Forest"
      ]
     },
     "execution_count": 41,
     "metadata": {},
     "output_type": "execute_result"
    }
   ],
   "source": [
    "topplayedgame"
   ]
  },
  {
   "cell_type": "code",
   "execution_count": 42,
   "metadata": {},
   "outputs": [
    {
     "data": {
      "text/html": [
       "<div>\n",
       "<style scoped>\n",
       "    .dataframe tbody tr th:only-of-type {\n",
       "        vertical-align: middle;\n",
       "    }\n",
       "\n",
       "    .dataframe tbody tr th {\n",
       "        vertical-align: top;\n",
       "    }\n",
       "\n",
       "    .dataframe thead th {\n",
       "        text-align: right;\n",
       "    }\n",
       "</style>\n",
       "<table border=\"1\" class=\"dataframe\">\n",
       "  <thead>\n",
       "    <tr style=\"text-align: right;\">\n",
       "      <th></th>\n",
       "      <th>author</th>\n",
       "      <th>recommendationid</th>\n",
       "      <th>language</th>\n",
       "      <th>review</th>\n",
       "      <th>steam_purchase</th>\n",
       "      <th>timestamp_created</th>\n",
       "      <th>timestamp_updated</th>\n",
       "      <th>game_name</th>\n",
       "    </tr>\n",
       "  </thead>\n",
       "  <tbody>\n",
       "    <tr>\n",
       "      <th>0</th>\n",
       "      <td>76561198074610624</td>\n",
       "      <td>49395835</td>\n",
       "      <td>english</td>\n",
       "      <td>DLC Page\\n-------------\\n\\nhttps://store.steam...</td>\n",
       "      <td>True</td>\n",
       "      <td>1551882372</td>\n",
       "      <td>1551882372</td>\n",
       "      <td>The Elder Scrolls V: Skyrim</td>\n",
       "    </tr>\n",
       "    <tr>\n",
       "      <th>1</th>\n",
       "      <td>76561198313601265</td>\n",
       "      <td>49327139</td>\n",
       "      <td>english</td>\n",
       "      <td>Great game, horrible publisher. Really wish Be...</td>\n",
       "      <td>True</td>\n",
       "      <td>1551580578</td>\n",
       "      <td>1551580578</td>\n",
       "      <td>The Elder Scrolls V: Skyrim</td>\n",
       "    </tr>\n",
       "    <tr>\n",
       "      <th>2</th>\n",
       "      <td>76561198170531813</td>\n",
       "      <td>49743905</td>\n",
       "      <td>english</td>\n",
       "      <td>DLC Page\\n-------------\\n\\nhttps://store.steam...</td>\n",
       "      <td>True</td>\n",
       "      <td>1553464211</td>\n",
       "      <td>1553464235</td>\n",
       "      <td>The Elder Scrolls V: Skyrim</td>\n",
       "    </tr>\n",
       "    <tr>\n",
       "      <th>3</th>\n",
       "      <td>76561198067648820</td>\n",
       "      <td>49771800</td>\n",
       "      <td>english</td>\n",
       "      <td>If you want the original Skyrim game + DLCs,\\n...</td>\n",
       "      <td>True</td>\n",
       "      <td>1553613173</td>\n",
       "      <td>1553613173</td>\n",
       "      <td>The Elder Scrolls V: Skyrim</td>\n",
       "    </tr>\n",
       "    <tr>\n",
       "      <th>4</th>\n",
       "      <td>76561198122616211</td>\n",
       "      <td>49603949</td>\n",
       "      <td>english</td>\n",
       "      <td>Bethesda gay but Skyrim good</td>\n",
       "      <td>True</td>\n",
       "      <td>1552785967</td>\n",
       "      <td>1552785967</td>\n",
       "      <td>The Elder Scrolls V: Skyrim</td>\n",
       "    </tr>\n",
       "  </tbody>\n",
       "</table>\n",
       "</div>"
      ],
      "text/plain": [
       "              author recommendationid language  \\\n",
       "0  76561198074610624         49395835  english   \n",
       "1  76561198313601265         49327139  english   \n",
       "2  76561198170531813         49743905  english   \n",
       "3  76561198067648820         49771800  english   \n",
       "4  76561198122616211         49603949  english   \n",
       "\n",
       "                                              review  steam_purchase  \\\n",
       "0  DLC Page\\n-------------\\n\\nhttps://store.steam...            True   \n",
       "1  Great game, horrible publisher. Really wish Be...            True   \n",
       "2  DLC Page\\n-------------\\n\\nhttps://store.steam...            True   \n",
       "3  If you want the original Skyrim game + DLCs,\\n...            True   \n",
       "4                       Bethesda gay but Skyrim good            True   \n",
       "\n",
       "   timestamp_created  timestamp_updated                    game_name  \n",
       "0         1551882372         1551882372  The Elder Scrolls V: Skyrim  \n",
       "1         1551580578         1551580578  The Elder Scrolls V: Skyrim  \n",
       "2         1553464211         1553464235  The Elder Scrolls V: Skyrim  \n",
       "3         1553613173         1553613173  The Elder Scrolls V: Skyrim  \n",
       "4         1552785967         1552785967  The Elder Scrolls V: Skyrim  "
      ]
     },
     "execution_count": 42,
     "metadata": {},
     "output_type": "execute_result"
    }
   ],
   "source": [
    "player_df.head()"
   ]
  },
  {
   "cell_type": "markdown",
   "metadata": {},
   "source": [
    "In order to use cosine similarity to compare these lists to other games, all the reviews from each games are made into one big corpus. i.e. one corpus each for all the game respectively."
   ]
  },
  {
   "cell_type": "code",
   "execution_count": 43,
   "metadata": {},
   "outputs": [],
   "source": [
    "player_dict=amalgamate(player_df)"
   ]
  },
  {
   "cell_type": "code",
   "execution_count": 44,
   "metadata": {},
   "outputs": [
    {
     "data": {
      "text/plain": [
       "dict_keys(['The Elder Scrolls V: Skyrim', \"Don't Starve\", \"Assassin's Creed II\", \"Assassin's Creed IV Black Flag\", 'The Elder Scrolls IV: Oblivion ', \"Assassin's Creed Brotherhood\", 'Stardew Valley', 'Undertale', 'Dishonored', \"Assassin's Creed Rogue\", \"Assassin's Creed® III\", \"Assassin's Creed Syndicate\", \"Assassin's Creed Revelations\", 'Ori and the Blind Forest'])"
      ]
     },
     "execution_count": 44,
     "metadata": {},
     "output_type": "execute_result"
    }
   ],
   "source": [
    "player_dict.keys()"
   ]
  },
  {
   "cell_type": "code",
   "execution_count": 45,
   "metadata": {},
   "outputs": [],
   "source": [
    "for_analysis={**allgamedatabase,**player_dict}"
   ]
  },
  {
   "cell_type": "code",
   "execution_count": 46,
   "metadata": {},
   "outputs": [],
   "source": [
    "from sklearn.feature_extraction.text import TfidfVectorizer\n",
    "from sklearn.feature_extraction.text import CountVectorizer\n",
    "from nltk.tokenize import word_tokenize\n",
    "from nltk.corpus import stopwords\n",
    "import nltk.stem"
   ]
  },
  {
   "cell_type": "code",
   "execution_count": 47,
   "metadata": {},
   "outputs": [],
   "source": [
    "import re\n",
    "stemmer = nltk.stem.SnowballStemmer('english')\n",
    "class StemmedCountVectorizer(CountVectorizer):\n",
    "    def build_analyzer(self):\n",
    "        analyzer = super(StemmedCountVectorizer, self).build_analyzer()\n",
    "        return lambda doc: ([stemmer.stem(w) for w in analyzer(doc)])\n",
    "\n",
    "vectorizer_s = StemmedCountVectorizer(analyzer=\"word\", stop_words=all_stops,ngram_range=(1,2),min_df=0.01,token_pattern=r'\\b[^\\d\\W]+\\b')"
   ]
  },
  {
   "cell_type": "code",
   "execution_count": 48,
   "metadata": {},
   "outputs": [],
   "source": [
    "class StemmedTfidfVectorizer(TfidfVectorizer):\n",
    "    def build_analyzer(self):\n",
    "        analyzer = super(StemmedTfidfVectorizer, self).build_analyzer()\n",
    "        return lambda doc: ([stemmer.stem(w) for w in analyzer(doc)])\n",
    "\n",
    "tfidf_s = StemmedTfidfVectorizer(smooth_idf=False, sublinear_tf=False, norm=None, analyzer='word', stop_words=all_stops,ngram_range=(1,2),min_df=0.01,token_pattern=r'\\b[^\\d\\W]+\\b')"
   ]
  },
  {
   "cell_type": "code",
   "execution_count": 49,
   "metadata": {},
   "outputs": [],
   "source": [
    "from wordcloud import WordCloud, STOPWORDS\n",
    "import matplotlib.pyplot as plt"
   ]
  },
  {
   "cell_type": "code",
   "execution_count": 50,
   "metadata": {
    "scrolled": false
   },
   "outputs": [],
   "source": [
    "text=player_df.review.sum(axis=0)"
   ]
  },
  {
   "cell_type": "code",
   "execution_count": 51,
   "metadata": {
    "scrolled": true
   },
   "outputs": [
    {
     "data": {
      "text/plain": [
       "<matplotlib.image.AxesImage at 0x1792c34db00>"
      ]
     },
     "execution_count": 51,
     "metadata": {},
     "output_type": "execute_result"
    },
    {
     "data": {
      "image/png": "[encoded data removed]",
      "text/plain": [
       "<Figure size 432x288 with 1 Axes>"
      ]
     },
     "metadata": {
      "needs_background": "light"
     },
     "output_type": "display_data"
    }
   ],
   "source": [
    "wordcloud=WordCloud(stopwords=all_stops).generate(text)\n",
    "plt.imshow(wordcloud)"
   ]
  },
  {
   "cell_type": "markdown",
   "metadata": {},
   "source": [
    "From all the games this player played, the term \"story\" pops up quite a lot giving us a clue that this player enjoys games that has story element to it.\n",
    "\n",
    "\"time\" also shows up quite a lot but it is unsure just from this wordcloud whether that means a game that takes a lot of time to play or the opposite.\n",
    "\n",
    "\n"
   ]
  },
  {
   "cell_type": "markdown",
   "metadata": {},
   "source": [
    "<br>\n",
    "Using only the stems of each words, I calculate the TF-IDF scores of the reviews"
   ]
  },
  {
   "cell_type": "code",
   "execution_count": 65,
   "metadata": {},
   "outputs": [],
   "source": [
    "def stemvect(text):\n",
    "    X=vectorizer_s.fit_transform(text)\n",
    "    return X.toarray(), vectorizer_s.get_feature_names()"
   ]
  },
  {
   "cell_type": "code",
   "execution_count": 66,
   "metadata": {},
   "outputs": [],
   "source": [
    "def stemtfidf(text):\n",
    "    X=tfidf_s.fit_transform(text)\n",
    "    return X.toarray(),tfidf_s.get_feature_names()"
   ]
  },
  {
   "cell_type": "code",
   "execution_count": 67,
   "metadata": {},
   "outputs": [],
   "source": [
    "freq,words=stemvect(for_analysis.values())\n",
    "tdfscore,tdfwords=stemtfidf(for_analysis.values())"
   ]
  },
  {
   "cell_type": "code",
   "execution_count": 55,
   "metadata": {},
   "outputs": [],
   "source": [
    "games_tdf=pd.DataFrame(tdfscore,index=for_analysis.keys(),columns=tdfwords)"
   ]
  },
  {
   "cell_type": "code",
   "execution_count": 56,
   "metadata": {},
   "outputs": [
    {
     "data": {
      "text/html": [
       "<div>\n",
       "<style scoped>\n",
       "    .dataframe tbody tr th:only-of-type {\n",
       "        vertical-align: middle;\n",
       "    }\n",
       "\n",
       "    .dataframe tbody tr th {\n",
       "        vertical-align: top;\n",
       "    }\n",
       "\n",
       "    .dataframe thead th {\n",
       "        text-align: right;\n",
       "    }\n",
       "</style>\n",
       "<table border=\"1\" class=\"dataframe\">\n",
       "  <thead>\n",
       "    <tr style=\"text-align: right;\">\n",
       "      <th></th>\n",
       "      <th>aaa</th>\n",
       "      <th>abandon</th>\n",
       "      <th>abil</th>\n",
       "      <th>abl</th>\n",
       "      <th>able get</th>\n",
       "      <th>absolut</th>\n",
       "      <th>absolutely lov</th>\n",
       "      <th>absolutely noth</th>\n",
       "      <th>abus</th>\n",
       "      <th>ac</th>\n",
       "      <th>...</th>\n",
       "      <th>young</th>\n",
       "      <th>younger</th>\n",
       "      <th>your</th>\n",
       "      <th>youtu</th>\n",
       "      <th>youtub</th>\n",
       "      <th>youtube com</th>\n",
       "      <th>zero</th>\n",
       "      <th>zombi</th>\n",
       "      <th>zone</th>\n",
       "      <th>zoom</th>\n",
       "    </tr>\n",
       "  </thead>\n",
       "  <tbody>\n",
       "    <tr>\n",
       "      <th>Mafia III: Faster, Baby!</th>\n",
       "      <td>0.0</td>\n",
       "      <td>0.0</td>\n",
       "      <td>0.0</td>\n",
       "      <td>0.0</td>\n",
       "      <td>0.0</td>\n",
       "      <td>0.000000</td>\n",
       "      <td>0.0</td>\n",
       "      <td>0.0</td>\n",
       "      <td>0.0</td>\n",
       "      <td>0.0</td>\n",
       "      <td>...</td>\n",
       "      <td>0.0</td>\n",
       "      <td>0.0</td>\n",
       "      <td>0.000000</td>\n",
       "      <td>0.0</td>\n",
       "      <td>0.0</td>\n",
       "      <td>0.0</td>\n",
       "      <td>0.0</td>\n",
       "      <td>0.0</td>\n",
       "      <td>0.0</td>\n",
       "      <td>0.0</td>\n",
       "    </tr>\n",
       "    <tr>\n",
       "      <th>Mafia III: Stones Unturned</th>\n",
       "      <td>0.0</td>\n",
       "      <td>0.0</td>\n",
       "      <td>0.0</td>\n",
       "      <td>0.0</td>\n",
       "      <td>0.0</td>\n",
       "      <td>0.000000</td>\n",
       "      <td>0.0</td>\n",
       "      <td>0.0</td>\n",
       "      <td>0.0</td>\n",
       "      <td>0.0</td>\n",
       "      <td>...</td>\n",
       "      <td>0.0</td>\n",
       "      <td>0.0</td>\n",
       "      <td>0.000000</td>\n",
       "      <td>0.0</td>\n",
       "      <td>0.0</td>\n",
       "      <td>0.0</td>\n",
       "      <td>0.0</td>\n",
       "      <td>0.0</td>\n",
       "      <td>0.0</td>\n",
       "      <td>0.0</td>\n",
       "    </tr>\n",
       "    <tr>\n",
       "      <th>Mafia III: Sign of the Times</th>\n",
       "      <td>0.0</td>\n",
       "      <td>0.0</td>\n",
       "      <td>0.0</td>\n",
       "      <td>0.0</td>\n",
       "      <td>0.0</td>\n",
       "      <td>2.786696</td>\n",
       "      <td>0.0</td>\n",
       "      <td>0.0</td>\n",
       "      <td>0.0</td>\n",
       "      <td>0.0</td>\n",
       "      <td>...</td>\n",
       "      <td>0.0</td>\n",
       "      <td>0.0</td>\n",
       "      <td>0.000000</td>\n",
       "      <td>0.0</td>\n",
       "      <td>0.0</td>\n",
       "      <td>0.0</td>\n",
       "      <td>0.0</td>\n",
       "      <td>0.0</td>\n",
       "      <td>0.0</td>\n",
       "      <td>0.0</td>\n",
       "    </tr>\n",
       "    <tr>\n",
       "      <th>Spelunky</th>\n",
       "      <td>0.0</td>\n",
       "      <td>0.0</td>\n",
       "      <td>0.0</td>\n",
       "      <td>0.0</td>\n",
       "      <td>0.0</td>\n",
       "      <td>0.000000</td>\n",
       "      <td>0.0</td>\n",
       "      <td>0.0</td>\n",
       "      <td>0.0</td>\n",
       "      <td>0.0</td>\n",
       "      <td>...</td>\n",
       "      <td>0.0</td>\n",
       "      <td>0.0</td>\n",
       "      <td>0.000000</td>\n",
       "      <td>0.0</td>\n",
       "      <td>0.0</td>\n",
       "      <td>0.0</td>\n",
       "      <td>0.0</td>\n",
       "      <td>0.0</td>\n",
       "      <td>0.0</td>\n",
       "      <td>0.0</td>\n",
       "    </tr>\n",
       "    <tr>\n",
       "      <th>Counter-Strike</th>\n",
       "      <td>0.0</td>\n",
       "      <td>0.0</td>\n",
       "      <td>0.0</td>\n",
       "      <td>0.0</td>\n",
       "      <td>0.0</td>\n",
       "      <td>0.000000</td>\n",
       "      <td>0.0</td>\n",
       "      <td>0.0</td>\n",
       "      <td>0.0</td>\n",
       "      <td>0.0</td>\n",
       "      <td>...</td>\n",
       "      <td>0.0</td>\n",
       "      <td>0.0</td>\n",
       "      <td>4.961448</td>\n",
       "      <td>0.0</td>\n",
       "      <td>0.0</td>\n",
       "      <td>0.0</td>\n",
       "      <td>0.0</td>\n",
       "      <td>0.0</td>\n",
       "      <td>0.0</td>\n",
       "      <td>0.0</td>\n",
       "    </tr>\n",
       "  </tbody>\n",
       "</table>\n",
       "<p>5 rows × 3976 columns</p>\n",
       "</div>"
      ],
      "text/plain": [
       "                              aaa  abandon  abil  abl  able get   absolut  \\\n",
       "Mafia III: Faster, Baby!      0.0      0.0   0.0  0.0       0.0  0.000000   \n",
       "Mafia III: Stones Unturned    0.0      0.0   0.0  0.0       0.0  0.000000   \n",
       "Mafia III: Sign of the Times  0.0      0.0   0.0  0.0       0.0  2.786696   \n",
       "Spelunky                      0.0      0.0   0.0  0.0       0.0  0.000000   \n",
       "Counter-Strike                0.0      0.0   0.0  0.0       0.0  0.000000   \n",
       "\n",
       "                              absolutely lov  absolutely noth  abus   ac  \\\n",
       "Mafia III: Faster, Baby!                 0.0              0.0   0.0  0.0   \n",
       "Mafia III: Stones Unturned               0.0              0.0   0.0  0.0   \n",
       "Mafia III: Sign of the Times             0.0              0.0   0.0  0.0   \n",
       "Spelunky                                 0.0              0.0   0.0  0.0   \n",
       "Counter-Strike                           0.0              0.0   0.0  0.0   \n",
       "\n",
       "                              ...   young  younger      your  youtu  youtub  \\\n",
       "Mafia III: Faster, Baby!      ...     0.0      0.0  0.000000    0.0     0.0   \n",
       "Mafia III: Stones Unturned    ...     0.0      0.0  0.000000    0.0     0.0   \n",
       "Mafia III: Sign of the Times  ...     0.0      0.0  0.000000    0.0     0.0   \n",
       "Spelunky                      ...     0.0      0.0  0.000000    0.0     0.0   \n",
       "Counter-Strike                ...     0.0      0.0  4.961448    0.0     0.0   \n",
       "\n",
       "                              youtube com  zero  zombi  zone  zoom  \n",
       "Mafia III: Faster, Baby!              0.0   0.0    0.0   0.0   0.0  \n",
       "Mafia III: Stones Unturned            0.0   0.0    0.0   0.0   0.0  \n",
       "Mafia III: Sign of the Times          0.0   0.0    0.0   0.0   0.0  \n",
       "Spelunky                              0.0   0.0    0.0   0.0   0.0  \n",
       "Counter-Strike                        0.0   0.0    0.0   0.0   0.0  \n",
       "\n",
       "[5 rows x 3976 columns]"
      ]
     },
     "execution_count": 56,
     "metadata": {},
     "output_type": "execute_result"
    }
   ],
   "source": [
    "games_tdf.head()"
   ]
  },
  {
   "cell_type": "markdown",
   "metadata": {},
   "source": [
    "These will in turn be used to calculate cosine similarity with each other: matrixforgame\n",
    "\n",
    "This allows us to find out how similar each game's reviews are to others, which in turn implies how similar each game is to the other"
   ]
  },
  {
   "cell_type": "code",
   "execution_count": 57,
   "metadata": {},
   "outputs": [
    {
     "name": "stderr",
     "output_type": "stream",
     "text": [
      "C:\\Users\\shshi\\Anaconda3\\lib\\site-packages\\scipy\\spatial\\distance.py:698: RuntimeWarning: invalid value encountered in double_scalars\n",
      "  dist = 1.0 - uv / np.sqrt(uu * vv)\n"
     ]
    }
   ],
   "source": [
    "list_of_games=games_tdf.index.tolist()\n",
    "listlength=len(list_of_games)\n",
    "import numpy as np\n",
    "from scipy import spatial\n",
    "matrixforgame=np.zeros(shape=(listlength,listlength))\n",
    "for i in range(len(list_of_games)):\n",
    "    game=list_of_games[i]\n",
    "    for j in range(len(list_of_games)):\n",
    "        another=list_of_games[j]\n",
    "        if game!=another:\n",
    "            result=1-spatial.distance.cosine(games_tdf.loc[game].values,games_tdf.loc[another].values)\n",
    "            matrixforgame[i][j]=result"
   ]
  },
  {
   "cell_type": "code",
   "execution_count": 58,
   "metadata": {},
   "outputs": [],
   "source": [
    "result_df=pd.DataFrame(matrixforgame,index=list_of_games,columns=list_of_games)"
   ]
  },
  {
   "cell_type": "code",
   "execution_count": 59,
   "metadata": {},
   "outputs": [
    {
     "data": {
      "text/plain": [
       "<matplotlib.axes._subplots.AxesSubplot at 0x1792cef0cc0>"
      ]
     },
     "execution_count": 59,
     "metadata": {},
     "output_type": "execute_result"
    },
    {
     "data": {
      "image/png": "[encoded data removed]",
      "text/plain": [
       "<Figure size 432x288 with 2 Axes>"
      ]
     },
     "metadata": {
      "needs_background": "light"
     },
     "output_type": "display_data"
    }
   ],
   "source": [
    "import seaborn as sns\n",
    "sns.heatmap(result_df[topplayedgame['name']])"
   ]
  },
  {
   "cell_type": "markdown",
   "metadata": {},
   "source": [
    "You can see as a heat map that there were a lot more games similar to Undertale than Assassins's Creed Brotherhood.<br>\n",
    "There also seem to be a small number of game that was very similar to Ori and the Blind Forest as there is one bright band.\n",
    "\n",
    "\n",
    "<br>\n",
    "<br>\n",
    "\n",
    "I added weight to each games according to how long the player played it for and added all the cosine similarity values: result_df<br>\n",
    "This allows me to get a list of games that this player is likely to enjoy because they played these list of games a lot."
   ]
  },
  {
   "cell_type": "code",
   "execution_count": 60,
   "metadata": {},
   "outputs": [],
   "source": [
    "weight=len(list(player_dict.keys()))\n",
    "result_df['total'] = 0\n",
    "for name in player_df['game_name'].unique():\n",
    "    result_df['total']=result_df['total']+(weight*result_df[name])\n",
    "    weight=weight-1"
   ]
  },
  {
   "cell_type": "markdown",
   "metadata": {},
   "source": [
    "remove the games that this player already possess: removed<br>\n",
    "Then we take the top 10 games with the largest similarity: finaltop10recommendation"
   ]
  },
  {
   "cell_type": "code",
   "execution_count": 61,
   "metadata": {},
   "outputs": [],
   "source": [
    "alreadyownedgames=test_df['name'].tolist()\n",
    "removed=[name for name in result_df.index.tolist() if name not in alreadyownedgames]"
   ]
  },
  {
   "cell_type": "code",
   "execution_count": 62,
   "metadata": {},
   "outputs": [
    {
     "data": {
      "text/plain": [
       "['Rise of the Tomb Raider',\n",
       " 'Mafia III',\n",
       " 'Far Cry 5',\n",
       " 'Subnautica',\n",
       " 'Borderlands 2',\n",
       " 'RimWorld',\n",
       " 'Night in the Woods',\n",
       " \"Hellblade: Senua's Sacrifice\",\n",
       " 'Far Cry 4',\n",
       " 'What Remains of Edith Finch']"
      ]
     },
     "execution_count": 62,
     "metadata": {},
     "output_type": "execute_result"
    }
   ],
   "source": [
    "finaltop10recommendation=result_df['total'].loc[removed].sort_values(ascending=False)[0:10]\n",
    "finaltop10recommendation.index.tolist()"
   ]
  },
  {
   "cell_type": "markdown",
   "metadata": {},
   "source": [
    "To give users accessibility, I added in urls to each recommended game and presented them: recommended_games"
   ]
  },
  {
   "cell_type": "code",
   "execution_count": 78,
   "metadata": {},
   "outputs": [],
   "source": [
    "recommended_games=list()\n",
    "for name in finaltop10recommendation.index.tolist():\n",
    "    ids=list(steamapp_dict.keys())[list(steamapp_dict.values()).index(name)]\n",
    "    recommended_games.append((name,\"https://store.steampowered.com/app/\"+str(ids)))"
   ]
  },
  {
   "cell_type": "code",
   "execution_count": 89,
   "metadata": {},
   "outputs": [
    {
     "name": "stdout",
     "output_type": "stream",
     "text": [
      "\n",
      "Because you played games such as The Elder Scrolls V: Skyrim,Don't Starve and Assassin's Creed II, you will like these games as well!\n",
      "\n",
      "                      Game Name                                 Store page\n",
      "0       Rise of the Tomb Raider  https://store.steampowered.com/app/391220\n",
      "1                     Mafia III  https://store.steampowered.com/app/360430\n",
      "2                     Far Cry 5  https://store.steampowered.com/app/552520\n",
      "3                    Subnautica  https://store.steampowered.com/app/264710\n",
      "4                 Borderlands 2   https://store.steampowered.com/app/49520\n",
      "5                      RimWorld  https://store.steampowered.com/app/294100\n",
      "6            Night in the Woods  https://store.steampowered.com/app/481510\n",
      "7  Hellblade: Senua's Sacrifice  https://store.steampowered.com/app/414340\n",
      "8                     Far Cry 4  https://store.steampowered.com/app/298110\n",
      "9   What Remains of Edith Finch  https://store.steampowered.com/app/501300\n"
     ]
    }
   ],
   "source": [
    "print(\"\\nBecause you played games such as {}, {} and {}, you will like these games as well!\\n\".format(alreadyownedgames[0],alreadyownedgames[1],alreadyownedgames[2]))\n",
    "print(pd.DataFrame(recommended_games,columns=[\"Game Name\",\"Store page\"]))"
   ]
  }
 ],
 "metadata": {
  "kernelspec": {
   "display_name": "Python 3",
   "language": "python",
   "name": "python3"
  },
  "language_info": {
   "codemirror_mode": {
    "name": "ipython",
    "version": 3
   },
   "file_extension": ".py",
   "mimetype": "text/x-python",
   "name": "python",
   "nbconvert_exporter": "python",
   "pygments_lexer": "ipython3",
   "version": "3.7.0"
  }
 },
 "nbformat": 4,
 "nbformat_minor": 2
}
