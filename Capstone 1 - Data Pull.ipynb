{
 "cells": [
  {
   "cell_type": "markdown",
   "metadata": {},
   "source": [
    "This code will pull all the steam games review data using the API provided by STEAM Store."
   ]
  },
  {
   "cell_type": "code",
   "execution_count": 1,
   "metadata": {},
   "outputs": [],
   "source": [
    "import requests\n",
    "# Get all the games that the player played\n",
    "def getownedgames(idnum):\n",
    "    \"\"\"Takes the id number of a steam user and returns the id num of games they own\"\"\"\n",
    "    url='http://api.steampowered.com/IPlayerService/GetOwnedGames/v0001/?key=3A629E52AE594CB777253431189F2967&steamid={}&format=json'.format(idnum)\n",
    "    r=requests.get(url)\n",
    "    json_data=r.json()\n",
    "    return json_data"
   ]
  },
  {
   "cell_type": "code",
   "execution_count": 2,
   "metadata": {},
   "outputs": [],
   "source": [
    "def get_reviews(gameid,num):\n",
    "    \"\"\"Takes the id number of a game and returns 20 reviews\"\"\"\n",
    "    url='http://store.steampowered.com/appreviews/{}?json=1&start_offset={} '.format(gameid,num)\n",
    "    r=requests.get(url)\n",
    "    json_data=r.json()\n",
    "    return json_data"
   ]
  },
  {
   "cell_type": "code",
   "execution_count": 3,
   "metadata": {},
   "outputs": [],
   "source": [
    "import pandas as pd\n",
    "def get_all_reviews(gameid):\n",
    "    \"\"\"Uses 'get_review' function to pull as many reviews as it can from steam website\"\"\"\n",
    "    \"\"\"STEAM website usually have limitation (20 reviews) on how many reviews we can pull\"\"\"\n",
    "    n=0\n",
    "    stop=0\n",
    "    fst_iterat=get_reviews(gameid,n)\n",
    "    if fst_iterat['success']==1:\n",
    "        df=pd.DataFrame(fst_iterat['reviews'])\n",
    "        numreview=fst_iterat['query_summary']['num_reviews']             \n",
    "        while numreview==20:\n",
    "            if len(df)>=120:\n",
    "                break\n",
    "            n+=20\n",
    "            add_iterat=get_reviews(gameid,n)\n",
    "            df_add=pd.DataFrame(add_iterat['reviews'])\n",
    "            df=df.append(df_add)\n",
    "            numreview=add_iterat['query_summary']['num_reviews']\n",
    "        df_author=pd.DataFrame(df['author'].tolist())\n",
    "        df['author']=df_author['steamid']\n",
    "    return df"
   ]
  },
  {
   "cell_type": "code",
   "execution_count": 4,
   "metadata": {},
   "outputs": [],
   "source": [
    "api_key='3A629E52AE594CB777253431189F2967' # API key for getting information from Steam\n",
    "allgame='http://api.steampowered.com/ISteamApps/GetAppList/v0002/?key={}&format=json'.format(api_key)\n",
    "all_r=requests.get(allgame)\n",
    "allgame_id=all_r.json()"
   ]
  },
  {
   "cell_type": "code",
   "execution_count": 5,
   "metadata": {},
   "outputs": [],
   "source": [
    "steamapp_dict=dict()\n",
    "for num in range(len(allgame_id['applist']['apps'])):\n",
    "    key=allgame_id['applist']['apps'][num]['appid']\n",
    "    value=allgame_id['applist']['apps'][num]['name']\n",
    "    if key in steamapp_dict:\n",
    "        continue\n",
    "    else:\n",
    "        steamapp_dict[key]=value\n",
    "import pickle\n",
    "pickle.dump(steamapp_dict,open(\"steam.p\",\"wb\"))"
   ]
  },
  {
   "cell_type": "code",
   "execution_count": 6,
   "metadata": {},
   "outputs": [],
   "source": [
    "# get all keys\n",
    "allkeys=list(steamapp_dict.keys())"
   ]
  },
  {
   "cell_type": "code",
   "execution_count": null,
   "metadata": {},
   "outputs": [
    {
     "name": "stdout",
     "output_type": "stream",
     "text": [
      "1000\n",
      "2000\n",
      "3000\n",
      "4000\n",
      "5000\n",
      "6000\n",
      "7000\n",
      "8000\n",
      "9000\n",
      "10000\n",
      "11000\n",
      "12000\n",
      "13000\n",
      "14000\n",
      "15000\n",
      "16000\n",
      "17000\n",
      "18000\n"
     ]
    }
   ],
   "source": [
    "i=0\n",
    "for key in allkeys:\n",
    "    try:\n",
    "        df=get_all_reviews(key)\n",
    "    except: \n",
    "        continue\n",
    "        print('failed')\n",
    "    df['game_name']=steamapp_dict.get(key)\n",
    "    if 'review_df' not in locals():\n",
    "        review_df=df\n",
    "    else:\n",
    "        review_df=review_df.append(df, ignore_index=True, sort=False)\n",
    "        i=i+1\n",
    "        if i%1000==0:\n",
    "            print(i)\n",
    "            name='got_review_{}.p'.format(i)\n",
    "            pickle.dump(review_df,open(name,\"wb\"))"
   ]
  },
  {
   "cell_type": "code",
   "execution_count": null,
   "metadata": {},
   "outputs": [],
   "source": [
    "pickle.dump(review_df,open(\"final.p\",\"wb\"))"
   ]
  },
  {
   "cell_type": "code",
   "execution_count": null,
   "metadata": {},
   "outputs": [],
   "source": []
  }
 ],
 "metadata": {
  "kernelspec": {
   "display_name": "Python 3",
   "language": "python",
   "name": "python3"
  },
  "language_info": {
   "codemirror_mode": {
    "name": "ipython",
    "version": 3
   },
   "file_extension": ".py",
   "mimetype": "text/x-python",
   "name": "python",
   "nbconvert_exporter": "python",
   "pygments_lexer": "ipython3",
   "version": "3.6.8"
  }
 },
 "nbformat": 4,
 "nbformat_minor": 2
}
