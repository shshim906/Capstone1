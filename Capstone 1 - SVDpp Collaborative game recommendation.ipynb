{
 "cells": [
  {
   "cell_type": "markdown",
   "metadata": {},
   "source": [
    "## The purpose of the Capstone 1 project is to provide a list of recommendation to a gamer so that they may find new games that will interest them."
   ]
  },
  {
   "cell_type": "markdown",
   "metadata": {},
   "source": [
    "\"SVDpp Collaborative game recommendation\" will use SVD++ algorithm to provide a list of reommendation for people who are new to the website and therefore has no prior data on the purchase or playtime"
   ]
  },
  {
   "cell_type": "markdown",
   "metadata": {},
   "source": [
    "Cleaned game review data is imported from the pickle file"
   ]
  },
  {
   "cell_type": "code",
   "execution_count": 62,
   "metadata": {},
   "outputs": [],
   "source": [
    "import pickle\n",
    "file_name='cleaned_review.p'\n",
    "loaded_df=pickle.load(open(file_name,\"rb\"))\n",
    "steamapp_dict=pickle.load(open(\"steam.p\",\"rb\"))"
   ]
  },
  {
   "cell_type": "code",
   "execution_count": 63,
   "metadata": {},
   "outputs": [
    {
     "data": {
      "text/html": [
       "<div>\n",
       "<style scoped>\n",
       "    .dataframe tbody tr th:only-of-type {\n",
       "        vertical-align: middle;\n",
       "    }\n",
       "\n",
       "    .dataframe tbody tr th {\n",
       "        vertical-align: top;\n",
       "    }\n",
       "\n",
       "    .dataframe thead th {\n",
       "        text-align: right;\n",
       "    }\n",
       "</style>\n",
       "<table border=\"1\" class=\"dataframe\">\n",
       "  <thead>\n",
       "    <tr style=\"text-align: right;\">\n",
       "      <th></th>\n",
       "      <th>author</th>\n",
       "      <th>review</th>\n",
       "      <th>game_name</th>\n",
       "    </tr>\n",
       "  </thead>\n",
       "  <tbody>\n",
       "    <tr>\n",
       "      <th>0</th>\n",
       "      <td>76561198831801803</td>\n",
       "      <td>dont know how to use soundtrack or comic :/ hi...</td>\n",
       "      <td>Pikuniku Soundtrack + Comic</td>\n",
       "    </tr>\n",
       "    <tr>\n",
       "      <th>1</th>\n",
       "      <td>76561198208927921</td>\n",
       "      <td>Bad game, totally worthless.</td>\n",
       "      <td>Four-color Fantasy</td>\n",
       "    </tr>\n",
       "    <tr>\n",
       "      <th>4</th>\n",
       "      <td>76561198063789203</td>\n",
       "      <td>It's 2:54 AM and I'm crying over winning a dra...</td>\n",
       "      <td>Drag Star!</td>\n",
       "    </tr>\n",
       "    <tr>\n",
       "      <th>5</th>\n",
       "      <td>76561198343959533</td>\n",
       "      <td>I literally stayed up til 3 am because I *need...</td>\n",
       "      <td>Drag Star!</td>\n",
       "    </tr>\n",
       "    <tr>\n",
       "      <th>6</th>\n",
       "      <td>76561198079874042</td>\n",
       "      <td>I've never seen Drag Race, so I was a little u...</td>\n",
       "      <td>Drag Star!</td>\n",
       "    </tr>\n",
       "  </tbody>\n",
       "</table>\n",
       "</div>"
      ],
      "text/plain": [
       "              author                                             review  \\\n",
       "0  76561198831801803  dont know how to use soundtrack or comic :/ hi...   \n",
       "1  76561198208927921                       Bad game, totally worthless.   \n",
       "4  76561198063789203  It's 2:54 AM and I'm crying over winning a dra...   \n",
       "5  76561198343959533  I literally stayed up til 3 am because I *need...   \n",
       "6  76561198079874042  I've never seen Drag Race, so I was a little u...   \n",
       "\n",
       "                     game_name  \n",
       "0  Pikuniku Soundtrack + Comic  \n",
       "1           Four-color Fantasy  \n",
       "4                   Drag Star!  \n",
       "5                   Drag Star!  \n",
       "6                   Drag Star!  "
      ]
     },
     "execution_count": 63,
     "metadata": {},
     "output_type": "execute_result"
    }
   ],
   "source": [
    "loaded_df.head()"
   ]
  },
  {
   "cell_type": "code",
   "execution_count": 3,
   "metadata": {},
   "outputs": [],
   "source": [
    "loaded_df=loaded_df.drop_duplicates()"
   ]
  },
  {
   "cell_type": "markdown",
   "metadata": {},
   "source": [
    "SVD++ algorithm from \"surprise\" library requires rating system to be in place. However, because we do not have rating provided in the raw data, we will get the sentiment values from the reviews and assign rating based on that"
   ]
  },
  {
   "cell_type": "code",
   "execution_count": 5,
   "metadata": {},
   "outputs": [],
   "source": [
    "from textblob import TextBlob"
   ]
  },
  {
   "cell_type": "code",
   "execution_count": 6,
   "metadata": {},
   "outputs": [],
   "source": [
    "review_sentiment=list()\n",
    "i=0\n",
    "for review in loaded_df.review:\n",
    "    sent = TextBlob(review)\n",
    "    rating=round(2*(sent.sentiment.polarity+1))\n",
    "    review_sentiment.append(rating)"
   ]
  },
  {
   "cell_type": "code",
   "execution_count": 7,
   "metadata": {},
   "outputs": [
    {
     "data": {
      "text/plain": [
       "{0, 1, 2, 3, 4}"
      ]
     },
     "execution_count": 7,
     "metadata": {},
     "output_type": "execute_result"
    }
   ],
   "source": [
    "set(review_sentiment)"
   ]
  },
  {
   "cell_type": "code",
   "execution_count": 8,
   "metadata": {},
   "outputs": [],
   "source": [
    "loaded_df['review_sentiment']=review_sentiment"
   ]
  },
  {
   "cell_type": "code",
   "execution_count": 10,
   "metadata": {},
   "outputs": [],
   "source": [
    "from surprise import *"
   ]
  },
  {
   "cell_type": "code",
   "execution_count": 11,
   "metadata": {},
   "outputs": [],
   "source": [
    "# Surprise takes user, item, and rating as input\n",
    "df=loaded_df[['author','game_name','review_sentiment']]"
   ]
  },
  {
   "cell_type": "code",
   "execution_count": 12,
   "metadata": {},
   "outputs": [
    {
     "name": "stdout",
     "output_type": "stream",
     "text": [
      "The original data frame shape:\t(79666, 3)\n",
      "The new data frame shape:\t(5373, 3)\n"
     ]
    }
   ],
   "source": [
    "# Only take games that have more than 5 reviews into consideration \n",
    "min_games_review = 5\n",
    "filter_games = df['game_name'].value_counts() > min_games_review\n",
    "filter_games = filter_games[filter_games].index.tolist()\n",
    "\n",
    "# Only take users that left more than 5 reviews into consideration \n",
    "min_user_review = 5\n",
    "filter_users = df['author'].value_counts() > min_user_review\n",
    "filter_users = filter_users[filter_users].index.tolist()\n",
    "\n",
    "df_new = df[(df['game_name'].isin(filter_games)) & (df['author'].isin(filter_users))]\n",
    "print('The original data frame shape:\\t{}'.format(df.shape))\n",
    "print('The new data frame shape:\\t{}'.format(df_new.shape))"
   ]
  },
  {
   "cell_type": "code",
   "execution_count": 13,
   "metadata": {},
   "outputs": [],
   "source": [
    "# Make the reader and data form\n",
    "reader = Reader(rating_scale=(0, 4))\n",
    "data = Dataset.load_from_df(df_new, reader)"
   ]
  },
  {
   "cell_type": "code",
   "execution_count": 31,
   "metadata": {},
   "outputs": [
    {
     "data": {
      "text/plain": [
       "{'test_rmse': array([0.4804533 , 0.47385527, 0.48043041, 0.47922555, 0.44107349]),\n",
       " 'fit_time': (1.7401411533355713,\n",
       "  1.80519437789917,\n",
       "  1.755890130996704,\n",
       "  1.7584702968597412,\n",
       "  1.7765941619873047),\n",
       " 'test_time': (0.03427314758300781,\n",
       "  0.03236865997314453,\n",
       "  0.03297090530395508,\n",
       "  0.031549692153930664,\n",
       "  0.03276538848876953)}"
      ]
     },
     "execution_count": 31,
     "metadata": {},
     "output_type": "execute_result"
    }
   ],
   "source": [
    "from surprise.model_selection import cross_validate\n",
    "svdmodel=SVDpp()\n",
    "cross_validate(svdmodel,data,measures=['RMSE'],cv=5,verbose=False)"
   ]
  },
  {
   "cell_type": "code",
   "execution_count": 30,
   "metadata": {},
   "outputs": [
    {
     "data": {
      "text/plain": [
       "{'test_rmse': array([0.45400046, 0.4772274 , 0.46113459, 0.48484196, 0.49460584]),\n",
       " 'fit_time': (0.4381277561187744,\n",
       "  0.4310038089752197,\n",
       "  0.4149935245513916,\n",
       "  0.4223594665527344,\n",
       "  0.41359686851501465),\n",
       " 'test_time': (0.01152348518371582,\n",
       "  0.01294708251953125,\n",
       "  0.012199640274047852,\n",
       "  0.012076377868652344,\n",
       "  0.012157201766967773)}"
      ]
     },
     "execution_count": 30,
     "metadata": {},
     "output_type": "execute_result"
    }
   ],
   "source": [
    "from surprise.model_selection import cross_validate\n",
    "slopemodel=SVD()\n",
    "cross_validate(slopemodel,data,measures=['RMSE'],cv=5,verbose=False)"
   ]
  },
  {
   "cell_type": "code",
   "execution_count": 16,
   "metadata": {},
   "outputs": [],
   "source": [
    "from surprise.model_selection import train_test_split\n",
    "trainset,testset=train_test_split(data,test_size=0.3)"
   ]
  },
  {
   "cell_type": "code",
   "execution_count": 17,
   "metadata": {},
   "outputs": [
    {
     "name": "stdout",
     "output_type": "stream",
     "text": [
      "RMSE: 0.4877\n"
     ]
    },
    {
     "data": {
      "text/plain": [
       "0.48772951744906634"
      ]
     },
     "execution_count": 17,
     "metadata": {},
     "output_type": "execute_result"
    }
   ],
   "source": [
    "from surprise import accuracy\n",
    "model=svdmodel.fit(trainset)\n",
    "predict1=model.test(testset)\n",
    "accuracy.rmse(predict1)"
   ]
  },
  {
   "cell_type": "code",
   "execution_count": 21,
   "metadata": {},
   "outputs": [],
   "source": [
    "import pandas as pd\n",
    "predict_df=pd.DataFrame(predict1)\n",
    "predict_df['err'] = abs(predict_df.est - predict_df.r_ui)\n",
    "best_predictions = predict_df.sort_values(by='err')[:10]\n",
    "worst_predictions = predict_df.sort_values(by='err')[-10:]"
   ]
  },
  {
   "cell_type": "code",
   "execution_count": 22,
   "metadata": {},
   "outputs": [
    {
     "data": {
      "text/html": [
       "<div>\n",
       "<style scoped>\n",
       "    .dataframe tbody tr th:only-of-type {\n",
       "        vertical-align: middle;\n",
       "    }\n",
       "\n",
       "    .dataframe tbody tr th {\n",
       "        vertical-align: top;\n",
       "    }\n",
       "\n",
       "    .dataframe thead th {\n",
       "        text-align: right;\n",
       "    }\n",
       "</style>\n",
       "<table border=\"1\" class=\"dataframe\">\n",
       "  <thead>\n",
       "    <tr style=\"text-align: right;\">\n",
       "      <th></th>\n",
       "      <th>uid</th>\n",
       "      <th>iid</th>\n",
       "      <th>r_ui</th>\n",
       "      <th>est</th>\n",
       "      <th>details</th>\n",
       "      <th>err</th>\n",
       "    </tr>\n",
       "  </thead>\n",
       "  <tbody>\n",
       "    <tr>\n",
       "      <th>757</th>\n",
       "      <td>76561198049701098</td>\n",
       "      <td>Crisis on the Planet of the Apes</td>\n",
       "      <td>2.0</td>\n",
       "      <td>2.000244</td>\n",
       "      <td>{'was_impossible': False}</td>\n",
       "      <td>0.000244</td>\n",
       "    </tr>\n",
       "    <tr>\n",
       "      <th>1484</th>\n",
       "      <td>76561198234516860</td>\n",
       "      <td>Wild Island Quest</td>\n",
       "      <td>2.0</td>\n",
       "      <td>2.000295</td>\n",
       "      <td>{'was_impossible': False}</td>\n",
       "      <td>0.000295</td>\n",
       "    </tr>\n",
       "    <tr>\n",
       "      <th>1272</th>\n",
       "      <td>76561198277984478</td>\n",
       "      <td>forma.8</td>\n",
       "      <td>2.0</td>\n",
       "      <td>2.000886</td>\n",
       "      <td>{'was_impossible': False}</td>\n",
       "      <td>0.000886</td>\n",
       "    </tr>\n",
       "    <tr>\n",
       "      <th>180</th>\n",
       "      <td>76561198017125492</td>\n",
       "      <td>Death Train VR</td>\n",
       "      <td>2.0</td>\n",
       "      <td>1.998784</td>\n",
       "      <td>{'was_impossible': False}</td>\n",
       "      <td>0.001216</td>\n",
       "    </tr>\n",
       "    <tr>\n",
       "      <th>835</th>\n",
       "      <td>76561198039580049</td>\n",
       "      <td>Lords of the Realm</td>\n",
       "      <td>2.0</td>\n",
       "      <td>1.998673</td>\n",
       "      <td>{'was_impossible': False}</td>\n",
       "      <td>0.001327</td>\n",
       "    </tr>\n",
       "    <tr>\n",
       "      <th>313</th>\n",
       "      <td>76561198822401357</td>\n",
       "      <td>oVRshot</td>\n",
       "      <td>2.0</td>\n",
       "      <td>1.998647</td>\n",
       "      <td>{'was_impossible': False}</td>\n",
       "      <td>0.001353</td>\n",
       "    </tr>\n",
       "    <tr>\n",
       "      <th>850</th>\n",
       "      <td>76561198137285867</td>\n",
       "      <td>GunWorld</td>\n",
       "      <td>2.0</td>\n",
       "      <td>1.998488</td>\n",
       "      <td>{'was_impossible': False}</td>\n",
       "      <td>0.001512</td>\n",
       "    </tr>\n",
       "    <tr>\n",
       "      <th>856</th>\n",
       "      <td>76561197990354493</td>\n",
       "      <td>Away From Earth: Moon</td>\n",
       "      <td>2.0</td>\n",
       "      <td>1.998306</td>\n",
       "      <td>{'was_impossible': False}</td>\n",
       "      <td>0.001694</td>\n",
       "    </tr>\n",
       "    <tr>\n",
       "      <th>965</th>\n",
       "      <td>76561198057056008</td>\n",
       "      <td>qop 2</td>\n",
       "      <td>2.0</td>\n",
       "      <td>2.001781</td>\n",
       "      <td>{'was_impossible': False}</td>\n",
       "      <td>0.001781</td>\n",
       "    </tr>\n",
       "    <tr>\n",
       "      <th>179</th>\n",
       "      <td>76561198110829497</td>\n",
       "      <td>Escape Game</td>\n",
       "      <td>2.0</td>\n",
       "      <td>1.996785</td>\n",
       "      <td>{'was_impossible': False}</td>\n",
       "      <td>0.003215</td>\n",
       "    </tr>\n",
       "  </tbody>\n",
       "</table>\n",
       "</div>"
      ],
      "text/plain": [
       "                    uid                               iid  r_ui       est  \\\n",
       "757   76561198049701098  Crisis on the Planet of the Apes   2.0  2.000244   \n",
       "1484  76561198234516860                 Wild Island Quest   2.0  2.000295   \n",
       "1272  76561198277984478                           forma.8   2.0  2.000886   \n",
       "180   76561198017125492                    Death Train VR   2.0  1.998784   \n",
       "835   76561198039580049                Lords of the Realm   2.0  1.998673   \n",
       "313   76561198822401357                           oVRshot   2.0  1.998647   \n",
       "850   76561198137285867                          GunWorld   2.0  1.998488   \n",
       "856   76561197990354493             Away From Earth: Moon   2.0  1.998306   \n",
       "965   76561198057056008                             qop 2   2.0  2.001781   \n",
       "179   76561198110829497                       Escape Game   2.0  1.996785   \n",
       "\n",
       "                        details       err  \n",
       "757   {'was_impossible': False}  0.000244  \n",
       "1484  {'was_impossible': False}  0.000295  \n",
       "1272  {'was_impossible': False}  0.000886  \n",
       "180   {'was_impossible': False}  0.001216  \n",
       "835   {'was_impossible': False}  0.001327  \n",
       "313   {'was_impossible': False}  0.001353  \n",
       "850   {'was_impossible': False}  0.001512  \n",
       "856   {'was_impossible': False}  0.001694  \n",
       "965   {'was_impossible': False}  0.001781  \n",
       "179   {'was_impossible': False}  0.003215  "
      ]
     },
     "execution_count": 22,
     "metadata": {},
     "output_type": "execute_result"
    }
   ],
   "source": [
    "best_predictions"
   ]
  },
  {
   "cell_type": "code",
   "execution_count": 23,
   "metadata": {},
   "outputs": [
    {
     "data": {
      "text/html": [
       "<div>\n",
       "<style scoped>\n",
       "    .dataframe tbody tr th:only-of-type {\n",
       "        vertical-align: middle;\n",
       "    }\n",
       "\n",
       "    .dataframe tbody tr th {\n",
       "        vertical-align: top;\n",
       "    }\n",
       "\n",
       "    .dataframe thead th {\n",
       "        text-align: right;\n",
       "    }\n",
       "</style>\n",
       "<table border=\"1\" class=\"dataframe\">\n",
       "  <thead>\n",
       "    <tr style=\"text-align: right;\">\n",
       "      <th></th>\n",
       "      <th>uid</th>\n",
       "      <th>iid</th>\n",
       "      <th>r_ui</th>\n",
       "      <th>est</th>\n",
       "      <th>details</th>\n",
       "      <th>err</th>\n",
       "    </tr>\n",
       "  </thead>\n",
       "  <tbody>\n",
       "    <tr>\n",
       "      <th>400</th>\n",
       "      <td>76561197981047937</td>\n",
       "      <td>Fantasy Mosaics 16: Six Colors in Wonderland</td>\n",
       "      <td>4.0</td>\n",
       "      <td>2.075178</td>\n",
       "      <td>{'was_impossible': False}</td>\n",
       "      <td>1.924822</td>\n",
       "    </tr>\n",
       "    <tr>\n",
       "      <th>1298</th>\n",
       "      <td>76561198006260288</td>\n",
       "      <td>Kingdom Defense</td>\n",
       "      <td>0.0</td>\n",
       "      <td>1.972678</td>\n",
       "      <td>{'was_impossible': False}</td>\n",
       "      <td>1.972678</td>\n",
       "    </tr>\n",
       "    <tr>\n",
       "      <th>1474</th>\n",
       "      <td>76561198125100728</td>\n",
       "      <td>NARUTO SHIPPUDEN: Ultimate Ninja STORM Revolut...</td>\n",
       "      <td>4.0</td>\n",
       "      <td>2.014077</td>\n",
       "      <td>{'was_impossible': False}</td>\n",
       "      <td>1.985923</td>\n",
       "    </tr>\n",
       "    <tr>\n",
       "      <th>449</th>\n",
       "      <td>76561198019816374</td>\n",
       "      <td>Eruption</td>\n",
       "      <td>4.0</td>\n",
       "      <td>2.006317</td>\n",
       "      <td>{'was_impossible': False}</td>\n",
       "      <td>1.993683</td>\n",
       "    </tr>\n",
       "    <tr>\n",
       "      <th>448</th>\n",
       "      <td>76561198124516461</td>\n",
       "      <td>Old Friend</td>\n",
       "      <td>4.0</td>\n",
       "      <td>1.992652</td>\n",
       "      <td>{'was_impossible': False}</td>\n",
       "      <td>2.007348</td>\n",
       "    </tr>\n",
       "    <tr>\n",
       "      <th>215</th>\n",
       "      <td>76561198031614337</td>\n",
       "      <td>Jackal</td>\n",
       "      <td>4.0</td>\n",
       "      <td>1.952587</td>\n",
       "      <td>{'was_impossible': False}</td>\n",
       "      <td>2.047413</td>\n",
       "    </tr>\n",
       "    <tr>\n",
       "      <th>1485</th>\n",
       "      <td>76561197993862065</td>\n",
       "      <td>The Labyrinth of Time</td>\n",
       "      <td>0.0</td>\n",
       "      <td>2.065881</td>\n",
       "      <td>{'was_impossible': False}</td>\n",
       "      <td>2.065881</td>\n",
       "    </tr>\n",
       "    <tr>\n",
       "      <th>990</th>\n",
       "      <td>76561198054387451</td>\n",
       "      <td>Bad Caterpillar</td>\n",
       "      <td>0.0</td>\n",
       "      <td>2.116034</td>\n",
       "      <td>{'was_impossible': False}</td>\n",
       "      <td>2.116034</td>\n",
       "    </tr>\n",
       "    <tr>\n",
       "      <th>279</th>\n",
       "      <td>76561198057389389</td>\n",
       "      <td>Knights Hunt</td>\n",
       "      <td>0.0</td>\n",
       "      <td>2.317486</td>\n",
       "      <td>{'was_impossible': False}</td>\n",
       "      <td>2.317486</td>\n",
       "    </tr>\n",
       "    <tr>\n",
       "      <th>396</th>\n",
       "      <td>76561198057389389</td>\n",
       "      <td>Hentai Defense</td>\n",
       "      <td>0.0</td>\n",
       "      <td>2.485438</td>\n",
       "      <td>{'was_impossible': False}</td>\n",
       "      <td>2.485438</td>\n",
       "    </tr>\n",
       "  </tbody>\n",
       "</table>\n",
       "</div>"
      ],
      "text/plain": [
       "                    uid                                                iid  \\\n",
       "400   76561197981047937       Fantasy Mosaics 16: Six Colors in Wonderland   \n",
       "1298  76561198006260288                                    Kingdom Defense   \n",
       "1474  76561198125100728  NARUTO SHIPPUDEN: Ultimate Ninja STORM Revolut...   \n",
       "449   76561198019816374                                           Eruption   \n",
       "448   76561198124516461                                         Old Friend   \n",
       "215   76561198031614337                                             Jackal   \n",
       "1485  76561197993862065                              The Labyrinth of Time   \n",
       "990   76561198054387451                                    Bad Caterpillar   \n",
       "279   76561198057389389                                       Knights Hunt   \n",
       "396   76561198057389389                                     Hentai Defense   \n",
       "\n",
       "      r_ui       est                    details       err  \n",
       "400    4.0  2.075178  {'was_impossible': False}  1.924822  \n",
       "1298   0.0  1.972678  {'was_impossible': False}  1.972678  \n",
       "1474   4.0  2.014077  {'was_impossible': False}  1.985923  \n",
       "449    4.0  2.006317  {'was_impossible': False}  1.993683  \n",
       "448    4.0  1.992652  {'was_impossible': False}  2.007348  \n",
       "215    4.0  1.952587  {'was_impossible': False}  2.047413  \n",
       "1485   0.0  2.065881  {'was_impossible': False}  2.065881  \n",
       "990    0.0  2.116034  {'was_impossible': False}  2.116034  \n",
       "279    0.0  2.317486  {'was_impossible': False}  2.317486  \n",
       "396    0.0  2.485438  {'was_impossible': False}  2.485438  "
      ]
     },
     "execution_count": 23,
     "metadata": {},
     "output_type": "execute_result"
    }
   ],
   "source": [
    "worst_predictions"
   ]
  },
  {
   "cell_type": "code",
   "execution_count": 24,
   "metadata": {},
   "outputs": [],
   "source": [
    "test_id='76561198141485825'\n",
    "pred=model.predict(uid=test_id,iid=\"Fallout 4\")\n",
    "score=pred.est"
   ]
  },
  {
   "cell_type": "code",
   "execution_count": 33,
   "metadata": {},
   "outputs": [],
   "source": [
    "import requests\n",
    "# Get all the games that the player played\n",
    "def getownedgames(idnum):\n",
    "    \"\"\"Takes the id number of a steam user and returns the id num of games they own\"\"\"\n",
    "    url='http://api.steampowered.com/IPlayerService/GetOwnedGames/v0001/?key=3A629E52AE594CB777253431189F2967&steamid={}&format=json'.format(idnum)\n",
    "    r=requests.get(url)\n",
    "    json_data=r.json()\n",
    "    return json_data"
   ]
  },
  {
   "cell_type": "code",
   "execution_count": 35,
   "metadata": {},
   "outputs": [],
   "source": [
    "def rawplayergamelist(_id):\n",
    "    gamelist=getownedgames(_id)['response']['games']\n",
    "    return gamelist"
   ]
  },
  {
   "cell_type": "code",
   "execution_count": 37,
   "metadata": {},
   "outputs": [],
   "source": [
    "testperson=rawplayergamelist(test_id)"
   ]
  },
  {
   "cell_type": "code",
   "execution_count": 38,
   "metadata": {},
   "outputs": [],
   "source": [
    "testids=list()\n",
    "testplaytimes=list()\n",
    "for i in range(len(testperson)):\n",
    "    testids.append(testperson[i]['appid'])\n",
    "    testplaytimes.append(testperson[i]['playtime_forever'])"
   ]
  },
  {
   "cell_type": "code",
   "execution_count": 39,
   "metadata": {},
   "outputs": [],
   "source": [
    "import pandas as pd"
   ]
  },
  {
   "cell_type": "code",
   "execution_count": 40,
   "metadata": {},
   "outputs": [],
   "source": [
    "test_df=pd.DataFrame(list(zip(testids,testplaytimes)),columns=['ids','playtime']).sort_values('playtime',ascending=False)\n",
    "playedgame_name=list()\n",
    "for id_ in test_df['ids']:\n",
    "    name=steamapp_dict.get(id_)\n",
    "    playedgame_name.append(name)\n",
    "test_df['name']=playedgame_name"
   ]
  },
  {
   "cell_type": "code",
   "execution_count": 41,
   "metadata": {},
   "outputs": [],
   "source": [
    "tests=[[test_id,iid,5] for iid in predict_df[\"iid\"].unique().tolist()]\n",
    "predictions=model.test(tests)\n",
    "pred_df=pd.DataFrame(predictions)"
   ]
  },
  {
   "cell_type": "code",
   "execution_count": 42,
   "metadata": {},
   "outputs": [
    {
     "data": {
      "text/html": [
       "<div>\n",
       "<style scoped>\n",
       "    .dataframe tbody tr th:only-of-type {\n",
       "        vertical-align: middle;\n",
       "    }\n",
       "\n",
       "    .dataframe tbody tr th {\n",
       "        vertical-align: top;\n",
       "    }\n",
       "\n",
       "    .dataframe thead th {\n",
       "        text-align: right;\n",
       "    }\n",
       "</style>\n",
       "<table border=\"1\" class=\"dataframe\">\n",
       "  <thead>\n",
       "    <tr style=\"text-align: right;\">\n",
       "      <th></th>\n",
       "      <th>uid</th>\n",
       "      <th>iid</th>\n",
       "      <th>r_ui</th>\n",
       "      <th>est</th>\n",
       "      <th>details</th>\n",
       "    </tr>\n",
       "  </thead>\n",
       "  <tbody>\n",
       "    <tr>\n",
       "      <th>0</th>\n",
       "      <td>76561198141485825</td>\n",
       "      <td>Crashed Lander</td>\n",
       "      <td>5</td>\n",
       "      <td>2.116602</td>\n",
       "      <td>{'was_impossible': False}</td>\n",
       "    </tr>\n",
       "    <tr>\n",
       "      <th>1</th>\n",
       "      <td>76561198141485825</td>\n",
       "      <td>Geoid</td>\n",
       "      <td>5</td>\n",
       "      <td>2.127626</td>\n",
       "      <td>{'was_impossible': False}</td>\n",
       "    </tr>\n",
       "    <tr>\n",
       "      <th>2</th>\n",
       "      <td>76561198141485825</td>\n",
       "      <td>Tales from the Void</td>\n",
       "      <td>5</td>\n",
       "      <td>2.250663</td>\n",
       "      <td>{'was_impossible': False}</td>\n",
       "    </tr>\n",
       "    <tr>\n",
       "      <th>3</th>\n",
       "      <td>76561198141485825</td>\n",
       "      <td>Hiveswap Friendsim - Volume Five</td>\n",
       "      <td>5</td>\n",
       "      <td>2.062748</td>\n",
       "      <td>{'was_impossible': False}</td>\n",
       "    </tr>\n",
       "    <tr>\n",
       "      <th>4</th>\n",
       "      <td>76561198141485825</td>\n",
       "      <td>Train Simulator: BR Standard Class 6 ‘Clan Cla...</td>\n",
       "      <td>5</td>\n",
       "      <td>2.127626</td>\n",
       "      <td>{'was_impossible': False}</td>\n",
       "    </tr>\n",
       "    <tr>\n",
       "      <th>5</th>\n",
       "      <td>76561198141485825</td>\n",
       "      <td>The Travels of Marco Polo</td>\n",
       "      <td>5</td>\n",
       "      <td>2.166173</td>\n",
       "      <td>{'was_impossible': False}</td>\n",
       "    </tr>\n",
       "    <tr>\n",
       "      <th>6</th>\n",
       "      <td>76561198141485825</td>\n",
       "      <td>Brain Booster</td>\n",
       "      <td>5</td>\n",
       "      <td>2.127626</td>\n",
       "      <td>{'was_impossible': False}</td>\n",
       "    </tr>\n",
       "    <tr>\n",
       "      <th>7</th>\n",
       "      <td>76561198141485825</td>\n",
       "      <td>Turbo Pug 3D</td>\n",
       "      <td>5</td>\n",
       "      <td>2.127626</td>\n",
       "      <td>{'was_impossible': False}</td>\n",
       "    </tr>\n",
       "    <tr>\n",
       "      <th>8</th>\n",
       "      <td>76561198141485825</td>\n",
       "      <td>Siegecraft Commander</td>\n",
       "      <td>5</td>\n",
       "      <td>2.109553</td>\n",
       "      <td>{'was_impossible': False}</td>\n",
       "    </tr>\n",
       "    <tr>\n",
       "      <th>9</th>\n",
       "      <td>76561198141485825</td>\n",
       "      <td>Shmups Skill Test</td>\n",
       "      <td>5</td>\n",
       "      <td>2.116047</td>\n",
       "      <td>{'was_impossible': False}</td>\n",
       "    </tr>\n",
       "  </tbody>\n",
       "</table>\n",
       "</div>"
      ],
      "text/plain": [
       "                 uid                                                iid  r_ui  \\\n",
       "0  76561198141485825                                     Crashed Lander     5   \n",
       "1  76561198141485825                                              Geoid     5   \n",
       "2  76561198141485825                                Tales from the Void     5   \n",
       "3  76561198141485825                   Hiveswap Friendsim - Volume Five     5   \n",
       "4  76561198141485825  Train Simulator: BR Standard Class 6 ‘Clan Cla...     5   \n",
       "5  76561198141485825                          The Travels of Marco Polo     5   \n",
       "6  76561198141485825                                      Brain Booster     5   \n",
       "7  76561198141485825                                       Turbo Pug 3D     5   \n",
       "8  76561198141485825                               Siegecraft Commander     5   \n",
       "9  76561198141485825                                  Shmups Skill Test     5   \n",
       "\n",
       "        est                    details  \n",
       "0  2.116602  {'was_impossible': False}  \n",
       "1  2.127626  {'was_impossible': False}  \n",
       "2  2.250663  {'was_impossible': False}  \n",
       "3  2.062748  {'was_impossible': False}  \n",
       "4  2.127626  {'was_impossible': False}  \n",
       "5  2.166173  {'was_impossible': False}  \n",
       "6  2.127626  {'was_impossible': False}  \n",
       "7  2.127626  {'was_impossible': False}  \n",
       "8  2.109553  {'was_impossible': False}  \n",
       "9  2.116047  {'was_impossible': False}  "
      ]
     },
     "execution_count": 42,
     "metadata": {},
     "output_type": "execute_result"
    }
   ],
   "source": [
    "pred_df.head(10)"
   ]
  },
  {
   "cell_type": "code",
   "execution_count": 43,
   "metadata": {},
   "outputs": [],
   "source": [
    "test_df=pd.DataFrame(list(zip(testids,testplaytimes)),columns=['ids','playtime']).sort_values('playtime',ascending=False)\n",
    "playedgame_name=list()\n",
    "for id_ in test_df['ids']:\n",
    "    name=steamapp_dict.get(id_)\n",
    "    playedgame_name.append(name)"
   ]
  },
  {
   "cell_type": "code",
   "execution_count": 44,
   "metadata": {},
   "outputs": [],
   "source": [
    "removed=[name for name in pred_df['iid'].tolist() if name not in playedgame_name]"
   ]
  },
  {
   "cell_type": "code",
   "execution_count": 45,
   "metadata": {},
   "outputs": [],
   "source": [
    "pred_df=pred_df.set_index(['iid'])"
   ]
  },
  {
   "cell_type": "code",
   "execution_count": 46,
   "metadata": {},
   "outputs": [],
   "source": [
    "finaltop10recommendation=pred_df.loc[removed].sort_values(['est'],ascending=False)[:10]"
   ]
  },
  {
   "cell_type": "code",
   "execution_count": 47,
   "metadata": {},
   "outputs": [
    {
     "name": "stdout",
     "output_type": "stream",
     "text": [
      "Top item for user 76561198141485825 is Hiveswap Friendsim - Volume Nine with predicted rating 2.4689415780091597\n"
     ]
    }
   ],
   "source": [
    "pred_game=finaltop10recommendation.index[0]\n",
    "pred_rate=finaltop10recommendation['est'][0]\n",
    "print('Top item for user {0} is {1} with predicted rating {2}'.format(test_id,pred_game, pred_rate))"
   ]
  },
  {
   "cell_type": "markdown",
   "metadata": {},
   "source": [
    "Improving the model"
   ]
  },
  {
   "cell_type": "code",
   "execution_count": 48,
   "metadata": {},
   "outputs": [
    {
     "name": "stdout",
     "output_type": "stream",
     "text": [
      "0.01 0.05\n"
     ]
    }
   ],
   "source": [
    "from surprise.model_selection import GridSearchCV\n",
    "param_grid={'lr_all' : [0.0001,.001,.01,.1], 'reg_all':[0.025,.05,.1,.5,.8]}\n",
    "gs=GridSearchCV(SVDpp,param_grid,measures=['rmse','mae'],cv=3)\n",
    "gs.fit(data)\n",
    "print(gs.best_params['rmse']['lr_all'],gs.best_params['rmse']['reg_all'])"
   ]
  },
  {
   "cell_type": "code",
   "execution_count": 49,
   "metadata": {},
   "outputs": [
    {
     "data": {
      "text/plain": [
       "{'rmse': {'lr_all': 0.01, 'reg_all': 0.05},\n",
       " 'mae': {'lr_all': 0.01, 'reg_all': 0.5}}"
      ]
     },
     "execution_count": 49,
     "metadata": {},
     "output_type": "execute_result"
    }
   ],
   "source": [
    "gs.best_params"
   ]
  },
  {
   "cell_type": "code",
   "execution_count": 50,
   "metadata": {},
   "outputs": [
    {
     "name": "stdout",
     "output_type": "stream",
     "text": [
      "Evaluating RMSE, MAE of algorithm SVDpp on 5 split(s).\n",
      "\n",
      "                  Fold 1  Fold 2  Fold 3  Fold 4  Fold 5  Mean    Std     \n",
      "RMSE (testset)    0.4697  0.4656  0.4996  0.4560  0.4509  0.4684  0.0170  \n",
      "MAE (testset)     0.2973  0.2965  0.3232  0.2957  0.2993  0.3024  0.0105  \n",
      "Fit time          1.74    1.86    1.84    1.81    1.99    1.85    0.08    \n",
      "Test time         0.03    0.03    0.03    0.03    0.04    0.03    0.00    \n"
     ]
    },
    {
     "data": {
      "text/plain": [
       "{'test_rmse': array([0.46965078, 0.46563617, 0.49964164, 0.45602992, 0.45087019]),\n",
       " 'test_mae': array([0.29725166, 0.2964755 , 0.32318074, 0.29569054, 0.29927107]),\n",
       " 'fit_time': (1.7410690784454346,\n",
       "  1.8570973873138428,\n",
       "  1.836747169494629,\n",
       "  1.8138766288757324,\n",
       "  1.992530345916748),\n",
       " 'test_time': (0.033310890197753906,\n",
       "  0.0349125862121582,\n",
       "  0.03372383117675781,\n",
       "  0.033187150955200195,\n",
       "  0.03516507148742676)}"
      ]
     },
     "execution_count": 50,
     "metadata": {},
     "output_type": "execute_result"
    }
   ],
   "source": [
    "new_model=SVDpp(lr_all=gs.best_params['rmse']['lr_all'],\n",
    "                reg_all=gs.best_params['rmse']['reg_all'])\n",
    "cross_validate(new_model,data,verbose=True)"
   ]
  },
  {
   "cell_type": "code",
   "execution_count": 51,
   "metadata": {},
   "outputs": [],
   "source": [
    "from surprise.model_selection import train_test_split\n",
    "trainset,testset=train_test_split(data,test_size=0.3)"
   ]
  },
  {
   "cell_type": "code",
   "execution_count": 52,
   "metadata": {},
   "outputs": [
    {
     "name": "stdout",
     "output_type": "stream",
     "text": [
      "RMSE: 0.4809\n"
     ]
    },
    {
     "data": {
      "text/plain": [
       "0.48088426960330505"
      ]
     },
     "execution_count": 52,
     "metadata": {},
     "output_type": "execute_result"
    }
   ],
   "source": [
    "from surprise import accuracy\n",
    "model2=new_model.fit(trainset)\n",
    "predict2=model2.test(testset)\n",
    "accuracy.rmse(predict2)"
   ]
  },
  {
   "cell_type": "code",
   "execution_count": 53,
   "metadata": {},
   "outputs": [],
   "source": [
    "import pandas as pd\n",
    "predict_df2=pd.DataFrame(predict2)\n",
    "predict_df2['err'] = abs(predict_df2.est - predict_df2.r_ui)\n",
    "best_predictions2 = predict_df2.sort_values(by='err')[:10]\n",
    "worst_predictions2 = predict_df2.sort_values(by='err')[-10:]"
   ]
  },
  {
   "cell_type": "code",
   "execution_count": 54,
   "metadata": {},
   "outputs": [
    {
     "data": {
      "text/html": [
       "<div>\n",
       "<style scoped>\n",
       "    .dataframe tbody tr th:only-of-type {\n",
       "        vertical-align: middle;\n",
       "    }\n",
       "\n",
       "    .dataframe tbody tr th {\n",
       "        vertical-align: top;\n",
       "    }\n",
       "\n",
       "    .dataframe thead th {\n",
       "        text-align: right;\n",
       "    }\n",
       "</style>\n",
       "<table border=\"1\" class=\"dataframe\">\n",
       "  <thead>\n",
       "    <tr style=\"text-align: right;\">\n",
       "      <th></th>\n",
       "      <th>uid</th>\n",
       "      <th>iid</th>\n",
       "      <th>r_ui</th>\n",
       "      <th>est</th>\n",
       "      <th>details</th>\n",
       "      <th>err</th>\n",
       "    </tr>\n",
       "  </thead>\n",
       "  <tbody>\n",
       "    <tr>\n",
       "      <th>1534</th>\n",
       "      <td>76561197984712587</td>\n",
       "      <td>Fear of Clowns</td>\n",
       "      <td>2.0</td>\n",
       "      <td>2.000060</td>\n",
       "      <td>{'was_impossible': False}</td>\n",
       "      <td>0.000060</td>\n",
       "    </tr>\n",
       "    <tr>\n",
       "      <th>572</th>\n",
       "      <td>76561197987731882</td>\n",
       "      <td>Spikit</td>\n",
       "      <td>2.0</td>\n",
       "      <td>2.000182</td>\n",
       "      <td>{'was_impossible': False}</td>\n",
       "      <td>0.000182</td>\n",
       "    </tr>\n",
       "    <tr>\n",
       "      <th>128</th>\n",
       "      <td>76561197987731882</td>\n",
       "      <td>古剑奇谭(GuJian)</td>\n",
       "      <td>2.0</td>\n",
       "      <td>2.000182</td>\n",
       "      <td>{'was_impossible': False}</td>\n",
       "      <td>0.000182</td>\n",
       "    </tr>\n",
       "    <tr>\n",
       "      <th>417</th>\n",
       "      <td>76561198311688857</td>\n",
       "      <td>PippiStory</td>\n",
       "      <td>2.0</td>\n",
       "      <td>2.000570</td>\n",
       "      <td>{'was_impossible': False}</td>\n",
       "      <td>0.000570</td>\n",
       "    </tr>\n",
       "    <tr>\n",
       "      <th>31</th>\n",
       "      <td>76561198377738658</td>\n",
       "      <td>Nancy Drew: The White Wolf of Icicle Creek</td>\n",
       "      <td>2.0</td>\n",
       "      <td>2.000597</td>\n",
       "      <td>{'was_impossible': False}</td>\n",
       "      <td>0.000597</td>\n",
       "    </tr>\n",
       "    <tr>\n",
       "      <th>42</th>\n",
       "      <td>76561198214989148</td>\n",
       "      <td>Heroes of Legionwood</td>\n",
       "      <td>2.0</td>\n",
       "      <td>2.000809</td>\n",
       "      <td>{'was_impossible': False}</td>\n",
       "      <td>0.000809</td>\n",
       "    </tr>\n",
       "    <tr>\n",
       "      <th>1194</th>\n",
       "      <td>76561197970480620</td>\n",
       "      <td>Cthulhu Realms</td>\n",
       "      <td>2.0</td>\n",
       "      <td>2.001065</td>\n",
       "      <td>{'was_impossible': False}</td>\n",
       "      <td>0.001065</td>\n",
       "    </tr>\n",
       "    <tr>\n",
       "      <th>278</th>\n",
       "      <td>76561197982273259</td>\n",
       "      <td>Drive By Hero</td>\n",
       "      <td>2.0</td>\n",
       "      <td>1.998802</td>\n",
       "      <td>{'was_impossible': False}</td>\n",
       "      <td>0.001198</td>\n",
       "    </tr>\n",
       "    <tr>\n",
       "      <th>293</th>\n",
       "      <td>76561198053422627</td>\n",
       "      <td>The Cursed Revolver</td>\n",
       "      <td>2.0</td>\n",
       "      <td>1.998518</td>\n",
       "      <td>{'was_impossible': False}</td>\n",
       "      <td>0.001482</td>\n",
       "    </tr>\n",
       "    <tr>\n",
       "      <th>739</th>\n",
       "      <td>76561198027180717</td>\n",
       "      <td>Santa's Big Adventures</td>\n",
       "      <td>2.0</td>\n",
       "      <td>1.998332</td>\n",
       "      <td>{'was_impossible': False}</td>\n",
       "      <td>0.001668</td>\n",
       "    </tr>\n",
       "  </tbody>\n",
       "</table>\n",
       "</div>"
      ],
      "text/plain": [
       "                    uid                                         iid  r_ui  \\\n",
       "1534  76561197984712587                              Fear of Clowns   2.0   \n",
       "572   76561197987731882                                      Spikit   2.0   \n",
       "128   76561197987731882                                古剑奇谭(GuJian)   2.0   \n",
       "417   76561198311688857                                  PippiStory   2.0   \n",
       "31    76561198377738658  Nancy Drew: The White Wolf of Icicle Creek   2.0   \n",
       "42    76561198214989148                        Heroes of Legionwood   2.0   \n",
       "1194  76561197970480620                              Cthulhu Realms   2.0   \n",
       "278   76561197982273259                               Drive By Hero   2.0   \n",
       "293   76561198053422627                         The Cursed Revolver   2.0   \n",
       "739   76561198027180717                      Santa's Big Adventures   2.0   \n",
       "\n",
       "           est                    details       err  \n",
       "1534  2.000060  {'was_impossible': False}  0.000060  \n",
       "572   2.000182  {'was_impossible': False}  0.000182  \n",
       "128   2.000182  {'was_impossible': False}  0.000182  \n",
       "417   2.000570  {'was_impossible': False}  0.000570  \n",
       "31    2.000597  {'was_impossible': False}  0.000597  \n",
       "42    2.000809  {'was_impossible': False}  0.000809  \n",
       "1194  2.001065  {'was_impossible': False}  0.001065  \n",
       "278   1.998802  {'was_impossible': False}  0.001198  \n",
       "293   1.998518  {'was_impossible': False}  0.001482  \n",
       "739   1.998332  {'was_impossible': False}  0.001668  "
      ]
     },
     "execution_count": 54,
     "metadata": {},
     "output_type": "execute_result"
    }
   ],
   "source": [
    "best_predictions2"
   ]
  },
  {
   "cell_type": "code",
   "execution_count": 55,
   "metadata": {},
   "outputs": [
    {
     "data": {
      "text/html": [
       "<div>\n",
       "<style scoped>\n",
       "    .dataframe tbody tr th:only-of-type {\n",
       "        vertical-align: middle;\n",
       "    }\n",
       "\n",
       "    .dataframe tbody tr th {\n",
       "        vertical-align: top;\n",
       "    }\n",
       "\n",
       "    .dataframe thead th {\n",
       "        text-align: right;\n",
       "    }\n",
       "</style>\n",
       "<table border=\"1\" class=\"dataframe\">\n",
       "  <thead>\n",
       "    <tr style=\"text-align: right;\">\n",
       "      <th></th>\n",
       "      <th>uid</th>\n",
       "      <th>iid</th>\n",
       "      <th>r_ui</th>\n",
       "      <th>est</th>\n",
       "      <th>details</th>\n",
       "      <th>err</th>\n",
       "    </tr>\n",
       "  </thead>\n",
       "  <tbody>\n",
       "    <tr>\n",
       "      <th>1093</th>\n",
       "      <td>76561198005539606</td>\n",
       "      <td>Escape Room VR: Stories</td>\n",
       "      <td>4.0</td>\n",
       "      <td>2.178106</td>\n",
       "      <td>{'was_impossible': False}</td>\n",
       "      <td>1.821894</td>\n",
       "    </tr>\n",
       "    <tr>\n",
       "      <th>620</th>\n",
       "      <td>76561198114829485</td>\n",
       "      <td>It's Spring Again</td>\n",
       "      <td>4.0</td>\n",
       "      <td>2.157438</td>\n",
       "      <td>{'was_impossible': False}</td>\n",
       "      <td>1.842562</td>\n",
       "    </tr>\n",
       "    <tr>\n",
       "      <th>559</th>\n",
       "      <td>76561198008426364</td>\n",
       "      <td>Enter the Gungeon - Soundtrack</td>\n",
       "      <td>4.0</td>\n",
       "      <td>2.129944</td>\n",
       "      <td>{'was_impossible': False}</td>\n",
       "      <td>1.870056</td>\n",
       "    </tr>\n",
       "    <tr>\n",
       "      <th>169</th>\n",
       "      <td>76561197969484311</td>\n",
       "      <td>Gettysburg: The Tide Turns</td>\n",
       "      <td>4.0</td>\n",
       "      <td>2.108709</td>\n",
       "      <td>{'was_impossible': False}</td>\n",
       "      <td>1.891291</td>\n",
       "    </tr>\n",
       "    <tr>\n",
       "      <th>1573</th>\n",
       "      <td>76561198054387451</td>\n",
       "      <td>Bad Caterpillar</td>\n",
       "      <td>0.0</td>\n",
       "      <td>1.942442</td>\n",
       "      <td>{'was_impossible': False}</td>\n",
       "      <td>1.942442</td>\n",
       "    </tr>\n",
       "    <tr>\n",
       "      <th>29</th>\n",
       "      <td>76561198117674830</td>\n",
       "      <td>GameGuru - Expansion Pack</td>\n",
       "      <td>4.0</td>\n",
       "      <td>2.050212</td>\n",
       "      <td>{'was_impossible': False}</td>\n",
       "      <td>1.949788</td>\n",
       "    </tr>\n",
       "    <tr>\n",
       "      <th>848</th>\n",
       "      <td>76561197993862065</td>\n",
       "      <td>The Labyrinth of Time</td>\n",
       "      <td>0.0</td>\n",
       "      <td>2.007750</td>\n",
       "      <td>{'was_impossible': False}</td>\n",
       "      <td>2.007750</td>\n",
       "    </tr>\n",
       "    <tr>\n",
       "      <th>496</th>\n",
       "      <td>76561198019816374</td>\n",
       "      <td>Eruption</td>\n",
       "      <td>4.0</td>\n",
       "      <td>1.934327</td>\n",
       "      <td>{'was_impossible': False}</td>\n",
       "      <td>2.065673</td>\n",
       "    </tr>\n",
       "    <tr>\n",
       "      <th>1423</th>\n",
       "      <td>76561197981715728</td>\n",
       "      <td>RDS - The Official Drift Videogame</td>\n",
       "      <td>4.0</td>\n",
       "      <td>1.864074</td>\n",
       "      <td>{'was_impossible': False}</td>\n",
       "      <td>2.135926</td>\n",
       "    </tr>\n",
       "    <tr>\n",
       "      <th>1230</th>\n",
       "      <td>76561198124516461</td>\n",
       "      <td>Old Friend</td>\n",
       "      <td>4.0</td>\n",
       "      <td>1.835607</td>\n",
       "      <td>{'was_impossible': False}</td>\n",
       "      <td>2.164393</td>\n",
       "    </tr>\n",
       "  </tbody>\n",
       "</table>\n",
       "</div>"
      ],
      "text/plain": [
       "                    uid                                 iid  r_ui       est  \\\n",
       "1093  76561198005539606             Escape Room VR: Stories   4.0  2.178106   \n",
       "620   76561198114829485                   It's Spring Again   4.0  2.157438   \n",
       "559   76561198008426364      Enter the Gungeon - Soundtrack   4.0  2.129944   \n",
       "169   76561197969484311          Gettysburg: The Tide Turns   4.0  2.108709   \n",
       "1573  76561198054387451                     Bad Caterpillar   0.0  1.942442   \n",
       "29    76561198117674830           GameGuru - Expansion Pack   4.0  2.050212   \n",
       "848   76561197993862065               The Labyrinth of Time   0.0  2.007750   \n",
       "496   76561198019816374                            Eruption   4.0  1.934327   \n",
       "1423  76561197981715728  RDS - The Official Drift Videogame   4.0  1.864074   \n",
       "1230  76561198124516461                          Old Friend   4.0  1.835607   \n",
       "\n",
       "                        details       err  \n",
       "1093  {'was_impossible': False}  1.821894  \n",
       "620   {'was_impossible': False}  1.842562  \n",
       "559   {'was_impossible': False}  1.870056  \n",
       "169   {'was_impossible': False}  1.891291  \n",
       "1573  {'was_impossible': False}  1.942442  \n",
       "29    {'was_impossible': False}  1.949788  \n",
       "848   {'was_impossible': False}  2.007750  \n",
       "496   {'was_impossible': False}  2.065673  \n",
       "1423  {'was_impossible': False}  2.135926  \n",
       "1230  {'was_impossible': False}  2.164393  "
      ]
     },
     "execution_count": 55,
     "metadata": {},
     "output_type": "execute_result"
    }
   ],
   "source": [
    "worst_predictions2"
   ]
  },
  {
   "cell_type": "markdown",
   "metadata": {},
   "source": [
    "The best predictions got a little worse but the worst predictions got a little better."
   ]
  },
  {
   "cell_type": "code",
   "execution_count": 56,
   "metadata": {},
   "outputs": [],
   "source": [
    "tests=[[test_id,iid,5] for iid in predict_df2[\"iid\"].unique().tolist()]\n",
    "new_predictions=new_model.test(tests)\n",
    "pred_df2=pd.DataFrame(new_predictions)"
   ]
  },
  {
   "cell_type": "code",
   "execution_count": 57,
   "metadata": {},
   "outputs": [
    {
     "name": "stderr",
     "output_type": "stream",
     "text": [
      "/home/seo/environments/my_env/lib/python3.6/site-packages/ipykernel_launcher.py:2: FutureWarning: \n",
      "Passing list-likes to .loc or [] with any missing label will raise\n",
      "KeyError in the future, you can use .reindex() as an alternative.\n",
      "\n",
      "See the documentation here:\n",
      "https://pandas.pydata.org/pandas-docs/stable/indexing.html#deprecate-loc-reindex-listlike\n",
      "  \n"
     ]
    }
   ],
   "source": [
    "pred_df2=pred_df2.set_index(['iid'])\n",
    "new_top10recommendation=pred_df2.loc[removed].sort_values(['est'],ascending=False)[:10]"
   ]
  },
  {
   "cell_type": "code",
   "execution_count": 58,
   "metadata": {},
   "outputs": [
    {
     "name": "stdout",
     "output_type": "stream",
     "text": [
      "Top item for user 76561198141485825 is Hiveswap Friendsim - Volume Nine with predicted rating 2.4364607194956545\n"
     ]
    }
   ],
   "source": [
    "pred_game2=new_top10recommendation.index[0]\n",
    "pred_rate2=new_top10recommendation['est'][0]\n",
    "print('Top item for user {0} is {1} with predicted rating {2}'.format(test_id,pred_game2, pred_rate2))"
   ]
  },
  {
   "cell_type": "code",
   "execution_count": 59,
   "metadata": {},
   "outputs": [],
   "source": [
    "top10=pred_df2.sort_values(['est'],ascending=False)[:10]\n",
    "recommended_games=list()\n",
    "for name in top10.index.tolist():\n",
    "    ids=list(steamapp_dict.keys())[list(steamapp_dict.values()).index(name)]\n",
    "    recommended_games.append((name,\"https://store.steampowered.com/app/\"+str(ids)))"
   ]
  },
  {
   "cell_type": "code",
   "execution_count": 60,
   "metadata": {},
   "outputs": [
    {
     "data": {
      "text/html": [
       "<div>\n",
       "<style scoped>\n",
       "    .dataframe tbody tr th:only-of-type {\n",
       "        vertical-align: middle;\n",
       "    }\n",
       "\n",
       "    .dataframe tbody tr th {\n",
       "        vertical-align: top;\n",
       "    }\n",
       "\n",
       "    .dataframe thead th {\n",
       "        text-align: right;\n",
       "    }\n",
       "</style>\n",
       "<table border=\"1\" class=\"dataframe\">\n",
       "  <thead>\n",
       "    <tr style=\"text-align: right;\">\n",
       "      <th></th>\n",
       "      <th>uid</th>\n",
       "      <th>r_ui</th>\n",
       "      <th>est</th>\n",
       "      <th>details</th>\n",
       "    </tr>\n",
       "    <tr>\n",
       "      <th>iid</th>\n",
       "      <th></th>\n",
       "      <th></th>\n",
       "      <th></th>\n",
       "      <th></th>\n",
       "    </tr>\n",
       "  </thead>\n",
       "  <tbody>\n",
       "    <tr>\n",
       "      <th>The Haunted Graveyard</th>\n",
       "      <td>76561198141485825</td>\n",
       "      <td>5</td>\n",
       "      <td>2.455778</td>\n",
       "      <td>{'was_impossible': False}</td>\n",
       "    </tr>\n",
       "    <tr>\n",
       "      <th>Hiveswap Friendsim - Volume Nine</th>\n",
       "      <td>76561198141485825</td>\n",
       "      <td>5</td>\n",
       "      <td>2.436461</td>\n",
       "      <td>{'was_impossible': False}</td>\n",
       "    </tr>\n",
       "    <tr>\n",
       "      <th>NARUTO SHIPPUDEN: Ultimate Ninja STORM Revolution- DLC3 Summer Cloth Pack</th>\n",
       "      <td>76561198141485825</td>\n",
       "      <td>5</td>\n",
       "      <td>2.428880</td>\n",
       "      <td>{'was_impossible': False}</td>\n",
       "    </tr>\n",
       "    <tr>\n",
       "      <th>Dead End Junction</th>\n",
       "      <td>76561198141485825</td>\n",
       "      <td>5</td>\n",
       "      <td>2.414303</td>\n",
       "      <td>{'was_impossible': False}</td>\n",
       "    </tr>\n",
       "    <tr>\n",
       "      <th>Caliper</th>\n",
       "      <td>76561198141485825</td>\n",
       "      <td>5</td>\n",
       "      <td>2.413487</td>\n",
       "      <td>{'was_impossible': False}</td>\n",
       "    </tr>\n",
       "    <tr>\n",
       "      <th>3DMark Fire Strike benchmark</th>\n",
       "      <td>76561198141485825</td>\n",
       "      <td>5</td>\n",
       "      <td>2.408227</td>\n",
       "      <td>{'was_impossible': False}</td>\n",
       "    </tr>\n",
       "    <tr>\n",
       "      <th>Tomb Raider: Hitman Gun - Agency SPS 12</th>\n",
       "      <td>76561198141485825</td>\n",
       "      <td>5</td>\n",
       "      <td>2.408033</td>\n",
       "      <td>{'was_impossible': False}</td>\n",
       "    </tr>\n",
       "    <tr>\n",
       "      <th>Abandoned Backpack</th>\n",
       "      <td>76561198141485825</td>\n",
       "      <td>5</td>\n",
       "      <td>2.393985</td>\n",
       "      <td>{'was_impossible': False}</td>\n",
       "    </tr>\n",
       "    <tr>\n",
       "      <th>Lunapark VR</th>\n",
       "      <td>76561198141485825</td>\n",
       "      <td>5</td>\n",
       "      <td>2.390232</td>\n",
       "      <td>{'was_impossible': False}</td>\n",
       "    </tr>\n",
       "    <tr>\n",
       "      <th>Galactic Gallery</th>\n",
       "      <td>76561198141485825</td>\n",
       "      <td>5</td>\n",
       "      <td>2.389202</td>\n",
       "      <td>{'was_impossible': False}</td>\n",
       "    </tr>\n",
       "  </tbody>\n",
       "</table>\n",
       "</div>"
      ],
      "text/plain": [
       "                                                                  uid  r_ui  \\\n",
       "iid                                                                           \n",
       "The Haunted Graveyard                               76561198141485825     5   \n",
       "Hiveswap Friendsim - Volume Nine                    76561198141485825     5   \n",
       "NARUTO SHIPPUDEN: Ultimate Ninja STORM Revoluti...  76561198141485825     5   \n",
       "Dead End Junction                                   76561198141485825     5   \n",
       "Caliper                                             76561198141485825     5   \n",
       "3DMark Fire Strike benchmark                        76561198141485825     5   \n",
       "Tomb Raider: Hitman Gun - Agency SPS 12             76561198141485825     5   \n",
       "Abandoned Backpack                                  76561198141485825     5   \n",
       "Lunapark VR                                         76561198141485825     5   \n",
       "Galactic Gallery                                    76561198141485825     5   \n",
       "\n",
       "                                                         est  \\\n",
       "iid                                                            \n",
       "The Haunted Graveyard                               2.455778   \n",
       "Hiveswap Friendsim - Volume Nine                    2.436461   \n",
       "NARUTO SHIPPUDEN: Ultimate Ninja STORM Revoluti...  2.428880   \n",
       "Dead End Junction                                   2.414303   \n",
       "Caliper                                             2.413487   \n",
       "3DMark Fire Strike benchmark                        2.408227   \n",
       "Tomb Raider: Hitman Gun - Agency SPS 12             2.408033   \n",
       "Abandoned Backpack                                  2.393985   \n",
       "Lunapark VR                                         2.390232   \n",
       "Galactic Gallery                                    2.389202   \n",
       "\n",
       "                                                                      details  \n",
       "iid                                                                            \n",
       "The Haunted Graveyard                               {'was_impossible': False}  \n",
       "Hiveswap Friendsim - Volume Nine                    {'was_impossible': False}  \n",
       "NARUTO SHIPPUDEN: Ultimate Ninja STORM Revoluti...  {'was_impossible': False}  \n",
       "Dead End Junction                                   {'was_impossible': False}  \n",
       "Caliper                                             {'was_impossible': False}  \n",
       "3DMark Fire Strike benchmark                        {'was_impossible': False}  \n",
       "Tomb Raider: Hitman Gun - Agency SPS 12             {'was_impossible': False}  \n",
       "Abandoned Backpack                                  {'was_impossible': False}  \n",
       "Lunapark VR                                         {'was_impossible': False}  \n",
       "Galactic Gallery                                    {'was_impossible': False}  "
      ]
     },
     "execution_count": 60,
     "metadata": {},
     "output_type": "execute_result"
    }
   ],
   "source": [
    "top10"
   ]
  },
  {
   "cell_type": "code",
   "execution_count": 61,
   "metadata": {},
   "outputs": [
    {
     "name": "stdout",
     "output_type": "stream",
     "text": [
      "Based on what other players are playing a lot, here are some of the games you may like.\n",
      "                                           Game Name  \\\n",
      "0                              The Haunted Graveyard   \n",
      "1                   Hiveswap Friendsim - Volume Nine   \n",
      "2  NARUTO SHIPPUDEN: Ultimate Ninja STORM Revolut...   \n",
      "3                                  Dead End Junction   \n",
      "4                                            Caliper   \n",
      "5                       3DMark Fire Strike benchmark   \n",
      "6            Tomb Raider: Hitman Gun - Agency SPS 12   \n",
      "7                                 Abandoned Backpack   \n",
      "8                                        Lunapark VR   \n",
      "9                                   Galactic Gallery   \n",
      "\n",
      "                                  Store page  \n",
      "0  https://store.steampowered.com/app/931930  \n",
      "1  https://store.steampowered.com/app/913810  \n",
      "2  https://store.steampowered.com/app/301892  \n",
      "3  https://store.steampowered.com/app/518280  \n",
      "4  https://store.steampowered.com/app/581840  \n",
      "5  https://store.steampowered.com/app/402290  \n",
      "6  https://store.steampowered.com/app/208796  \n",
      "7  https://store.steampowered.com/app/506040  \n",
      "8  https://store.steampowered.com/app/812770  \n",
      "9  https://store.steampowered.com/app/631810  \n"
     ]
    }
   ],
   "source": [
    "print(\"Based on what other players are playing a lot, here are some of the games you may like.\")\n",
    "print(pd.DataFrame(recommended_games,columns=[\"Game Name\",\"Store page\"]))"
   ]
  },
  {
   "cell_type": "code",
   "execution_count": null,
   "metadata": {},
   "outputs": [],
   "source": []
  }
 ],
 "metadata": {
  "kernelspec": {
   "display_name": "Python 3",
   "language": "python",
   "name": "python3"
  },
  "language_info": {
   "codemirror_mode": {
    "name": "ipython",
    "version": 3
   },
   "file_extension": ".py",
   "mimetype": "text/x-python",
   "name": "python",
   "nbconvert_exporter": "python",
   "pygments_lexer": "ipython3",
   "version": "3.6.8"
  }
 },
 "nbformat": 4,
 "nbformat_minor": 2
}
