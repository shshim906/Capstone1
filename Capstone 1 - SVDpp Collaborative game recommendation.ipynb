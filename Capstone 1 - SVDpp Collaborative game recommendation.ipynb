{
 "cells": [
  {
   "cell_type": "markdown",
   "metadata": {},
   "source": [
    "## The purpose of the Capstone 1 project is to provide a list of recommendation to a gamer so that they may find new games that will interest them."
   ]
  },
  {
   "cell_type": "markdown",
   "metadata": {},
   "source": [
    "\"SVDpp Collaborative game recommendation\" will use SVD++ algorithm to provide a list of reommendation for people who are new to the website and therefore has no prior data on the purchase or playtime"
   ]
  },
  {
   "cell_type": "markdown",
   "metadata": {},
   "source": [
    "Cleaned game review data is imported from the pickle file"
   ]
  },
  {
   "cell_type": "code",
   "execution_count": 1,
   "metadata": {},
   "outputs": [],
   "source": [
    "import pickle\n",
    "file_name='cleaned_review_w_language.p'\n",
    "loaded_df=pickle.load(open(file_name,\"rb\"))\n",
    "steamapp_dict=pickle.load(open(\"steam.p\",\"rb\"))"
   ]
  },
  {
   "cell_type": "code",
   "execution_count": 2,
   "metadata": {},
   "outputs": [
    {
     "data": {
      "text/html": [
       "<div>\n",
       "<style scoped>\n",
       "    .dataframe tbody tr th:only-of-type {\n",
       "        vertical-align: middle;\n",
       "    }\n",
       "\n",
       "    .dataframe tbody tr th {\n",
       "        vertical-align: top;\n",
       "    }\n",
       "\n",
       "    .dataframe thead th {\n",
       "        text-align: right;\n",
       "    }\n",
       "</style>\n",
       "<table border=\"1\" class=\"dataframe\">\n",
       "  <thead>\n",
       "    <tr style=\"text-align: right;\">\n",
       "      <th></th>\n",
       "      <th>author</th>\n",
       "      <th>review</th>\n",
       "      <th>game_name</th>\n",
       "      <th>detected_lang</th>\n",
       "      <th>review_sentiment</th>\n",
       "      <th>recommend</th>\n",
       "    </tr>\n",
       "  </thead>\n",
       "  <tbody>\n",
       "    <tr>\n",
       "      <th>0</th>\n",
       "      <td>76561198148038447</td>\n",
       "      <td>Fun! Recommend to purchase.</td>\n",
       "      <td>HalloweenStory</td>\n",
       "      <td>en</td>\n",
       "      <td>3</td>\n",
       "      <td>True</td>\n",
       "    </tr>\n",
       "    <tr>\n",
       "      <th>1</th>\n",
       "      <td>76561198232717920</td>\n",
       "      <td>HalloweenStory is an absolutely lovely game. A...</td>\n",
       "      <td>HalloweenStory</td>\n",
       "      <td>en</td>\n",
       "      <td>3</td>\n",
       "      <td>True</td>\n",
       "    </tr>\n",
       "    <tr>\n",
       "      <th>2</th>\n",
       "      <td>76561198298049420</td>\n",
       "      <td>This game is a very 2d original game simple an...</td>\n",
       "      <td>HalloweenStory</td>\n",
       "      <td>en</td>\n",
       "      <td>2</td>\n",
       "      <td>True</td>\n",
       "    </tr>\n",
       "    <tr>\n",
       "      <th>3</th>\n",
       "      <td>76561198893127406</td>\n",
       "      <td>I had a lot of fun playing this game =)</td>\n",
       "      <td>HalloweenStory</td>\n",
       "      <td>en</td>\n",
       "      <td>2</td>\n",
       "      <td>True</td>\n",
       "    </tr>\n",
       "    <tr>\n",
       "      <th>4</th>\n",
       "      <td>76561198071547702</td>\n",
       "      <td>Not bad at all.\\nGameplay is great.</td>\n",
       "      <td>HalloweenStory</td>\n",
       "      <td>en</td>\n",
       "      <td>3</td>\n",
       "      <td>True</td>\n",
       "    </tr>\n",
       "  </tbody>\n",
       "</table>\n",
       "</div>"
      ],
      "text/plain": [
       "              author                                             review  \\\n",
       "0  76561198148038447                        Fun! Recommend to purchase.   \n",
       "1  76561198232717920  HalloweenStory is an absolutely lovely game. A...   \n",
       "2  76561198298049420  This game is a very 2d original game simple an...   \n",
       "3  76561198893127406            I had a lot of fun playing this game =)   \n",
       "4  76561198071547702                Not bad at all.\\nGameplay is great.   \n",
       "\n",
       "        game_name detected_lang  review_sentiment recommend  \n",
       "0  HalloweenStory            en                 3      True  \n",
       "1  HalloweenStory            en                 3      True  \n",
       "2  HalloweenStory            en                 2      True  \n",
       "3  HalloweenStory            en                 2      True  \n",
       "4  HalloweenStory            en                 3      True  "
      ]
     },
     "execution_count": 2,
     "metadata": {},
     "output_type": "execute_result"
    }
   ],
   "source": [
    "loaded_df.head()"
   ]
  },
  {
   "cell_type": "code",
   "execution_count": 3,
   "metadata": {},
   "outputs": [],
   "source": [
    "loaded_df=loaded_df.drop_duplicates()"
   ]
  },
  {
   "cell_type": "markdown",
   "metadata": {},
   "source": [
    "SVD++ algorithm from \"surprise\" library requires rating system to be in place. We will use the sentiment value acquired from data cleaning process for this purpose."
   ]
  },
  {
   "cell_type": "code",
   "execution_count": 4,
   "metadata": {},
   "outputs": [],
   "source": [
    "from surprise import *"
   ]
  },
  {
   "cell_type": "code",
   "execution_count": 5,
   "metadata": {},
   "outputs": [],
   "source": [
    "# Surprise takes user, item, and rating as input\n",
    "df=loaded_df[['author','game_name','review_sentiment']]"
   ]
  },
  {
   "cell_type": "code",
   "execution_count": 6,
   "metadata": {},
   "outputs": [
    {
     "name": "stdout",
     "output_type": "stream",
     "text": [
      "The original data frame shape:\t(80774, 3)\n",
      "The new data frame shape:\t(5556, 3)\n"
     ]
    }
   ],
   "source": [
    "# Only take games that have more than 5 reviews into consideration \n",
    "min_games_review = 5\n",
    "filter_games = df['game_name'].value_counts() > min_games_review\n",
    "filter_games = filter_games[filter_games].index.tolist()\n",
    "\n",
    "# Only take users that left more than 5 reviews into consideration \n",
    "min_user_review = 5\n",
    "filter_users = df['author'].value_counts() > min_user_review\n",
    "filter_users = filter_users[filter_users].index.tolist()\n",
    "\n",
    "df_new = df[(df['game_name'].isin(filter_games)) & (df['author'].isin(filter_users))]\n",
    "print('The original data frame shape:\\t{}'.format(df.shape))\n",
    "print('The new data frame shape:\\t{}'.format(df_new.shape))"
   ]
  },
  {
   "cell_type": "code",
   "execution_count": 7,
   "metadata": {},
   "outputs": [],
   "source": [
    "# Make the reader and data form\n",
    "reader = Reader(rating_scale=(0, 4))\n",
    "data = Dataset.load_from_df(df_new, reader)"
   ]
  },
  {
   "cell_type": "code",
   "execution_count": 8,
   "metadata": {},
   "outputs": [
    {
     "data": {
      "text/plain": [
       "{'test_rmse': array([0.47374817, 0.47048946, 0.45769192, 0.46365704, 0.45702226]),\n",
       " 'fit_time': (1.6707384586334229,\n",
       "  1.6787152290344238,\n",
       "  1.646404504776001,\n",
       "  1.6372699737548828,\n",
       "  1.5959398746490479),\n",
       " 'test_time': (0.034227609634399414,\n",
       "  0.0342864990234375,\n",
       "  0.03055548667907715,\n",
       "  0.03358936309814453,\n",
       "  0.03349947929382324)}"
      ]
     },
     "execution_count": 8,
     "metadata": {},
     "output_type": "execute_result"
    }
   ],
   "source": [
    "from surprise.model_selection import cross_validate\n",
    "svdmodel=SVDpp()\n",
    "cross_validate(svdmodel,data,measures=['RMSE'],cv=5,verbose=False)"
   ]
  },
  {
   "cell_type": "code",
   "execution_count": 9,
   "metadata": {},
   "outputs": [
    {
     "data": {
      "text/plain": [
       "{'test_rmse': array([0.4763701 , 0.45797393, 0.45855586, 0.48636563, 0.47880639]),\n",
       " 'fit_time': (0.5190539360046387,\n",
       "  0.5268411636352539,\n",
       "  0.5162832736968994,\n",
       "  0.5177481174468994,\n",
       "  0.5273239612579346),\n",
       " 'test_time': (0.012238264083862305,\n",
       "  0.012729406356811523,\n",
       "  0.011989116668701172,\n",
       "  0.012176513671875,\n",
       "  0.012270689010620117)}"
      ]
     },
     "execution_count": 9,
     "metadata": {},
     "output_type": "execute_result"
    }
   ],
   "source": [
    "from surprise.model_selection import cross_validate\n",
    "slopemodel=SVD()\n",
    "cross_validate(slopemodel,data,measures=['RMSE'],cv=5,verbose=False)"
   ]
  },
  {
   "cell_type": "code",
   "execution_count": 10,
   "metadata": {},
   "outputs": [],
   "source": [
    "from surprise.model_selection import train_test_split\n",
    "trainset,testset=train_test_split(data,test_size=0.3)"
   ]
  },
  {
   "cell_type": "code",
   "execution_count": 11,
   "metadata": {},
   "outputs": [
    {
     "name": "stdout",
     "output_type": "stream",
     "text": [
      "RMSE: 0.4631\n"
     ]
    },
    {
     "data": {
      "text/plain": [
       "0.46313177628596003"
      ]
     },
     "execution_count": 11,
     "metadata": {},
     "output_type": "execute_result"
    }
   ],
   "source": [
    "from surprise import accuracy\n",
    "model=svdmodel.fit(trainset)\n",
    "predict1=model.test(testset)\n",
    "accuracy.rmse(predict1)"
   ]
  },
  {
   "cell_type": "code",
   "execution_count": 12,
   "metadata": {},
   "outputs": [],
   "source": [
    "import pandas as pd\n",
    "predict_df=pd.DataFrame(predict1)\n",
    "predict_df['err'] = abs(predict_df.est - predict_df.r_ui)\n",
    "best_predictions = predict_df.sort_values(by='err')[:10]\n",
    "worst_predictions = predict_df.sort_values(by='err')[-10:]"
   ]
  },
  {
   "cell_type": "code",
   "execution_count": 13,
   "metadata": {},
   "outputs": [
    {
     "data": {
      "text/html": [
       "<div>\n",
       "<style scoped>\n",
       "    .dataframe tbody tr th:only-of-type {\n",
       "        vertical-align: middle;\n",
       "    }\n",
       "\n",
       "    .dataframe tbody tr th {\n",
       "        vertical-align: top;\n",
       "    }\n",
       "\n",
       "    .dataframe thead th {\n",
       "        text-align: right;\n",
       "    }\n",
       "</style>\n",
       "<table border=\"1\" class=\"dataframe\">\n",
       "  <thead>\n",
       "    <tr style=\"text-align: right;\">\n",
       "      <th></th>\n",
       "      <th>uid</th>\n",
       "      <th>iid</th>\n",
       "      <th>r_ui</th>\n",
       "      <th>est</th>\n",
       "      <th>details</th>\n",
       "      <th>err</th>\n",
       "    </tr>\n",
       "  </thead>\n",
       "  <tbody>\n",
       "    <tr>\n",
       "      <th>1055</th>\n",
       "      <td>76561198025825159</td>\n",
       "      <td>Z69</td>\n",
       "      <td>2.0</td>\n",
       "      <td>1.999848</td>\n",
       "      <td>{'was_impossible': False}</td>\n",
       "      <td>0.000152</td>\n",
       "    </tr>\n",
       "    <tr>\n",
       "      <th>962</th>\n",
       "      <td>76561198066590240</td>\n",
       "      <td>Rift Coaster HD Remastered VR</td>\n",
       "      <td>2.0</td>\n",
       "      <td>2.000162</td>\n",
       "      <td>{'was_impossible': False}</td>\n",
       "      <td>0.000162</td>\n",
       "    </tr>\n",
       "    <tr>\n",
       "      <th>18</th>\n",
       "      <td>76561198019388720</td>\n",
       "      <td>DeerHunterX</td>\n",
       "      <td>2.0</td>\n",
       "      <td>2.000180</td>\n",
       "      <td>{'was_impossible': False}</td>\n",
       "      <td>0.000180</td>\n",
       "    </tr>\n",
       "    <tr>\n",
       "      <th>1270</th>\n",
       "      <td>76561198028673669</td>\n",
       "      <td>Mad Arkanoid</td>\n",
       "      <td>2.0</td>\n",
       "      <td>1.999740</td>\n",
       "      <td>{'was_impossible': False}</td>\n",
       "      <td>0.000260</td>\n",
       "    </tr>\n",
       "    <tr>\n",
       "      <th>748</th>\n",
       "      <td>76561197999151078</td>\n",
       "      <td>War Operations</td>\n",
       "      <td>2.0</td>\n",
       "      <td>2.000480</td>\n",
       "      <td>{'was_impossible': False}</td>\n",
       "      <td>0.000480</td>\n",
       "    </tr>\n",
       "    <tr>\n",
       "      <th>106</th>\n",
       "      <td>76561198094803808</td>\n",
       "      <td>Dungeon Defenders Halloween Costume Pack</td>\n",
       "      <td>2.0</td>\n",
       "      <td>1.999302</td>\n",
       "      <td>{'was_impossible': False}</td>\n",
       "      <td>0.000698</td>\n",
       "    </tr>\n",
       "    <tr>\n",
       "      <th>895</th>\n",
       "      <td>76561198139328230</td>\n",
       "      <td>Pyrite Heart</td>\n",
       "      <td>2.0</td>\n",
       "      <td>2.000753</td>\n",
       "      <td>{'was_impossible': False}</td>\n",
       "      <td>0.000753</td>\n",
       "    </tr>\n",
       "    <tr>\n",
       "      <th>1313</th>\n",
       "      <td>76561198137285867</td>\n",
       "      <td>ShapeShifter</td>\n",
       "      <td>2.0</td>\n",
       "      <td>2.000803</td>\n",
       "      <td>{'was_impossible': False}</td>\n",
       "      <td>0.000803</td>\n",
       "    </tr>\n",
       "    <tr>\n",
       "      <th>1017</th>\n",
       "      <td>76561197969752619</td>\n",
       "      <td>The Flying Dutchman</td>\n",
       "      <td>2.0</td>\n",
       "      <td>2.000882</td>\n",
       "      <td>{'was_impossible': False}</td>\n",
       "      <td>0.000882</td>\n",
       "    </tr>\n",
       "    <tr>\n",
       "      <th>1451</th>\n",
       "      <td>76561197969752619</td>\n",
       "      <td>Cranky Cat</td>\n",
       "      <td>2.0</td>\n",
       "      <td>2.000882</td>\n",
       "      <td>{'was_impossible': False}</td>\n",
       "      <td>0.000882</td>\n",
       "    </tr>\n",
       "  </tbody>\n",
       "</table>\n",
       "</div>"
      ],
      "text/plain": [
       "                    uid                                       iid  r_ui  \\\n",
       "1055  76561198025825159                                       Z69   2.0   \n",
       "962   76561198066590240             Rift Coaster HD Remastered VR   2.0   \n",
       "18    76561198019388720                               DeerHunterX   2.0   \n",
       "1270  76561198028673669                              Mad Arkanoid   2.0   \n",
       "748   76561197999151078                            War Operations   2.0   \n",
       "106   76561198094803808  Dungeon Defenders Halloween Costume Pack   2.0   \n",
       "895   76561198139328230                              Pyrite Heart   2.0   \n",
       "1313  76561198137285867                              ShapeShifter   2.0   \n",
       "1017  76561197969752619                       The Flying Dutchman   2.0   \n",
       "1451  76561197969752619                                Cranky Cat   2.0   \n",
       "\n",
       "           est                    details       err  \n",
       "1055  1.999848  {'was_impossible': False}  0.000152  \n",
       "962   2.000162  {'was_impossible': False}  0.000162  \n",
       "18    2.000180  {'was_impossible': False}  0.000180  \n",
       "1270  1.999740  {'was_impossible': False}  0.000260  \n",
       "748   2.000480  {'was_impossible': False}  0.000480  \n",
       "106   1.999302  {'was_impossible': False}  0.000698  \n",
       "895   2.000753  {'was_impossible': False}  0.000753  \n",
       "1313  2.000803  {'was_impossible': False}  0.000803  \n",
       "1017  2.000882  {'was_impossible': False}  0.000882  \n",
       "1451  2.000882  {'was_impossible': False}  0.000882  "
      ]
     },
     "execution_count": 13,
     "metadata": {},
     "output_type": "execute_result"
    }
   ],
   "source": [
    "best_predictions"
   ]
  },
  {
   "cell_type": "code",
   "execution_count": 14,
   "metadata": {},
   "outputs": [
    {
     "data": {
      "text/html": [
       "<div>\n",
       "<style scoped>\n",
       "    .dataframe tbody tr th:only-of-type {\n",
       "        vertical-align: middle;\n",
       "    }\n",
       "\n",
       "    .dataframe tbody tr th {\n",
       "        vertical-align: top;\n",
       "    }\n",
       "\n",
       "    .dataframe thead th {\n",
       "        text-align: right;\n",
       "    }\n",
       "</style>\n",
       "<table border=\"1\" class=\"dataframe\">\n",
       "  <thead>\n",
       "    <tr style=\"text-align: right;\">\n",
       "      <th></th>\n",
       "      <th>uid</th>\n",
       "      <th>iid</th>\n",
       "      <th>r_ui</th>\n",
       "      <th>est</th>\n",
       "      <th>details</th>\n",
       "      <th>err</th>\n",
       "    </tr>\n",
       "  </thead>\n",
       "  <tbody>\n",
       "    <tr>\n",
       "      <th>225</th>\n",
       "      <td>76561197971880699</td>\n",
       "      <td>Panzer Corps: Afrika Korps</td>\n",
       "      <td>4.0</td>\n",
       "      <td>2.269766</td>\n",
       "      <td>{'was_impossible': False}</td>\n",
       "      <td>1.730234</td>\n",
       "    </tr>\n",
       "    <tr>\n",
       "      <th>1039</th>\n",
       "      <td>76561198254317898</td>\n",
       "      <td>The Grand Canyon VR Experience</td>\n",
       "      <td>4.0</td>\n",
       "      <td>2.235387</td>\n",
       "      <td>{'was_impossible': False}</td>\n",
       "      <td>1.764613</td>\n",
       "    </tr>\n",
       "    <tr>\n",
       "      <th>1249</th>\n",
       "      <td>76561198135143088</td>\n",
       "      <td>Chicken Labyrinth Puzzles</td>\n",
       "      <td>4.0</td>\n",
       "      <td>2.199966</td>\n",
       "      <td>{'was_impossible': False}</td>\n",
       "      <td>1.800034</td>\n",
       "    </tr>\n",
       "    <tr>\n",
       "      <th>1428</th>\n",
       "      <td>76561198165965131</td>\n",
       "      <td>Hyperdimension Neptunia Re;Birth3 Deluxe Pack</td>\n",
       "      <td>4.0</td>\n",
       "      <td>2.178301</td>\n",
       "      <td>{'was_impossible': False}</td>\n",
       "      <td>1.821699</td>\n",
       "    </tr>\n",
       "    <tr>\n",
       "      <th>1305</th>\n",
       "      <td>76561198125100728</td>\n",
       "      <td>NARUTO SHIPPUDEN: Ultimate Ninja STORM Revolut...</td>\n",
       "      <td>4.0</td>\n",
       "      <td>2.114523</td>\n",
       "      <td>{'was_impossible': False}</td>\n",
       "      <td>1.885477</td>\n",
       "    </tr>\n",
       "    <tr>\n",
       "      <th>1057</th>\n",
       "      <td>76561198172055451</td>\n",
       "      <td>Time Clickers</td>\n",
       "      <td>4.0</td>\n",
       "      <td>2.104951</td>\n",
       "      <td>{'was_impossible': False}</td>\n",
       "      <td>1.895049</td>\n",
       "    </tr>\n",
       "    <tr>\n",
       "      <th>1611</th>\n",
       "      <td>76561198381798216</td>\n",
       "      <td>Tactical Soccer The New Season</td>\n",
       "      <td>4.0</td>\n",
       "      <td>2.097877</td>\n",
       "      <td>{'was_impossible': False}</td>\n",
       "      <td>1.902123</td>\n",
       "    </tr>\n",
       "    <tr>\n",
       "      <th>1202</th>\n",
       "      <td>76561198067136654</td>\n",
       "      <td>Mercury: Cascade into Madness</td>\n",
       "      <td>4.0</td>\n",
       "      <td>2.014696</td>\n",
       "      <td>{'was_impossible': False}</td>\n",
       "      <td>1.985304</td>\n",
       "    </tr>\n",
       "    <tr>\n",
       "      <th>1331</th>\n",
       "      <td>76561197965049785</td>\n",
       "      <td>Total War: ROME II - Greek States Culture Pack</td>\n",
       "      <td>0.0</td>\n",
       "      <td>2.053866</td>\n",
       "      <td>{'was_impossible': False}</td>\n",
       "      <td>2.053866</td>\n",
       "    </tr>\n",
       "    <tr>\n",
       "      <th>1417</th>\n",
       "      <td>76561197982288410</td>\n",
       "      <td>Mad-Sector</td>\n",
       "      <td>4.0</td>\n",
       "      <td>1.899756</td>\n",
       "      <td>{'was_impossible': False}</td>\n",
       "      <td>2.100244</td>\n",
       "    </tr>\n",
       "  </tbody>\n",
       "</table>\n",
       "</div>"
      ],
      "text/plain": [
       "                    uid                                                iid  \\\n",
       "225   76561197971880699                         Panzer Corps: Afrika Korps   \n",
       "1039  76561198254317898                     The Grand Canyon VR Experience   \n",
       "1249  76561198135143088                          Chicken Labyrinth Puzzles   \n",
       "1428  76561198165965131      Hyperdimension Neptunia Re;Birth3 Deluxe Pack   \n",
       "1305  76561198125100728  NARUTO SHIPPUDEN: Ultimate Ninja STORM Revolut...   \n",
       "1057  76561198172055451                                      Time Clickers   \n",
       "1611  76561198381798216                     Tactical Soccer The New Season   \n",
       "1202  76561198067136654                      Mercury: Cascade into Madness   \n",
       "1331  76561197965049785     Total War: ROME II - Greek States Culture Pack   \n",
       "1417  76561197982288410                                         Mad-Sector   \n",
       "\n",
       "      r_ui       est                    details       err  \n",
       "225    4.0  2.269766  {'was_impossible': False}  1.730234  \n",
       "1039   4.0  2.235387  {'was_impossible': False}  1.764613  \n",
       "1249   4.0  2.199966  {'was_impossible': False}  1.800034  \n",
       "1428   4.0  2.178301  {'was_impossible': False}  1.821699  \n",
       "1305   4.0  2.114523  {'was_impossible': False}  1.885477  \n",
       "1057   4.0  2.104951  {'was_impossible': False}  1.895049  \n",
       "1611   4.0  2.097877  {'was_impossible': False}  1.902123  \n",
       "1202   4.0  2.014696  {'was_impossible': False}  1.985304  \n",
       "1331   0.0  2.053866  {'was_impossible': False}  2.053866  \n",
       "1417   4.0  1.899756  {'was_impossible': False}  2.100244  "
      ]
     },
     "execution_count": 14,
     "metadata": {},
     "output_type": "execute_result"
    }
   ],
   "source": [
    "worst_predictions"
   ]
  },
  {
   "cell_type": "code",
   "execution_count": 15,
   "metadata": {},
   "outputs": [],
   "source": [
    "test_id='76561198141485825'\n",
    "pred=model.predict(uid=test_id,iid=\"Fallout 4\")\n",
    "score=pred.est"
   ]
  },
  {
   "cell_type": "code",
   "execution_count": 16,
   "metadata": {},
   "outputs": [],
   "source": [
    "import requests\n",
    "# Get all the games that the player played\n",
    "def getownedgames(idnum):\n",
    "    \"\"\"Takes the id number of a steam user and returns the id num of games they own\"\"\"\n",
    "    url='http://api.steampowered.com/IPlayerService/GetOwnedGames/v0001/?key=3A629E52AE594CB777253431189F2967&steamid={}&format=json'.format(idnum)\n",
    "    r=requests.get(url)\n",
    "    json_data=r.json()\n",
    "    return json_data"
   ]
  },
  {
   "cell_type": "code",
   "execution_count": 17,
   "metadata": {},
   "outputs": [],
   "source": [
    "def rawplayergamelist(_id):\n",
    "    gamelist=getownedgames(_id)['response']['games']\n",
    "    return gamelist"
   ]
  },
  {
   "cell_type": "code",
   "execution_count": 18,
   "metadata": {},
   "outputs": [],
   "source": [
    "testperson=rawplayergamelist(test_id)"
   ]
  },
  {
   "cell_type": "code",
   "execution_count": 19,
   "metadata": {},
   "outputs": [],
   "source": [
    "testids=list()\n",
    "testplaytimes=list()\n",
    "for i in range(len(testperson)):\n",
    "    testids.append(testperson[i]['appid'])\n",
    "    testplaytimes.append(testperson[i]['playtime_forever'])"
   ]
  },
  {
   "cell_type": "code",
   "execution_count": 20,
   "metadata": {},
   "outputs": [],
   "source": [
    "import pandas as pd"
   ]
  },
  {
   "cell_type": "code",
   "execution_count": 21,
   "metadata": {},
   "outputs": [],
   "source": [
    "test_df=pd.DataFrame(list(zip(testids,testplaytimes)),columns=['ids','playtime']).sort_values('playtime',ascending=False)\n",
    "playedgame_name=list()\n",
    "for id_ in test_df['ids']:\n",
    "    name=steamapp_dict.get(id_)\n",
    "    playedgame_name.append(name)\n",
    "test_df['name']=playedgame_name"
   ]
  },
  {
   "cell_type": "code",
   "execution_count": 22,
   "metadata": {},
   "outputs": [],
   "source": [
    "tests=[[test_id,iid,5] for iid in predict_df[\"iid\"].unique().tolist()]\n",
    "predictions=model.test(tests)\n",
    "pred_df=pd.DataFrame(predictions)"
   ]
  },
  {
   "cell_type": "code",
   "execution_count": 23,
   "metadata": {},
   "outputs": [
    {
     "data": {
      "text/html": [
       "<div>\n",
       "<style scoped>\n",
       "    .dataframe tbody tr th:only-of-type {\n",
       "        vertical-align: middle;\n",
       "    }\n",
       "\n",
       "    .dataframe tbody tr th {\n",
       "        vertical-align: top;\n",
       "    }\n",
       "\n",
       "    .dataframe thead th {\n",
       "        text-align: right;\n",
       "    }\n",
       "</style>\n",
       "<table border=\"1\" class=\"dataframe\">\n",
       "  <thead>\n",
       "    <tr style=\"text-align: right;\">\n",
       "      <th></th>\n",
       "      <th>uid</th>\n",
       "      <th>iid</th>\n",
       "      <th>r_ui</th>\n",
       "      <th>est</th>\n",
       "      <th>details</th>\n",
       "    </tr>\n",
       "  </thead>\n",
       "  <tbody>\n",
       "    <tr>\n",
       "      <th>0</th>\n",
       "      <td>76561198141485825</td>\n",
       "      <td>Hopalong: The Badlands</td>\n",
       "      <td>5</td>\n",
       "      <td>2.125031</td>\n",
       "      <td>{'was_impossible': False}</td>\n",
       "    </tr>\n",
       "    <tr>\n",
       "      <th>1</th>\n",
       "      <td>76561198141485825</td>\n",
       "      <td>Call of Cthulhu: The Wasted Land</td>\n",
       "      <td>5</td>\n",
       "      <td>2.144767</td>\n",
       "      <td>{'was_impossible': False}</td>\n",
       "    </tr>\n",
       "    <tr>\n",
       "      <th>2</th>\n",
       "      <td>76561198141485825</td>\n",
       "      <td>Soldiers of the Universe</td>\n",
       "      <td>5</td>\n",
       "      <td>2.144767</td>\n",
       "      <td>{'was_impossible': False}</td>\n",
       "    </tr>\n",
       "    <tr>\n",
       "      <th>3</th>\n",
       "      <td>76561198141485825</td>\n",
       "      <td>Winged Sakura: Mindy's Arc</td>\n",
       "      <td>5</td>\n",
       "      <td>2.022337</td>\n",
       "      <td>{'was_impossible': False}</td>\n",
       "    </tr>\n",
       "    <tr>\n",
       "      <th>4</th>\n",
       "      <td>76561198141485825</td>\n",
       "      <td>OneManVurgeR</td>\n",
       "      <td>5</td>\n",
       "      <td>2.127666</td>\n",
       "      <td>{'was_impossible': False}</td>\n",
       "    </tr>\n",
       "    <tr>\n",
       "      <th>5</th>\n",
       "      <td>76561198141485825</td>\n",
       "      <td>Bloop</td>\n",
       "      <td>5</td>\n",
       "      <td>2.144767</td>\n",
       "      <td>{'was_impossible': False}</td>\n",
       "    </tr>\n",
       "    <tr>\n",
       "      <th>6</th>\n",
       "      <td>76561198141485825</td>\n",
       "      <td>Tree of Life - Upgrade to Adventurer</td>\n",
       "      <td>5</td>\n",
       "      <td>2.144767</td>\n",
       "      <td>{'was_impossible': False}</td>\n",
       "    </tr>\n",
       "    <tr>\n",
       "      <th>7</th>\n",
       "      <td>76561198141485825</td>\n",
       "      <td>Fallen Legion+</td>\n",
       "      <td>5</td>\n",
       "      <td>2.144767</td>\n",
       "      <td>{'was_impossible': False}</td>\n",
       "    </tr>\n",
       "    <tr>\n",
       "      <th>8</th>\n",
       "      <td>76561198141485825</td>\n",
       "      <td>Command HQ</td>\n",
       "      <td>5</td>\n",
       "      <td>2.144767</td>\n",
       "      <td>{'was_impossible': False}</td>\n",
       "    </tr>\n",
       "    <tr>\n",
       "      <th>9</th>\n",
       "      <td>76561198141485825</td>\n",
       "      <td>Mythos: The Beginning</td>\n",
       "      <td>5</td>\n",
       "      <td>2.144767</td>\n",
       "      <td>{'was_impossible': False}</td>\n",
       "    </tr>\n",
       "  </tbody>\n",
       "</table>\n",
       "</div>"
      ],
      "text/plain": [
       "                 uid                                   iid  r_ui       est  \\\n",
       "0  76561198141485825                Hopalong: The Badlands     5  2.125031   \n",
       "1  76561198141485825      Call of Cthulhu: The Wasted Land     5  2.144767   \n",
       "2  76561198141485825              Soldiers of the Universe     5  2.144767   \n",
       "3  76561198141485825            Winged Sakura: Mindy's Arc     5  2.022337   \n",
       "4  76561198141485825                          OneManVurgeR     5  2.127666   \n",
       "5  76561198141485825                                 Bloop     5  2.144767   \n",
       "6  76561198141485825  Tree of Life - Upgrade to Adventurer     5  2.144767   \n",
       "7  76561198141485825                        Fallen Legion+     5  2.144767   \n",
       "8  76561198141485825                            Command HQ     5  2.144767   \n",
       "9  76561198141485825                 Mythos: The Beginning     5  2.144767   \n",
       "\n",
       "                     details  \n",
       "0  {'was_impossible': False}  \n",
       "1  {'was_impossible': False}  \n",
       "2  {'was_impossible': False}  \n",
       "3  {'was_impossible': False}  \n",
       "4  {'was_impossible': False}  \n",
       "5  {'was_impossible': False}  \n",
       "6  {'was_impossible': False}  \n",
       "7  {'was_impossible': False}  \n",
       "8  {'was_impossible': False}  \n",
       "9  {'was_impossible': False}  "
      ]
     },
     "execution_count": 23,
     "metadata": {},
     "output_type": "execute_result"
    }
   ],
   "source": [
    "pred_df.head(10)"
   ]
  },
  {
   "cell_type": "code",
   "execution_count": 24,
   "metadata": {},
   "outputs": [],
   "source": [
    "test_df=pd.DataFrame(list(zip(testids,testplaytimes)),columns=['ids','playtime']).sort_values('playtime',ascending=False)\n",
    "playedgame_name=list()\n",
    "for id_ in test_df['ids']:\n",
    "    name=steamapp_dict.get(id_)\n",
    "    playedgame_name.append(name)"
   ]
  },
  {
   "cell_type": "code",
   "execution_count": 25,
   "metadata": {},
   "outputs": [],
   "source": [
    "removed=[name for name in pred_df['iid'].tolist() if name not in playedgame_name]"
   ]
  },
  {
   "cell_type": "code",
   "execution_count": 26,
   "metadata": {},
   "outputs": [],
   "source": [
    "pred_df=pred_df.set_index(['iid'])"
   ]
  },
  {
   "cell_type": "code",
   "execution_count": 27,
   "metadata": {},
   "outputs": [],
   "source": [
    "finaltop10recommendation=pred_df.loc[removed].sort_values(['est'],ascending=False)[:10]"
   ]
  },
  {
   "cell_type": "code",
   "execution_count": 28,
   "metadata": {},
   "outputs": [
    {
     "name": "stdout",
     "output_type": "stream",
     "text": [
      "Top item for user 76561198141485825 is Hiveswap Friendsim - Volume Three with predicted rating 2.488845812482942\n"
     ]
    }
   ],
   "source": [
    "pred_game=finaltop10recommendation.index[0]\n",
    "pred_rate=finaltop10recommendation['est'][0]\n",
    "print('Top item for user {0} is {1} with predicted rating {2}'.format(test_id,pred_game, pred_rate))"
   ]
  },
  {
   "cell_type": "markdown",
   "metadata": {},
   "source": [
    "Improving the model"
   ]
  },
  {
   "cell_type": "code",
   "execution_count": 29,
   "metadata": {},
   "outputs": [
    {
     "name": "stdout",
     "output_type": "stream",
     "text": [
      "0.01 0.5\n"
     ]
    }
   ],
   "source": [
    "from surprise.model_selection import GridSearchCV\n",
    "param_grid={'lr_all' : [0.0001,.001,.01,.1], 'reg_all':[0.025,.05,.1,.5,.8]}\n",
    "gs=GridSearchCV(SVDpp,param_grid,measures=['rmse','mae'],cv=3)\n",
    "gs.fit(data)\n",
    "print(gs.best_params['rmse']['lr_all'],gs.best_params['rmse']['reg_all'])"
   ]
  },
  {
   "cell_type": "code",
   "execution_count": 30,
   "metadata": {},
   "outputs": [
    {
     "data": {
      "text/plain": [
       "{'rmse': {'lr_all': 0.01, 'reg_all': 0.5},\n",
       " 'mae': {'lr_all': 0.01, 'reg_all': 0.5}}"
      ]
     },
     "execution_count": 30,
     "metadata": {},
     "output_type": "execute_result"
    }
   ],
   "source": [
    "gs.best_params"
   ]
  },
  {
   "cell_type": "code",
   "execution_count": 31,
   "metadata": {},
   "outputs": [
    {
     "name": "stdout",
     "output_type": "stream",
     "text": [
      "Evaluating RMSE, MAE of algorithm SVDpp on 5 split(s).\n",
      "\n",
      "                  Fold 1  Fold 2  Fold 3  Fold 4  Fold 5  Mean    Std     \n",
      "RMSE (testset)    0.4578  0.4498  0.4417  0.4892  0.4819  0.4641  0.0184  \n",
      "MAE (testset)     0.2940  0.2877  0.2865  0.3107  0.3138  0.2985  0.0115  \n",
      "Fit time          1.65    1.62    1.65    1.71    1.70    1.67    0.03    \n",
      "Test time         0.03    0.03    0.03    0.04    0.03    0.03    0.00    \n"
     ]
    },
    {
     "data": {
      "text/plain": [
       "{'test_rmse': array([0.45776181, 0.4498388 , 0.44165264, 0.48924025, 0.481875  ]),\n",
       " 'test_mae': array([0.29400739, 0.28771382, 0.28653406, 0.31065129, 0.31376607]),\n",
       " 'fit_time': (1.6495184898376465,\n",
       "  1.622614860534668,\n",
       "  1.6496880054473877,\n",
       "  1.70644211769104,\n",
       "  1.697782039642334),\n",
       " 'test_time': (0.03345894813537598,\n",
       "  0.03318023681640625,\n",
       "  0.03367424011230469,\n",
       "  0.03507041931152344,\n",
       "  0.03222775459289551)}"
      ]
     },
     "execution_count": 31,
     "metadata": {},
     "output_type": "execute_result"
    }
   ],
   "source": [
    "new_model=SVDpp(lr_all=gs.best_params['rmse']['lr_all'],\n",
    "                reg_all=gs.best_params['rmse']['reg_all'])\n",
    "cross_validate(new_model,data,verbose=True)"
   ]
  },
  {
   "cell_type": "code",
   "execution_count": 32,
   "metadata": {},
   "outputs": [],
   "source": [
    "from surprise.model_selection import train_test_split\n",
    "trainset,testset=train_test_split(data,test_size=0.3)"
   ]
  },
  {
   "cell_type": "code",
   "execution_count": 33,
   "metadata": {},
   "outputs": [
    {
     "name": "stdout",
     "output_type": "stream",
     "text": [
      "RMSE: 0.4938\n"
     ]
    },
    {
     "data": {
      "text/plain": [
       "0.4937689514411917"
      ]
     },
     "execution_count": 33,
     "metadata": {},
     "output_type": "execute_result"
    }
   ],
   "source": [
    "from surprise import accuracy\n",
    "model2=new_model.fit(trainset)\n",
    "predict2=model2.test(testset)\n",
    "accuracy.rmse(predict2)"
   ]
  },
  {
   "cell_type": "code",
   "execution_count": 34,
   "metadata": {},
   "outputs": [],
   "source": [
    "import pandas as pd\n",
    "predict_df2=pd.DataFrame(predict2)\n",
    "predict_df2['err'] = abs(predict_df2.est - predict_df2.r_ui)\n",
    "best_predictions2 = predict_df2.sort_values(by='err')[:10]\n",
    "worst_predictions2 = predict_df2.sort_values(by='err')[-10:]"
   ]
  },
  {
   "cell_type": "code",
   "execution_count": 35,
   "metadata": {},
   "outputs": [
    {
     "data": {
      "text/html": [
       "<div>\n",
       "<style scoped>\n",
       "    .dataframe tbody tr th:only-of-type {\n",
       "        vertical-align: middle;\n",
       "    }\n",
       "\n",
       "    .dataframe tbody tr th {\n",
       "        vertical-align: top;\n",
       "    }\n",
       "\n",
       "    .dataframe thead th {\n",
       "        text-align: right;\n",
       "    }\n",
       "</style>\n",
       "<table border=\"1\" class=\"dataframe\">\n",
       "  <thead>\n",
       "    <tr style=\"text-align: right;\">\n",
       "      <th></th>\n",
       "      <th>uid</th>\n",
       "      <th>iid</th>\n",
       "      <th>r_ui</th>\n",
       "      <th>est</th>\n",
       "      <th>details</th>\n",
       "      <th>err</th>\n",
       "    </tr>\n",
       "  </thead>\n",
       "  <tbody>\n",
       "    <tr>\n",
       "      <th>1238</th>\n",
       "      <td>76561197964604365</td>\n",
       "      <td>→SUMETRICK←</td>\n",
       "      <td>2.0</td>\n",
       "      <td>2.000061</td>\n",
       "      <td>{'was_impossible': False}</td>\n",
       "      <td>0.000061</td>\n",
       "    </tr>\n",
       "    <tr>\n",
       "      <th>392</th>\n",
       "      <td>76561198000561257</td>\n",
       "      <td>Strategy &amp; Tactics: Dark Ages</td>\n",
       "      <td>2.0</td>\n",
       "      <td>2.000176</td>\n",
       "      <td>{'was_impossible': False}</td>\n",
       "      <td>0.000176</td>\n",
       "    </tr>\n",
       "    <tr>\n",
       "      <th>714</th>\n",
       "      <td>76561198005439390</td>\n",
       "      <td>Hyperdimension Neptunia Re;Birth1 New Content ...</td>\n",
       "      <td>2.0</td>\n",
       "      <td>1.999739</td>\n",
       "      <td>{'was_impossible': False}</td>\n",
       "      <td>0.000261</td>\n",
       "    </tr>\n",
       "    <tr>\n",
       "      <th>43</th>\n",
       "      <td>76561198025037510</td>\n",
       "      <td>Castle Invasion: Throne Out</td>\n",
       "      <td>2.0</td>\n",
       "      <td>2.000364</td>\n",
       "      <td>{'was_impossible': False}</td>\n",
       "      <td>0.000364</td>\n",
       "    </tr>\n",
       "    <tr>\n",
       "      <th>770</th>\n",
       "      <td>76561198025037510</td>\n",
       "      <td>Leave Me Alone: A Trip To Hell</td>\n",
       "      <td>2.0</td>\n",
       "      <td>2.000364</td>\n",
       "      <td>{'was_impossible': False}</td>\n",
       "      <td>0.000364</td>\n",
       "    </tr>\n",
       "    <tr>\n",
       "      <th>598</th>\n",
       "      <td>76561198066590240</td>\n",
       "      <td>Lost in the Rift - Reborn</td>\n",
       "      <td>2.0</td>\n",
       "      <td>2.000445</td>\n",
       "      <td>{'was_impossible': False}</td>\n",
       "      <td>0.000445</td>\n",
       "    </tr>\n",
       "    <tr>\n",
       "      <th>1032</th>\n",
       "      <td>76561197982837520</td>\n",
       "      <td>The Forest of Doom</td>\n",
       "      <td>2.0</td>\n",
       "      <td>2.000849</td>\n",
       "      <td>{'was_impossible': False}</td>\n",
       "      <td>0.000849</td>\n",
       "    </tr>\n",
       "    <tr>\n",
       "      <th>1319</th>\n",
       "      <td>76561197991880022</td>\n",
       "      <td>Bloody Mice</td>\n",
       "      <td>2.0</td>\n",
       "      <td>2.000991</td>\n",
       "      <td>{'was_impossible': False}</td>\n",
       "      <td>0.000991</td>\n",
       "    </tr>\n",
       "    <tr>\n",
       "      <th>1598</th>\n",
       "      <td>76561198049701098</td>\n",
       "      <td>In Fear I Trust</td>\n",
       "      <td>2.0</td>\n",
       "      <td>2.001315</td>\n",
       "      <td>{'was_impossible': False}</td>\n",
       "      <td>0.001315</td>\n",
       "    </tr>\n",
       "    <tr>\n",
       "      <th>831</th>\n",
       "      <td>76561198138437975</td>\n",
       "      <td>The Way We ALL GO</td>\n",
       "      <td>2.0</td>\n",
       "      <td>1.998616</td>\n",
       "      <td>{'was_impossible': False}</td>\n",
       "      <td>0.001384</td>\n",
       "    </tr>\n",
       "  </tbody>\n",
       "</table>\n",
       "</div>"
      ],
      "text/plain": [
       "                    uid                                                iid  \\\n",
       "1238  76561197964604365                                        →SUMETRICK←   \n",
       "392   76561198000561257                      Strategy & Tactics: Dark Ages   \n",
       "714   76561198005439390  Hyperdimension Neptunia Re;Birth1 New Content ...   \n",
       "43    76561198025037510                        Castle Invasion: Throne Out   \n",
       "770   76561198025037510                     Leave Me Alone: A Trip To Hell   \n",
       "598   76561198066590240                          Lost in the Rift - Reborn   \n",
       "1032  76561197982837520                                 The Forest of Doom   \n",
       "1319  76561197991880022                                        Bloody Mice   \n",
       "1598  76561198049701098                                    In Fear I Trust   \n",
       "831   76561198138437975                                  The Way We ALL GO   \n",
       "\n",
       "      r_ui       est                    details       err  \n",
       "1238   2.0  2.000061  {'was_impossible': False}  0.000061  \n",
       "392    2.0  2.000176  {'was_impossible': False}  0.000176  \n",
       "714    2.0  1.999739  {'was_impossible': False}  0.000261  \n",
       "43     2.0  2.000364  {'was_impossible': False}  0.000364  \n",
       "770    2.0  2.000364  {'was_impossible': False}  0.000364  \n",
       "598    2.0  2.000445  {'was_impossible': False}  0.000445  \n",
       "1032   2.0  2.000849  {'was_impossible': False}  0.000849  \n",
       "1319   2.0  2.000991  {'was_impossible': False}  0.000991  \n",
       "1598   2.0  2.001315  {'was_impossible': False}  0.001315  \n",
       "831    2.0  1.998616  {'was_impossible': False}  0.001384  "
      ]
     },
     "execution_count": 35,
     "metadata": {},
     "output_type": "execute_result"
    }
   ],
   "source": [
    "best_predictions2"
   ]
  },
  {
   "cell_type": "code",
   "execution_count": 36,
   "metadata": {},
   "outputs": [
    {
     "data": {
      "text/html": [
       "<div>\n",
       "<style scoped>\n",
       "    .dataframe tbody tr th:only-of-type {\n",
       "        vertical-align: middle;\n",
       "    }\n",
       "\n",
       "    .dataframe tbody tr th {\n",
       "        vertical-align: top;\n",
       "    }\n",
       "\n",
       "    .dataframe thead th {\n",
       "        text-align: right;\n",
       "    }\n",
       "</style>\n",
       "<table border=\"1\" class=\"dataframe\">\n",
       "  <thead>\n",
       "    <tr style=\"text-align: right;\">\n",
       "      <th></th>\n",
       "      <th>uid</th>\n",
       "      <th>iid</th>\n",
       "      <th>r_ui</th>\n",
       "      <th>est</th>\n",
       "      <th>details</th>\n",
       "      <th>err</th>\n",
       "    </tr>\n",
       "  </thead>\n",
       "  <tbody>\n",
       "    <tr>\n",
       "      <th>490</th>\n",
       "      <td>76561198141837298</td>\n",
       "      <td>Sniper Elite 4 - Deathstorm Part 2: Infiltration</td>\n",
       "      <td>4.0</td>\n",
       "      <td>2.114360</td>\n",
       "      <td>{'was_impossible': False}</td>\n",
       "      <td>1.885640</td>\n",
       "    </tr>\n",
       "    <tr>\n",
       "      <th>500</th>\n",
       "      <td>76561198005539606</td>\n",
       "      <td>Escape Room VR: Stories</td>\n",
       "      <td>4.0</td>\n",
       "      <td>2.113402</td>\n",
       "      <td>{'was_impossible': False}</td>\n",
       "      <td>1.886598</td>\n",
       "    </tr>\n",
       "    <tr>\n",
       "      <th>1457</th>\n",
       "      <td>76561198381798216</td>\n",
       "      <td>Tactical Soccer The New Season</td>\n",
       "      <td>4.0</td>\n",
       "      <td>2.099974</td>\n",
       "      <td>{'was_impossible': False}</td>\n",
       "      <td>1.900026</td>\n",
       "    </tr>\n",
       "    <tr>\n",
       "      <th>1252</th>\n",
       "      <td>76561198172055451</td>\n",
       "      <td>Time Clickers</td>\n",
       "      <td>4.0</td>\n",
       "      <td>2.072852</td>\n",
       "      <td>{'was_impossible': False}</td>\n",
       "      <td>1.927148</td>\n",
       "    </tr>\n",
       "    <tr>\n",
       "      <th>262</th>\n",
       "      <td>76561197982288410</td>\n",
       "      <td>Mad-Sector</td>\n",
       "      <td>4.0</td>\n",
       "      <td>2.071220</td>\n",
       "      <td>{'was_impossible': False}</td>\n",
       "      <td>1.928780</td>\n",
       "    </tr>\n",
       "    <tr>\n",
       "      <th>705</th>\n",
       "      <td>76561198019816374</td>\n",
       "      <td>Eruption</td>\n",
       "      <td>4.0</td>\n",
       "      <td>2.055082</td>\n",
       "      <td>{'was_impossible': False}</td>\n",
       "      <td>1.944918</td>\n",
       "    </tr>\n",
       "    <tr>\n",
       "      <th>1003</th>\n",
       "      <td>76561197965049785</td>\n",
       "      <td>Total War: ROME II - Greek States Culture Pack</td>\n",
       "      <td>0.0</td>\n",
       "      <td>2.073927</td>\n",
       "      <td>{'was_impossible': False}</td>\n",
       "      <td>2.073927</td>\n",
       "    </tr>\n",
       "    <tr>\n",
       "      <th>1616</th>\n",
       "      <td>76561198034766576</td>\n",
       "      <td>Hero Siege - Doom Bringer (Skin)</td>\n",
       "      <td>0.0</td>\n",
       "      <td>2.077333</td>\n",
       "      <td>{'was_impossible': False}</td>\n",
       "      <td>2.077333</td>\n",
       "    </tr>\n",
       "    <tr>\n",
       "      <th>40</th>\n",
       "      <td>76561198888079295</td>\n",
       "      <td>21+</td>\n",
       "      <td>0.0</td>\n",
       "      <td>2.209149</td>\n",
       "      <td>{'was_impossible': False}</td>\n",
       "      <td>2.209149</td>\n",
       "    </tr>\n",
       "    <tr>\n",
       "      <th>97</th>\n",
       "      <td>76561198059971262</td>\n",
       "      <td>Awesomenauts - Coco Nebulon Announcer</td>\n",
       "      <td>0.0</td>\n",
       "      <td>2.218884</td>\n",
       "      <td>{'was_impossible': False}</td>\n",
       "      <td>2.218884</td>\n",
       "    </tr>\n",
       "  </tbody>\n",
       "</table>\n",
       "</div>"
      ],
      "text/plain": [
       "                    uid                                               iid  \\\n",
       "490   76561198141837298  Sniper Elite 4 - Deathstorm Part 2: Infiltration   \n",
       "500   76561198005539606                           Escape Room VR: Stories   \n",
       "1457  76561198381798216                    Tactical Soccer The New Season   \n",
       "1252  76561198172055451                                     Time Clickers   \n",
       "262   76561197982288410                                        Mad-Sector   \n",
       "705   76561198019816374                                          Eruption   \n",
       "1003  76561197965049785    Total War: ROME II - Greek States Culture Pack   \n",
       "1616  76561198034766576                  Hero Siege - Doom Bringer (Skin)   \n",
       "40    76561198888079295                                               21+   \n",
       "97    76561198059971262             Awesomenauts - Coco Nebulon Announcer   \n",
       "\n",
       "      r_ui       est                    details       err  \n",
       "490    4.0  2.114360  {'was_impossible': False}  1.885640  \n",
       "500    4.0  2.113402  {'was_impossible': False}  1.886598  \n",
       "1457   4.0  2.099974  {'was_impossible': False}  1.900026  \n",
       "1252   4.0  2.072852  {'was_impossible': False}  1.927148  \n",
       "262    4.0  2.071220  {'was_impossible': False}  1.928780  \n",
       "705    4.0  2.055082  {'was_impossible': False}  1.944918  \n",
       "1003   0.0  2.073927  {'was_impossible': False}  2.073927  \n",
       "1616   0.0  2.077333  {'was_impossible': False}  2.077333  \n",
       "40     0.0  2.209149  {'was_impossible': False}  2.209149  \n",
       "97     0.0  2.218884  {'was_impossible': False}  2.218884  "
      ]
     },
     "execution_count": 36,
     "metadata": {},
     "output_type": "execute_result"
    }
   ],
   "source": [
    "worst_predictions2"
   ]
  },
  {
   "cell_type": "markdown",
   "metadata": {},
   "source": [
    "The best predictions got a little worse but the worst predictions got a little better."
   ]
  },
  {
   "cell_type": "code",
   "execution_count": 37,
   "metadata": {},
   "outputs": [],
   "source": [
    "tests=[[test_id,iid,5] for iid in predict_df2[\"iid\"].unique().tolist()]\n",
    "new_predictions=new_model.test(tests)\n",
    "pred_df2=pd.DataFrame(new_predictions)"
   ]
  },
  {
   "cell_type": "code",
   "execution_count": 38,
   "metadata": {},
   "outputs": [
    {
     "name": "stderr",
     "output_type": "stream",
     "text": [
      "/home/seo/environments/my_env/lib/python3.6/site-packages/ipykernel_launcher.py:2: FutureWarning: \n",
      "Passing list-likes to .loc or [] with any missing label will raise\n",
      "KeyError in the future, you can use .reindex() as an alternative.\n",
      "\n",
      "See the documentation here:\n",
      "https://pandas.pydata.org/pandas-docs/stable/indexing.html#deprecate-loc-reindex-listlike\n",
      "  \n"
     ]
    }
   ],
   "source": [
    "pred_df2=pred_df2.set_index(['iid'])\n",
    "new_top10recommendation=pred_df2.loc[removed].sort_values(['est'],ascending=False)[:10]"
   ]
  },
  {
   "cell_type": "code",
   "execution_count": 39,
   "metadata": {},
   "outputs": [
    {
     "name": "stdout",
     "output_type": "stream",
     "text": [
      "Top item for user 76561198141485825 is Hiveswap Friendsim - Volume Three with predicted rating 2.557066566217302\n"
     ]
    }
   ],
   "source": [
    "pred_game2=new_top10recommendation.index[0]\n",
    "pred_rate2=new_top10recommendation['est'][0]\n",
    "print('Top item for user {0} is {1} with predicted rating {2}'.format(test_id,pred_game2, pred_rate2))"
   ]
  },
  {
   "cell_type": "code",
   "execution_count": 40,
   "metadata": {},
   "outputs": [],
   "source": [
    "top10=pred_df2.sort_values(['est'],ascending=False)[:10]\n",
    "recommended_games=list()\n",
    "for name in top10.index.tolist():\n",
    "    ids=list(steamapp_dict.keys())[list(steamapp_dict.values()).index(name)]\n",
    "    recommended_games.append((name,\"https://store.steampowered.com/app/\"+str(ids)))"
   ]
  },
  {
   "cell_type": "code",
   "execution_count": 41,
   "metadata": {},
   "outputs": [
    {
     "data": {
      "text/html": [
       "<div>\n",
       "<style scoped>\n",
       "    .dataframe tbody tr th:only-of-type {\n",
       "        vertical-align: middle;\n",
       "    }\n",
       "\n",
       "    .dataframe tbody tr th {\n",
       "        vertical-align: top;\n",
       "    }\n",
       "\n",
       "    .dataframe thead th {\n",
       "        text-align: right;\n",
       "    }\n",
       "</style>\n",
       "<table border=\"1\" class=\"dataframe\">\n",
       "  <thead>\n",
       "    <tr style=\"text-align: right;\">\n",
       "      <th></th>\n",
       "      <th>uid</th>\n",
       "      <th>r_ui</th>\n",
       "      <th>est</th>\n",
       "      <th>details</th>\n",
       "    </tr>\n",
       "    <tr>\n",
       "      <th>iid</th>\n",
       "      <th></th>\n",
       "      <th></th>\n",
       "      <th></th>\n",
       "      <th></th>\n",
       "    </tr>\n",
       "  </thead>\n",
       "  <tbody>\n",
       "    <tr>\n",
       "      <th>Hiveswap Friendsim - Volume Three</th>\n",
       "      <td>76561198141485825</td>\n",
       "      <td>5</td>\n",
       "      <td>2.557067</td>\n",
       "      <td>{'was_impossible': False}</td>\n",
       "    </tr>\n",
       "    <tr>\n",
       "      <th>Train Simulator: The Riviera Line: Exeter - Paignton</th>\n",
       "      <td>76561198141485825</td>\n",
       "      <td>5</td>\n",
       "      <td>2.518785</td>\n",
       "      <td>{'was_impossible': False}</td>\n",
       "    </tr>\n",
       "    <tr>\n",
       "      <th>Awesomenauts - Abyssal Swiggins Skin</th>\n",
       "      <td>76561198141485825</td>\n",
       "      <td>5</td>\n",
       "      <td>2.463186</td>\n",
       "      <td>{'was_impossible': False}</td>\n",
       "    </tr>\n",
       "    <tr>\n",
       "      <th>Panzer Corps: Allied Corps</th>\n",
       "      <td>76561198141485825</td>\n",
       "      <td>5</td>\n",
       "      <td>2.461297</td>\n",
       "      <td>{'was_impossible': False}</td>\n",
       "    </tr>\n",
       "    <tr>\n",
       "      <th>Digital Domain’s Monkey King™</th>\n",
       "      <td>76561198141485825</td>\n",
       "      <td>5</td>\n",
       "      <td>2.459878</td>\n",
       "      <td>{'was_impossible': False}</td>\n",
       "    </tr>\n",
       "    <tr>\n",
       "      <th>Civilization V - Scrambled Nations Map Pack</th>\n",
       "      <td>76561198141485825</td>\n",
       "      <td>5</td>\n",
       "      <td>2.447839</td>\n",
       "      <td>{'was_impossible': False}</td>\n",
       "    </tr>\n",
       "    <tr>\n",
       "      <th>Tomb Raider: Demolition</th>\n",
       "      <td>76561198141485825</td>\n",
       "      <td>5</td>\n",
       "      <td>2.446313</td>\n",
       "      <td>{'was_impossible': False}</td>\n",
       "    </tr>\n",
       "    <tr>\n",
       "      <th>Train Simulator: West Highland Line Extension Route Add-On</th>\n",
       "      <td>76561198141485825</td>\n",
       "      <td>5</td>\n",
       "      <td>2.444723</td>\n",
       "      <td>{'was_impossible': False}</td>\n",
       "    </tr>\n",
       "    <tr>\n",
       "      <th>Demonlisher</th>\n",
       "      <td>76561198141485825</td>\n",
       "      <td>5</td>\n",
       "      <td>2.443932</td>\n",
       "      <td>{'was_impossible': False}</td>\n",
       "    </tr>\n",
       "    <tr>\n",
       "      <th>GTGD S2</th>\n",
       "      <td>76561198141485825</td>\n",
       "      <td>5</td>\n",
       "      <td>2.440793</td>\n",
       "      <td>{'was_impossible': False}</td>\n",
       "    </tr>\n",
       "  </tbody>\n",
       "</table>\n",
       "</div>"
      ],
      "text/plain": [
       "                                                                  uid  r_ui  \\\n",
       "iid                                                                           \n",
       "Hiveswap Friendsim - Volume Three                   76561198141485825     5   \n",
       "Train Simulator: The Riviera Line: Exeter - Pai...  76561198141485825     5   \n",
       "Awesomenauts - Abyssal Swiggins Skin                76561198141485825     5   \n",
       "Panzer Corps: Allied Corps                          76561198141485825     5   \n",
       "Digital Domain’s Monkey King™                       76561198141485825     5   \n",
       "Civilization V - Scrambled Nations Map Pack         76561198141485825     5   \n",
       "Tomb Raider: Demolition                             76561198141485825     5   \n",
       "Train Simulator: West Highland Line Extension R...  76561198141485825     5   \n",
       "Demonlisher                                         76561198141485825     5   \n",
       "GTGD S2                                             76561198141485825     5   \n",
       "\n",
       "                                                         est  \\\n",
       "iid                                                            \n",
       "Hiveswap Friendsim - Volume Three                   2.557067   \n",
       "Train Simulator: The Riviera Line: Exeter - Pai...  2.518785   \n",
       "Awesomenauts - Abyssal Swiggins Skin                2.463186   \n",
       "Panzer Corps: Allied Corps                          2.461297   \n",
       "Digital Domain’s Monkey King™                       2.459878   \n",
       "Civilization V - Scrambled Nations Map Pack         2.447839   \n",
       "Tomb Raider: Demolition                             2.446313   \n",
       "Train Simulator: West Highland Line Extension R...  2.444723   \n",
       "Demonlisher                                         2.443932   \n",
       "GTGD S2                                             2.440793   \n",
       "\n",
       "                                                                      details  \n",
       "iid                                                                            \n",
       "Hiveswap Friendsim - Volume Three                   {'was_impossible': False}  \n",
       "Train Simulator: The Riviera Line: Exeter - Pai...  {'was_impossible': False}  \n",
       "Awesomenauts - Abyssal Swiggins Skin                {'was_impossible': False}  \n",
       "Panzer Corps: Allied Corps                          {'was_impossible': False}  \n",
       "Digital Domain’s Monkey King™                       {'was_impossible': False}  \n",
       "Civilization V - Scrambled Nations Map Pack         {'was_impossible': False}  \n",
       "Tomb Raider: Demolition                             {'was_impossible': False}  \n",
       "Train Simulator: West Highland Line Extension R...  {'was_impossible': False}  \n",
       "Demonlisher                                         {'was_impossible': False}  \n",
       "GTGD S2                                             {'was_impossible': False}  "
      ]
     },
     "execution_count": 41,
     "metadata": {},
     "output_type": "execute_result"
    }
   ],
   "source": [
    "top10"
   ]
  },
  {
   "cell_type": "code",
   "execution_count": 42,
   "metadata": {},
   "outputs": [
    {
     "name": "stdout",
     "output_type": "stream",
     "text": [
      "Based on what other players are playing a lot, here are some of the games you may like.\n",
      "                                           Game Name  \\\n",
      "0                  Hiveswap Friendsim - Volume Three   \n",
      "1  Train Simulator: The Riviera Line: Exeter - Pa...   \n",
      "2               Awesomenauts - Abyssal Swiggins Skin   \n",
      "3                         Panzer Corps: Allied Corps   \n",
      "4                      Digital Domain’s Monkey King™   \n",
      "5        Civilization V - Scrambled Nations Map Pack   \n",
      "6                            Tomb Raider: Demolition   \n",
      "7  Train Simulator: West Highland Line Extension ...   \n",
      "8                                        Demonlisher   \n",
      "9                                            GTGD S2   \n",
      "\n",
      "                                  Store page  \n",
      "0  https://store.steampowered.com/app/859130  \n",
      "1  https://store.steampowered.com/app/222632  \n",
      "2  https://store.steampowered.com/app/251080  \n",
      "3  https://store.steampowered.com/app/276552  \n",
      "4  https://store.steampowered.com/app/686030  \n",
      "5  https://store.steampowered.com/app/235585  \n",
      "6  https://store.steampowered.com/app/208817  \n",
      "7  https://store.steampowered.com/app/277748  \n",
      "8  https://store.steampowered.com/app/321610  \n",
      "9  https://store.steampowered.com/app/292350  \n"
     ]
    }
   ],
   "source": [
    "print(\"Based on what other players are playing a lot, here are some of the games you may like.\")\n",
    "print(pd.DataFrame(recommended_games,columns=[\"Game Name\",\"Store page\"]))"
   ]
  },
  {
   "cell_type": "code",
   "execution_count": null,
   "metadata": {},
   "outputs": [],
   "source": []
  },
  {
   "cell_type": "code",
   "execution_count": null,
   "metadata": {},
   "outputs": [],
   "source": []
  },
  {
   "cell_type": "code",
   "execution_count": null,
   "metadata": {},
   "outputs": [],
   "source": []
  },
  {
   "cell_type": "code",
   "execution_count": null,
   "metadata": {},
   "outputs": [],
   "source": []
  }
 ],
 "metadata": {
  "kernelspec": {
   "display_name": "Python 3",
   "language": "python",
   "name": "python3"
  },
  "language_info": {
   "codemirror_mode": {
    "name": "ipython",
    "version": 3
   },
   "file_extension": ".py",
   "mimetype": "text/x-python",
   "name": "python",
   "nbconvert_exporter": "python",
   "pygments_lexer": "ipython3",
   "version": "3.6.8"
  }
 },
 "nbformat": 4,
 "nbformat_minor": 2
}
