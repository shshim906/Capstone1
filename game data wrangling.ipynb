{
 "cells": [
  {
   "cell_type": "markdown",
   "metadata": {},
   "source": [
    "### import necessary toolsets"
   ]
  },
  {
   "cell_type": "code",
   "execution_count": 164,
   "metadata": {},
   "outputs": [],
   "source": [
    "import json\n",
    "import pandas as pd\n",
    "import os\n",
    "import string\n",
    "import re # regular expression toolkit\n",
    "import nltk # Natural language toolkit\n",
    "from collections import defaultdict\n",
    "from pandas.io.json import json_normalize"
   ]
  },
  {
   "cell_type": "markdown",
   "metadata": {},
   "source": [
    "### get data from folder and save file names"
   ]
  },
  {
   "cell_type": "code",
   "execution_count": 165,
   "metadata": {},
   "outputs": [],
   "source": [
    "folder='C:/Users/shshi/jupyter notebooks/DATA/steam_reviews-master/steam_reviews-master/data/'"
   ]
  },
  {
   "cell_type": "code",
   "execution_count": 166,
   "metadata": {},
   "outputs": [],
   "source": [
    "filenames=os.listdir(folder)"
   ]
  },
  {
   "cell_type": "code",
   "execution_count": 167,
   "metadata": {},
   "outputs": [
    {
     "data": {
      "text/plain": [
       "'Arma_3.jsonlines'"
      ]
     },
     "execution_count": 167,
     "metadata": {},
     "output_type": "execute_result"
    }
   ],
   "source": [
    "filenames[1]"
   ]
  },
  {
   "cell_type": "markdown",
   "metadata": {},
   "source": [
    "### define function to get data from each file"
   ]
  },
  {
   "cell_type": "code",
   "execution_count": 168,
   "metadata": {},
   "outputs": [],
   "source": [
    "def get_jsonline(file_name):\n",
    "    data=[]\n",
    "    with open(file_name) as f:\n",
    "        for line in f:\n",
    "            data.append(json.loads(line))\n",
    "    return data"
   ]
  },
  {
   "cell_type": "markdown",
   "metadata": {},
   "source": [
    "### make a first dataframe that will serve as frame for other data"
   ]
  },
  {
   "cell_type": "code",
   "execution_count": 169,
   "metadata": {},
   "outputs": [],
   "source": [
    "data=json_normalize(get_jsonline(folder+filenames[1]))"
   ]
  },
  {
   "cell_type": "code",
   "execution_count": 170,
   "metadata": {},
   "outputs": [],
   "source": [
    "review_df=pd.DataFrame(data)"
   ]
  },
  {
   "cell_type": "code",
   "execution_count": 171,
   "metadata": {},
   "outputs": [
    {
     "data": {
      "text/plain": [
       "'Arma_3'"
      ]
     },
     "execution_count": 171,
     "metadata": {},
     "output_type": "execute_result"
    }
   ],
   "source": [
    "filenames[1].split('.')[0]"
   ]
  },
  {
   "cell_type": "code",
   "execution_count": 172,
   "metadata": {},
   "outputs": [],
   "source": [
    "review_df['game_name']=filenames[1].split('.')[0]"
   ]
  },
  {
   "cell_type": "code",
   "execution_count": 173,
   "metadata": {},
   "outputs": [
    {
     "data": {
      "text/html": [
       "<div>\n",
       "<style scoped>\n",
       "    .dataframe tbody tr th:only-of-type {\n",
       "        vertical-align: middle;\n",
       "    }\n",
       "\n",
       "    .dataframe tbody tr th {\n",
       "        vertical-align: top;\n",
       "    }\n",
       "\n",
       "    .dataframe thead th {\n",
       "        text-align: right;\n",
       "    }\n",
       "</style>\n",
       "<table border=\"1\" class=\"dataframe\">\n",
       "  <thead>\n",
       "    <tr style=\"text-align: right;\">\n",
       "      <th></th>\n",
       "      <th>achievement_progress.num_achievements_attained</th>\n",
       "      <th>achievement_progress.num_achievements_percentage</th>\n",
       "      <th>achievement_progress.num_achievements_possible</th>\n",
       "      <th>date_posted</th>\n",
       "      <th>date_updated</th>\n",
       "      <th>found_helpful_percentage</th>\n",
       "      <th>friend_player_level</th>\n",
       "      <th>num_badges</th>\n",
       "      <th>num_comments</th>\n",
       "      <th>num_found_funny</th>\n",
       "      <th>...</th>\n",
       "      <th>orig_url</th>\n",
       "      <th>profile_url</th>\n",
       "      <th>rating</th>\n",
       "      <th>review</th>\n",
       "      <th>review_url</th>\n",
       "      <th>steam_id_number</th>\n",
       "      <th>total_game_hours</th>\n",
       "      <th>total_game_hours_last_two_weeks</th>\n",
       "      <th>username</th>\n",
       "      <th>game_name</th>\n",
       "    </tr>\n",
       "  </thead>\n",
       "  <tbody>\n",
       "    <tr>\n",
       "      <th>7147</th>\n",
       "      <td>83.0</td>\n",
       "      <td>0.497006</td>\n",
       "      <td>167.0</td>\n",
       "      <td>Dec 24, 2014, 3:17PM</td>\n",
       "      <td>None</td>\n",
       "      <td>NaN</td>\n",
       "      <td>4.0</td>\n",
       "      <td>3.0</td>\n",
       "      <td>0</td>\n",
       "      <td>0</td>\n",
       "      <td>...</td>\n",
       "      <td>http://steamcommunity.com/app/107410/homeconte...</td>\n",
       "      <td>http://steamcommunity.com/profiles/76561198088...</td>\n",
       "      <td>Recommended</td>\n",
       "      <td>SIMPLY AMAZING. fun to play insurgency and kin...</td>\n",
       "      <td>http://steamcommunity.com/profiles/76561198088...</td>\n",
       "      <td>76561198088883739</td>\n",
       "      <td>270.9</td>\n",
       "      <td>0.1</td>\n",
       "      <td>VladimirTheInhaler</td>\n",
       "      <td>Arma_3</td>\n",
       "    </tr>\n",
       "    <tr>\n",
       "      <th>7148</th>\n",
       "      <td>NaN</td>\n",
       "      <td>NaN</td>\n",
       "      <td>NaN</td>\n",
       "      <td>Dec 24, 2014, 3:47PM</td>\n",
       "      <td>None</td>\n",
       "      <td>NaN</td>\n",
       "      <td>NaN</td>\n",
       "      <td>NaN</td>\n",
       "      <td>0</td>\n",
       "      <td>0</td>\n",
       "      <td>...</td>\n",
       "      <td>http://steamcommunity.com/app/107410/homeconte...</td>\n",
       "      <td>http://steamcommunity.com/id/nitromen23</td>\n",
       "      <td>Recommended</td>\n",
       "      <td>Arma 3 is very glitched ad horribly unoptimize...</td>\n",
       "      <td>http://steamcommunity.com/id/nitromen23/recomm...</td>\n",
       "      <td>nitromen23</td>\n",
       "      <td>188.0</td>\n",
       "      <td>8.8</td>\n",
       "      <td>Nitromen23</td>\n",
       "      <td>Arma_3</td>\n",
       "    </tr>\n",
       "    <tr>\n",
       "      <th>7149</th>\n",
       "      <td>86.0</td>\n",
       "      <td>0.514970</td>\n",
       "      <td>167.0</td>\n",
       "      <td>Dec 24, 2014, 5:41PM</td>\n",
       "      <td>None</td>\n",
       "      <td>NaN</td>\n",
       "      <td>5.0</td>\n",
       "      <td>5.0</td>\n",
       "      <td>0</td>\n",
       "      <td>0</td>\n",
       "      <td>...</td>\n",
       "      <td>http://steamcommunity.com/app/107410/homeconte...</td>\n",
       "      <td>http://steamcommunity.com/profiles/76561198135...</td>\n",
       "      <td>Recommended</td>\n",
       "      <td>So once you've figured out what the  you're do...</td>\n",
       "      <td>http://steamcommunity.com/profiles/76561198135...</td>\n",
       "      <td>76561198135659471</td>\n",
       "      <td>192.3</td>\n",
       "      <td>0.0</td>\n",
       "      <td>IntoTheGabe</td>\n",
       "      <td>Arma_3</td>\n",
       "    </tr>\n",
       "    <tr>\n",
       "      <th>7150</th>\n",
       "      <td>45.0</td>\n",
       "      <td>0.600000</td>\n",
       "      <td>75.0</td>\n",
       "      <td>Dec 24, 2014, 6:38PM</td>\n",
       "      <td>None</td>\n",
       "      <td>NaN</td>\n",
       "      <td>11.0</td>\n",
       "      <td>10.0</td>\n",
       "      <td>0</td>\n",
       "      <td>0</td>\n",
       "      <td>...</td>\n",
       "      <td>http://steamcommunity.com/app/107410/homeconte...</td>\n",
       "      <td>http://steamcommunity.com/id/darnude-sexstorm</td>\n",
       "      <td>Recommended</td>\n",
       "      <td>Reminds me a lot of DayZ. It doesn't have any ...</td>\n",
       "      <td>http://steamcommunity.com/id/darnude-sexstorm/...</td>\n",
       "      <td>darnude-sexstorm</td>\n",
       "      <td>13.6</td>\n",
       "      <td>0.0</td>\n",
       "      <td>IB6UB9</td>\n",
       "      <td>Arma_3</td>\n",
       "    </tr>\n",
       "  </tbody>\n",
       "</table>\n",
       "<p>4 rows × 30 columns</p>\n",
       "</div>"
      ],
      "text/plain": [
       "      achievement_progress.num_achievements_attained  \\\n",
       "7147                                            83.0   \n",
       "7148                                             NaN   \n",
       "7149                                            86.0   \n",
       "7150                                            45.0   \n",
       "\n",
       "      achievement_progress.num_achievements_percentage  \\\n",
       "7147                                          0.497006   \n",
       "7148                                               NaN   \n",
       "7149                                          0.514970   \n",
       "7150                                          0.600000   \n",
       "\n",
       "      achievement_progress.num_achievements_possible           date_posted  \\\n",
       "7147                                           167.0  Dec 24, 2014, 3:17PM   \n",
       "7148                                             NaN  Dec 24, 2014, 3:47PM   \n",
       "7149                                           167.0  Dec 24, 2014, 5:41PM   \n",
       "7150                                            75.0  Dec 24, 2014, 6:38PM   \n",
       "\n",
       "     date_updated  found_helpful_percentage  friend_player_level  num_badges  \\\n",
       "7147         None                       NaN                  4.0         3.0   \n",
       "7148         None                       NaN                  NaN         NaN   \n",
       "7149         None                       NaN                  5.0         5.0   \n",
       "7150         None                       NaN                 11.0        10.0   \n",
       "\n",
       "      num_comments  num_found_funny    ...      \\\n",
       "7147             0                0    ...       \n",
       "7148             0                0    ...       \n",
       "7149             0                0    ...       \n",
       "7150             0                0    ...       \n",
       "\n",
       "                                               orig_url  \\\n",
       "7147  http://steamcommunity.com/app/107410/homeconte...   \n",
       "7148  http://steamcommunity.com/app/107410/homeconte...   \n",
       "7149  http://steamcommunity.com/app/107410/homeconte...   \n",
       "7150  http://steamcommunity.com/app/107410/homeconte...   \n",
       "\n",
       "                                            profile_url       rating  \\\n",
       "7147  http://steamcommunity.com/profiles/76561198088...  Recommended   \n",
       "7148            http://steamcommunity.com/id/nitromen23  Recommended   \n",
       "7149  http://steamcommunity.com/profiles/76561198135...  Recommended   \n",
       "7150      http://steamcommunity.com/id/darnude-sexstorm  Recommended   \n",
       "\n",
       "                                                 review  \\\n",
       "7147  SIMPLY AMAZING. fun to play insurgency and kin...   \n",
       "7148  Arma 3 is very glitched ad horribly unoptimize...   \n",
       "7149  So once you've figured out what the  you're do...   \n",
       "7150  Reminds me a lot of DayZ. It doesn't have any ...   \n",
       "\n",
       "                                             review_url    steam_id_number  \\\n",
       "7147  http://steamcommunity.com/profiles/76561198088...  76561198088883739   \n",
       "7148  http://steamcommunity.com/id/nitromen23/recomm...         nitromen23   \n",
       "7149  http://steamcommunity.com/profiles/76561198135...  76561198135659471   \n",
       "7150  http://steamcommunity.com/id/darnude-sexstorm/...   darnude-sexstorm   \n",
       "\n",
       "      total_game_hours  total_game_hours_last_two_weeks            username  \\\n",
       "7147             270.9                              0.1  VladimirTheInhaler   \n",
       "7148             188.0                              8.8          Nitromen23   \n",
       "7149             192.3                              0.0         IntoTheGabe   \n",
       "7150              13.6                              0.0              IB6UB9   \n",
       "\n",
       "      game_name  \n",
       "7147     Arma_3  \n",
       "7148     Arma_3  \n",
       "7149     Arma_3  \n",
       "7150     Arma_3  \n",
       "\n",
       "[4 rows x 30 columns]"
      ]
     },
     "execution_count": 173,
     "metadata": {},
     "output_type": "execute_result"
    }
   ],
   "source": [
    "review_df.tail(4)"
   ]
  },
  {
   "cell_type": "markdown",
   "metadata": {},
   "source": [
    "### Fill up other game data to the dataframe"
   ]
  },
  {
   "cell_type": "code",
   "execution_count": 174,
   "metadata": {},
   "outputs": [],
   "source": [
    "for name in filenames:\n",
    "    if name.endswith(\".jsonlines\") and name != filenames[1]:\n",
    "        data=json_normalize(get_jsonline(folder+name))\n",
    "        df=pd.DataFrame(data)\n",
    "        df['game_name']=name.split('.')[0]\n",
    "        review_df=review_df.append(df, ignore_index=True, sort=False)\n",
    "    else:\n",
    "        continue"
   ]
  },
  {
   "cell_type": "code",
   "execution_count": 175,
   "metadata": {},
   "outputs": [
    {
     "data": {
      "text/html": [
       "<div>\n",
       "<style scoped>\n",
       "    .dataframe tbody tr th:only-of-type {\n",
       "        vertical-align: middle;\n",
       "    }\n",
       "\n",
       "    .dataframe tbody tr th {\n",
       "        vertical-align: top;\n",
       "    }\n",
       "\n",
       "    .dataframe thead th {\n",
       "        text-align: right;\n",
       "    }\n",
       "</style>\n",
       "<table border=\"1\" class=\"dataframe\">\n",
       "  <thead>\n",
       "    <tr style=\"text-align: right;\">\n",
       "      <th></th>\n",
       "      <th>achievement_progress.num_achievements_attained</th>\n",
       "      <th>achievement_progress.num_achievements_percentage</th>\n",
       "      <th>achievement_progress.num_achievements_possible</th>\n",
       "      <th>date_posted</th>\n",
       "      <th>date_updated</th>\n",
       "      <th>found_helpful_percentage</th>\n",
       "      <th>friend_player_level</th>\n",
       "      <th>num_badges</th>\n",
       "      <th>num_comments</th>\n",
       "      <th>num_found_funny</th>\n",
       "      <th>...</th>\n",
       "      <th>orig_url</th>\n",
       "      <th>profile_url</th>\n",
       "      <th>rating</th>\n",
       "      <th>review</th>\n",
       "      <th>review_url</th>\n",
       "      <th>steam_id_number</th>\n",
       "      <th>total_game_hours</th>\n",
       "      <th>total_game_hours_last_two_weeks</th>\n",
       "      <th>username</th>\n",
       "      <th>game_name</th>\n",
       "    </tr>\n",
       "  </thead>\n",
       "  <tbody>\n",
       "    <tr>\n",
       "      <th>79433</th>\n",
       "      <td>NaN</td>\n",
       "      <td>NaN</td>\n",
       "      <td>NaN</td>\n",
       "      <td>Jul 2, 2014, 4:19PM</td>\n",
       "      <td>None</td>\n",
       "      <td>0.0</td>\n",
       "      <td>NaN</td>\n",
       "      <td>NaN</td>\n",
       "      <td>0</td>\n",
       "      <td>1</td>\n",
       "      <td>...</td>\n",
       "      <td>http://steamcommunity.com/app/230410/homeconte...</td>\n",
       "      <td>http://steamcommunity.com/profiles/76561198018...</td>\n",
       "      <td>Not Recommended</td>\n",
       "      <td>Even with all unusual style and gameplay this ...</td>\n",
       "      <td>http://steamcommunity.com/profiles/76561198018...</td>\n",
       "      <td>76561198018698706</td>\n",
       "      <td>134.6</td>\n",
       "      <td>0.0</td>\n",
       "      <td>Alice</td>\n",
       "      <td>Warframe</td>\n",
       "    </tr>\n",
       "    <tr>\n",
       "      <th>79434</th>\n",
       "      <td>6.0</td>\n",
       "      <td>0.285714</td>\n",
       "      <td>21.0</td>\n",
       "      <td>Jul 4, 2014, 2:45PM</td>\n",
       "      <td>None</td>\n",
       "      <td>0.0</td>\n",
       "      <td>0.0</td>\n",
       "      <td>1.0</td>\n",
       "      <td>0</td>\n",
       "      <td>1</td>\n",
       "      <td>...</td>\n",
       "      <td>http://steamcommunity.com/app/230410/homeconte...</td>\n",
       "      <td>http://steamcommunity.com/id/Bluevideogames</td>\n",
       "      <td>Not Recommended</td>\n",
       "      <td>i more of a fan of first person shooter and al...</td>\n",
       "      <td>http://steamcommunity.com/id/Bluevideogames/re...</td>\n",
       "      <td>Bluevideogames</td>\n",
       "      <td>1.3</td>\n",
       "      <td>0.0</td>\n",
       "      <td>Bluerism</td>\n",
       "      <td>Warframe</td>\n",
       "    </tr>\n",
       "    <tr>\n",
       "      <th>79435</th>\n",
       "      <td>10.0</td>\n",
       "      <td>0.232558</td>\n",
       "      <td>43.0</td>\n",
       "      <td>Jul 5, 2014, 12:27PM</td>\n",
       "      <td>None</td>\n",
       "      <td>0.0</td>\n",
       "      <td>19.0</td>\n",
       "      <td>19.0</td>\n",
       "      <td>0</td>\n",
       "      <td>1</td>\n",
       "      <td>...</td>\n",
       "      <td>http://steamcommunity.com/app/230410/homeconte...</td>\n",
       "      <td>http://steamcommunity.com/profiles/76561198052...</td>\n",
       "      <td>Not Recommended</td>\n",
       "      <td>My friends have been going on and on about thi...</td>\n",
       "      <td>http://steamcommunity.com/profiles/76561198052...</td>\n",
       "      <td>76561198052373347</td>\n",
       "      <td>1.2</td>\n",
       "      <td>0.0</td>\n",
       "      <td>Monkeyofthefamily</td>\n",
       "      <td>Warframe</td>\n",
       "    </tr>\n",
       "    <tr>\n",
       "      <th>79436</th>\n",
       "      <td>3.0</td>\n",
       "      <td>0.300000</td>\n",
       "      <td>10.0</td>\n",
       "      <td>Jul 6, 2014, 7:56AM</td>\n",
       "      <td>None</td>\n",
       "      <td>0.0</td>\n",
       "      <td>1.0</td>\n",
       "      <td>2.0</td>\n",
       "      <td>0</td>\n",
       "      <td>1</td>\n",
       "      <td>...</td>\n",
       "      <td>http://steamcommunity.com/app/230410/homeconte...</td>\n",
       "      <td>http://steamcommunity.com/profiles/76561198125...</td>\n",
       "      <td>Not Recommended</td>\n",
       "      <td>great game lots of fun. To bad it comes with t...</td>\n",
       "      <td>http://steamcommunity.com/profiles/76561198125...</td>\n",
       "      <td>76561198125563408</td>\n",
       "      <td>95.6</td>\n",
       "      <td>0.0</td>\n",
       "      <td>floris.de.jong</td>\n",
       "      <td>Warframe</td>\n",
       "    </tr>\n",
       "  </tbody>\n",
       "</table>\n",
       "<p>4 rows × 30 columns</p>\n",
       "</div>"
      ],
      "text/plain": [
       "       achievement_progress.num_achievements_attained  \\\n",
       "79433                                             NaN   \n",
       "79434                                             6.0   \n",
       "79435                                            10.0   \n",
       "79436                                             3.0   \n",
       "\n",
       "       achievement_progress.num_achievements_percentage  \\\n",
       "79433                                               NaN   \n",
       "79434                                          0.285714   \n",
       "79435                                          0.232558   \n",
       "79436                                          0.300000   \n",
       "\n",
       "       achievement_progress.num_achievements_possible           date_posted  \\\n",
       "79433                                             NaN   Jul 2, 2014, 4:19PM   \n",
       "79434                                            21.0   Jul 4, 2014, 2:45PM   \n",
       "79435                                            43.0  Jul 5, 2014, 12:27PM   \n",
       "79436                                            10.0   Jul 6, 2014, 7:56AM   \n",
       "\n",
       "      date_updated  found_helpful_percentage  friend_player_level  num_badges  \\\n",
       "79433         None                       0.0                  NaN         NaN   \n",
       "79434         None                       0.0                  0.0         1.0   \n",
       "79435         None                       0.0                 19.0        19.0   \n",
       "79436         None                       0.0                  1.0         2.0   \n",
       "\n",
       "       num_comments  num_found_funny    ...      \\\n",
       "79433             0                1    ...       \n",
       "79434             0                1    ...       \n",
       "79435             0                1    ...       \n",
       "79436             0                1    ...       \n",
       "\n",
       "                                                orig_url  \\\n",
       "79433  http://steamcommunity.com/app/230410/homeconte...   \n",
       "79434  http://steamcommunity.com/app/230410/homeconte...   \n",
       "79435  http://steamcommunity.com/app/230410/homeconte...   \n",
       "79436  http://steamcommunity.com/app/230410/homeconte...   \n",
       "\n",
       "                                             profile_url           rating  \\\n",
       "79433  http://steamcommunity.com/profiles/76561198018...  Not Recommended   \n",
       "79434        http://steamcommunity.com/id/Bluevideogames  Not Recommended   \n",
       "79435  http://steamcommunity.com/profiles/76561198052...  Not Recommended   \n",
       "79436  http://steamcommunity.com/profiles/76561198125...  Not Recommended   \n",
       "\n",
       "                                                  review  \\\n",
       "79433  Even with all unusual style and gameplay this ...   \n",
       "79434  i more of a fan of first person shooter and al...   \n",
       "79435  My friends have been going on and on about thi...   \n",
       "79436  great game lots of fun. To bad it comes with t...   \n",
       "\n",
       "                                              review_url    steam_id_number  \\\n",
       "79433  http://steamcommunity.com/profiles/76561198018...  76561198018698706   \n",
       "79434  http://steamcommunity.com/id/Bluevideogames/re...     Bluevideogames   \n",
       "79435  http://steamcommunity.com/profiles/76561198052...  76561198052373347   \n",
       "79436  http://steamcommunity.com/profiles/76561198125...  76561198125563408   \n",
       "\n",
       "       total_game_hours  total_game_hours_last_two_weeks           username  \\\n",
       "79433             134.6                              0.0              Alice   \n",
       "79434               1.3                              0.0           Bluerism   \n",
       "79435               1.2                              0.0  Monkeyofthefamily   \n",
       "79436              95.6                              0.0     floris.de.jong   \n",
       "\n",
       "       game_name  \n",
       "79433   Warframe  \n",
       "79434   Warframe  \n",
       "79435   Warframe  \n",
       "79436   Warframe  \n",
       "\n",
       "[4 rows x 30 columns]"
      ]
     },
     "execution_count": 175,
     "metadata": {},
     "output_type": "execute_result"
    }
   ],
   "source": [
    "review_df.tail(4)"
   ]
  },
  {
   "cell_type": "code",
   "execution_count": 176,
   "metadata": {},
   "outputs": [
    {
     "data": {
      "text/plain": [
       "['achievement_progress.num_achievements_attained',\n",
       " 'achievement_progress.num_achievements_percentage',\n",
       " 'achievement_progress.num_achievements_possible',\n",
       " 'date_posted',\n",
       " 'date_updated',\n",
       " 'found_helpful_percentage',\n",
       " 'friend_player_level',\n",
       " 'num_badges',\n",
       " 'num_comments',\n",
       " 'num_found_funny',\n",
       " 'num_found_helpful',\n",
       " 'num_found_unhelpful',\n",
       " 'num_friends',\n",
       " 'num_games_owned',\n",
       " 'num_groups',\n",
       " 'num_guides',\n",
       " 'num_reviews',\n",
       " 'num_screenshots',\n",
       " 'num_voted_helpfulness',\n",
       " 'num_workshop_items',\n",
       " 'orig_url',\n",
       " 'profile_url',\n",
       " 'rating',\n",
       " 'review',\n",
       " 'review_url',\n",
       " 'steam_id_number',\n",
       " 'total_game_hours',\n",
       " 'total_game_hours_last_two_weeks',\n",
       " 'username',\n",
       " 'game_name']"
      ]
     },
     "execution_count": 176,
     "metadata": {},
     "output_type": "execute_result"
    }
   ],
   "source": [
    "list(review_df)"
   ]
  },
  {
   "cell_type": "markdown",
   "metadata": {},
   "source": [
    "## extract only the review section from each game data and clean them up for analysis"
   ]
  },
  {
   "cell_type": "markdown",
   "metadata": {},
   "source": [
    "### extract words or bigrams from the reviews"
   ]
  },
  {
   "cell_type": "code",
   "execution_count": 177,
   "metadata": {},
   "outputs": [
    {
     "name": "stdout",
     "output_type": "stream",
     "text": [
      "[nltk_data] Downloading package punkt to\n",
      "[nltk_data]     C:\\Users\\shshi\\AppData\\Roaming\\nltk_data...\n",
      "[nltk_data]   Package punkt is already up-to-date!\n",
      "[nltk_data] Downloading package stopwords to\n",
      "[nltk_data]     C:\\Users\\shshi\\AppData\\Roaming\\nltk_data...\n",
      "[nltk_data]   Package stopwords is already up-to-date!\n"
     ]
    },
    {
     "data": {
      "text/plain": [
       "True"
      ]
     },
     "execution_count": 177,
     "metadata": {},
     "output_type": "execute_result"
    }
   ],
   "source": [
    "import nltk\n",
    "nltk.download('punkt')\n",
    "nltk.download('stopwords')"
   ]
  },
  {
   "cell_type": "code",
   "execution_count": 178,
   "metadata": {},
   "outputs": [],
   "source": [
    "raw_review=review_df['review']"
   ]
  },
  {
   "cell_type": "code",
   "execution_count": 179,
   "metadata": {},
   "outputs": [
    {
     "data": {
      "text/plain": [
       "0"
      ]
     },
     "execution_count": 179,
     "metadata": {},
     "output_type": "execute_result"
    }
   ],
   "source": [
    "raw_review.isnull().sum()"
   ]
  },
  {
   "cell_type": "code",
   "execution_count": 180,
   "metadata": {},
   "outputs": [],
   "source": [
    "from nltk.tokenize import word_tokenize\n",
    "from nltk.corpus import stopwords\n",
    "\n",
    "stop_words = stopwords.words('english')+list(string.punctuation)+[\"game\",\"games\"]"
   ]
  },
  {
   "cell_type": "code",
   "execution_count": 181,
   "metadata": {},
   "outputs": [],
   "source": [
    "cleaned_data=list()\n",
    "commonword=list()\n",
    "bigrams=list()\n",
    "\n",
    "for num in range(len(raw_review)):\n",
    "    review=raw_review.iloc[num]\n",
    "    # split the words into 'tokens'\n",
    "    tokens=word_tokenize(review)\n",
    "    # lowercase every tokens\n",
    "    lower_tokens=[token.lower() for token in tokens]\n",
    "    # remove stopwords and punctuation from the words\n",
    "    words=[word for word in lower_tokens if word not in stop_words]\n",
    "    clean=[word for word in words if word.isalpha()] \n",
    "    cleaned_data.append(clean)\n",
    "    \n",
    "    # find the most frequent single word used in each review\n",
    "    wordfreq=defaultdict(int)\n",
    "    for word in clean:\n",
    "        wordfreq[word]+=1\n",
    "    commonword.append(wordfreq)\n",
    "        \n",
    "    # find the most frequent double word used in each review\n",
    "    each_bigram=list()\n",
    "    for wordnum in range(len(clean)-1):\n",
    "        listitem=(clean[wordnum],clean[wordnum+1])\n",
    "        each_bigram.append(listitem)\n",
    "    bigrams.append(each_bigram)"
   ]
  },
  {
   "cell_type": "code",
   "execution_count": 184,
   "metadata": {},
   "outputs": [
    {
     "data": {
      "text/plain": [
       "[('great', 'lots'),\n",
       " ('lots', 'fun'),\n",
       " ('fun', 'bad'),\n",
       " ('bad', 'comes'),\n",
       " ('comes', 'many'),\n",
       " ('many', 'bugs'),\n",
       " ('bugs', 'crashes'),\n",
       " ('crashes', 'take'),\n",
       " ('take', 'fun'),\n",
       " ('fun', 'fix'),\n",
       " ('fix', 'would'),\n",
       " ('would', 'recommend'),\n",
       " ('recommend', 'wont')]"
      ]
     },
     "execution_count": 184,
     "metadata": {},
     "output_type": "execute_result"
    }
   ],
   "source": [
    "bigrams[len(cleaned_data)-1]"
   ]
  },
  {
   "cell_type": "code",
   "execution_count": 140,
   "metadata": {},
   "outputs": [
    {
     "data": {
      "text/plain": [
       "'This is not a game for people who want fast action movie style gaming, this is a game for people who appreciate the finer things. Having done both military service and picked up MILSIM airsoft as a hobby this game is the closest you will get to what goes on in reality. There are experiences you will have in ARMA 3 that can not be had in COD or BF, experiences that will have you shaking from the adrenaline release. One that comes to mind was a mission to destroy an enemy comms tower, I was squad leader of 8 or so AI:s. As we approached the Comms tower and I told my men to go stealth, no firing unless fired upon. We moved slowly taking advantage of terrain, keeping an watchful eye for enemy patrols. Once the tower was in visual range pace slowed even more and I spent the better part of 30 minutes just looking for enemy patrols and advancing to about 200 meters from the tower. There I positioned my men to cover a wide firing arc as I had spotted quite a few patrols moving in and about the tower. I considered opening fire and probably being able to drop a good portion of the enemy before they could zero in on our position. But a firefight is always a risk, and these AI had been around for a few missions and I had started to anthropomorphize them a bit and secondly I might get hit and killed. As I considered how I would start the engagement a sudden hole opened up in the patrol pattern, I realised the tower is unguarded and I had an opportunity to do something I had not considered. I got up and ran as fast as I could towards the tower, all the time expecting the bullets to start cracking above my head. I kept scanning as I ran whizzling through bushes trying to pick a path that the least visibility to any patrols. After what seemed like far too long I reached the tower and threw out a satchel charge and another for good measure, if one would not bring the tower down it would sure attract attention. I turned around and made my way back, as I closed on my men I started ordering them to fall back, hope growing that I might get out of this alive. Falling back to about 400 meters I finally detonated the satchel charges and the tower fell, from there it was just a short run to the truck and back to Command. I had done it. I had pulled off the perfect mission, not a shot fired and all under my command back alive. That is what this game is about.'"
      ]
     },
     "execution_count": 140,
     "metadata": {},
     "output_type": "execute_result"
    }
   ],
   "source": [
    "raw_review[1]"
   ]
  },
  {
   "cell_type": "code",
   "execution_count": 160,
   "metadata": {},
   "outputs": [
    {
     "data": {
      "text/plain": [
       "defaultdict(int,\n",
       "            {'people': 2,\n",
       "             'want': 1,\n",
       "             'fast': 2,\n",
       "             'action': 1,\n",
       "             'movie': 1,\n",
       "             'style': 1,\n",
       "             'gaming': 1,\n",
       "             'appreciate': 1,\n",
       "             'finer': 1,\n",
       "             'things': 1,\n",
       "             'done': 2,\n",
       "             'military': 1,\n",
       "             'service': 1,\n",
       "             'picked': 1,\n",
       "             'milsim': 1,\n",
       "             'airsoft': 1,\n",
       "             'hobby': 1,\n",
       "             'closest': 1,\n",
       "             'get': 3,\n",
       "             'goes': 1,\n",
       "             'reality': 1,\n",
       "             'experiences': 2,\n",
       "             'arma': 1,\n",
       "             'cod': 1,\n",
       "             'bf': 1,\n",
       "             'shaking': 1,\n",
       "             'adrenaline': 1,\n",
       "             'release': 1,\n",
       "             'one': 2,\n",
       "             'comes': 1,\n",
       "             'mind': 1,\n",
       "             'mission': 2,\n",
       "             'destroy': 1,\n",
       "             'enemy': 4,\n",
       "             'comms': 2,\n",
       "             'tower': 10,\n",
       "             'squad': 1,\n",
       "             'leader': 1,\n",
       "             'ai': 2,\n",
       "             'approached': 1,\n",
       "             'told': 1,\n",
       "             'men': 3,\n",
       "             'go': 1,\n",
       "             'stealth': 1,\n",
       "             'firing': 2,\n",
       "             'unless': 1,\n",
       "             'fired': 2,\n",
       "             'upon': 1,\n",
       "             'moved': 1,\n",
       "             'slowly': 1,\n",
       "             'taking': 1,\n",
       "             'advantage': 1,\n",
       "             'terrain': 1,\n",
       "             'keeping': 1,\n",
       "             'watchful': 1,\n",
       "             'eye': 1,\n",
       "             'patrols': 4,\n",
       "             'visual': 1,\n",
       "             'range': 1,\n",
       "             'pace': 1,\n",
       "             'slowed': 1,\n",
       "             'even': 1,\n",
       "             'spent': 1,\n",
       "             'better': 1,\n",
       "             'part': 1,\n",
       "             'minutes': 1,\n",
       "             'looking': 1,\n",
       "             'advancing': 1,\n",
       "             'meters': 2,\n",
       "             'positioned': 1,\n",
       "             'cover': 1,\n",
       "             'wide': 1,\n",
       "             'arc': 1,\n",
       "             'spotted': 1,\n",
       "             'quite': 1,\n",
       "             'moving': 1,\n",
       "             'considered': 3,\n",
       "             'opening': 1,\n",
       "             'fire': 1,\n",
       "             'probably': 1,\n",
       "             'able': 1,\n",
       "             'drop': 1,\n",
       "             'good': 2,\n",
       "             'portion': 1,\n",
       "             'could': 2,\n",
       "             'zero': 1,\n",
       "             'position': 1,\n",
       "             'firefight': 1,\n",
       "             'always': 1,\n",
       "             'risk': 1,\n",
       "             'around': 2,\n",
       "             'missions': 1,\n",
       "             'started': 2,\n",
       "             'anthropomorphize': 1,\n",
       "             'bit': 1,\n",
       "             'secondly': 1,\n",
       "             'might': 2,\n",
       "             'hit': 1,\n",
       "             'killed': 1,\n",
       "             'would': 3,\n",
       "             'start': 2,\n",
       "             'engagement': 1,\n",
       "             'sudden': 1,\n",
       "             'hole': 1,\n",
       "             'opened': 1,\n",
       "             'patrol': 1,\n",
       "             'pattern': 1,\n",
       "             'realised': 1,\n",
       "             'unguarded': 1,\n",
       "             'opportunity': 1,\n",
       "             'something': 1,\n",
       "             'got': 1,\n",
       "             'ran': 2,\n",
       "             'towards': 1,\n",
       "             'time': 1,\n",
       "             'expecting': 1,\n",
       "             'bullets': 1,\n",
       "             'cracking': 1,\n",
       "             'head': 1,\n",
       "             'kept': 1,\n",
       "             'scanning': 1,\n",
       "             'whizzling': 1,\n",
       "             'bushes': 1,\n",
       "             'trying': 1,\n",
       "             'pick': 1,\n",
       "             'path': 1,\n",
       "             'least': 1,\n",
       "             'visibility': 1,\n",
       "             'seemed': 1,\n",
       "             'like': 1,\n",
       "             'far': 1,\n",
       "             'long': 1,\n",
       "             'reached': 1,\n",
       "             'threw': 1,\n",
       "             'satchel': 2,\n",
       "             'charge': 1,\n",
       "             'another': 1,\n",
       "             'measure': 1,\n",
       "             'bring': 1,\n",
       "             'sure': 1,\n",
       "             'attract': 1,\n",
       "             'attention': 1,\n",
       "             'turned': 1,\n",
       "             'made': 1,\n",
       "             'way': 1,\n",
       "             'back': 5,\n",
       "             'closed': 1,\n",
       "             'ordering': 1,\n",
       "             'fall': 1,\n",
       "             'hope': 1,\n",
       "             'growing': 1,\n",
       "             'alive': 2,\n",
       "             'falling': 1,\n",
       "             'finally': 1,\n",
       "             'detonated': 1,\n",
       "             'charges': 1,\n",
       "             'fell': 1,\n",
       "             'short': 1,\n",
       "             'run': 1,\n",
       "             'truck': 1,\n",
       "             'command': 2,\n",
       "             'pulled': 1,\n",
       "             'perfect': 1,\n",
       "             'shot': 1,\n",
       "             1: 0,\n",
       "             0: 0})"
      ]
     },
     "execution_count": 160,
     "metadata": {},
     "output_type": "execute_result"
    }
   ],
   "source": [
    "commonword[1]"
   ]
  },
  {
   "cell_type": "code",
   "execution_count": 185,
   "metadata": {},
   "outputs": [],
   "source": [
    "review_df['cleaned']=cleaned_data\n",
    "review_df['frequent_words']=commonword\n",
    "review_df['bigrams']=bigrams"
   ]
  },
  {
   "cell_type": "code",
   "execution_count": 186,
   "metadata": {},
   "outputs": [
    {
     "data": {
      "text/html": [
       "<div>\n",
       "<style scoped>\n",
       "    .dataframe tbody tr th:only-of-type {\n",
       "        vertical-align: middle;\n",
       "    }\n",
       "\n",
       "    .dataframe tbody tr th {\n",
       "        vertical-align: top;\n",
       "    }\n",
       "\n",
       "    .dataframe thead th {\n",
       "        text-align: right;\n",
       "    }\n",
       "</style>\n",
       "<table border=\"1\" class=\"dataframe\">\n",
       "  <thead>\n",
       "    <tr style=\"text-align: right;\">\n",
       "      <th></th>\n",
       "      <th>achievement_progress.num_achievements_attained</th>\n",
       "      <th>achievement_progress.num_achievements_percentage</th>\n",
       "      <th>achievement_progress.num_achievements_possible</th>\n",
       "      <th>date_posted</th>\n",
       "      <th>date_updated</th>\n",
       "      <th>found_helpful_percentage</th>\n",
       "      <th>friend_player_level</th>\n",
       "      <th>num_badges</th>\n",
       "      <th>num_comments</th>\n",
       "      <th>num_found_funny</th>\n",
       "      <th>...</th>\n",
       "      <th>review</th>\n",
       "      <th>review_url</th>\n",
       "      <th>steam_id_number</th>\n",
       "      <th>total_game_hours</th>\n",
       "      <th>total_game_hours_last_two_weeks</th>\n",
       "      <th>username</th>\n",
       "      <th>game_name</th>\n",
       "      <th>cleaned</th>\n",
       "      <th>frequent_words</th>\n",
       "      <th>bigrams</th>\n",
       "    </tr>\n",
       "  </thead>\n",
       "  <tbody>\n",
       "    <tr>\n",
       "      <th>79434</th>\n",
       "      <td>6.0</td>\n",
       "      <td>0.285714</td>\n",
       "      <td>21.0</td>\n",
       "      <td>Jul 4, 2014, 2:45PM</td>\n",
       "      <td>None</td>\n",
       "      <td>0.0</td>\n",
       "      <td>0.0</td>\n",
       "      <td>1.0</td>\n",
       "      <td>0</td>\n",
       "      <td>1</td>\n",
       "      <td>...</td>\n",
       "      <td>i more of a fan of first person shooter and al...</td>\n",
       "      <td>http://steamcommunity.com/id/Bluevideogames/re...</td>\n",
       "      <td>Bluevideogames</td>\n",
       "      <td>1.3</td>\n",
       "      <td>0.0</td>\n",
       "      <td>Bluerism</td>\n",
       "      <td>Warframe</td>\n",
       "      <td>[fan, first, person, shooter, also, mouse, mov...</td>\n",
       "      <td>{'fan': 1, 'first': 1, 'person': 1, 'shooter':...</td>\n",
       "      <td>[(fan, first), (first, person), (person, shoot...</td>\n",
       "    </tr>\n",
       "    <tr>\n",
       "      <th>79435</th>\n",
       "      <td>10.0</td>\n",
       "      <td>0.232558</td>\n",
       "      <td>43.0</td>\n",
       "      <td>Jul 5, 2014, 12:27PM</td>\n",
       "      <td>None</td>\n",
       "      <td>0.0</td>\n",
       "      <td>19.0</td>\n",
       "      <td>19.0</td>\n",
       "      <td>0</td>\n",
       "      <td>1</td>\n",
       "      <td>...</td>\n",
       "      <td>My friends have been going on and on about thi...</td>\n",
       "      <td>http://steamcommunity.com/profiles/76561198052...</td>\n",
       "      <td>76561198052373347</td>\n",
       "      <td>1.2</td>\n",
       "      <td>0.0</td>\n",
       "      <td>Monkeyofthefamily</td>\n",
       "      <td>Warframe</td>\n",
       "      <td>[friends, going, little, year, thought, try, t...</td>\n",
       "      <td>{'friends': 1, 'going': 1, 'little': 1, 'year'...</td>\n",
       "      <td>[(friends, going), (going, little), (little, y...</td>\n",
       "    </tr>\n",
       "    <tr>\n",
       "      <th>79436</th>\n",
       "      <td>3.0</td>\n",
       "      <td>0.300000</td>\n",
       "      <td>10.0</td>\n",
       "      <td>Jul 6, 2014, 7:56AM</td>\n",
       "      <td>None</td>\n",
       "      <td>0.0</td>\n",
       "      <td>1.0</td>\n",
       "      <td>2.0</td>\n",
       "      <td>0</td>\n",
       "      <td>1</td>\n",
       "      <td>...</td>\n",
       "      <td>great game lots of fun. To bad it comes with t...</td>\n",
       "      <td>http://steamcommunity.com/profiles/76561198125...</td>\n",
       "      <td>76561198125563408</td>\n",
       "      <td>95.6</td>\n",
       "      <td>0.0</td>\n",
       "      <td>floris.de.jong</td>\n",
       "      <td>Warframe</td>\n",
       "      <td>[great, lots, fun, bad, comes, many, bugs, cra...</td>\n",
       "      <td>{'great': 1, 'lots': 1, 'fun': 2, 'bad': 1, 'c...</td>\n",
       "      <td>[(great, lots), (lots, fun), (fun, bad), (bad,...</td>\n",
       "    </tr>\n",
       "  </tbody>\n",
       "</table>\n",
       "<p>3 rows × 33 columns</p>\n",
       "</div>"
      ],
      "text/plain": [
       "       achievement_progress.num_achievements_attained  \\\n",
       "79434                                             6.0   \n",
       "79435                                            10.0   \n",
       "79436                                             3.0   \n",
       "\n",
       "       achievement_progress.num_achievements_percentage  \\\n",
       "79434                                          0.285714   \n",
       "79435                                          0.232558   \n",
       "79436                                          0.300000   \n",
       "\n",
       "       achievement_progress.num_achievements_possible           date_posted  \\\n",
       "79434                                            21.0   Jul 4, 2014, 2:45PM   \n",
       "79435                                            43.0  Jul 5, 2014, 12:27PM   \n",
       "79436                                            10.0   Jul 6, 2014, 7:56AM   \n",
       "\n",
       "      date_updated  found_helpful_percentage  friend_player_level  num_badges  \\\n",
       "79434         None                       0.0                  0.0         1.0   \n",
       "79435         None                       0.0                 19.0        19.0   \n",
       "79436         None                       0.0                  1.0         2.0   \n",
       "\n",
       "       num_comments  num_found_funny  \\\n",
       "79434             0                1   \n",
       "79435             0                1   \n",
       "79436             0                1   \n",
       "\n",
       "                             ...                          \\\n",
       "79434                        ...                           \n",
       "79435                        ...                           \n",
       "79436                        ...                           \n",
       "\n",
       "                                                  review  \\\n",
       "79434  i more of a fan of first person shooter and al...   \n",
       "79435  My friends have been going on and on about thi...   \n",
       "79436  great game lots of fun. To bad it comes with t...   \n",
       "\n",
       "                                              review_url    steam_id_number  \\\n",
       "79434  http://steamcommunity.com/id/Bluevideogames/re...     Bluevideogames   \n",
       "79435  http://steamcommunity.com/profiles/76561198052...  76561198052373347   \n",
       "79436  http://steamcommunity.com/profiles/76561198125...  76561198125563408   \n",
       "\n",
       "       total_game_hours  total_game_hours_last_two_weeks           username  \\\n",
       "79434               1.3                              0.0           Bluerism   \n",
       "79435               1.2                              0.0  Monkeyofthefamily   \n",
       "79436              95.6                              0.0     floris.de.jong   \n",
       "\n",
       "       game_name                                            cleaned  \\\n",
       "79434   Warframe  [fan, first, person, shooter, also, mouse, mov...   \n",
       "79435   Warframe  [friends, going, little, year, thought, try, t...   \n",
       "79436   Warframe  [great, lots, fun, bad, comes, many, bugs, cra...   \n",
       "\n",
       "                                          frequent_words  \\\n",
       "79434  {'fan': 1, 'first': 1, 'person': 1, 'shooter':...   \n",
       "79435  {'friends': 1, 'going': 1, 'little': 1, 'year'...   \n",
       "79436  {'great': 1, 'lots': 1, 'fun': 2, 'bad': 1, 'c...   \n",
       "\n",
       "                                                 bigrams  \n",
       "79434  [(fan, first), (first, person), (person, shoot...  \n",
       "79435  [(friends, going), (going, little), (little, y...  \n",
       "79436  [(great, lots), (lots, fun), (fun, bad), (bad,...  \n",
       "\n",
       "[3 rows x 33 columns]"
      ]
     },
     "execution_count": 186,
     "metadata": {},
     "output_type": "execute_result"
    }
   ],
   "source": [
    "review_df.tail(3)"
   ]
  },
  {
   "cell_type": "code",
   "execution_count": 187,
   "metadata": {},
   "outputs": [
    {
     "data": {
      "text/plain": [
       "79437"
      ]
     },
     "execution_count": 187,
     "metadata": {},
     "output_type": "execute_result"
    }
   ],
   "source": [
    "len(review_df)"
   ]
  },
  {
   "cell_type": "code",
   "execution_count": 136,
   "metadata": {},
   "outputs": [
    {
     "data": {
      "text/plain": [
       "79437"
      ]
     },
     "execution_count": 136,
     "metadata": {},
     "output_type": "execute_result"
    }
   ],
   "source": [
    "len(cleaned_data)"
   ]
  },
  {
   "cell_type": "markdown",
   "metadata": {},
   "source": [
    "### Assign weight according to total playtime of each reviewer"
   ]
  },
  {
   "cell_type": "code",
   "execution_count": 252,
   "metadata": {},
   "outputs": [],
   "source": [
    "review_weight=list()\n",
    "for each_game in review_df['game_name'].unique():\n",
    "    working_data=review_df.loc[(review_df['game_name'] == each_game)]\n",
    "    review_weight.extend(working_data['total_game_hours']/max(working_data['total_game_hours']))\n",
    "review_df['review_weight']=review_weight"
   ]
  },
  {
   "cell_type": "code",
   "execution_count": 253,
   "metadata": {},
   "outputs": [
    {
     "data": {
      "text/html": [
       "<div>\n",
       "<style scoped>\n",
       "    .dataframe tbody tr th:only-of-type {\n",
       "        vertical-align: middle;\n",
       "    }\n",
       "\n",
       "    .dataframe tbody tr th {\n",
       "        vertical-align: top;\n",
       "    }\n",
       "\n",
       "    .dataframe thead th {\n",
       "        text-align: right;\n",
       "    }\n",
       "</style>\n",
       "<table border=\"1\" class=\"dataframe\">\n",
       "  <thead>\n",
       "    <tr style=\"text-align: right;\">\n",
       "      <th></th>\n",
       "      <th>achievement_progress.num_achievements_attained</th>\n",
       "      <th>achievement_progress.num_achievements_percentage</th>\n",
       "      <th>achievement_progress.num_achievements_possible</th>\n",
       "      <th>date_posted</th>\n",
       "      <th>date_updated</th>\n",
       "      <th>found_helpful_percentage</th>\n",
       "      <th>friend_player_level</th>\n",
       "      <th>num_badges</th>\n",
       "      <th>num_comments</th>\n",
       "      <th>num_found_funny</th>\n",
       "      <th>...</th>\n",
       "      <th>steam_id_number</th>\n",
       "      <th>total_game_hours</th>\n",
       "      <th>total_game_hours_last_two_weeks</th>\n",
       "      <th>username</th>\n",
       "      <th>game_name</th>\n",
       "      <th>cleaned</th>\n",
       "      <th>frequent_words</th>\n",
       "      <th>bigrams</th>\n",
       "      <th>ranked_words</th>\n",
       "      <th>review_weight</th>\n",
       "    </tr>\n",
       "  </thead>\n",
       "  <tbody>\n",
       "    <tr>\n",
       "      <th>0</th>\n",
       "      <td>NaN</td>\n",
       "      <td>NaN</td>\n",
       "      <td>NaN</td>\n",
       "      <td>Oct 31, 2014, 7:00AM</td>\n",
       "      <td>May 3, 2015, 2:28AM</td>\n",
       "      <td>0.948103</td>\n",
       "      <td>NaN</td>\n",
       "      <td>NaN</td>\n",
       "      <td>70</td>\n",
       "      <td>1</td>\n",
       "      <td>...</td>\n",
       "      <td>thisisthefallout</td>\n",
       "      <td>580.3</td>\n",
       "      <td>58.7</td>\n",
       "      <td>King Pootis</td>\n",
       "      <td>Arma_3</td>\n",
       "      <td>[first, brought, horrific, experience, ever, e...</td>\n",
       "      <td>{'first': 1, 'brought': 1, 'horrific': 1, 'exp...</td>\n",
       "      <td>[(first, brought), (brought, horrific), (horri...</td>\n",
       "      <td>[(2, way), (2, takes), (2, sarge), (2, runs), ...</td>\n",
       "      <td>0.082158</td>\n",
       "    </tr>\n",
       "    <tr>\n",
       "      <th>1</th>\n",
       "      <td>43.0</td>\n",
       "      <td>0.661538</td>\n",
       "      <td>65.0</td>\n",
       "      <td>May 17, 2014, 11:01AM</td>\n",
       "      <td>Sep 22, 2014, 9:17AM</td>\n",
       "      <td>0.947903</td>\n",
       "      <td>14.0</td>\n",
       "      <td>9.0</td>\n",
       "      <td>90</td>\n",
       "      <td>1</td>\n",
       "      <td>...</td>\n",
       "      <td>PeaceFaker</td>\n",
       "      <td>122.2</td>\n",
       "      <td>2.8</td>\n",
       "      <td>Peace</td>\n",
       "      <td>Arma_3</td>\n",
       "      <td>[people, want, fast, action, movie, style, gam...</td>\n",
       "      <td>{'people': 2, 'want': 1, 'fast': 2, 'action': ...</td>\n",
       "      <td>[(people, want), (want, fast), (fast, action),...</td>\n",
       "      <td>[(10, tower), (5, back), (4, patrols), (4, ene...</td>\n",
       "      <td>0.017301</td>\n",
       "    </tr>\n",
       "    <tr>\n",
       "      <th>2</th>\n",
       "      <td>15.0</td>\n",
       "      <td>0.288462</td>\n",
       "      <td>52.0</td>\n",
       "      <td>Sep 30, 2014, 8:55AM</td>\n",
       "      <td>Sep 30, 2014, 12:43PM</td>\n",
       "      <td>0.957048</td>\n",
       "      <td>31.0</td>\n",
       "      <td>36.0</td>\n",
       "      <td>51</td>\n",
       "      <td>1</td>\n",
       "      <td>...</td>\n",
       "      <td>TheDanius</td>\n",
       "      <td>731.4</td>\n",
       "      <td>38.2</td>\n",
       "      <td>[13th] Danius</td>\n",
       "      <td>Arma_3</td>\n",
       "      <td>[oh, man, even, begin, one, would, extreme, di...</td>\n",
       "      <td>{'oh': 3, 'man': 1, 'even': 3, 'begin': 1, 'on...</td>\n",
       "      <td>[(oh, man), (man, even), (even, begin), (begin...</td>\n",
       "      <td>[(10, arma), (6, amazing), (4, single), (4, pl...</td>\n",
       "      <td>0.103551</td>\n",
       "    </tr>\n",
       "  </tbody>\n",
       "</table>\n",
       "<p>3 rows × 35 columns</p>\n",
       "</div>"
      ],
      "text/plain": [
       "   achievement_progress.num_achievements_attained  \\\n",
       "0                                             NaN   \n",
       "1                                            43.0   \n",
       "2                                            15.0   \n",
       "\n",
       "   achievement_progress.num_achievements_percentage  \\\n",
       "0                                               NaN   \n",
       "1                                          0.661538   \n",
       "2                                          0.288462   \n",
       "\n",
       "   achievement_progress.num_achievements_possible            date_posted  \\\n",
       "0                                             NaN   Oct 31, 2014, 7:00AM   \n",
       "1                                            65.0  May 17, 2014, 11:01AM   \n",
       "2                                            52.0   Sep 30, 2014, 8:55AM   \n",
       "\n",
       "            date_updated  found_helpful_percentage  friend_player_level  \\\n",
       "0    May 3, 2015, 2:28AM                  0.948103                  NaN   \n",
       "1   Sep 22, 2014, 9:17AM                  0.947903                 14.0   \n",
       "2  Sep 30, 2014, 12:43PM                  0.957048                 31.0   \n",
       "\n",
       "   num_badges  num_comments  num_found_funny      ...         steam_id_number  \\\n",
       "0         NaN            70                1      ...        thisisthefallout   \n",
       "1         9.0            90                1      ...              PeaceFaker   \n",
       "2        36.0            51                1      ...               TheDanius   \n",
       "\n",
       "   total_game_hours  total_game_hours_last_two_weeks       username  \\\n",
       "0             580.3                             58.7    King Pootis   \n",
       "1             122.2                              2.8          Peace   \n",
       "2             731.4                             38.2  [13th] Danius   \n",
       "\n",
       "   game_name                                            cleaned  \\\n",
       "0     Arma_3  [first, brought, horrific, experience, ever, e...   \n",
       "1     Arma_3  [people, want, fast, action, movie, style, gam...   \n",
       "2     Arma_3  [oh, man, even, begin, one, would, extreme, di...   \n",
       "\n",
       "                                      frequent_words  \\\n",
       "0  {'first': 1, 'brought': 1, 'horrific': 1, 'exp...   \n",
       "1  {'people': 2, 'want': 1, 'fast': 2, 'action': ...   \n",
       "2  {'oh': 3, 'man': 1, 'even': 3, 'begin': 1, 'on...   \n",
       "\n",
       "                                             bigrams  \\\n",
       "0  [(first, brought), (brought, horrific), (horri...   \n",
       "1  [(people, want), (want, fast), (fast, action),...   \n",
       "2  [(oh, man), (man, even), (even, begin), (begin...   \n",
       "\n",
       "                                        ranked_words  review_weight  \n",
       "0  [(2, way), (2, takes), (2, sarge), (2, runs), ...       0.082158  \n",
       "1  [(10, tower), (5, back), (4, patrols), (4, ene...       0.017301  \n",
       "2  [(10, arma), (6, amazing), (4, single), (4, pl...       0.103551  \n",
       "\n",
       "[3 rows x 35 columns]"
      ]
     },
     "execution_count": 253,
     "metadata": {},
     "output_type": "execute_result"
    }
   ],
   "source": [
    "review_df.head(3)"
   ]
  },
  {
   "cell_type": "markdown",
   "metadata": {},
   "source": [
    "### Pull out words according to the review weight"
   ]
  },
  {
   "cell_type": "code",
   "execution_count": 79,
   "metadata": {},
   "outputs": [
    {
     "ename": "TypeError",
     "evalue": "'int' object is not subscriptable",
     "output_type": "error",
     "traceback": [
      "\u001b[1;31m---------------------------------------------------------------------------\u001b[0m",
      "\u001b[1;31mTypeError\u001b[0m                                 Traceback (most recent call last)",
      "\u001b[1;32m<ipython-input-79-a5b3fa62de6e>\u001b[0m in \u001b[0;36m<module>\u001b[1;34m()\u001b[0m\n\u001b[0;32m      1\u001b[0m \u001b[1;32mfor\u001b[0m \u001b[0mrow\u001b[0m \u001b[1;32min\u001b[0m \u001b[0mreview_df\u001b[0m\u001b[1;33m[\u001b[0m\u001b[1;34m'frequent_words'\u001b[0m\u001b[1;33m]\u001b[0m\u001b[1;33m:\u001b[0m\u001b[1;33m\u001b[0m\u001b[0m\n\u001b[1;32m----> 2\u001b[1;33m     \u001b[0mnew_value\u001b[0m \u001b[1;33m=\u001b[0m \u001b[1;33m[\u001b[0m\u001b[0mi\u001b[0m\u001b[1;33m[\u001b[0m\u001b[1;36m0\u001b[0m\u001b[1;33m]\u001b[0m \u001b[1;32mfor\u001b[0m \u001b[0mi\u001b[0m \u001b[1;32min\u001b[0m \u001b[0mrow\u001b[0m\u001b[1;33m]\u001b[0m\u001b[1;33m\u001b[0m\u001b[0m\n\u001b[0m\u001b[0;32m      3\u001b[0m \u001b[1;33m\u001b[0m\u001b[0m\n",
      "\u001b[1;32m<ipython-input-79-a5b3fa62de6e>\u001b[0m in \u001b[0;36m<listcomp>\u001b[1;34m(.0)\u001b[0m\n\u001b[0;32m      1\u001b[0m \u001b[1;32mfor\u001b[0m \u001b[0mrow\u001b[0m \u001b[1;32min\u001b[0m \u001b[0mreview_df\u001b[0m\u001b[1;33m[\u001b[0m\u001b[1;34m'frequent_words'\u001b[0m\u001b[1;33m]\u001b[0m\u001b[1;33m:\u001b[0m\u001b[1;33m\u001b[0m\u001b[0m\n\u001b[1;32m----> 2\u001b[1;33m     \u001b[0mnew_value\u001b[0m \u001b[1;33m=\u001b[0m \u001b[1;33m[\u001b[0m\u001b[0mi\u001b[0m\u001b[1;33m[\u001b[0m\u001b[1;36m0\u001b[0m\u001b[1;33m]\u001b[0m \u001b[1;32mfor\u001b[0m \u001b[0mi\u001b[0m \u001b[1;32min\u001b[0m \u001b[0mrow\u001b[0m\u001b[1;33m]\u001b[0m\u001b[1;33m\u001b[0m\u001b[0m\n\u001b[0m\u001b[0;32m      3\u001b[0m \u001b[1;33m\u001b[0m\u001b[0m\n",
      "\u001b[1;31mTypeError\u001b[0m: 'int' object is not subscriptable"
     ]
    }
   ],
   "source": [
    "for row in review_df['frequent_words']:\n",
    "    new_value = [i[0] for i in row]\n",
    "    "
   ]
  },
  {
   "cell_type": "code",
   "execution_count": 85,
   "metadata": {},
   "outputs": [
    {
     "ename": "IndexError",
     "evalue": "tuple index out of range",
     "output_type": "error",
     "traceback": [
      "\u001b[1;31m---------------------------------------------------------------------------\u001b[0m",
      "\u001b[1;31mIndexError\u001b[0m                                Traceback (most recent call last)",
      "\u001b[1;32m<ipython-input-85-a2398bfa2402>\u001b[0m in \u001b[0;36m<module>\u001b[1;34m()\u001b[0m\n\u001b[1;32m----> 1\u001b[1;33m \u001b[0msorted\u001b[0m\u001b[1;33m(\u001b[0m\u001b[0mreview_df\u001b[0m\u001b[1;33m[\u001b[0m\u001b[1;34m'frequent_words'\u001b[0m\u001b[1;33m]\u001b[0m\u001b[1;33m.\u001b[0m\u001b[0mitems\u001b[0m\u001b[1;33m(\u001b[0m\u001b[1;33m)\u001b[0m\u001b[1;33m,\u001b[0m \u001b[0mkey\u001b[0m\u001b[1;33m=\u001b[0m\u001b[1;32mlambda\u001b[0m \u001b[0mk_v\u001b[0m\u001b[1;33m:\u001b[0m \u001b[0mk_v\u001b[0m\u001b[1;33m[\u001b[0m\u001b[1;36m2\u001b[0m\u001b[1;33m]\u001b[0m\u001b[1;33m,\u001b[0m \u001b[0mreverse\u001b[0m\u001b[1;33m=\u001b[0m\u001b[1;32mTrue\u001b[0m\u001b[1;33m)\u001b[0m\u001b[1;33m\u001b[0m\u001b[0m\n\u001b[0m",
      "\u001b[1;32m<ipython-input-85-a2398bfa2402>\u001b[0m in \u001b[0;36m<lambda>\u001b[1;34m(k_v)\u001b[0m\n\u001b[1;32m----> 1\u001b[1;33m \u001b[0msorted\u001b[0m\u001b[1;33m(\u001b[0m\u001b[0mreview_df\u001b[0m\u001b[1;33m[\u001b[0m\u001b[1;34m'frequent_words'\u001b[0m\u001b[1;33m]\u001b[0m\u001b[1;33m.\u001b[0m\u001b[0mitems\u001b[0m\u001b[1;33m(\u001b[0m\u001b[1;33m)\u001b[0m\u001b[1;33m,\u001b[0m \u001b[0mkey\u001b[0m\u001b[1;33m=\u001b[0m\u001b[1;32mlambda\u001b[0m \u001b[0mk_v\u001b[0m\u001b[1;33m:\u001b[0m \u001b[0mk_v\u001b[0m\u001b[1;33m[\u001b[0m\u001b[1;36m2\u001b[0m\u001b[1;33m]\u001b[0m\u001b[1;33m,\u001b[0m \u001b[0mreverse\u001b[0m\u001b[1;33m=\u001b[0m\u001b[1;32mTrue\u001b[0m\u001b[1;33m)\u001b[0m\u001b[1;33m\u001b[0m\u001b[0m\n\u001b[0m",
      "\u001b[1;31mIndexError\u001b[0m: tuple index out of range"
     ]
    }
   ],
   "source": [
    "sorted(review_df['frequent_words'].items(), key=lambda k_v: k_v[1][2], reverse=True)"
   ]
  },
  {
   "cell_type": "code",
   "execution_count": null,
   "metadata": {},
   "outputs": [],
   "source": [
    "[i[0] for i in a]"
   ]
  },
  {
   "cell_type": "code",
   "execution_count": 37,
   "metadata": {},
   "outputs": [
    {
     "name": "stdout",
     "output_type": "stream",
     "text": [
      "[0.08215823 0.01730094 0.1035508  ... 0.00013333 0.00012307 0.00980473]\n"
     ]
    }
   ],
   "source": [
    "print(review_df['review_weight'].values)"
   ]
  },
  {
   "cell_type": "code",
   "execution_count": 62,
   "metadata": {},
   "outputs": [
    {
     "name": "stdout",
     "output_type": "stream",
     "text": [
      "defaultdict(<class 'int'>, {'people': 2, 'want': 1, 'fast': 2, 'action': 1, 'movie': 1, 'style': 1, 'gaming': 1, 'appreciate': 1, 'finer': 1, 'things': 1, 'done': 2, 'military': 1, 'service': 1, 'picked': 1, 'milsim': 1, 'airsoft': 1, 'hobby': 1, 'closest': 1, 'get': 3, 'goes': 1, 'reality': 1, 'experiences': 2, 'arma': 1, 'cod': 1, 'bf': 1, 'shaking': 1, 'adrenaline': 1, 'release': 1, 'one': 2, 'comes': 1, 'mind': 1, 'mission': 2, 'destroy': 1, 'enemy': 4, 'comms': 2, 'tower': 10, 'squad': 1, 'leader': 1, 'ai': 2, 'approached': 1, 'told': 1, 'men': 3, 'go': 1, 'stealth': 1, 'firing': 2, 'unless': 1, 'fired': 2, 'upon': 1, 'moved': 1, 'slowly': 1, 'taking': 1, 'advantage': 1, 'terrain': 1, 'keeping': 1, 'watchful': 1, 'eye': 1, 'patrols': 4, 'visual': 1, 'range': 1, 'pace': 1, 'slowed': 1, 'even': 1, 'spent': 1, 'better': 1, 'part': 1, 'minutes': 1, 'looking': 1, 'advancing': 1, 'meters': 2, 'positioned': 1, 'cover': 1, 'wide': 1, 'arc': 1, 'spotted': 1, 'quite': 1, 'moving': 1, 'considered': 3, 'opening': 1, 'fire': 1, 'probably': 1, 'able': 1, 'drop': 1, 'good': 2, 'portion': 1, 'could': 2, 'zero': 1, 'position': 1, 'firefight': 1, 'always': 1, 'risk': 1, 'around': 2, 'missions': 1, 'started': 2, 'anthropomorphize': 1, 'bit': 1, 'secondly': 1, 'might': 2, 'hit': 1, 'killed': 1, 'would': 3, 'start': 2, 'engagement': 1, 'sudden': 1, 'hole': 1, 'opened': 1, 'patrol': 1, 'pattern': 1, 'realised': 1, 'unguarded': 1, 'opportunity': 1, 'something': 1, 'got': 1, 'ran': 2, 'towards': 1, 'time': 1, 'expecting': 1, 'bullets': 1, 'cracking': 1, 'head': 1, 'kept': 1, 'scanning': 1, 'whizzling': 1, 'bushes': 1, 'trying': 1, 'pick': 1, 'path': 1, 'least': 1, 'visibility': 1, 'seemed': 1, 'like': 1, 'far': 1, 'long': 1, 'reached': 1, 'threw': 1, 'satchel': 2, 'charge': 1, 'another': 1, 'measure': 1, 'bring': 1, 'sure': 1, 'attract': 1, 'attention': 1, 'turned': 1, 'made': 1, 'way': 1, 'back': 5, 'closed': 1, 'ordering': 1, 'fall': 1, 'hope': 1, 'growing': 1, 'alive': 2, 'falling': 1, 'finally': 1, 'detonated': 1, 'charges': 1, 'fell': 1, 'short': 1, 'run': 1, 'truck': 1, 'command': 2, 'pulled': 1, 'perfect': 1, 'shot': 1, 1: 0, 10: 0})\n"
     ]
    }
   ],
   "source": [
    "print(review_df['frequent_words'][1])"
   ]
  },
  {
   "cell_type": "code",
   "execution_count": 296,
   "metadata": {},
   "outputs": [],
   "source": [
    "key_df=pd.DataFrame(index=review_df['game_name'].unique(),columns=['key_word','key_bigram'])"
   ]
  },
  {
   "cell_type": "code",
   "execution_count": 297,
   "metadata": {
    "scrolled": true
   },
   "outputs": [
    {
     "data": {
      "text/html": [
       "<div>\n",
       "<style scoped>\n",
       "    .dataframe tbody tr th:only-of-type {\n",
       "        vertical-align: middle;\n",
       "    }\n",
       "\n",
       "    .dataframe tbody tr th {\n",
       "        vertical-align: top;\n",
       "    }\n",
       "\n",
       "    .dataframe thead th {\n",
       "        text-align: right;\n",
       "    }\n",
       "</style>\n",
       "<table border=\"1\" class=\"dataframe\">\n",
       "  <thead>\n",
       "    <tr style=\"text-align: right;\">\n",
       "      <th></th>\n",
       "      <th>key_word</th>\n",
       "      <th>key_bigram</th>\n",
       "    </tr>\n",
       "  </thead>\n",
       "  <tbody>\n",
       "    <tr>\n",
       "      <th>Arma_3</th>\n",
       "      <td>NaN</td>\n",
       "      <td>NaN</td>\n",
       "    </tr>\n",
       "    <tr>\n",
       "      <th>Counter_Strike</th>\n",
       "      <td>NaN</td>\n",
       "      <td>NaN</td>\n",
       "    </tr>\n",
       "    <tr>\n",
       "      <th>Counter_Strike_Global_Offensive</th>\n",
       "      <td>NaN</td>\n",
       "      <td>NaN</td>\n",
       "    </tr>\n",
       "    <tr>\n",
       "      <th>Dota_2</th>\n",
       "      <td>NaN</td>\n",
       "      <td>NaN</td>\n",
       "    </tr>\n",
       "    <tr>\n",
       "      <th>Football_Manager_2015</th>\n",
       "      <td>NaN</td>\n",
       "      <td>NaN</td>\n",
       "    </tr>\n",
       "    <tr>\n",
       "      <th>Garrys_Mod</th>\n",
       "      <td>NaN</td>\n",
       "      <td>NaN</td>\n",
       "    </tr>\n",
       "    <tr>\n",
       "      <th>Grand_Theft_Auto_V</th>\n",
       "      <td>NaN</td>\n",
       "      <td>NaN</td>\n",
       "    </tr>\n",
       "    <tr>\n",
       "      <th>Sid_Meiers_Civilization_5</th>\n",
       "      <td>NaN</td>\n",
       "      <td>NaN</td>\n",
       "    </tr>\n",
       "    <tr>\n",
       "      <th>Team_Fortress_2</th>\n",
       "      <td>NaN</td>\n",
       "      <td>NaN</td>\n",
       "    </tr>\n",
       "    <tr>\n",
       "      <th>The_Elder_Scrolls_V</th>\n",
       "      <td>NaN</td>\n",
       "      <td>NaN</td>\n",
       "    </tr>\n",
       "    <tr>\n",
       "      <th>Warframe</th>\n",
       "      <td>NaN</td>\n",
       "      <td>NaN</td>\n",
       "    </tr>\n",
       "  </tbody>\n",
       "</table>\n",
       "</div>"
      ],
      "text/plain": [
       "                                key_word key_bigram\n",
       "Arma_3                               NaN        NaN\n",
       "Counter_Strike                       NaN        NaN\n",
       "Counter_Strike_Global_Offensive      NaN        NaN\n",
       "Dota_2                               NaN        NaN\n",
       "Football_Manager_2015                NaN        NaN\n",
       "Garrys_Mod                           NaN        NaN\n",
       "Grand_Theft_Auto_V                   NaN        NaN\n",
       "Sid_Meiers_Civilization_5            NaN        NaN\n",
       "Team_Fortress_2                      NaN        NaN\n",
       "The_Elder_Scrolls_V                  NaN        NaN\n",
       "Warframe                             NaN        NaN"
      ]
     },
     "execution_count": 297,
     "metadata": {},
     "output_type": "execute_result"
    }
   ],
   "source": [
    "key_df"
   ]
  },
  {
   "cell_type": "code",
   "execution_count": 324,
   "metadata": {},
   "outputs": [
    {
     "ename": "TypeError",
     "evalue": "unhashable type: 'slice'",
     "output_type": "error",
     "traceback": [
      "\u001b[1;31m---------------------------------------------------------------------------\u001b[0m",
      "\u001b[1;31mTypeError\u001b[0m                                 Traceback (most recent call last)",
      "\u001b[1;32m<ipython-input-324-d4483a699a68>\u001b[0m in \u001b[0;36m<module>\u001b[1;34m()\u001b[0m\n\u001b[0;32m      7\u001b[0m             \u001b[0mresult\u001b[0m\u001b[1;33m[\u001b[0m\u001b[0mword\u001b[0m\u001b[1;33m[\u001b[0m\u001b[1;36m1\u001b[0m\u001b[1;33m]\u001b[0m\u001b[1;33m]\u001b[0m\u001b[1;33m+=\u001b[0m\u001b[0mword\u001b[0m\u001b[1;33m[\u001b[0m\u001b[1;36m0\u001b[0m\u001b[1;33m]\u001b[0m\u001b[1;33m\u001b[0m\u001b[0m\n\u001b[0;32m      8\u001b[0m     \u001b[0mfrequent_words\u001b[0m\u001b[1;33m=\u001b[0m\u001b[0mOrderedDict\u001b[0m\u001b[1;33m(\u001b[0m\u001b[0msorted\u001b[0m\u001b[1;33m(\u001b[0m\u001b[0mresult\u001b[0m\u001b[1;33m.\u001b[0m\u001b[0mitems\u001b[0m\u001b[1;33m(\u001b[0m\u001b[1;33m)\u001b[0m\u001b[1;33m,\u001b[0m \u001b[0mkey\u001b[0m\u001b[1;33m=\u001b[0m\u001b[1;32mlambda\u001b[0m \u001b[0mt\u001b[0m\u001b[1;33m:\u001b[0m\u001b[0mt\u001b[0m\u001b[1;33m[\u001b[0m\u001b[1;36m1\u001b[0m\u001b[1;33m]\u001b[0m\u001b[1;33m,\u001b[0m \u001b[0mreverse\u001b[0m\u001b[1;33m=\u001b[0m\u001b[1;32mTrue\u001b[0m\u001b[1;33m)\u001b[0m\u001b[1;33m)\u001b[0m\u001b[1;33m\u001b[0m\u001b[0m\n\u001b[1;32m----> 9\u001b[1;33m     \u001b[0mkey_df\u001b[0m\u001b[1;33m[\u001b[0m\u001b[1;34m'key_word'\u001b[0m\u001b[1;33m]\u001b[0m\u001b[1;33m[\u001b[0m\u001b[1;34m'Warframe'\u001b[0m\u001b[1;33m]\u001b[0m\u001b[1;33m=\u001b[0m\u001b[0mfrequent_words\u001b[0m\u001b[1;33m[\u001b[0m\u001b[1;36m0\u001b[0m\u001b[1;33m:\u001b[0m\u001b[1;36m100\u001b[0m\u001b[1;33m]\u001b[0m\u001b[1;33m\u001b[0m\u001b[0m\n\u001b[0m\u001b[0;32m     10\u001b[0m     \u001b[1;31m#x=((value*working_data.review_weight,key) for key,value in commonword.items())\u001b[0m\u001b[1;33m\u001b[0m\u001b[1;33m\u001b[0m\u001b[0m\n\u001b[0;32m     11\u001b[0m     \u001b[1;31m#ranked.extend(x)\u001b[0m\u001b[1;33m\u001b[0m\u001b[1;33m\u001b[0m\u001b[0m\n",
      "\u001b[1;31mTypeError\u001b[0m: unhashable type: 'slice'"
     ]
    }
   ],
   "source": [
    "from collections import OrderedDict\n",
    "result=defaultdict(int)\n",
    "for each_game in review_df['game_name'].unique():\n",
    "    working_data=review_df.loc[(review_df['game_name'] == 'Warframe')]\n",
    "    for num in range(len(working_data['ranked_words'])):\n",
    "        for word in working_data['ranked_words'].iloc[num]:\n",
    "            result[word[1]]+=word[0]\n",
    "    frequent_words=OrderedDict(sorted(result.items(), key=lambda t:t[1], reverse=True))\n",
    "    for (key, value) in enumerate(frequent_words.items()):\n",
    "        key_df['key_word']['Warframe']=frequent_words[0:100]\n",
    "    #x=((value*working_data.review_weight,key) for key,value in commonword.items())   \n",
    "    #ranked.extend(x)"
   ]
  },
  {
   "cell_type": "code",
   "execution_count": 334,
   "metadata": {},
   "outputs": [
    {
     "name": "stdout",
     "output_type": "stream",
     "text": [
      "<generator object <genexpr> at 0x0000019628961C78>\n"
     ]
    }
   ],
   "source": [
    "print((key for key, value in frequent_words.items()))"
   ]
  },
  {
   "cell_type": "code",
   "execution_count": 349,
   "metadata": {},
   "outputs": [
    {
     "data": {
      "text/plain": [
       "list"
      ]
     },
     "execution_count": 349,
     "metadata": {},
     "output_type": "execute_result"
    }
   ],
   "source": [
    "type(key_df['key_word']['Warframe'])"
   ]
  },
  {
   "cell_type": "code",
   "execution_count": null,
   "metadata": {},
   "outputs": [],
   "source": [
    "key_df"
   ]
  },
  {
   "cell_type": "code",
   "execution_count": null,
   "metadata": {},
   "outputs": [],
   "source": [
    "result = defaultdict(int)\n",
    "\n",
    "for d in lst:\n",
    "    result[d['name']] += int(d['value'])"
   ]
  },
  {
   "cell_type": "code",
   "execution_count": 263,
   "metadata": {},
   "outputs": [
    {
     "name": "stdout",
     "output_type": "stream",
     "text": [
      "[(44.10055688146381, 'screen'), (19.006522744420376, 'cut'), (15.989456842796194, 'take'), (15.989456842796194, 'please'), (15.989456842796194, 'playing'), (15.989456842796194, 'hour'), (15.989456842796194, 'forget'), (15.989456842796194, 'break'), (11.924584980237153, 'got'), (10.0, 'team'), (10.0, 'players'), (10.0, 'play'), (9.97701185770751, 'hatty'), (9.584411434909995, 'roleplay'), (9.584411434909995, 'roleplay'), (9.0, 'player'), (8.884964200477327, 'avoid'), (8.71224634972691, 'hey'), (8.611113390219888, 'grind'), (7.887051383399209, 'people'), (7.887051383399209, 'people'), (7.887051383399209, 'people'), (7.885533596837945, 'people'), (7.885533596837945, 'people'), (7.885533596837945, 'people'), (7.885533596837945, 'people'), (7.885533596837945, 'people'), (7.8840790513834, 'people'), (7.8840790513834, 'people'), (7.8840790513834, 'people'), (7.8840790513834, 'people'), (7.8840790513834, 'people'), (7.8840790513834, 'people'), (7.8840790513834, 'people'), (7.50094861660079, 'hat'), (6.99260106603062, 'dota'), (6.926272300240952, 'dota'), (6.9011699604743075, 'really'), (6.9011699604743075, 'really'), (6.9011699604743075, 'really'), (6.899841897233202, 'really'), (6.899841897233202, 'really'), (6.899841897233202, 'really'), (6.899841897233202, 'really'), (6.899841897233202, 'really'), (6.898569169960474, 'really'), (6.898569169960474, 'really'), (6.898569169960474, 'really'), (6.898569169960474, 'really'), (6.898569169960474, 'really'), (6.898569169960474, 'really'), (6.898569169960474, 'really'), (6.547043478260869, 'enemy'), (6.393201581027669, 'profit'), (6.313444709626094, 'bruh'), (6.293340959427558, 'pvp'), (5.915288537549406, 'play'), (5.915288537549406, 'play'), (5.915288537549406, 'play'), (5.914150197628459, 'play'), (5.914150197628459, 'play'), (5.914150197628459, 'play'), (5.914150197628459, 'play'), (5.914150197628459, 'play'), (5.91305928853755, 'play'), (5.91305928853755, 'play'), (5.91305928853755, 'play'), (5.91305928853755, 'play'), (5.91305928853755, 'play'), (5.91305928853755, 'play'), (5.91305928853755, 'play'), (5.19296442687747, 'hathat'), (5.159320466327549, 'techies'), (5.114561264822135, 'making'), (5.062977657444144, 'ffs'), (5.0, 'modes'), (4.991852654124176, 'dota'), (4.988505928853755, 'tha'), (4.894820746221433, 'team'), (4.894820746221433, 'players'), (4.865924158048263, 'fake'), (4.480588626783998, 'cs'), (4.480588626783998, 'cs'), (4.480588626783998, 'cs'), (4.480588626783998, 'cs'), (4.480588626783998, 'cs'), (4.480588626783998, 'cs'), (4.480588626783998, 'cs'), (4.4280212934647185, 'arma'), (4.4170276281901195, 'fmc'), (4.335740174425189, 'arma'), (4.262134387351779, 'class'), (4.157884489011123, 'legends'), (4.157884489011123, 'league'), (4.024116132053384, 'match'), (4.0, 'weapons'), (4.0, 'versus'), (4.0, 'levels'), (3.9435256916996044, 'worth')]\n"
     ]
    }
   ],
   "source": [
    "print(sorted(ranked,reverse=True)[1:100])"
   ]
  },
  {
   "cell_type": "code",
   "execution_count": 257,
   "metadata": {},
   "outputs": [
    {
     "data": {
      "text/html": [
       "<div>\n",
       "<style scoped>\n",
       "    .dataframe tbody tr th:only-of-type {\n",
       "        vertical-align: middle;\n",
       "    }\n",
       "\n",
       "    .dataframe tbody tr th {\n",
       "        vertical-align: top;\n",
       "    }\n",
       "\n",
       "    .dataframe thead th {\n",
       "        text-align: right;\n",
       "    }\n",
       "</style>\n",
       "<table border=\"1\" class=\"dataframe\">\n",
       "  <thead>\n",
       "    <tr style=\"text-align: right;\">\n",
       "      <th></th>\n",
       "      <th>achievement_progress.num_achievements_attained</th>\n",
       "      <th>achievement_progress.num_achievements_percentage</th>\n",
       "      <th>achievement_progress.num_achievements_possible</th>\n",
       "      <th>date_posted</th>\n",
       "      <th>date_updated</th>\n",
       "      <th>found_helpful_percentage</th>\n",
       "      <th>friend_player_level</th>\n",
       "      <th>num_badges</th>\n",
       "      <th>num_comments</th>\n",
       "      <th>num_found_funny</th>\n",
       "      <th>...</th>\n",
       "      <th>steam_id_number</th>\n",
       "      <th>total_game_hours</th>\n",
       "      <th>total_game_hours_last_two_weeks</th>\n",
       "      <th>username</th>\n",
       "      <th>game_name</th>\n",
       "      <th>cleaned</th>\n",
       "      <th>frequent_words</th>\n",
       "      <th>bigrams</th>\n",
       "      <th>ranked_words</th>\n",
       "      <th>review_weight</th>\n",
       "    </tr>\n",
       "  </thead>\n",
       "  <tbody>\n",
       "    <tr>\n",
       "      <th>0</th>\n",
       "      <td>NaN</td>\n",
       "      <td>NaN</td>\n",
       "      <td>NaN</td>\n",
       "      <td>Oct 31, 2014, 7:00AM</td>\n",
       "      <td>May 3, 2015, 2:28AM</td>\n",
       "      <td>0.948103</td>\n",
       "      <td>NaN</td>\n",
       "      <td>NaN</td>\n",
       "      <td>70</td>\n",
       "      <td>1</td>\n",
       "      <td>...</td>\n",
       "      <td>thisisthefallout</td>\n",
       "      <td>580.3</td>\n",
       "      <td>58.7</td>\n",
       "      <td>King Pootis</td>\n",
       "      <td>Arma_3</td>\n",
       "      <td>[first, brought, horrific, experience, ever, e...</td>\n",
       "      <td>{'first': 1, 'brought': 1, 'horrific': 1, 'exp...</td>\n",
       "      <td>[(first, brought), (brought, horrific), (horri...</td>\n",
       "      <td>[(0.16431645712991277, way), (0.16431645712991...</td>\n",
       "      <td>0.082158</td>\n",
       "    </tr>\n",
       "    <tr>\n",
       "      <th>1</th>\n",
       "      <td>43.0</td>\n",
       "      <td>0.661538</td>\n",
       "      <td>65.0</td>\n",
       "      <td>May 17, 2014, 11:01AM</td>\n",
       "      <td>Sep 22, 2014, 9:17AM</td>\n",
       "      <td>0.947903</td>\n",
       "      <td>14.0</td>\n",
       "      <td>9.0</td>\n",
       "      <td>90</td>\n",
       "      <td>1</td>\n",
       "      <td>...</td>\n",
       "      <td>PeaceFaker</td>\n",
       "      <td>122.2</td>\n",
       "      <td>2.8</td>\n",
       "      <td>Peace</td>\n",
       "      <td>Arma_3</td>\n",
       "      <td>[people, want, fast, action, movie, style, gam...</td>\n",
       "      <td>{'people': 2, 'want': 1, 'fast': 2, 'action': ...</td>\n",
       "      <td>[(people, want), (want, fast), (fast, action),...</td>\n",
       "      <td>[(0.17300940083814703, tower), (0.086504700419...</td>\n",
       "      <td>0.017301</td>\n",
       "    </tr>\n",
       "    <tr>\n",
       "      <th>2</th>\n",
       "      <td>15.0</td>\n",
       "      <td>0.288462</td>\n",
       "      <td>52.0</td>\n",
       "      <td>Sep 30, 2014, 8:55AM</td>\n",
       "      <td>Sep 30, 2014, 12:43PM</td>\n",
       "      <td>0.957048</td>\n",
       "      <td>31.0</td>\n",
       "      <td>36.0</td>\n",
       "      <td>51</td>\n",
       "      <td>1</td>\n",
       "      <td>...</td>\n",
       "      <td>TheDanius</td>\n",
       "      <td>731.4</td>\n",
       "      <td>38.2</td>\n",
       "      <td>[13th] Danius</td>\n",
       "      <td>Arma_3</td>\n",
       "      <td>[oh, man, even, begin, one, would, extreme, di...</td>\n",
       "      <td>{'oh': 3, 'man': 1, 'even': 3, 'begin': 1, 'on...</td>\n",
       "      <td>[(oh, man), (man, even), (even, begin), (begin...</td>\n",
       "      <td>[(1.0355079850492694, arma), (0.62130479102956...</td>\n",
       "      <td>0.103551</td>\n",
       "    </tr>\n",
       "  </tbody>\n",
       "</table>\n",
       "<p>3 rows × 35 columns</p>\n",
       "</div>"
      ],
      "text/plain": [
       "   achievement_progress.num_achievements_attained  \\\n",
       "0                                             NaN   \n",
       "1                                            43.0   \n",
       "2                                            15.0   \n",
       "\n",
       "   achievement_progress.num_achievements_percentage  \\\n",
       "0                                               NaN   \n",
       "1                                          0.661538   \n",
       "2                                          0.288462   \n",
       "\n",
       "   achievement_progress.num_achievements_possible            date_posted  \\\n",
       "0                                             NaN   Oct 31, 2014, 7:00AM   \n",
       "1                                            65.0  May 17, 2014, 11:01AM   \n",
       "2                                            52.0   Sep 30, 2014, 8:55AM   \n",
       "\n",
       "            date_updated  found_helpful_percentage  friend_player_level  \\\n",
       "0    May 3, 2015, 2:28AM                  0.948103                  NaN   \n",
       "1   Sep 22, 2014, 9:17AM                  0.947903                 14.0   \n",
       "2  Sep 30, 2014, 12:43PM                  0.957048                 31.0   \n",
       "\n",
       "   num_badges  num_comments  num_found_funny      ...         steam_id_number  \\\n",
       "0         NaN            70                1      ...        thisisthefallout   \n",
       "1         9.0            90                1      ...              PeaceFaker   \n",
       "2        36.0            51                1      ...               TheDanius   \n",
       "\n",
       "   total_game_hours  total_game_hours_last_two_weeks       username  \\\n",
       "0             580.3                             58.7    King Pootis   \n",
       "1             122.2                              2.8          Peace   \n",
       "2             731.4                             38.2  [13th] Danius   \n",
       "\n",
       "   game_name                                            cleaned  \\\n",
       "0     Arma_3  [first, brought, horrific, experience, ever, e...   \n",
       "1     Arma_3  [people, want, fast, action, movie, style, gam...   \n",
       "2     Arma_3  [oh, man, even, begin, one, would, extreme, di...   \n",
       "\n",
       "                                      frequent_words  \\\n",
       "0  {'first': 1, 'brought': 1, 'horrific': 1, 'exp...   \n",
       "1  {'people': 2, 'want': 1, 'fast': 2, 'action': ...   \n",
       "2  {'oh': 3, 'man': 1, 'even': 3, 'begin': 1, 'on...   \n",
       "\n",
       "                                             bigrams  \\\n",
       "0  [(first, brought), (brought, horrific), (horri...   \n",
       "1  [(people, want), (want, fast), (fast, action),...   \n",
       "2  [(oh, man), (man, even), (even, begin), (begin...   \n",
       "\n",
       "                                        ranked_words  review_weight  \n",
       "0  [(0.16431645712991277, way), (0.16431645712991...       0.082158  \n",
       "1  [(0.17300940083814703, tower), (0.086504700419...       0.017301  \n",
       "2  [(1.0355079850492694, arma), (0.62130479102956...       0.103551  \n",
       "\n",
       "[3 rows x 35 columns]"
      ]
     },
     "execution_count": 257,
     "metadata": {},
     "output_type": "execute_result"
    }
   ],
   "source": [
    "review_df.head(3)"
   ]
  },
  {
   "cell_type": "code",
   "execution_count": null,
   "metadata": {},
   "outputs": [],
   "source": [
    "df.head()"
   ]
  },
  {
   "cell_type": "code",
   "execution_count": null,
   "metadata": {},
   "outputs": [],
   "source": [
    "print(weighted_list)"
   ]
  },
  {
   "cell_type": "code",
   "execution_count": null,
   "metadata": {},
   "outputs": [],
   "source": [
    "review1=pd.DataFrame(reviewdata['Warframe'])"
   ]
  },
  {
   "cell_type": "code",
   "execution_count": null,
   "metadata": {},
   "outputs": [],
   "source": [
    "s=sum(review1['total_game_hours'])"
   ]
  },
  {
   "cell_type": "code",
   "execution_count": null,
   "metadata": {},
   "outputs": [],
   "source": [
    "type([review1['total_game_hours']/s])"
   ]
  },
  {
   "cell_type": "code",
   "execution_count": null,
   "metadata": {},
   "outputs": [],
   "source": [
    "reviewex=reviewdata['Warframe'][99]['review']\n",
    "print(reviewex)"
   ]
  },
  {
   "cell_type": "code",
   "execution_count": null,
   "metadata": {},
   "outputs": [],
   "source": [
    "cleaned=reviewdata['Warframe'][99]['cleaned review']\n",
    "print(cleaned)"
   ]
  },
  {
   "cell_type": "code",
   "execution_count": null,
   "metadata": {},
   "outputs": [],
   "source": [
    "print(reviewdata['Warframe'][99]['frequent words'])"
   ]
  },
  {
   "cell_type": "code",
   "execution_count": null,
   "metadata": {},
   "outputs": [],
   "source": [
    "wordfreq=defaultdict(int)"
   ]
  },
  {
   "cell_type": "code",
   "execution_count": null,
   "metadata": {},
   "outputs": [],
   "source": [
    "wordfreq.items()"
   ]
  },
  {
   "cell_type": "code",
   "execution_count": null,
   "metadata": {},
   "outputs": [],
   "source": [
    "type(wordfreq)"
   ]
  }
 ],
 "metadata": {
  "kernelspec": {
   "display_name": "Python 3",
   "language": "python",
   "name": "python3"
  },
  "language_info": {
   "codemirror_mode": {
    "name": "ipython",
    "version": 3
   },
   "file_extension": ".py",
   "mimetype": "text/x-python",
   "name": "python",
   "nbconvert_exporter": "python",
   "pygments_lexer": "ipython3",
   "version": "3.7.0"
  }
 },
 "nbformat": 4,
 "nbformat_minor": 2
}
