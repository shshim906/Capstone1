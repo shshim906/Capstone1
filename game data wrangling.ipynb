{
 "cells": [
  {
   "cell_type": "markdown",
   "metadata": {},
   "source": [
    "### import necessary toolsets"
   ]
  },
  {
   "cell_type": "code",
   "execution_count": 39,
   "metadata": {},
   "outputs": [],
   "source": [
    "import json\n",
    "import pandas as pd\n",
    "import os\n",
    "import string\n",
    "import re # regular expression toolkit\n",
    "import nltk # Natural language toolkit"
   ]
  },
  {
   "cell_type": "markdown",
   "metadata": {},
   "source": [
    "### get data from folder and save file names"
   ]
  },
  {
   "cell_type": "code",
   "execution_count": 28,
   "metadata": {},
   "outputs": [],
   "source": [
    "folder='C:/Users/shshi/Desktop/Capstone 1/DATA/steam_reviews-master/steam_reviews-master/data/'"
   ]
  },
  {
   "cell_type": "code",
   "execution_count": 29,
   "metadata": {},
   "outputs": [],
   "source": [
    "filenames=os.listdir(folder)"
   ]
  },
  {
   "cell_type": "code",
   "execution_count": 30,
   "metadata": {},
   "outputs": [
    {
     "data": {
      "text/plain": [
       "'Arma_3.jsonlines'"
      ]
     },
     "execution_count": 30,
     "metadata": {},
     "output_type": "execute_result"
    }
   ],
   "source": [
    "filenames[1]"
   ]
  },
  {
   "cell_type": "markdown",
   "metadata": {},
   "source": [
    "### define function to get data from each file"
   ]
  },
  {
   "cell_type": "code",
   "execution_count": 31,
   "metadata": {},
   "outputs": [],
   "source": [
    "def get_jsonline(file_name):\n",
    "    data=[]\n",
    "    with open(file_name) as f:\n",
    "        for line in f:\n",
    "            data.append(json.loads(line))\n",
    "    return data"
   ]
  },
  {
   "cell_type": "markdown",
   "metadata": {},
   "source": [
    "### make a dictionary of all the review text data"
   ]
  },
  {
   "cell_type": "code",
   "execution_count": 32,
   "metadata": {},
   "outputs": [],
   "source": [
    "reviewdata=dict()"
   ]
  },
  {
   "cell_type": "code",
   "execution_count": 33,
   "metadata": {},
   "outputs": [],
   "source": [
    "for name in filenames:\n",
    "    if name.endswith(\".jsonlines\"):\n",
    "        reviewdata[name.split('.')[0]]=get_jsonline(folder+name)\n",
    "    else:\n",
    "        continue"
   ]
  },
  {
   "cell_type": "markdown",
   "metadata": {},
   "source": [
    "### extract only the review section from each game data and clean them up for analysis"
   ]
  },
  {
   "cell_type": "code",
   "execution_count": 34,
   "metadata": {},
   "outputs": [
    {
     "name": "stdout",
     "output_type": "stream",
     "text": [
      "!\"#$%&'()*+,-./:;<=>?@[\\]^_`{|}~\n"
     ]
    }
   ],
   "source": [
    "print(string.punctuation)"
   ]
  },
  {
   "cell_type": "markdown",
   "metadata": {},
   "source": [
    "### using maketrans function for string lets us remove all the characters that are in string.punctuation."
   ]
  },
  {
   "cell_type": "code",
   "execution_count": 46,
   "metadata": {},
   "outputs": [
    {
     "name": "stdout",
     "output_type": "stream",
     "text": [
      "[nltk_data] Downloading package punkt to\n",
      "[nltk_data]     C:\\Users\\shshi\\AppData\\Roaming\\nltk_data...\n",
      "[nltk_data]   Unzipping tokenizers\\punkt.zip.\n"
     ]
    },
    {
     "data": {
      "text/plain": [
       "True"
      ]
     },
     "execution_count": 46,
     "metadata": {},
     "output_type": "execute_result"
    }
   ],
   "source": [
    "import nltk\n",
    "nltk.download('punkt')"
   ]
  },
  {
   "cell_type": "code",
   "execution_count": 50,
   "metadata": {},
   "outputs": [],
   "source": [
    "from nltk.tokenize import word_tokenize\n",
    "from nltk.corpus import stopwords\n",
    "stop_words = set(stopwords.words('english'))\n",
    "# For each games that are in the data, perform text data cleaning process\n",
    "for key in reviewdata:\n",
    "    # Each games will have different number of reviews that needs to be cleaned\n",
    "    reviewnum=len(reviewdata[key])\n",
    "    for num in range(reviewnum):\n",
    "        # split the words into 'tokens'\n",
    "        tokens=word_tokenize(reviewdata[key][num]['review'])\n",
    "        # remove punctuation from the words\n",
    "        table=str.maketrans('','',string.punctuation)\n",
    "        words=[word.translate(table) for word in tokens]\n",
    "        \n",
    "        reviewdata[key][num]['cleaned review']=[word.lower() for word in words if word.isalpha()]\n",
    "        #remove words that have little meaning such as the, a, is, my, who, etc\n",
    "        "
   ]
  },
  {
   "cell_type": "code",
   "execution_count": 53,
   "metadata": {},
   "outputs": [],
   "source": [
    "from nltk.corpus import stopwords\n",
    "stop_words = stopwords.words('english')"
   ]
  },
  {
   "cell_type": "code",
   "execution_count": 54,
   "metadata": {},
   "outputs": [
    {
     "name": "stdout",
     "output_type": "stream",
     "text": [
      "['i', 'me', 'my', 'myself', 'we', 'our', 'ours', 'ourselves', 'you', \"you're\", \"you've\", \"you'll\", \"you'd\", 'your', 'yours', 'yourself', 'yourselves', 'he', 'him', 'his', 'himself', 'she', \"she's\", 'her', 'hers', 'herself', 'it', \"it's\", 'its', 'itself', 'they', 'them', 'their', 'theirs', 'themselves', 'what', 'which', 'who', 'whom', 'this', 'that', \"that'll\", 'these', 'those', 'am', 'is', 'are', 'was', 'were', 'be', 'been', 'being', 'have', 'has', 'had', 'having', 'do', 'does', 'did', 'doing', 'a', 'an', 'the', 'and', 'but', 'if', 'or', 'because', 'as', 'until', 'while', 'of', 'at', 'by', 'for', 'with', 'about', 'against', 'between', 'into', 'through', 'during', 'before', 'after', 'above', 'below', 'to', 'from', 'up', 'down', 'in', 'out', 'on', 'off', 'over', 'under', 'again', 'further', 'then', 'once', 'here', 'there', 'when', 'where', 'why', 'how', 'all', 'any', 'both', 'each', 'few', 'more', 'most', 'other', 'some', 'such', 'no', 'nor', 'not', 'only', 'own', 'same', 'so', 'than', 'too', 'very', 's', 't', 'can', 'will', 'just', 'don', \"don't\", 'should', \"should've\", 'now', 'd', 'll', 'm', 'o', 're', 've', 'y', 'ain', 'aren', \"aren't\", 'couldn', \"couldn't\", 'didn', \"didn't\", 'doesn', \"doesn't\", 'hadn', \"hadn't\", 'hasn', \"hasn't\", 'haven', \"haven't\", 'isn', \"isn't\", 'ma', 'mightn', \"mightn't\", 'mustn', \"mustn't\", 'needn', \"needn't\", 'shan', \"shan't\", 'shouldn', \"shouldn't\", 'wasn', \"wasn't\", 'weren', \"weren't\", 'won', \"won't\", 'wouldn', \"wouldn't\"]\n"
     ]
    }
   ],
   "source": [
    "print(stop_words)"
   ]
  },
  {
   "cell_type": "code",
   "execution_count": 48,
   "metadata": {},
   "outputs": [
    {
     "data": {
      "text/plain": [
       "'great game lots of fun. To bad it comes with to many bugs and crashes and these just take the fun out of the game. fix these and i would recommend it but for now i wont'"
      ]
     },
     "execution_count": 48,
     "metadata": {},
     "output_type": "execute_result"
    }
   ],
   "source": [
    "reviewdata['Warframe'][7122]['review']"
   ]
  },
  {
   "cell_type": "code",
   "execution_count": 49,
   "metadata": {},
   "outputs": [
    {
     "data": {
      "text/plain": [
       "['great',\n",
       " 'game',\n",
       " 'lots',\n",
       " 'of',\n",
       " 'fun',\n",
       " '.',\n",
       " 'To',\n",
       " 'bad',\n",
       " 'it',\n",
       " 'comes',\n",
       " 'with',\n",
       " 'to',\n",
       " 'many',\n",
       " 'bugs',\n",
       " 'and',\n",
       " 'crashes',\n",
       " 'and',\n",
       " 'these',\n",
       " 'just',\n",
       " 'take',\n",
       " 'the',\n",
       " 'fun',\n",
       " 'out',\n",
       " 'of',\n",
       " 'the',\n",
       " 'game',\n",
       " '.',\n",
       " 'fix',\n",
       " 'these',\n",
       " 'and',\n",
       " 'i',\n",
       " 'would',\n",
       " 'recommend',\n",
       " 'it',\n",
       " 'but',\n",
       " 'for',\n",
       " 'now',\n",
       " 'i',\n",
       " 'wont']"
      ]
     },
     "execution_count": 49,
     "metadata": {},
     "output_type": "execute_result"
    }
   ],
   "source": [
    "reviewdata['Warframe'][7122]['cleaned review']"
   ]
  },
  {
   "cell_type": "code",
   "execution_count": 82,
   "metadata": {},
   "outputs": [
    {
     "ename": "KeyError",
     "evalue": "'Warframe'",
     "output_type": "error",
     "traceback": [
      "\u001b[1;31m---------------------------------------------------------------------------\u001b[0m",
      "\u001b[1;31mKeyError\u001b[0m                                  Traceback (most recent call last)",
      "\u001b[1;32m<ipython-input-82-723fd7f05aec>\u001b[0m in \u001b[0;36m<module>\u001b[1;34m()\u001b[0m\n\u001b[1;32m----> 1\u001b[1;33m \u001b[0mlen\u001b[0m\u001b[1;33m(\u001b[0m\u001b[0mreviewdata\u001b[0m\u001b[1;33m[\u001b[0m\u001b[1;34m'Warframe'\u001b[0m\u001b[1;33m]\u001b[0m\u001b[1;33m)\u001b[0m\u001b[1;33m\u001b[0m\u001b[0m\n\u001b[0m",
      "\u001b[1;31mKeyError\u001b[0m: 'Warframe'"
     ]
    }
   ],
   "source": [
    "len(reviewdata['Warframe'])"
   ]
  },
  {
   "cell_type": "code",
   "execution_count": 67,
   "metadata": {},
   "outputs": [
    {
     "name": "stdout",
     "output_type": "stream",
     "text": [
      "7151\n",
      "6040\n",
      "7073\n",
      "9720\n",
      "1522\n",
      "7151\n",
      "13349\n",
      "7467\n",
      "5676\n",
      "7165\n",
      "7123\n"
     ]
    }
   ],
   "source": [
    "i=0\n",
    "for key in reviewdata:\n",
    "    print(len(reviewdata[key]))"
   ]
  },
  {
   "cell_type": "code",
   "execution_count": 29,
   "metadata": {},
   "outputs": [],
   "source": [
    "jsondata=get_jsonline(folder+filename[1])"
   ]
  },
  {
   "cell_type": "code",
   "execution_count": 30,
   "metadata": {},
   "outputs": [
    {
     "data": {
      "text/html": [
       "<div>\n",
       "<style scoped>\n",
       "    .dataframe tbody tr th:only-of-type {\n",
       "        vertical-align: middle;\n",
       "    }\n",
       "\n",
       "    .dataframe tbody tr th {\n",
       "        vertical-align: top;\n",
       "    }\n",
       "\n",
       "    .dataframe thead th {\n",
       "        text-align: right;\n",
       "    }\n",
       "</style>\n",
       "<table border=\"1\" class=\"dataframe\">\n",
       "  <thead>\n",
       "    <tr style=\"text-align: right;\">\n",
       "      <th></th>\n",
       "      <th>achievement_progress</th>\n",
       "      <th>date_posted</th>\n",
       "      <th>date_updated</th>\n",
       "      <th>found_helpful_percentage</th>\n",
       "      <th>friend_player_level</th>\n",
       "      <th>num_badges</th>\n",
       "      <th>num_comments</th>\n",
       "      <th>num_found_funny</th>\n",
       "      <th>num_found_helpful</th>\n",
       "      <th>num_found_unhelpful</th>\n",
       "      <th>...</th>\n",
       "      <th>num_workshop_items</th>\n",
       "      <th>orig_url</th>\n",
       "      <th>profile_url</th>\n",
       "      <th>rating</th>\n",
       "      <th>review</th>\n",
       "      <th>review_url</th>\n",
       "      <th>steam_id_number</th>\n",
       "      <th>total_game_hours</th>\n",
       "      <th>total_game_hours_last_two_weeks</th>\n",
       "      <th>username</th>\n",
       "    </tr>\n",
       "  </thead>\n",
       "  <tbody>\n",
       "    <tr>\n",
       "      <th>0</th>\n",
       "      <td>{'num_achievements_percentage': None, 'num_ach...</td>\n",
       "      <td>Oct 31, 2014, 7:00AM</td>\n",
       "      <td>May 3, 2015, 2:28AM</td>\n",
       "      <td>0.948103</td>\n",
       "      <td>NaN</td>\n",
       "      <td>NaN</td>\n",
       "      <td>70</td>\n",
       "      <td>1</td>\n",
       "      <td>4622</td>\n",
       "      <td>253</td>\n",
       "      <td>...</td>\n",
       "      <td>0</td>\n",
       "      <td>http://steamcommunity.com/app/107410/homeconte...</td>\n",
       "      <td>http://steamcommunity.com/id/thisisthefallout</td>\n",
       "      <td>Recommended</td>\n",
       "      <td>My first game on A3 brought me the most horrif...</td>\n",
       "      <td>http://steamcommunity.com/id/thisisthefallout/...</td>\n",
       "      <td>thisisthefallout</td>\n",
       "      <td>580.3</td>\n",
       "      <td>58.7</td>\n",
       "      <td>King Pootis</td>\n",
       "    </tr>\n",
       "    <tr>\n",
       "      <th>1</th>\n",
       "      <td>{'num_achievements_percentage': 0.661538461538...</td>\n",
       "      <td>May 17, 2014, 11:01AM</td>\n",
       "      <td>Sep 22, 2014, 9:17AM</td>\n",
       "      <td>0.947903</td>\n",
       "      <td>14.0</td>\n",
       "      <td>9.0</td>\n",
       "      <td>90</td>\n",
       "      <td>1</td>\n",
       "      <td>3548</td>\n",
       "      <td>195</td>\n",
       "      <td>...</td>\n",
       "      <td>0</td>\n",
       "      <td>http://steamcommunity.com/app/107410/homeconte...</td>\n",
       "      <td>http://steamcommunity.com/id/PeaceFaker</td>\n",
       "      <td>Recommended</td>\n",
       "      <td>This is not a game for people who want fast ac...</td>\n",
       "      <td>http://steamcommunity.com/id/PeaceFaker/recomm...</td>\n",
       "      <td>PeaceFaker</td>\n",
       "      <td>122.2</td>\n",
       "      <td>2.8</td>\n",
       "      <td>Peace</td>\n",
       "    </tr>\n",
       "    <tr>\n",
       "      <th>2</th>\n",
       "      <td>{'num_achievements_percentage': 0.288461538461...</td>\n",
       "      <td>Sep 30, 2014, 8:55AM</td>\n",
       "      <td>Sep 30, 2014, 12:43PM</td>\n",
       "      <td>0.957048</td>\n",
       "      <td>31.0</td>\n",
       "      <td>36.0</td>\n",
       "      <td>51</td>\n",
       "      <td>1</td>\n",
       "      <td>1582</td>\n",
       "      <td>71</td>\n",
       "      <td>...</td>\n",
       "      <td>0</td>\n",
       "      <td>http://steamcommunity.com/app/107410/homeconte...</td>\n",
       "      <td>http://steamcommunity.com/id/TheDanius</td>\n",
       "      <td>Recommended</td>\n",
       "      <td>Oh man. Where to even begin with this one. It ...</td>\n",
       "      <td>http://steamcommunity.com/id/TheDanius/recomme...</td>\n",
       "      <td>TheDanius</td>\n",
       "      <td>731.4</td>\n",
       "      <td>38.2</td>\n",
       "      <td>[13th] Danius</td>\n",
       "    </tr>\n",
       "    <tr>\n",
       "      <th>3</th>\n",
       "      <td>{'num_achievements_percentage': None, 'num_ach...</td>\n",
       "      <td>Jan 11, 2015, 7:21PM</td>\n",
       "      <td>None</td>\n",
       "      <td>0.928828</td>\n",
       "      <td>12.0</td>\n",
       "      <td>10.0</td>\n",
       "      <td>27</td>\n",
       "      <td>1</td>\n",
       "      <td>1292</td>\n",
       "      <td>99</td>\n",
       "      <td>...</td>\n",
       "      <td>0</td>\n",
       "      <td>http://steamcommunity.com/app/107410/homeconte...</td>\n",
       "      <td>http://steamcommunity.com/id/ArtificialApple</td>\n",
       "      <td>Recommended</td>\n",
       "      <td>This is quite possibly the most emotional shoo...</td>\n",
       "      <td>http://steamcommunity.com/id/ArtificialApple/r...</td>\n",
       "      <td>ArtificialApple</td>\n",
       "      <td>291.8</td>\n",
       "      <td>25.2</td>\n",
       "      <td>ArtificialApple</td>\n",
       "    </tr>\n",
       "    <tr>\n",
       "      <th>4</th>\n",
       "      <td>{'num_achievements_percentage': 0.892215568862...</td>\n",
       "      <td>Oct 18, 2014, 11:58AM</td>\n",
       "      <td>None</td>\n",
       "      <td>0.883284</td>\n",
       "      <td>19.0</td>\n",
       "      <td>17.0</td>\n",
       "      <td>77</td>\n",
       "      <td>1</td>\n",
       "      <td>4465</td>\n",
       "      <td>590</td>\n",
       "      <td>...</td>\n",
       "      <td>4</td>\n",
       "      <td>http://steamcommunity.com/app/107410/homeconte...</td>\n",
       "      <td>http://steamcommunity.com/profiles/76561198058...</td>\n",
       "      <td>Recommended</td>\n",
       "      <td>If you have friends, this is a great game to p...</td>\n",
       "      <td>http://steamcommunity.com/profiles/76561198058...</td>\n",
       "      <td>76561198058863036</td>\n",
       "      <td>46.8</td>\n",
       "      <td>0.1</td>\n",
       "      <td>Sir Quad Kill aka Sir Charlie</td>\n",
       "    </tr>\n",
       "  </tbody>\n",
       "</table>\n",
       "<p>5 rows × 27 columns</p>\n",
       "</div>"
      ],
      "text/plain": [
       "                                achievement_progress            date_posted  \\\n",
       "0  {'num_achievements_percentage': None, 'num_ach...   Oct 31, 2014, 7:00AM   \n",
       "1  {'num_achievements_percentage': 0.661538461538...  May 17, 2014, 11:01AM   \n",
       "2  {'num_achievements_percentage': 0.288461538461...   Sep 30, 2014, 8:55AM   \n",
       "3  {'num_achievements_percentage': None, 'num_ach...   Jan 11, 2015, 7:21PM   \n",
       "4  {'num_achievements_percentage': 0.892215568862...  Oct 18, 2014, 11:58AM   \n",
       "\n",
       "            date_updated  found_helpful_percentage  friend_player_level  \\\n",
       "0    May 3, 2015, 2:28AM                  0.948103                  NaN   \n",
       "1   Sep 22, 2014, 9:17AM                  0.947903                 14.0   \n",
       "2  Sep 30, 2014, 12:43PM                  0.957048                 31.0   \n",
       "3                   None                  0.928828                 12.0   \n",
       "4                   None                  0.883284                 19.0   \n",
       "\n",
       "   num_badges  num_comments  num_found_funny  num_found_helpful  \\\n",
       "0         NaN            70                1               4622   \n",
       "1         9.0            90                1               3548   \n",
       "2        36.0            51                1               1582   \n",
       "3        10.0            27                1               1292   \n",
       "4        17.0            77                1               4465   \n",
       "\n",
       "   num_found_unhelpful              ...                num_workshop_items  \\\n",
       "0                  253              ...                                 0   \n",
       "1                  195              ...                                 0   \n",
       "2                   71              ...                                 0   \n",
       "3                   99              ...                                 0   \n",
       "4                  590              ...                                 4   \n",
       "\n",
       "                                            orig_url  \\\n",
       "0  http://steamcommunity.com/app/107410/homeconte...   \n",
       "1  http://steamcommunity.com/app/107410/homeconte...   \n",
       "2  http://steamcommunity.com/app/107410/homeconte...   \n",
       "3  http://steamcommunity.com/app/107410/homeconte...   \n",
       "4  http://steamcommunity.com/app/107410/homeconte...   \n",
       "\n",
       "                                         profile_url       rating  \\\n",
       "0      http://steamcommunity.com/id/thisisthefallout  Recommended   \n",
       "1            http://steamcommunity.com/id/PeaceFaker  Recommended   \n",
       "2             http://steamcommunity.com/id/TheDanius  Recommended   \n",
       "3       http://steamcommunity.com/id/ArtificialApple  Recommended   \n",
       "4  http://steamcommunity.com/profiles/76561198058...  Recommended   \n",
       "\n",
       "                                              review  \\\n",
       "0  My first game on A3 brought me the most horrif...   \n",
       "1  This is not a game for people who want fast ac...   \n",
       "2  Oh man. Where to even begin with this one. It ...   \n",
       "3  This is quite possibly the most emotional shoo...   \n",
       "4  If you have friends, this is a great game to p...   \n",
       "\n",
       "                                          review_url    steam_id_number  \\\n",
       "0  http://steamcommunity.com/id/thisisthefallout/...   thisisthefallout   \n",
       "1  http://steamcommunity.com/id/PeaceFaker/recomm...         PeaceFaker   \n",
       "2  http://steamcommunity.com/id/TheDanius/recomme...          TheDanius   \n",
       "3  http://steamcommunity.com/id/ArtificialApple/r...    ArtificialApple   \n",
       "4  http://steamcommunity.com/profiles/76561198058...  76561198058863036   \n",
       "\n",
       "   total_game_hours total_game_hours_last_two_weeks  \\\n",
       "0             580.3                            58.7   \n",
       "1             122.2                             2.8   \n",
       "2             731.4                            38.2   \n",
       "3             291.8                            25.2   \n",
       "4              46.8                             0.1   \n",
       "\n",
       "                        username  \n",
       "0                    King Pootis  \n",
       "1                          Peace  \n",
       "2                  [13th] Danius  \n",
       "3                ArtificialApple  \n",
       "4  Sir Quad Kill aka Sir Charlie  \n",
       "\n",
       "[5 rows x 27 columns]"
      ]
     },
     "execution_count": 30,
     "metadata": {},
     "output_type": "execute_result"
    }
   ],
   "source": [
    "df=pd.DataFrame(jsondata)\n",
    "df.head()"
   ]
  }
 ],
 "metadata": {
  "kernelspec": {
   "display_name": "Python 3",
   "language": "python",
   "name": "python3"
  },
  "language_info": {
   "codemirror_mode": {
    "name": "ipython",
    "version": 3
   },
   "file_extension": ".py",
   "mimetype": "text/x-python",
   "name": "python",
   "nbconvert_exporter": "python",
   "pygments_lexer": "ipython3",
   "version": "3.6.4"
  }
 },
 "nbformat": 4,
 "nbformat_minor": 2
}
