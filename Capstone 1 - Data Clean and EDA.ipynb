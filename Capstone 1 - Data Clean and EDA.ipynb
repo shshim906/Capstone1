{
 "cells": [
  {
   "cell_type": "markdown",
   "metadata": {},
   "source": [
    "## The purpose of the Capstone 1 project is to provide a list of recommendation to a gamer so that they may find new games that will interest them."
   ]
  },
  {
   "cell_type": "markdown",
   "metadata": {},
   "source": [
    "\"Data Clean and EDA\" will clean the data and perform exploratory data analysis."
   ]
  },
  {
   "cell_type": "markdown",
   "metadata": {},
   "source": [
    "The input needed for this code is review data in the form of dictionary which was produced using the \"Data Pull\" script"
   ]
  },
  {
   "cell_type": "code",
   "execution_count": 14,
   "metadata": {},
   "outputs": [],
   "source": [
    "import pickle\n",
    "loaded_df=pickle.load(open('final.p',\"rb\"))\n",
    "steam_dict=pickle.load(open('steam.p',\"rb\"))"
   ]
  },
  {
   "cell_type": "code",
   "execution_count": 15,
   "metadata": {},
   "outputs": [
    {
     "data": {
      "text/plain": [
       "340020"
      ]
     },
     "execution_count": 15,
     "metadata": {},
     "output_type": "execute_result"
    }
   ],
   "source": [
    "len(loaded_df)"
   ]
  },
  {
   "cell_type": "code",
   "execution_count": 16,
   "metadata": {
    "scrolled": true
   },
   "outputs": [
    {
     "data": {
      "text/html": [
       "<div>\n",
       "<style scoped>\n",
       "    .dataframe tbody tr th:only-of-type {\n",
       "        vertical-align: middle;\n",
       "    }\n",
       "\n",
       "    .dataframe tbody tr th {\n",
       "        vertical-align: top;\n",
       "    }\n",
       "\n",
       "    .dataframe thead th {\n",
       "        text-align: right;\n",
       "    }\n",
       "</style>\n",
       "<table border=\"1\" class=\"dataframe\">\n",
       "  <thead>\n",
       "    <tr style=\"text-align: right;\">\n",
       "      <th></th>\n",
       "      <th>comment_count</th>\n",
       "      <th>timestamp_created</th>\n",
       "      <th>timestamp_updated</th>\n",
       "      <th>votes_funny</th>\n",
       "      <th>votes_up</th>\n",
       "      <th>timestamp_dev_responded</th>\n",
       "    </tr>\n",
       "  </thead>\n",
       "  <tbody>\n",
       "    <tr>\n",
       "      <th>count</th>\n",
       "      <td>340020.00000</td>\n",
       "      <td>3.400200e+05</td>\n",
       "      <td>3.400200e+05</td>\n",
       "      <td>3.400200e+05</td>\n",
       "      <td>340020.000000</td>\n",
       "      <td>5219.0</td>\n",
       "    </tr>\n",
       "    <tr>\n",
       "      <th>mean</th>\n",
       "      <td>0.41519</td>\n",
       "      <td>1.492251e+09</td>\n",
       "      <td>1.493911e+09</td>\n",
       "      <td>2.147372e+05</td>\n",
       "      <td>7.190921</td>\n",
       "      <td>0.0</td>\n",
       "    </tr>\n",
       "    <tr>\n",
       "      <th>std</th>\n",
       "      <td>4.00211</td>\n",
       "      <td>5.485052e+07</td>\n",
       "      <td>5.372798e+07</td>\n",
       "      <td>3.036840e+07</td>\n",
       "      <td>34.221430</td>\n",
       "      <td>0.0</td>\n",
       "    </tr>\n",
       "    <tr>\n",
       "      <th>min</th>\n",
       "      <td>0.00000</td>\n",
       "      <td>1.287217e+09</td>\n",
       "      <td>1.287266e+09</td>\n",
       "      <td>0.000000e+00</td>\n",
       "      <td>0.000000</td>\n",
       "      <td>0.0</td>\n",
       "    </tr>\n",
       "    <tr>\n",
       "      <th>25%</th>\n",
       "      <td>0.00000</td>\n",
       "      <td>1.456258e+09</td>\n",
       "      <td>1.457987e+09</td>\n",
       "      <td>0.000000e+00</td>\n",
       "      <td>1.000000</td>\n",
       "      <td>0.0</td>\n",
       "    </tr>\n",
       "    <tr>\n",
       "      <th>50%</th>\n",
       "      <td>0.00000</td>\n",
       "      <td>1.492246e+09</td>\n",
       "      <td>1.494819e+09</td>\n",
       "      <td>0.000000e+00</td>\n",
       "      <td>2.000000</td>\n",
       "      <td>0.0</td>\n",
       "    </tr>\n",
       "    <tr>\n",
       "      <th>75%</th>\n",
       "      <td>0.00000</td>\n",
       "      <td>1.537267e+09</td>\n",
       "      <td>1.538925e+09</td>\n",
       "      <td>1.000000e+00</td>\n",
       "      <td>6.000000</td>\n",
       "      <td>0.0</td>\n",
       "    </tr>\n",
       "    <tr>\n",
       "      <th>max</th>\n",
       "      <td>1285.00000</td>\n",
       "      <td>1.570408e+09</td>\n",
       "      <td>1.570433e+09</td>\n",
       "      <td>4.294967e+09</td>\n",
       "      <td>7262.000000</td>\n",
       "      <td>0.0</td>\n",
       "    </tr>\n",
       "  </tbody>\n",
       "</table>\n",
       "</div>"
      ],
      "text/plain": [
       "       comment_count  timestamp_created  timestamp_updated   votes_funny  \\\n",
       "count   340020.00000       3.400200e+05       3.400200e+05  3.400200e+05   \n",
       "mean         0.41519       1.492251e+09       1.493911e+09  2.147372e+05   \n",
       "std          4.00211       5.485052e+07       5.372798e+07  3.036840e+07   \n",
       "min          0.00000       1.287217e+09       1.287266e+09  0.000000e+00   \n",
       "25%          0.00000       1.456258e+09       1.457987e+09  0.000000e+00   \n",
       "50%          0.00000       1.492246e+09       1.494819e+09  0.000000e+00   \n",
       "75%          0.00000       1.537267e+09       1.538925e+09  1.000000e+00   \n",
       "max       1285.00000       1.570408e+09       1.570433e+09  4.294967e+09   \n",
       "\n",
       "            votes_up  timestamp_dev_responded  \n",
       "count  340020.000000                   5219.0  \n",
       "mean        7.190921                      0.0  \n",
       "std        34.221430                      0.0  \n",
       "min         0.000000                      0.0  \n",
       "25%         1.000000                      0.0  \n",
       "50%         2.000000                      0.0  \n",
       "75%         6.000000                      0.0  \n",
       "max      7262.000000                      0.0  "
      ]
     },
     "execution_count": 16,
     "metadata": {},
     "output_type": "execute_result"
    }
   ],
   "source": [
    "loaded_df.describe()"
   ]
  },
  {
   "cell_type": "code",
   "execution_count": 17,
   "metadata": {},
   "outputs": [
    {
     "name": "stdout",
     "output_type": "stream",
     "text": [
      "<class 'pandas.core.frame.DataFrame'>\n",
      "RangeIndex: 340020 entries, 0 to 340019\n",
      "Data columns (total 17 columns):\n",
      "author                         340020 non-null object\n",
      "comment_count                  340020 non-null float64\n",
      "language                       340020 non-null object\n",
      "received_for_free              340020 non-null object\n",
      "recommendationid               340020 non-null object\n",
      "review                         340020 non-null object\n",
      "steam_purchase                 340020 non-null object\n",
      "timestamp_created              340020 non-null float64\n",
      "timestamp_updated              340020 non-null float64\n",
      "voted_up                       340020 non-null object\n",
      "votes_funny                    340020 non-null float64\n",
      "votes_up                       340020 non-null float64\n",
      "weighted_vote_score            340020 non-null object\n",
      "written_during_early_access    340020 non-null object\n",
      "game_name                      340020 non-null object\n",
      "developer_response             5219 non-null object\n",
      "timestamp_dev_responded        5219 non-null float64\n",
      "dtypes: float64(6), object(11)\n",
      "memory usage: 44.1+ MB\n"
     ]
    }
   ],
   "source": [
    "loaded_df.info()"
   ]
  },
  {
   "cell_type": "markdown",
   "metadata": {},
   "source": [
    "Check for duplicates and missing review content data"
   ]
  },
  {
   "cell_type": "code",
   "execution_count": 18,
   "metadata": {},
   "outputs": [],
   "source": [
    "author_list=[author['steamid'] for author in list(loaded_df['author'])]\n",
    "loaded_df['author']=author_list"
   ]
  },
  {
   "cell_type": "code",
   "execution_count": 19,
   "metadata": {},
   "outputs": [],
   "source": [
    "review_df=loaded_df[['author','review','game_name']]"
   ]
  },
  {
   "cell_type": "code",
   "execution_count": 20,
   "metadata": {},
   "outputs": [
    {
     "data": {
      "text/html": [
       "<div>\n",
       "<style scoped>\n",
       "    .dataframe tbody tr th:only-of-type {\n",
       "        vertical-align: middle;\n",
       "    }\n",
       "\n",
       "    .dataframe tbody tr th {\n",
       "        vertical-align: top;\n",
       "    }\n",
       "\n",
       "    .dataframe thead th {\n",
       "        text-align: right;\n",
       "    }\n",
       "</style>\n",
       "<table border=\"1\" class=\"dataframe\">\n",
       "  <thead>\n",
       "    <tr style=\"text-align: right;\">\n",
       "      <th></th>\n",
       "      <th>author</th>\n",
       "      <th>review</th>\n",
       "      <th>game_name</th>\n",
       "    </tr>\n",
       "  </thead>\n",
       "  <tbody>\n",
       "    <tr>\n",
       "      <th>0</th>\n",
       "      <td>76561198013583343</td>\n",
       "      <td>I'm one of the lucky ducks who got to help tes...</td>\n",
       "      <td>Radio Violence</td>\n",
       "    </tr>\n",
       "    <tr>\n",
       "      <th>1</th>\n",
       "      <td>76561198284071338</td>\n",
       "      <td>Good DLC. Would have preferred more variety th...</td>\n",
       "      <td>Car Mechanic Simulator 2018 - Porsche DLC</td>\n",
       "    </tr>\n",
       "    <tr>\n",
       "      <th>2</th>\n",
       "      <td>76561197999475416</td>\n",
       "      <td>The Car Mechanic Simulator franchise takes a s...</td>\n",
       "      <td>Car Mechanic Simulator 2018 - Porsche DLC</td>\n",
       "    </tr>\n",
       "    <tr>\n",
       "      <th>3</th>\n",
       "      <td>76561198037828522</td>\n",
       "      <td>Amazing new engines and cars addon, great DLC,...</td>\n",
       "      <td>Car Mechanic Simulator 2018 - Porsche DLC</td>\n",
       "    </tr>\n",
       "    <tr>\n",
       "      <th>4</th>\n",
       "      <td>76561197982995489</td>\n",
       "      <td>ENG:\\n\\nPorsche is my favorite car brand &amp; so ...</td>\n",
       "      <td>Car Mechanic Simulator 2018 - Porsche DLC</td>\n",
       "    </tr>\n",
       "  </tbody>\n",
       "</table>\n",
       "</div>"
      ],
      "text/plain": [
       "              author                                             review  \\\n",
       "0  76561198013583343  I'm one of the lucky ducks who got to help tes...   \n",
       "1  76561198284071338  Good DLC. Would have preferred more variety th...   \n",
       "2  76561197999475416  The Car Mechanic Simulator franchise takes a s...   \n",
       "3  76561198037828522  Amazing new engines and cars addon, great DLC,...   \n",
       "4  76561197982995489  ENG:\\n\\nPorsche is my favorite car brand & so ...   \n",
       "\n",
       "                                   game_name  \n",
       "0                             Radio Violence  \n",
       "1  Car Mechanic Simulator 2018 - Porsche DLC  \n",
       "2  Car Mechanic Simulator 2018 - Porsche DLC  \n",
       "3  Car Mechanic Simulator 2018 - Porsche DLC  \n",
       "4  Car Mechanic Simulator 2018 - Porsche DLC  "
      ]
     },
     "execution_count": 20,
     "metadata": {},
     "output_type": "execute_result"
    }
   ],
   "source": [
    "review_df.head()"
   ]
  },
  {
   "cell_type": "code",
   "execution_count": 12,
   "metadata": {},
   "outputs": [],
   "source": [
    "names=list()\n",
    "for row in range(len(review_df)):\n",
    "    names.append(review_df['author'][row]['steamid'])"
   ]
  },
  {
   "cell_type": "code",
   "execution_count": 14,
   "metadata": {},
   "outputs": [
    {
     "name": "stderr",
     "output_type": "stream",
     "text": [
      "/home/seo/environments/my_env/lib/python3.6/site-packages/ipykernel_launcher.py:1: SettingWithCopyWarning: \n",
      "A value is trying to be set on a copy of a slice from a DataFrame.\n",
      "Try using .loc[row_indexer,col_indexer] = value instead\n",
      "\n",
      "See the caveats in the documentation: http://pandas.pydata.org/pandas-docs/stable/indexing.html#indexing-view-versus-copy\n",
      "  \"\"\"Entry point for launching an IPython kernel.\n"
     ]
    }
   ],
   "source": [
    "review_df['author']=names"
   ]
  },
  {
   "cell_type": "code",
   "execution_count": 21,
   "metadata": {},
   "outputs": [],
   "source": [
    "review_df=review_df.drop_duplicates()\n",
    "review_df=review_df.dropna()"
   ]
  },
  {
   "cell_type": "code",
   "execution_count": 22,
   "metadata": {},
   "outputs": [
    {
     "data": {
      "text/plain": [
       "338485"
      ]
     },
     "execution_count": 22,
     "metadata": {},
     "output_type": "execute_result"
    }
   ],
   "source": [
    "len(review_df)"
   ]
  },
  {
   "cell_type": "code",
   "execution_count": 23,
   "metadata": {},
   "outputs": [
    {
     "data": {
      "text/html": [
       "<div>\n",
       "<style scoped>\n",
       "    .dataframe tbody tr th:only-of-type {\n",
       "        vertical-align: middle;\n",
       "    }\n",
       "\n",
       "    .dataframe tbody tr th {\n",
       "        vertical-align: top;\n",
       "    }\n",
       "\n",
       "    .dataframe thead th {\n",
       "        text-align: right;\n",
       "    }\n",
       "</style>\n",
       "<table border=\"1\" class=\"dataframe\">\n",
       "  <thead>\n",
       "    <tr style=\"text-align: right;\">\n",
       "      <th></th>\n",
       "      <th>author</th>\n",
       "      <th>review</th>\n",
       "      <th>game_name</th>\n",
       "    </tr>\n",
       "  </thead>\n",
       "  <tbody>\n",
       "    <tr>\n",
       "      <th>0</th>\n",
       "      <td>76561198013583343</td>\n",
       "      <td>I'm one of the lucky ducks who got to help tes...</td>\n",
       "      <td>Radio Violence</td>\n",
       "    </tr>\n",
       "    <tr>\n",
       "      <th>1</th>\n",
       "      <td>76561198284071338</td>\n",
       "      <td>Good DLC. Would have preferred more variety th...</td>\n",
       "      <td>Car Mechanic Simulator 2018 - Porsche DLC</td>\n",
       "    </tr>\n",
       "    <tr>\n",
       "      <th>2</th>\n",
       "      <td>76561197999475416</td>\n",
       "      <td>The Car Mechanic Simulator franchise takes a s...</td>\n",
       "      <td>Car Mechanic Simulator 2018 - Porsche DLC</td>\n",
       "    </tr>\n",
       "    <tr>\n",
       "      <th>3</th>\n",
       "      <td>76561198037828522</td>\n",
       "      <td>Amazing new engines and cars addon, great DLC,...</td>\n",
       "      <td>Car Mechanic Simulator 2018 - Porsche DLC</td>\n",
       "    </tr>\n",
       "    <tr>\n",
       "      <th>4</th>\n",
       "      <td>76561197982995489</td>\n",
       "      <td>ENG:\\n\\nPorsche is my favorite car brand &amp; so ...</td>\n",
       "      <td>Car Mechanic Simulator 2018 - Porsche DLC</td>\n",
       "    </tr>\n",
       "  </tbody>\n",
       "</table>\n",
       "</div>"
      ],
      "text/plain": [
       "              author                                             review  \\\n",
       "0  76561198013583343  I'm one of the lucky ducks who got to help tes...   \n",
       "1  76561198284071338  Good DLC. Would have preferred more variety th...   \n",
       "2  76561197999475416  The Car Mechanic Simulator franchise takes a s...   \n",
       "3  76561198037828522  Amazing new engines and cars addon, great DLC,...   \n",
       "4  76561197982995489  ENG:\\n\\nPorsche is my favorite car brand & so ...   \n",
       "\n",
       "                                   game_name  \n",
       "0                             Radio Violence  \n",
       "1  Car Mechanic Simulator 2018 - Porsche DLC  \n",
       "2  Car Mechanic Simulator 2018 - Porsche DLC  \n",
       "3  Car Mechanic Simulator 2018 - Porsche DLC  \n",
       "4  Car Mechanic Simulator 2018 - Porsche DLC  "
      ]
     },
     "execution_count": 23,
     "metadata": {},
     "output_type": "execute_result"
    }
   ],
   "source": [
    "review_df.head(5)"
   ]
  },
  {
   "cell_type": "code",
   "execution_count": 35,
   "metadata": {},
   "outputs": [],
   "source": [
    "steam_keys=list(steam_dict.keys())\n",
    "steam_names=list(steam_dict.values())"
   ]
  },
  {
   "cell_type": "code",
   "execution_count": 36,
   "metadata": {},
   "outputs": [],
   "source": [
    "game_ids=[steam_keys[steam_names.index(id_)] for id_ in list(review_df['game_name'])]"
   ]
  },
  {
   "cell_type": "code",
   "execution_count": 37,
   "metadata": {},
   "outputs": [],
   "source": [
    "review_df['game_ids']=game_ids"
   ]
  },
  {
   "cell_type": "code",
   "execution_count": 38,
   "metadata": {},
   "outputs": [],
   "source": [
    "import pickle\n",
    "pickle.dump(review_df,open(\"cleaned_review.p\",\"wb\"))"
   ]
  },
  {
   "cell_type": "markdown",
   "metadata": {},
   "source": [
    "In case a different language review is mixed in, detect language with langdetect and leave only the reviews written in english"
   ]
  },
  {
   "cell_type": "code",
   "execution_count": 39,
   "metadata": {},
   "outputs": [],
   "source": [
    "from langdetect import detect, DetectorFactory\n",
    "DetectorFactory.seed = 0"
   ]
  },
  {
   "cell_type": "code",
   "execution_count": 40,
   "metadata": {},
   "outputs": [],
   "source": [
    "lang=list()\n",
    "for num in range(len(review_df['review'])):\n",
    "    try: \n",
    "        detected=detect(review_df['review'][num])\n",
    "        lang.append(detected)\n",
    "    except:\n",
    "        lang.append('NaN')"
   ]
  },
  {
   "cell_type": "code",
   "execution_count": 41,
   "metadata": {},
   "outputs": [],
   "source": [
    "review_df['detected_lang']=lang\n",
    "review_df=review_df[review_df['detected_lang']=='en']"
   ]
  },
  {
   "cell_type": "markdown",
   "metadata": {},
   "source": [
    "As this data does not include ratings for each reviews, a sentiment analysis using textblob was performed to assign the rating from 0 to 4 with 4 being the most positive.<br>\n",
    "\n",
    "If the rating is larger than 2, the game is considered \"recommended\", and if the rating is smaller than 2, the game is considered \"not recommended\"\n",
    "<br>\n",
    "rating of 2 will be assigned NaN"
   ]
  },
  {
   "cell_type": "code",
   "execution_count": 42,
   "metadata": {},
   "outputs": [],
   "source": [
    "from textblob import TextBlob"
   ]
  },
  {
   "cell_type": "code",
   "execution_count": 43,
   "metadata": {},
   "outputs": [],
   "source": [
    "import numpy as np\n",
    "review_sentiment=list()\n",
    "review_recomd=list()\n",
    "i=0\n",
    "for review in review_df.review:\n",
    "    sent = TextBlob(review)\n",
    "    rating=round(2*(sent.sentiment.polarity+1))\n",
    "    if sent.sentiment.polarity>0:\n",
    "        recomd=True\n",
    "    elif sent.sentiment.polarity<0:\n",
    "        recomd=False\n",
    "    else:\n",
    "        recomd=np.nan\n",
    "    review_sentiment.append(rating)\n",
    "    review_recomd.append(recomd)"
   ]
  },
  {
   "cell_type": "code",
   "execution_count": 44,
   "metadata": {},
   "outputs": [],
   "source": [
    "review_df['review_sentiment']=review_sentiment\n",
    "review_df['recommend']=review_recomd"
   ]
  },
  {
   "cell_type": "code",
   "execution_count": 45,
   "metadata": {},
   "outputs": [
    {
     "data": {
      "text/plain": [
       "Text(0.5, 1.0, 'Rating distribution')"
      ]
     },
     "execution_count": 45,
     "metadata": {},
     "output_type": "execute_result"
    }
   ],
   "source": [
    "import seaborn as sns\n",
    "import matplotlib.pyplot as plt\n",
    "fig=plt.figure()\n",
    "fig.set_facecolor('white')\n",
    "sns.distplot(review_sentiment, hist=False).set_title('Rating distribution')"
   ]
  },
  {
   "cell_type": "code",
   "execution_count": 46,
   "metadata": {
    "scrolled": true
   },
   "outputs": [
    {
     "data": {
      "text/html": [
       "<div>\n",
       "<style scoped>\n",
       "    .dataframe tbody tr th:only-of-type {\n",
       "        vertical-align: middle;\n",
       "    }\n",
       "\n",
       "    .dataframe tbody tr th {\n",
       "        vertical-align: top;\n",
       "    }\n",
       "\n",
       "    .dataframe thead th {\n",
       "        text-align: right;\n",
       "    }\n",
       "</style>\n",
       "<table border=\"1\" class=\"dataframe\">\n",
       "  <thead>\n",
       "    <tr style=\"text-align: right;\">\n",
       "      <th></th>\n",
       "      <th>author</th>\n",
       "      <th>review</th>\n",
       "      <th>game_name</th>\n",
       "      <th>game_ids</th>\n",
       "      <th>detected_lang</th>\n",
       "      <th>review_sentiment</th>\n",
       "      <th>recommend</th>\n",
       "    </tr>\n",
       "  </thead>\n",
       "  <tbody>\n",
       "    <tr>\n",
       "      <th>0</th>\n",
       "      <td>76561198013583343</td>\n",
       "      <td>I'm one of the lucky ducks who got to help tes...</td>\n",
       "      <td>Radio Violence</td>\n",
       "      <td>947880</td>\n",
       "      <td>en</td>\n",
       "      <td>2</td>\n",
       "      <td>True</td>\n",
       "    </tr>\n",
       "    <tr>\n",
       "      <th>1</th>\n",
       "      <td>76561198284071338</td>\n",
       "      <td>Good DLC. Would have preferred more variety th...</td>\n",
       "      <td>Car Mechanic Simulator 2018 - Porsche DLC</td>\n",
       "      <td>947930</td>\n",
       "      <td>en</td>\n",
       "      <td>3</td>\n",
       "      <td>True</td>\n",
       "    </tr>\n",
       "    <tr>\n",
       "      <th>2</th>\n",
       "      <td>76561197999475416</td>\n",
       "      <td>The Car Mechanic Simulator franchise takes a s...</td>\n",
       "      <td>Car Mechanic Simulator 2018 - Porsche DLC</td>\n",
       "      <td>947930</td>\n",
       "      <td>en</td>\n",
       "      <td>2</td>\n",
       "      <td>True</td>\n",
       "    </tr>\n",
       "    <tr>\n",
       "      <th>3</th>\n",
       "      <td>76561198037828522</td>\n",
       "      <td>Amazing new engines and cars addon, great DLC,...</td>\n",
       "      <td>Car Mechanic Simulator 2018 - Porsche DLC</td>\n",
       "      <td>947930</td>\n",
       "      <td>en</td>\n",
       "      <td>3</td>\n",
       "      <td>True</td>\n",
       "    </tr>\n",
       "    <tr>\n",
       "      <th>5</th>\n",
       "      <td>76561198314961129</td>\n",
       "      <td>It's great. I like the inclusion of rear engin...</td>\n",
       "      <td>Car Mechanic Simulator 2018 - Porsche DLC</td>\n",
       "      <td>947930</td>\n",
       "      <td>en</td>\n",
       "      <td>3</td>\n",
       "      <td>True</td>\n",
       "    </tr>\n",
       "    <tr>\n",
       "      <th>6</th>\n",
       "      <td>76561198058269515</td>\n",
       "      <td>I do wanna say before i say anything about the...</td>\n",
       "      <td>Car Mechanic Simulator 2018 - Porsche DLC</td>\n",
       "      <td>947930</td>\n",
       "      <td>en</td>\n",
       "      <td>2</td>\n",
       "      <td>True</td>\n",
       "    </tr>\n",
       "    <tr>\n",
       "      <th>7</th>\n",
       "      <td>76561198243655728</td>\n",
       "      <td>Finally you can see what a flat six engine loo...</td>\n",
       "      <td>Car Mechanic Simulator 2018 - Porsche DLC</td>\n",
       "      <td>947930</td>\n",
       "      <td>en</td>\n",
       "      <td>2</td>\n",
       "      <td>False</td>\n",
       "    </tr>\n",
       "    <tr>\n",
       "      <th>8</th>\n",
       "      <td>76561198021725803</td>\n",
       "      <td>I'm so happy when a DLC offers four licences c...</td>\n",
       "      <td>Car Mechanic Simulator 2018 - Porsche DLC</td>\n",
       "      <td>947930</td>\n",
       "      <td>en</td>\n",
       "      <td>2</td>\n",
       "      <td>True</td>\n",
       "    </tr>\n",
       "    <tr>\n",
       "      <th>9</th>\n",
       "      <td>76561198151617001</td>\n",
       "      <td>Like many others have said, I woild like more ...</td>\n",
       "      <td>Car Mechanic Simulator 2018 - Porsche DLC</td>\n",
       "      <td>947930</td>\n",
       "      <td>en</td>\n",
       "      <td>3</td>\n",
       "      <td>True</td>\n",
       "    </tr>\n",
       "    <tr>\n",
       "      <th>10</th>\n",
       "      <td>76561198141659745</td>\n",
       "      <td>I've been searching for a Carrera GT in a shed...</td>\n",
       "      <td>Car Mechanic Simulator 2018 - Porsche DLC</td>\n",
       "      <td>947930</td>\n",
       "      <td>en</td>\n",
       "      <td>2</td>\n",
       "      <td>True</td>\n",
       "    </tr>\n",
       "    <tr>\n",
       "      <th>12</th>\n",
       "      <td>76561197999183872</td>\n",
       "      <td>This Car 2016 PORSCHE 911 Carrera S (991 I Can...</td>\n",
       "      <td>Car Mechanic Simulator 2018 - Porsche DLC</td>\n",
       "      <td>947930</td>\n",
       "      <td>en</td>\n",
       "      <td>2</td>\n",
       "      <td>NaN</td>\n",
       "    </tr>\n",
       "    <tr>\n",
       "      <th>13</th>\n",
       "      <td>76561198141820734</td>\n",
       "      <td>on 964 turbo cilp b has hidden i couldint find...</td>\n",
       "      <td>Car Mechanic Simulator 2018 - Porsche DLC</td>\n",
       "      <td>947930</td>\n",
       "      <td>en</td>\n",
       "      <td>2</td>\n",
       "      <td>False</td>\n",
       "    </tr>\n",
       "    <tr>\n",
       "      <th>14</th>\n",
       "      <td>76561198118302453</td>\n",
       "      <td>The cars are fun to drive and to work on. Boxe...</td>\n",
       "      <td>Car Mechanic Simulator 2018 - Porsche DLC</td>\n",
       "      <td>947930</td>\n",
       "      <td>en</td>\n",
       "      <td>3</td>\n",
       "      <td>True</td>\n",
       "    </tr>\n",
       "    <tr>\n",
       "      <th>15</th>\n",
       "      <td>76561198975844967</td>\n",
       "      <td>i haven't find a porsche yet</td>\n",
       "      <td>Car Mechanic Simulator 2018 - Porsche DLC</td>\n",
       "      <td>947930</td>\n",
       "      <td>en</td>\n",
       "      <td>2</td>\n",
       "      <td>NaN</td>\n",
       "    </tr>\n",
       "    <tr>\n",
       "      <th>16</th>\n",
       "      <td>76561198233616476</td>\n",
       "      <td>very good and i like the porsches included \\n</td>\n",
       "      <td>Car Mechanic Simulator 2018 - Porsche DLC</td>\n",
       "      <td>947930</td>\n",
       "      <td>en</td>\n",
       "      <td>4</td>\n",
       "      <td>True</td>\n",
       "    </tr>\n",
       "    <tr>\n",
       "      <th>17</th>\n",
       "      <td>76561198062630360</td>\n",
       "      <td>This is a delightful puzzle pack. From the 10 ...</td>\n",
       "      <td>Faeria - Elements DLC</td>\n",
       "      <td>947950</td>\n",
       "      <td>en</td>\n",
       "      <td>2</td>\n",
       "      <td>True</td>\n",
       "    </tr>\n",
       "    <tr>\n",
       "      <th>18</th>\n",
       "      <td>76561197965701208</td>\n",
       "      <td>Great as always! Faeria game and DLCs are affo...</td>\n",
       "      <td>Faeria - Elements DLC</td>\n",
       "      <td>947950</td>\n",
       "      <td>en</td>\n",
       "      <td>3</td>\n",
       "      <td>True</td>\n",
       "    </tr>\n",
       "    <tr>\n",
       "      <th>19</th>\n",
       "      <td>76561198001352271</td>\n",
       "      <td>The company behind Faeria is a scam. Do not buy.</td>\n",
       "      <td>Faeria - Elements DLC</td>\n",
       "      <td>947950</td>\n",
       "      <td>en</td>\n",
       "      <td>1</td>\n",
       "      <td>False</td>\n",
       "    </tr>\n",
       "    <tr>\n",
       "      <th>20</th>\n",
       "      <td>76561198321025411</td>\n",
       "      <td>DLC cash grab for an unsupported pile of garbage.</td>\n",
       "      <td>Faeria - Elements DLC</td>\n",
       "      <td>947950</td>\n",
       "      <td>en</td>\n",
       "      <td>2</td>\n",
       "      <td>NaN</td>\n",
       "    </tr>\n",
       "    <tr>\n",
       "      <th>21</th>\n",
       "      <td>76561198108731925</td>\n",
       "      <td>This DLC is awesome. I bought it on sale after...</td>\n",
       "      <td>Faeria - Elements DLC</td>\n",
       "      <td>947950</td>\n",
       "      <td>en</td>\n",
       "      <td>3</td>\n",
       "      <td>True</td>\n",
       "    </tr>\n",
       "    <tr>\n",
       "      <th>22</th>\n",
       "      <td>76561198802090271</td>\n",
       "      <td>Wow, one of the best racing games I have playe...</td>\n",
       "      <td>Ribbon Racer</td>\n",
       "      <td>947960</td>\n",
       "      <td>en</td>\n",
       "      <td>2</td>\n",
       "      <td>True</td>\n",
       "    </tr>\n",
       "    <tr>\n",
       "      <th>23</th>\n",
       "      <td>76561198042831386</td>\n",
       "      <td>[h1]Short version: 86%[/h1]\\nUnlike its predec...</td>\n",
       "      <td>Roads of Rome: New Generation 2</td>\n",
       "      <td>947970</td>\n",
       "      <td>en</td>\n",
       "      <td>2</td>\n",
       "      <td>True</td>\n",
       "    </tr>\n",
       "    <tr>\n",
       "      <th>24</th>\n",
       "      <td>76561198056027431</td>\n",
       "      <td>Came for the ladies, stayed for the soundtrack...</td>\n",
       "      <td>Mojo 2</td>\n",
       "      <td>948020</td>\n",
       "      <td>en</td>\n",
       "      <td>4</td>\n",
       "      <td>True</td>\n",
       "    </tr>\n",
       "    <tr>\n",
       "      <th>25</th>\n",
       "      <td>76561198027944245</td>\n",
       "      <td>Okay for those who do not know what this game ...</td>\n",
       "      <td>Mojo 2</td>\n",
       "      <td>948020</td>\n",
       "      <td>en</td>\n",
       "      <td>2</td>\n",
       "      <td>True</td>\n",
       "    </tr>\n",
       "    <tr>\n",
       "      <th>26</th>\n",
       "      <td>76561198857975378</td>\n",
       "      <td>Much like the first Mojo, this is a good 2048-...</td>\n",
       "      <td>Mojo 2</td>\n",
       "      <td>948020</td>\n",
       "      <td>en</td>\n",
       "      <td>3</td>\n",
       "      <td>True</td>\n",
       "    </tr>\n",
       "    <tr>\n",
       "      <th>27</th>\n",
       "      <td>76561198086176038</td>\n",
       "      <td>In these days of random, uncalled-for censorsh...</td>\n",
       "      <td>Mojo 2</td>\n",
       "      <td>948020</td>\n",
       "      <td>en</td>\n",
       "      <td>3</td>\n",
       "      <td>True</td>\n",
       "    </tr>\n",
       "    <tr>\n",
       "      <th>28</th>\n",
       "      <td>76561198001387731</td>\n",
       "      <td>fantastic, as always, the game mechanics are g...</td>\n",
       "      <td>Mojo 2</td>\n",
       "      <td>948020</td>\n",
       "      <td>en</td>\n",
       "      <td>3</td>\n",
       "      <td>True</td>\n",
       "    </tr>\n",
       "    <tr>\n",
       "      <th>29</th>\n",
       "      <td>76561197970420888</td>\n",
       "      <td>This game saves lives. Incel tears. \\n20 lives...</td>\n",
       "      <td>Mojo 2</td>\n",
       "      <td>948020</td>\n",
       "      <td>en</td>\n",
       "      <td>2</td>\n",
       "      <td>True</td>\n",
       "    </tr>\n",
       "    <tr>\n",
       "      <th>30</th>\n",
       "      <td>76561198156988985</td>\n",
       "      <td>Better than the first in a lot of ways. But ar...</td>\n",
       "      <td>Mojo 2</td>\n",
       "      <td>948020</td>\n",
       "      <td>en</td>\n",
       "      <td>3</td>\n",
       "      <td>True</td>\n",
       "    </tr>\n",
       "    <tr>\n",
       "      <th>31</th>\n",
       "      <td>76561198311363290</td>\n",
       "      <td>the art style is pretty gud, i'm not big fan m...</td>\n",
       "      <td>Mojo 2</td>\n",
       "      <td>948020</td>\n",
       "      <td>en</td>\n",
       "      <td>3</td>\n",
       "      <td>True</td>\n",
       "    </tr>\n",
       "    <tr>\n",
       "      <th>...</th>\n",
       "      <td>...</td>\n",
       "      <td>...</td>\n",
       "      <td>...</td>\n",
       "      <td>...</td>\n",
       "      <td>...</td>\n",
       "      <td>...</td>\n",
       "      <td>...</td>\n",
       "    </tr>\n",
       "    <tr>\n",
       "      <th>339989</th>\n",
       "      <td>76561198019884880</td>\n",
       "      <td>\"You see, when... when you end up killing one ...</td>\n",
       "      <td>Insurgency</td>\n",
       "      <td>222880</td>\n",
       "      <td>en</td>\n",
       "      <td>2</td>\n",
       "      <td>False</td>\n",
       "    </tr>\n",
       "    <tr>\n",
       "      <th>339990</th>\n",
       "      <td>76561198155210019</td>\n",
       "      <td>The gameplay feels so realistic, its amazing.\\...</td>\n",
       "      <td>Insurgency</td>\n",
       "      <td>222880</td>\n",
       "      <td>en</td>\n",
       "      <td>2</td>\n",
       "      <td>True</td>\n",
       "    </tr>\n",
       "    <tr>\n",
       "      <th>339991</th>\n",
       "      <td>76561198965217741</td>\n",
       "      <td>ewe</td>\n",
       "      <td>Insurgency</td>\n",
       "      <td>222880</td>\n",
       "      <td>en</td>\n",
       "      <td>2</td>\n",
       "      <td>NaN</td>\n",
       "    </tr>\n",
       "    <tr>\n",
       "      <th>339992</th>\n",
       "      <td>76561198087822079</td>\n",
       "      <td>vannak benne szőrős terroristak mint a ham jan...</td>\n",
       "      <td>Insurgency</td>\n",
       "      <td>222880</td>\n",
       "      <td>en</td>\n",
       "      <td>2</td>\n",
       "      <td>NaN</td>\n",
       "    </tr>\n",
       "    <tr>\n",
       "      <th>339993</th>\n",
       "      <td>76561198113872435</td>\n",
       "      <td>Still great fun.</td>\n",
       "      <td>Insurgency</td>\n",
       "      <td>222880</td>\n",
       "      <td>en</td>\n",
       "      <td>3</td>\n",
       "      <td>True</td>\n",
       "    </tr>\n",
       "    <tr>\n",
       "      <th>339995</th>\n",
       "      <td>76561198450208538</td>\n",
       "      <td>Best</td>\n",
       "      <td>Insurgency</td>\n",
       "      <td>222880</td>\n",
       "      <td>en</td>\n",
       "      <td>4</td>\n",
       "      <td>True</td>\n",
       "    </tr>\n",
       "    <tr>\n",
       "      <th>339996</th>\n",
       "      <td>76561198807882629</td>\n",
       "      <td>Buy it.</td>\n",
       "      <td>Insurgency</td>\n",
       "      <td>222880</td>\n",
       "      <td>en</td>\n",
       "      <td>2</td>\n",
       "      <td>NaN</td>\n",
       "    </tr>\n",
       "    <tr>\n",
       "      <th>339997</th>\n",
       "      <td>76561198067570404</td>\n",
       "      <td>sucha goody.</td>\n",
       "      <td>Insurgency</td>\n",
       "      <td>222880</td>\n",
       "      <td>en</td>\n",
       "      <td>2</td>\n",
       "      <td>NaN</td>\n",
       "    </tr>\n",
       "    <tr>\n",
       "      <th>339998</th>\n",
       "      <td>76561198444686246</td>\n",
       "      <td>pretty good game, very well optimized</td>\n",
       "      <td>Insurgency</td>\n",
       "      <td>222880</td>\n",
       "      <td>en</td>\n",
       "      <td>2</td>\n",
       "      <td>True</td>\n",
       "    </tr>\n",
       "    <tr>\n",
       "      <th>339999</th>\n",
       "      <td>76561198321809950</td>\n",
       "      <td>Really awesome game, superb game play, great w...</td>\n",
       "      <td>Insurgency</td>\n",
       "      <td>222880</td>\n",
       "      <td>en</td>\n",
       "      <td>3</td>\n",
       "      <td>True</td>\n",
       "    </tr>\n",
       "    <tr>\n",
       "      <th>340000</th>\n",
       "      <td>76561198308611391</td>\n",
       "      <td>9/10 Realistic</td>\n",
       "      <td>Insurgency</td>\n",
       "      <td>222880</td>\n",
       "      <td>en</td>\n",
       "      <td>2</td>\n",
       "      <td>True</td>\n",
       "    </tr>\n",
       "    <tr>\n",
       "      <th>340001</th>\n",
       "      <td>76561198299714103</td>\n",
       "      <td>I have very low numbers for Insurgency, but I ...</td>\n",
       "      <td>Insurgency</td>\n",
       "      <td>222880</td>\n",
       "      <td>en</td>\n",
       "      <td>2</td>\n",
       "      <td>True</td>\n",
       "    </tr>\n",
       "    <tr>\n",
       "      <th>340002</th>\n",
       "      <td>76561197967083106</td>\n",
       "      <td>pretty cool start for a game. basic mechanics ...</td>\n",
       "      <td>WyVRn</td>\n",
       "      <td>500090</td>\n",
       "      <td>en</td>\n",
       "      <td>2</td>\n",
       "      <td>True</td>\n",
       "    </tr>\n",
       "    <tr>\n",
       "      <th>340003</th>\n",
       "      <td>76561198170342302</td>\n",
       "      <td>tub tycun lol xd lmao xd</td>\n",
       "      <td>Tube Tycoon</td>\n",
       "      <td>611040</td>\n",
       "      <td>en</td>\n",
       "      <td>3</td>\n",
       "      <td>True</td>\n",
       "    </tr>\n",
       "    <tr>\n",
       "      <th>340004</th>\n",
       "      <td>76561198094203045</td>\n",
       "      <td>This game felt dated and difficult to play for...</td>\n",
       "      <td>Civil War: 1863</td>\n",
       "      <td>436270</td>\n",
       "      <td>en</td>\n",
       "      <td>2</td>\n",
       "      <td>True</td>\n",
       "    </tr>\n",
       "    <tr>\n",
       "      <th>340005</th>\n",
       "      <td>76561197981624277</td>\n",
       "      <td>Nah</td>\n",
       "      <td>Direwolf BETA</td>\n",
       "      <td>657730</td>\n",
       "      <td>en</td>\n",
       "      <td>2</td>\n",
       "      <td>NaN</td>\n",
       "    </tr>\n",
       "    <tr>\n",
       "      <th>340006</th>\n",
       "      <td>76561198044178351</td>\n",
       "      <td>game is so realistic it boosts my irl self-con...</td>\n",
       "      <td>Eleven: Table Tennis VR</td>\n",
       "      <td>488310</td>\n",
       "      <td>en</td>\n",
       "      <td>2</td>\n",
       "      <td>False</td>\n",
       "    </tr>\n",
       "    <tr>\n",
       "      <th>340007</th>\n",
       "      <td>76561197963337562</td>\n",
       "      <td>If you grew up playing and loving ping pong, b...</td>\n",
       "      <td>Eleven: Table Tennis VR</td>\n",
       "      <td>488310</td>\n",
       "      <td>en</td>\n",
       "      <td>2</td>\n",
       "      <td>True</td>\n",
       "    </tr>\n",
       "    <tr>\n",
       "      <th>340008</th>\n",
       "      <td>76561198073172510</td>\n",
       "      <td>I first played the demo a couple months after ...</td>\n",
       "      <td>Aground</td>\n",
       "      <td>876650</td>\n",
       "      <td>en</td>\n",
       "      <td>2</td>\n",
       "      <td>True</td>\n",
       "    </tr>\n",
       "    <tr>\n",
       "      <th>340009</th>\n",
       "      <td>76561198237790330</td>\n",
       "      <td>How to describe Aground? It's as if Starbound ...</td>\n",
       "      <td>Aground</td>\n",
       "      <td>876650</td>\n",
       "      <td>en</td>\n",
       "      <td>2</td>\n",
       "      <td>True</td>\n",
       "    </tr>\n",
       "    <tr>\n",
       "      <th>340010</th>\n",
       "      <td>76561198027134364</td>\n",
       "      <td>I love this game so much especially since I th...</td>\n",
       "      <td>Aground</td>\n",
       "      <td>876650</td>\n",
       "      <td>en</td>\n",
       "      <td>2</td>\n",
       "      <td>True</td>\n",
       "    </tr>\n",
       "    <tr>\n",
       "      <th>340011</th>\n",
       "      <td>76561198217343111</td>\n",
       "      <td>I got one word to say. . . AMAZING. . . this i...</td>\n",
       "      <td>Aground</td>\n",
       "      <td>876650</td>\n",
       "      <td>en</td>\n",
       "      <td>3</td>\n",
       "      <td>True</td>\n",
       "    </tr>\n",
       "    <tr>\n",
       "      <th>340012</th>\n",
       "      <td>76561197960557484</td>\n",
       "      <td>A fun block based survival game, with some vil...</td>\n",
       "      <td>Aground</td>\n",
       "      <td>876650</td>\n",
       "      <td>en</td>\n",
       "      <td>3</td>\n",
       "      <td>True</td>\n",
       "    </tr>\n",
       "    <tr>\n",
       "      <th>340013</th>\n",
       "      <td>76561198144221551</td>\n",
       "      <td>It's like Terraria, but it's not Terraria...it...</td>\n",
       "      <td>Aground</td>\n",
       "      <td>876650</td>\n",
       "      <td>en</td>\n",
       "      <td>2</td>\n",
       "      <td>True</td>\n",
       "    </tr>\n",
       "    <tr>\n",
       "      <th>340014</th>\n",
       "      <td>76561198018565260</td>\n",
       "      <td>It's a pretty fun ride, especially for the mon...</td>\n",
       "      <td>Aground</td>\n",
       "      <td>876650</td>\n",
       "      <td>en</td>\n",
       "      <td>2</td>\n",
       "      <td>True</td>\n",
       "    </tr>\n",
       "    <tr>\n",
       "      <th>340015</th>\n",
       "      <td>76561198034424717</td>\n",
       "      <td>Super fun.  I loved it right up until it sent ...</td>\n",
       "      <td>Aground</td>\n",
       "      <td>876650</td>\n",
       "      <td>en</td>\n",
       "      <td>2</td>\n",
       "      <td>True</td>\n",
       "    </tr>\n",
       "    <tr>\n",
       "      <th>340016</th>\n",
       "      <td>76561198080314222</td>\n",
       "      <td>So far this game has been really fun and sucke...</td>\n",
       "      <td>Aground</td>\n",
       "      <td>876650</td>\n",
       "      <td>en</td>\n",
       "      <td>2</td>\n",
       "      <td>True</td>\n",
       "    </tr>\n",
       "    <tr>\n",
       "      <th>340017</th>\n",
       "      <td>76561198267688819</td>\n",
       "      <td>great game worth playing multiple times</td>\n",
       "      <td>Aground</td>\n",
       "      <td>876650</td>\n",
       "      <td>en</td>\n",
       "      <td>2</td>\n",
       "      <td>True</td>\n",
       "    </tr>\n",
       "    <tr>\n",
       "      <th>340018</th>\n",
       "      <td>76561198067548758</td>\n",
       "      <td>I'm not sure how I feel about it after playing...</td>\n",
       "      <td>Alien Squatter</td>\n",
       "      <td>1131750</td>\n",
       "      <td>en</td>\n",
       "      <td>2</td>\n",
       "      <td>True</td>\n",
       "    </tr>\n",
       "    <tr>\n",
       "      <th>340019</th>\n",
       "      <td>76561198044156715</td>\n",
       "      <td>10/10</td>\n",
       "      <td>Area 51 Defense</td>\n",
       "      <td>1129720</td>\n",
       "      <td>en</td>\n",
       "      <td>2</td>\n",
       "      <td>NaN</td>\n",
       "    </tr>\n",
       "  </tbody>\n",
       "</table>\n",
       "<p>311799 rows × 7 columns</p>\n",
       "</div>"
      ],
      "text/plain": [
       "                   author                                             review  \\\n",
       "0       76561198013583343  I'm one of the lucky ducks who got to help tes...   \n",
       "1       76561198284071338  Good DLC. Would have preferred more variety th...   \n",
       "2       76561197999475416  The Car Mechanic Simulator franchise takes a s...   \n",
       "3       76561198037828522  Amazing new engines and cars addon, great DLC,...   \n",
       "5       76561198314961129  It's great. I like the inclusion of rear engin...   \n",
       "6       76561198058269515  I do wanna say before i say anything about the...   \n",
       "7       76561198243655728  Finally you can see what a flat six engine loo...   \n",
       "8       76561198021725803  I'm so happy when a DLC offers four licences c...   \n",
       "9       76561198151617001  Like many others have said, I woild like more ...   \n",
       "10      76561198141659745  I've been searching for a Carrera GT in a shed...   \n",
       "12      76561197999183872  This Car 2016 PORSCHE 911 Carrera S (991 I Can...   \n",
       "13      76561198141820734  on 964 turbo cilp b has hidden i couldint find...   \n",
       "14      76561198118302453  The cars are fun to drive and to work on. Boxe...   \n",
       "15      76561198975844967                       i haven't find a porsche yet   \n",
       "16      76561198233616476      very good and i like the porsches included \\n   \n",
       "17      76561198062630360  This is a delightful puzzle pack. From the 10 ...   \n",
       "18      76561197965701208  Great as always! Faeria game and DLCs are affo...   \n",
       "19      76561198001352271   The company behind Faeria is a scam. Do not buy.   \n",
       "20      76561198321025411  DLC cash grab for an unsupported pile of garbage.   \n",
       "21      76561198108731925  This DLC is awesome. I bought it on sale after...   \n",
       "22      76561198802090271  Wow, one of the best racing games I have playe...   \n",
       "23      76561198042831386  [h1]Short version: 86%[/h1]\\nUnlike its predec...   \n",
       "24      76561198056027431  Came for the ladies, stayed for the soundtrack...   \n",
       "25      76561198027944245  Okay for those who do not know what this game ...   \n",
       "26      76561198857975378  Much like the first Mojo, this is a good 2048-...   \n",
       "27      76561198086176038  In these days of random, uncalled-for censorsh...   \n",
       "28      76561198001387731  fantastic, as always, the game mechanics are g...   \n",
       "29      76561197970420888  This game saves lives. Incel tears. \\n20 lives...   \n",
       "30      76561198156988985  Better than the first in a lot of ways. But ar...   \n",
       "31      76561198311363290  the art style is pretty gud, i'm not big fan m...   \n",
       "...                   ...                                                ...   \n",
       "339989  76561198019884880  \"You see, when... when you end up killing one ...   \n",
       "339990  76561198155210019  The gameplay feels so realistic, its amazing.\\...   \n",
       "339991  76561198965217741                                                ewe   \n",
       "339992  76561198087822079  vannak benne szőrős terroristak mint a ham jan...   \n",
       "339993  76561198113872435                                   Still great fun.   \n",
       "339995  76561198450208538                                               Best   \n",
       "339996  76561198807882629                                            Buy it.   \n",
       "339997  76561198067570404                                       sucha goody.   \n",
       "339998  76561198444686246              pretty good game, very well optimized   \n",
       "339999  76561198321809950  Really awesome game, superb game play, great w...   \n",
       "340000  76561198308611391                                     9/10 Realistic   \n",
       "340001  76561198299714103  I have very low numbers for Insurgency, but I ...   \n",
       "340002  76561197967083106  pretty cool start for a game. basic mechanics ...   \n",
       "340003  76561198170342302                           tub tycun lol xd lmao xd   \n",
       "340004  76561198094203045  This game felt dated and difficult to play for...   \n",
       "340005  76561197981624277                                                Nah   \n",
       "340006  76561198044178351  game is so realistic it boosts my irl self-con...   \n",
       "340007  76561197963337562  If you grew up playing and loving ping pong, b...   \n",
       "340008  76561198073172510  I first played the demo a couple months after ...   \n",
       "340009  76561198237790330  How to describe Aground? It's as if Starbound ...   \n",
       "340010  76561198027134364  I love this game so much especially since I th...   \n",
       "340011  76561198217343111  I got one word to say. . . AMAZING. . . this i...   \n",
       "340012  76561197960557484  A fun block based survival game, with some vil...   \n",
       "340013  76561198144221551  It's like Terraria, but it's not Terraria...it...   \n",
       "340014  76561198018565260  It's a pretty fun ride, especially for the mon...   \n",
       "340015  76561198034424717  Super fun.  I loved it right up until it sent ...   \n",
       "340016  76561198080314222  So far this game has been really fun and sucke...   \n",
       "340017  76561198267688819            great game worth playing multiple times   \n",
       "340018  76561198067548758  I'm not sure how I feel about it after playing...   \n",
       "340019  76561198044156715                                              10/10   \n",
       "\n",
       "                                        game_name  game_ids detected_lang  \\\n",
       "0                                  Radio Violence    947880            en   \n",
       "1       Car Mechanic Simulator 2018 - Porsche DLC    947930            en   \n",
       "2       Car Mechanic Simulator 2018 - Porsche DLC    947930            en   \n",
       "3       Car Mechanic Simulator 2018 - Porsche DLC    947930            en   \n",
       "5       Car Mechanic Simulator 2018 - Porsche DLC    947930            en   \n",
       "6       Car Mechanic Simulator 2018 - Porsche DLC    947930            en   \n",
       "7       Car Mechanic Simulator 2018 - Porsche DLC    947930            en   \n",
       "8       Car Mechanic Simulator 2018 - Porsche DLC    947930            en   \n",
       "9       Car Mechanic Simulator 2018 - Porsche DLC    947930            en   \n",
       "10      Car Mechanic Simulator 2018 - Porsche DLC    947930            en   \n",
       "12      Car Mechanic Simulator 2018 - Porsche DLC    947930            en   \n",
       "13      Car Mechanic Simulator 2018 - Porsche DLC    947930            en   \n",
       "14      Car Mechanic Simulator 2018 - Porsche DLC    947930            en   \n",
       "15      Car Mechanic Simulator 2018 - Porsche DLC    947930            en   \n",
       "16      Car Mechanic Simulator 2018 - Porsche DLC    947930            en   \n",
       "17                          Faeria - Elements DLC    947950            en   \n",
       "18                          Faeria - Elements DLC    947950            en   \n",
       "19                          Faeria - Elements DLC    947950            en   \n",
       "20                          Faeria - Elements DLC    947950            en   \n",
       "21                          Faeria - Elements DLC    947950            en   \n",
       "22                                   Ribbon Racer    947960            en   \n",
       "23                Roads of Rome: New Generation 2    947970            en   \n",
       "24                                         Mojo 2    948020            en   \n",
       "25                                         Mojo 2    948020            en   \n",
       "26                                         Mojo 2    948020            en   \n",
       "27                                         Mojo 2    948020            en   \n",
       "28                                         Mojo 2    948020            en   \n",
       "29                                         Mojo 2    948020            en   \n",
       "30                                         Mojo 2    948020            en   \n",
       "31                                         Mojo 2    948020            en   \n",
       "...                                           ...       ...           ...   \n",
       "339989                                 Insurgency    222880            en   \n",
       "339990                                 Insurgency    222880            en   \n",
       "339991                                 Insurgency    222880            en   \n",
       "339992                                 Insurgency    222880            en   \n",
       "339993                                 Insurgency    222880            en   \n",
       "339995                                 Insurgency    222880            en   \n",
       "339996                                 Insurgency    222880            en   \n",
       "339997                                 Insurgency    222880            en   \n",
       "339998                                 Insurgency    222880            en   \n",
       "339999                                 Insurgency    222880            en   \n",
       "340000                                 Insurgency    222880            en   \n",
       "340001                                 Insurgency    222880            en   \n",
       "340002                                      WyVRn    500090            en   \n",
       "340003                                Tube Tycoon    611040            en   \n",
       "340004                            Civil War: 1863    436270            en   \n",
       "340005                              Direwolf BETA    657730            en   \n",
       "340006                    Eleven: Table Tennis VR    488310            en   \n",
       "340007                    Eleven: Table Tennis VR    488310            en   \n",
       "340008                                    Aground    876650            en   \n",
       "340009                                    Aground    876650            en   \n",
       "340010                                    Aground    876650            en   \n",
       "340011                                    Aground    876650            en   \n",
       "340012                                    Aground    876650            en   \n",
       "340013                                    Aground    876650            en   \n",
       "340014                                    Aground    876650            en   \n",
       "340015                                    Aground    876650            en   \n",
       "340016                                    Aground    876650            en   \n",
       "340017                                    Aground    876650            en   \n",
       "340018                             Alien Squatter   1131750            en   \n",
       "340019                            Area 51 Defense   1129720            en   \n",
       "\n",
       "        review_sentiment recommend  \n",
       "0                      2      True  \n",
       "1                      3      True  \n",
       "2                      2      True  \n",
       "3                      3      True  \n",
       "5                      3      True  \n",
       "6                      2      True  \n",
       "7                      2     False  \n",
       "8                      2      True  \n",
       "9                      3      True  \n",
       "10                     2      True  \n",
       "12                     2       NaN  \n",
       "13                     2     False  \n",
       "14                     3      True  \n",
       "15                     2       NaN  \n",
       "16                     4      True  \n",
       "17                     2      True  \n",
       "18                     3      True  \n",
       "19                     1     False  \n",
       "20                     2       NaN  \n",
       "21                     3      True  \n",
       "22                     2      True  \n",
       "23                     2      True  \n",
       "24                     4      True  \n",
       "25                     2      True  \n",
       "26                     3      True  \n",
       "27                     3      True  \n",
       "28                     3      True  \n",
       "29                     2      True  \n",
       "30                     3      True  \n",
       "31                     3      True  \n",
       "...                  ...       ...  \n",
       "339989                 2     False  \n",
       "339990                 2      True  \n",
       "339991                 2       NaN  \n",
       "339992                 2       NaN  \n",
       "339993                 3      True  \n",
       "339995                 4      True  \n",
       "339996                 2       NaN  \n",
       "339997                 2       NaN  \n",
       "339998                 2      True  \n",
       "339999                 3      True  \n",
       "340000                 2      True  \n",
       "340001                 2      True  \n",
       "340002                 2      True  \n",
       "340003                 3      True  \n",
       "340004                 2      True  \n",
       "340005                 2       NaN  \n",
       "340006                 2     False  \n",
       "340007                 2      True  \n",
       "340008                 2      True  \n",
       "340009                 2      True  \n",
       "340010                 2      True  \n",
       "340011                 3      True  \n",
       "340012                 3      True  \n",
       "340013                 2      True  \n",
       "340014                 2      True  \n",
       "340015                 2      True  \n",
       "340016                 2      True  \n",
       "340017                 2      True  \n",
       "340018                 2      True  \n",
       "340019                 2       NaN  \n",
       "\n",
       "[311799 rows x 7 columns]"
      ]
     },
     "execution_count": 46,
     "metadata": {},
     "output_type": "execute_result"
    }
   ],
   "source": [
    "review_df"
   ]
  },
  {
   "cell_type": "markdown",
   "metadata": {},
   "source": [
    "We will see if the length of the review is correlated to the sentiment of the reviewer."
   ]
  },
  {
   "cell_type": "code",
   "execution_count": 47,
   "metadata": {},
   "outputs": [],
   "source": [
    "good=review_df[review_df['recommend']==True]\n",
    "bad=review_df[review_df['recommend']==False]"
   ]
  },
  {
   "cell_type": "code",
   "execution_count": 48,
   "metadata": {},
   "outputs": [
    {
     "data": {
      "text/plain": [
       "Text(0, 0.5, 'Number of reviews')"
      ]
     },
     "execution_count": 48,
     "metadata": {},
     "output_type": "execute_result"
    },
    {
     "data": {
      "image/png": "[encoded data removed]",
      "text/plain": [
       "<Figure size 432x288 with 1 Axes>"
      ]
     },
     "metadata": {},
     "output_type": "display_data"
    }
   ],
   "source": [
    "fig=plt.figure()\n",
    "fig.set_facecolor('white')\n",
    "plt.bar(['positive review','negative review'],[len(good),len(bad)])\n",
    "plt.ylabel('Number of reviews')"
   ]
  },
  {
   "cell_type": "code",
   "execution_count": 49,
   "metadata": {},
   "outputs": [
    {
     "name": "stdout",
     "output_type": "stream",
     "text": [
      "There are 195601 positive reviews in my data\n",
      "There are 88646 negative reviews in my data\n"
     ]
    }
   ],
   "source": [
    "print(\"There are\",len(good),\"positive reviews in my data\")\n",
    "print(\"There are\",len(bad),\"negative reviews in my data\")"
   ]
  },
  {
   "cell_type": "code",
   "execution_count": 50,
   "metadata": {},
   "outputs": [],
   "source": [
    "review_length=[len(review) for review in review_df['review']]\n",
    "good_length=[len(review) for review in good['review']]\n",
    "bad_length=[len(review) for review in bad['review']]"
   ]
  },
  {
   "cell_type": "code",
   "execution_count": 51,
   "metadata": {},
   "outputs": [],
   "source": [
    "def ecdf(data):\n",
    "    \"\"\"Compute ECDF for a one-dimensional array of measurements.\"\"\"\n",
    "    # Number of data points: n\n",
    "    n = len(data)\n",
    "\n",
    "    # x-data for the ECDF: x\n",
    "    x = np.sort(data)\n",
    "\n",
    "    # y-data for the ECDF: y\n",
    "    y = np.arange(1, n+1) / n\n",
    "\n",
    "    return x, y"
   ]
  },
  {
   "cell_type": "code",
   "execution_count": 52,
   "metadata": {},
   "outputs": [],
   "source": [
    "good_samples=np.random.normal(np.mean(good_length),np.std(good_length),size=100)\n",
    "bad_samples=np.random.normal(np.mean(bad_length),np.std(bad_length),size=100)"
   ]
  },
  {
   "cell_type": "code",
   "execution_count": 53,
   "metadata": {},
   "outputs": [
    {
     "data": {
      "text/plain": [
       "Text(0.5, 1.0, 'ECDF of positive and negative review length')"
      ]
     },
     "execution_count": 53,
     "metadata": {},
     "output_type": "execute_result"
    },
    {
     "data": {
      "image/png": "[encoded data removed]",
      "text/plain": [
       "<Figure size 432x288 with 1 Axes>"
      ]
     },
     "metadata": {},
     "output_type": "display_data"
    }
   ],
   "source": [
    "x_norm_good,y_norm_good=ecdf(good_samples)\n",
    "x_norm_bad,y_norm_bad=ecdf(bad_samples)\n",
    "fig=plt.figure()\n",
    "fig.set_facecolor('white')\n",
    "plt.plot(x_norm_good,y_norm_good,label=\"good\")\n",
    "plt.plot(x_norm_bad,y_norm_bad,label=\"bad\")\n",
    "plt.legend()\n",
    "plt.title('ECDF of positive and negative review length')"
   ]
  },
  {
   "cell_type": "code",
   "execution_count": 54,
   "metadata": {},
   "outputs": [
    {
     "data": {
      "text/plain": [
       "<matplotlib.legend.Legend at 0x7fd8165dba20>"
      ]
     },
     "execution_count": 54,
     "metadata": {},
     "output_type": "execute_result"
    },
    {
     "name": "stderr",
     "output_type": "stream",
     "text": [
      "/home/seo/environments/my_env/lib/python3.6/site-packages/IPython/core/events.py:88: UserWarning: Creating legend with loc=\"best\" can be slow with large amounts of data.\n",
      "  func(*args, **kwargs)\n",
      "/home/seo/environments/my_env/lib/python3.6/site-packages/IPython/core/pylabtools.py:128: UserWarning: Creating legend with loc=\"best\" can be slow with large amounts of data.\n",
      "  fig.canvas.print_figure(bytes_io, **kw)\n"
     ]
    },
    {
     "data": {
      "image/png": "[encoded data removed]",
      "text/plain": [
       "<Figure size 432x288 with 1 Axes>"
      ]
     },
     "metadata": {
      "needs_background": "light"
     },
     "output_type": "display_data"
    }
   ],
   "source": [
    "x_good,y_good=ecdf(good_length)\n",
    "x_bad,y_bad=ecdf(bad_length)\n",
    "plt.plot(x_good,y_good,label=\"good\")\n",
    "plt.plot(x_bad,y_bad,label=\"bad\")\n",
    "plt.legend()"
   ]
  },
  {
   "cell_type": "code",
   "execution_count": 55,
   "metadata": {},
   "outputs": [],
   "source": [
    "from scipy.stats import ttest_ind\n",
    "def checkttest(a,b):\n",
    "    pval=ttest_ind(a,b).pvalue\n",
    "    if pval<=0.01:\n",
    "        print(pval,\"Mean is different enough to be significant\")\n",
    "    else:\n",
    "        print(pval, \"Mean is too similar to be significant\")"
   ]
  },
  {
   "cell_type": "code",
   "execution_count": 56,
   "metadata": {},
   "outputs": [
    {
     "name": "stdout",
     "output_type": "stream",
     "text": [
      "4.2003248221736155e-118 Mean is different enough to be significant\n"
     ]
    }
   ],
   "source": [
    "checkttest(bad_length,good_length)"
   ]
  },
  {
   "cell_type": "markdown",
   "metadata": {},
   "source": [
    "By looking at the EDF graph, we can conclude that the good reviews tend to be longer than the bad ones"
   ]
  },
  {
   "cell_type": "code",
   "execution_count": 57,
   "metadata": {},
   "outputs": [
    {
     "name": "stdout",
     "output_type": "stream",
     "text": [
      "479.2735384013419\n"
     ]
    },
    {
     "data": {
      "image/png": "[encoded data removed]",
      "text/plain": [
       "<Figure size 432x288 with 1 Axes>"
      ]
     },
     "metadata": {
      "needs_background": "light"
     },
     "output_type": "display_data"
    }
   ],
   "source": [
    "import matplotlib.pyplot as plt\n",
    "import numpy as np\n",
    "\n",
    "plt.hist(review_length)\n",
    "plt.title('Review length')\n",
    "plt.ylabel('Frequency')\n",
    "plt.xlabel('Character counts')\n",
    "print(np.mean(review_length))"
   ]
  },
  {
   "cell_type": "markdown",
   "metadata": {},
   "source": [
    "The length of the review ranges from 0 to 8000 which is the maximum number of characters that is allowed in Steam store review"
   ]
  },
  {
   "cell_type": "code",
   "execution_count": 58,
   "metadata": {},
   "outputs": [
    {
     "name": "stdout",
     "output_type": "stream",
     "text": [
      "543.4551101476986\n"
     ]
    },
    {
     "data": {
      "image/png": "[encoded data removed]",
      "text/plain": [
       "<Figure size 432x288 with 1 Axes>"
      ]
     },
     "metadata": {
      "needs_background": "light"
     },
     "output_type": "display_data"
    }
   ],
   "source": [
    "plt.hist(good_length)\n",
    "print(np.mean(good_length))"
   ]
  },
  {
   "cell_type": "code",
   "execution_count": 59,
   "metadata": {},
   "outputs": [
    {
     "name": "stdout",
     "output_type": "stream",
     "text": [
      "468.9502290007445\n"
     ]
    },
    {
     "data": {
      "image/png": "[encoded data removed]",
      "text/plain": [
       "<Figure size 432x288 with 1 Axes>"
      ]
     },
     "metadata": {
      "needs_background": "light"
     },
     "output_type": "display_data"
    }
   ],
   "source": [
    "plt.hist(bad_length)\n",
    "print(np.mean(bad_length))"
   ]
  },
  {
   "cell_type": "code",
   "execution_count": 60,
   "metadata": {},
   "outputs": [
    {
     "name": "stdout",
     "output_type": "stream",
     "text": [
      "                                                    review\n",
      "game_name                                                 \n",
      "TERA                                                   182\n",
      "Hero-U: Rogue to Redemption                            100\n",
      "Shadowverse                                            100\n",
      "Stock Car Extreme                                      100\n",
      "Super Mustache                                         100\n",
      "Agarest Zero                                           100\n",
      "PAYDAY 2: Hotline Miami                                100\n",
      "Guacamelee! Gold Edition                                99\n",
      "Caveman World: Mountains of Unga Boonga                 99\n",
      "Guild Quest                                             99\n",
      "Call of Duty: WWII - Multiplayer                        99\n",
      "Green Hell                                              99\n",
      "Drop Alive                                              99\n",
      "Dirty Bomb                                              99\n",
      "Tales from Space: Mutant Blobs Attack                   99\n",
      "The Last Sniper VR                                      99\n",
      "GoD Factory: Wingmen                                    99\n",
      "Forge Quest                                             99\n",
      "SHOWTIME 2073                                           99\n",
      "Rambo The Video Game                                    99\n",
      "The Last Express Gold Edition                           99\n",
      "Adventures of Bertram Fiddle: Episode 1: A Drea...      99\n",
      "Magical Battle Festa                                    99\n",
      "War, the Game                                           99\n",
      "BLOCKADE 3D                                             99\n",
      "Catch a Falling Star                                    98\n",
      "Replica                                                 98\n",
      "Bullet Sorrow VR                                        98\n",
      "Make it indie!                                          98\n",
      "The Brookhaven Experiment                               98\n",
      "...                                                    ...\n",
      "GamersGoMakers                                          98\n",
      "The Little Acre                                         98\n",
      "Strike Vector                                           98\n",
      "Dawn of Discovery - Venice                              98\n",
      "Arms Dealer                                             98\n",
      "Pixel Survivors                                         98\n",
      "Little Misfortune                                       97\n",
      "APB Reloaded                                            97\n",
      "Planets Under Attack                                    97\n",
      "Nightmares from the Deep 3: Davy Jones                  97\n",
      "Bendy and the Ink Machine: Chapter Two                  97\n",
      "Game Tycoon 1.5                                         97\n",
      "ROD: Revolt Of Defense                                  97\n",
      "Finding Teddy                                           97\n",
      "Rogue State                                             97\n",
      "Emergency 5 - Deluxe Edition                            97\n",
      "Super Puzzle Platformer Deluxe                          97\n",
      "Bloons TD Battles                                       97\n",
      "Rocket League® - Hot Wheels® Twin Mill™ III             97\n",
      "Psy High                                                97\n",
      "Rot Gut                                                 97\n",
      "Gotham City Impostors: Free To Play                     97\n",
      "Boo Bunny Plague                                        97\n",
      "Sparkle 3 Genesis                                       97\n",
      "David.                                                  97\n",
      "Putrefaction                                            97\n",
      "Tomoyo After ~It's a Wonderful Life~ English Ed...      97\n",
      "Yatagarasu Attack on Cataclysm                          97\n",
      "Fairy Bloom Freesia                                     97\n",
      "Farm for your Life                                      97\n",
      "\n",
      "[100 rows x 1 columns]\n"
     ]
    },
    {
     "data": {
      "text/plain": [
       "array([[<matplotlib.axes._subplots.AxesSubplot object at 0x7fd8162f56a0>]],\n",
       "      dtype=object)"
      ]
     },
     "execution_count": 60,
     "metadata": {},
     "output_type": "execute_result"
    },
    {
     "data": {
      "image/png": "[encoded data removed]",
      "text/plain": [
       "<Figure size 432x288 with 1 Axes>"
      ]
     },
     "metadata": {
      "needs_background": "light"
     },
     "output_type": "display_data"
    }
   ],
   "source": [
    "reviewnum=review_df.groupby(['game_name']).agg({'review':'count'})\n",
    "reviewnum_new=reviewnum.reset_index().sort_values('review',ascending=False).set_index('game_name')\n",
    "print(reviewnum_new[:100])\n",
    "reviewnum_new.hist(bins=20)"
   ]
  },
  {
   "cell_type": "code",
   "execution_count": 61,
   "metadata": {},
   "outputs": [
    {
     "name": "stdout",
     "output_type": "stream",
     "text": [
      "                   review\n",
      "author                   \n",
      "76561198066590240     441\n",
      "76561198069159152     412\n",
      "76561198019816374     319\n",
      "76561198137285867     289\n",
      "76561197960373660     278\n",
      "76561198440309009     207\n",
      "76561198053422627     207\n",
      "76561198048974498     174\n",
      "76561198160868511     139\n",
      "76561198120348301     137\n",
      "                   review\n",
      "author                   \n",
      "76561198040273245       1\n",
      "76561198040274244       1\n",
      "76561198040274848       1\n",
      "76561198040275876       1\n",
      "76561198040278434       1\n",
      "76561198040278708       1\n",
      "76561198040279897       1\n",
      "76561198040280331       1\n",
      "76561198040280511       1\n",
      "76561198994872691       1\n"
     ]
    },
    {
     "data": {
      "text/plain": [
       "array([[<matplotlib.axes._subplots.AxesSubplot object at 0x7fd81622a6a0>]],\n",
       "      dtype=object)"
      ]
     },
     "execution_count": 61,
     "metadata": {},
     "output_type": "execute_result"
    },
    {
     "data": {
      "image/png": "[encoded data removed]",
      "text/plain": [
       "<Figure size 432x288 with 1 Axes>"
      ]
     },
     "metadata": {
      "needs_background": "light"
     },
     "output_type": "display_data"
    }
   ],
   "source": [
    "reviewauthor=review_df.groupby(['author']).agg({'review':'count'})\n",
    "reviewauthor_new=reviewauthor.reset_index().sort_values('review',ascending=False).set_index('author')\n",
    "reviewauthor_new.describe()\n",
    "print(reviewauthor_new[0:10])\n",
    "print(reviewauthor_new[-10:])\n",
    "#plt.hist(reviewauthor_new)\n",
    "reviewauthor_new.hist(bins=20)"
   ]
  },
  {
   "cell_type": "code",
   "execution_count": 62,
   "metadata": {},
   "outputs": [
    {
     "name": "stdout",
     "output_type": "stream",
     "text": [
      "                                         review\n",
      "game_name                                      \n",
      "TERA                                        182\n",
      "Hero-U: Rogue to Redemption                 100\n",
      "Shadowverse                                 100\n",
      "Stock Car Extreme                           100\n",
      "Super Mustache                              100\n",
      "Agarest Zero                                100\n",
      "PAYDAY 2: Hotline Miami                     100\n",
      "Guacamelee! Gold Edition                     99\n",
      "Caveman World: Mountains of Unga Boonga      99\n",
      "Guild Quest                                  99\n",
      "                                                    review\n",
      "game_name                                                 \n",
      "Slam                                                     1\n",
      "Defense Clicker - Ressource Collector                    1\n",
      "Defense Clicker - Auto Clicker Pet (Ice Elemental)       1\n",
      "Defendoooooor!!                                          1\n",
      "Hail To The King                                         1\n",
      "Hail to the King: Deathbat                               1\n",
      "Defending Territory                                      1\n",
      "Hailey                                                   1\n",
      "Hairy Little Buggers                                     1\n",
      "Sherlock Holmes: The Mystery of The Persian Carpet       1\n"
     ]
    },
    {
     "data": {
      "text/plain": [
       "array([[<matplotlib.axes._subplots.AxesSubplot object at 0x7fd816066c50>]],\n",
       "      dtype=object)"
      ]
     },
     "execution_count": 62,
     "metadata": {},
     "output_type": "execute_result"
    },
    {
     "data": {
      "image/png": "[encoded data removed]",
      "text/plain": [
       "<Figure size 432x288 with 1 Axes>"
      ]
     },
     "metadata": {
      "needs_background": "light"
     },
     "output_type": "display_data"
    }
   ],
   "source": [
    "reviewgame=review_df.groupby(['game_name']).agg({'review':'count'})\n",
    "reviewgame_new=reviewgame.reset_index().sort_values('review',ascending=False).set_index('game_name')\n",
    "reviewgame_new.describe()\n",
    "print(reviewgame_new[0:10])\n",
    "print(reviewgame_new[-10:])\n",
    "reviewgame_new.hist(bins=20)"
   ]
  },
  {
   "cell_type": "code",
   "execution_count": 63,
   "metadata": {},
   "outputs": [],
   "source": [
    "import pickle\n",
    "pickle.dump(review_df,open(\"cleaned_review_w_language.p\",\"wb\"))"
   ]
  },
  {
   "cell_type": "code",
   "execution_count": null,
   "metadata": {},
   "outputs": [],
   "source": []
  }
 ],
 "metadata": {
  "kernelspec": {
   "display_name": "Python 3",
   "language": "python",
   "name": "python3"
  },
  "language_info": {
   "codemirror_mode": {
    "name": "ipython",
    "version": 3
   },
   "file_extension": ".py",
   "mimetype": "text/x-python",
   "name": "python",
   "nbconvert_exporter": "python",
   "pygments_lexer": "ipython3",
   "version": "3.6.8"
  }
 },
 "nbformat": 4,
 "nbformat_minor": 2
}
