{
 "cells": [
  {
   "cell_type": "code",
   "execution_count": 2,
   "metadata": {},
   "outputs": [],
   "source": [
    "import pickle\n",
    "file_name='cleaned_review_w_language.p'\n",
    "loaded_df=pickle.load(open(file_name,\"rb\"))\n",
    "steamapp_dict=pickle.load(open(\"steam.p\",\"rb\"))"
   ]
  },
  {
   "cell_type": "code",
   "execution_count": 3,
   "metadata": {},
   "outputs": [],
   "source": [
    "test_id=76561198141485825"
   ]
  },
  {
   "cell_type": "code",
   "execution_count": 4,
   "metadata": {},
   "outputs": [],
   "source": [
    "def get_reviews(gameid,num):\n",
    "    \"\"\"Takes the id number of a game and returns 20 reviews\"\"\"\n",
    "    url='http://store.steampowered.com/appreviews/{}?json=1&start_offset={} '.format(gameid,num)\n",
    "    r=requests.get(url)\n",
    "    json_data=r.json()\n",
    "    return json_data"
   ]
  },
  {
   "cell_type": "code",
   "execution_count": 5,
   "metadata": {},
   "outputs": [],
   "source": [
    "import pandas as pd\n",
    "def get_all_reviews(gameid):\n",
    "    \"\"\"Uses 'get_review' function to pull as many reviews as it can from steam website\"\"\"\n",
    "    \"\"\"STEAM website usually have limitation (20 reviews) on how many reviews we can pull\"\"\"\n",
    "    n=0\n",
    "    stop=0\n",
    "    fst_iterat=get_reviews(gameid,n)\n",
    "    if fst_iterat['success']==1:\n",
    "        df=pd.DataFrame(fst_iterat['reviews'])\n",
    "        numreview=fst_iterat['query_summary']['num_reviews']             \n",
    "        while numreview==20:\n",
    "            if len(df)>=120:\n",
    "                break\n",
    "            n+=20\n",
    "            add_iterat=get_reviews(gameid,n)\n",
    "            df_add=pd.DataFrame(add_iterat['reviews'])\n",
    "            df=df.append(df_add)\n",
    "            numreview=add_iterat['query_summary']['num_reviews']\n",
    "        df_author=pd.DataFrame(df['author'].tolist())\n",
    "        df['author']=df_author['steamid']\n",
    "    return df[['author','recommendationid','language','review']]"
   ]
  },
  {
   "cell_type": "markdown",
   "metadata": {},
   "source": [
    "Get all the application id that is on STEAM website."
   ]
  },
  {
   "cell_type": "code",
   "execution_count": 6,
   "metadata": {},
   "outputs": [],
   "source": [
    "import requests\n",
    "# Get all the games that the player played\n",
    "def getownedgames(idnum):\n",
    "    \"\"\"Takes the id number of a steam user and returns the id num of games they own\"\"\"\n",
    "    url='http://api.steampowered.com/IPlayerService/GetOwnedGames/v0001/?key=3A629E52AE594CB777253431189F2967&steamid={}&format=json'.format(idnum)\n",
    "    r=requests.get(url)\n",
    "    json_data=r.json()\n",
    "    return json_data"
   ]
  },
  {
   "cell_type": "code",
   "execution_count": 7,
   "metadata": {},
   "outputs": [],
   "source": [
    "def rawplayergamelist(_id):\n",
    "    gamelist=getownedgames(_id)['response']['games']\n",
    "    return gamelist"
   ]
  },
  {
   "cell_type": "code",
   "execution_count": 8,
   "metadata": {},
   "outputs": [],
   "source": [
    "testperson=rawplayergamelist(test_id)"
   ]
  },
  {
   "cell_type": "code",
   "execution_count": 9,
   "metadata": {},
   "outputs": [],
   "source": [
    "testids=list()\n",
    "testplaytimes=list()\n",
    "for i in range(len(testperson)):\n",
    "    testids.append(testperson[i]['appid'])\n",
    "    testplaytimes.append(testperson[i]['playtime_forever'])"
   ]
  },
  {
   "cell_type": "code",
   "execution_count": 10,
   "metadata": {},
   "outputs": [],
   "source": [
    "import pandas as pd"
   ]
  },
  {
   "cell_type": "code",
   "execution_count": 11,
   "metadata": {},
   "outputs": [],
   "source": [
    "test_df=pd.DataFrame(list(zip(testids,testplaytimes)),columns=['ids','playtime']).sort_values('playtime',ascending=False)\n",
    "playedgame_name=list()\n",
    "for id_ in test_df['ids']:\n",
    "    name=steamapp_dict.get(id_)\n",
    "    playedgame_name.append(name)\n",
    "test_df['name']=playedgame_name"
   ]
  },
  {
   "cell_type": "markdown",
   "metadata": {},
   "source": [
    "select the games that are present in the database we set up for this analysis and make a new dataframe comprised of playtime and game ids: test_df"
   ]
  },
  {
   "cell_type": "code",
   "execution_count": 12,
   "metadata": {},
   "outputs": [
    {
     "data": {
      "text/html": [
       "<div>\n",
       "<style scoped>\n",
       "    .dataframe tbody tr th:only-of-type {\n",
       "        vertical-align: middle;\n",
       "    }\n",
       "\n",
       "    .dataframe tbody tr th {\n",
       "        vertical-align: top;\n",
       "    }\n",
       "\n",
       "    .dataframe thead th {\n",
       "        text-align: right;\n",
       "    }\n",
       "</style>\n",
       "<table border=\"1\" class=\"dataframe\">\n",
       "  <thead>\n",
       "    <tr style=\"text-align: right;\">\n",
       "      <th></th>\n",
       "      <th>ids</th>\n",
       "      <th>playtime</th>\n",
       "      <th>name</th>\n",
       "    </tr>\n",
       "  </thead>\n",
       "  <tbody>\n",
       "    <tr>\n",
       "      <th>27</th>\n",
       "      <td>72850</td>\n",
       "      <td>38466</td>\n",
       "      <td>The Elder Scrolls V: Skyrim</td>\n",
       "    </tr>\n",
       "    <tr>\n",
       "      <th>53</th>\n",
       "      <td>219740</td>\n",
       "      <td>10514</td>\n",
       "      <td>Don't Starve</td>\n",
       "    </tr>\n",
       "    <tr>\n",
       "      <th>15</th>\n",
       "      <td>33230</td>\n",
       "      <td>5768</td>\n",
       "      <td>Assassin's Creed II</td>\n",
       "    </tr>\n",
       "    <tr>\n",
       "      <th>39</th>\n",
       "      <td>317110</td>\n",
       "      <td>5524</td>\n",
       "      <td>Uncharted Waters Online: Episode Atlantis</td>\n",
       "    </tr>\n",
       "    <tr>\n",
       "      <th>32</th>\n",
       "      <td>242050</td>\n",
       "      <td>4405</td>\n",
       "      <td>Assassin's Creed IV Black Flag</td>\n",
       "    </tr>\n",
       "    <tr>\n",
       "      <th>12</th>\n",
       "      <td>22330</td>\n",
       "      <td>3391</td>\n",
       "      <td>The Elder Scrolls IV: Oblivion</td>\n",
       "    </tr>\n",
       "    <tr>\n",
       "      <th>17</th>\n",
       "      <td>48190</td>\n",
       "      <td>2773</td>\n",
       "      <td>Assassin's Creed Brotherhood</td>\n",
       "    </tr>\n",
       "    <tr>\n",
       "      <th>58</th>\n",
       "      <td>413150</td>\n",
       "      <td>2250</td>\n",
       "      <td>Stardew Valley</td>\n",
       "    </tr>\n",
       "    <tr>\n",
       "      <th>57</th>\n",
       "      <td>391540</td>\n",
       "      <td>1726</td>\n",
       "      <td>Undertale</td>\n",
       "    </tr>\n",
       "    <tr>\n",
       "      <th>31</th>\n",
       "      <td>205100</td>\n",
       "      <td>1542</td>\n",
       "      <td>Dishonored</td>\n",
       "    </tr>\n",
       "  </tbody>\n",
       "</table>\n",
       "</div>"
      ],
      "text/plain": [
       "       ids  playtime                                       name\n",
       "27   72850     38466                The Elder Scrolls V: Skyrim\n",
       "53  219740     10514                               Don't Starve\n",
       "15   33230      5768                        Assassin's Creed II\n",
       "39  317110      5524  Uncharted Waters Online: Episode Atlantis\n",
       "32  242050      4405             Assassin's Creed IV Black Flag\n",
       "12   22330      3391            The Elder Scrolls IV: Oblivion \n",
       "17   48190      2773               Assassin's Creed Brotherhood\n",
       "58  413150      2250                             Stardew Valley\n",
       "57  391540      1726                                  Undertale\n",
       "31  205100      1542                                 Dishonored"
      ]
     },
     "execution_count": 12,
     "metadata": {},
     "output_type": "execute_result"
    }
   ],
   "source": [
    "test_df.head(10)"
   ]
  },
  {
   "cell_type": "markdown",
   "metadata": {},
   "source": [
    "pick most played game in the list and retreive all the reviews that are present there : player_df\n",
    "\n",
    "default number of games is 15 but if the player played less than 15 games, it will adjust to the games that the player played for at least 30 minutes"
   ]
  },
  {
   "cell_type": "code",
   "execution_count": 13,
   "metadata": {},
   "outputs": [],
   "source": [
    "if len(test_df[test_df['playtime']>=30])<15:\n",
    "    topplayedgame=test_df[test_df['playtime']>=30]\n",
    "else:\n",
    "    topplayedgame=test_df[0:15]"
   ]
  },
  {
   "cell_type": "code",
   "execution_count": 14,
   "metadata": {
    "scrolled": true
   },
   "outputs": [],
   "source": [
    "topplayedgame=topplayedgame.set_index('ids')"
   ]
  },
  {
   "cell_type": "code",
   "execution_count": 15,
   "metadata": {},
   "outputs": [
    {
     "data": {
      "text/plain": [
       "Int64Index([ 72850, 219740,  33230, 317110, 242050,  22330,  48190, 413150,\n",
       "            391540, 205100, 311560, 208480, 368500, 201870, 261570],\n",
       "           dtype='int64', name='ids')"
      ]
     },
     "execution_count": 15,
     "metadata": {},
     "output_type": "execute_result"
    }
   ],
   "source": [
    "topplayedgame.index"
   ]
  },
  {
   "cell_type": "code",
   "execution_count": 16,
   "metadata": {},
   "outputs": [
    {
     "data": {
      "text/plain": [
       "'Wargame Red Dragon - The Millionth Mile'"
      ]
     },
     "execution_count": 16,
     "metadata": {},
     "output_type": "execute_result"
    }
   ],
   "source": [
    "steamapp_dict[313560]"
   ]
  },
  {
   "cell_type": "markdown",
   "metadata": {},
   "source": [
    "get all reviews of the games this player enjoys: player_df"
   ]
  },
  {
   "cell_type": "code",
   "execution_count": 17,
   "metadata": {},
   "outputs": [],
   "source": [
    "error=list()\n",
    "for ids in topplayedgame.index:\n",
    "    try:\n",
    "        data=get_all_reviews(ids)\n",
    "        data['game_name']=steamapp_dict.get(ids)\n",
    "        if 'player_df' not in locals():\n",
    "            player_df=data\n",
    "        else:\n",
    "            player_df=player_df.append(data, ignore_index=True, sort=False)\n",
    "    except:\n",
    "        error.append(ids)\n",
    "        topplayedgame['name']"
   ]
  },
  {
   "cell_type": "code",
   "execution_count": 18,
   "metadata": {},
   "outputs": [
    {
     "data": {
      "text/html": [
       "<div>\n",
       "<style scoped>\n",
       "    .dataframe tbody tr th:only-of-type {\n",
       "        vertical-align: middle;\n",
       "    }\n",
       "\n",
       "    .dataframe tbody tr th {\n",
       "        vertical-align: top;\n",
       "    }\n",
       "\n",
       "    .dataframe thead th {\n",
       "        text-align: right;\n",
       "    }\n",
       "</style>\n",
       "<table border=\"1\" class=\"dataframe\">\n",
       "  <thead>\n",
       "    <tr style=\"text-align: right;\">\n",
       "      <th></th>\n",
       "      <th>author</th>\n",
       "      <th>recommendationid</th>\n",
       "      <th>language</th>\n",
       "      <th>review</th>\n",
       "      <th>game_name</th>\n",
       "    </tr>\n",
       "  </thead>\n",
       "  <tbody>\n",
       "    <tr>\n",
       "      <th>0</th>\n",
       "      <td>76561198032423721</td>\n",
       "      <td>54942326</td>\n",
       "      <td>english</td>\n",
       "      <td>This game is a masterpiece. :)</td>\n",
       "      <td>Ori and the Blind Forest</td>\n",
       "    </tr>\n",
       "    <tr>\n",
       "      <th>1</th>\n",
       "      <td>76561198331955552</td>\n",
       "      <td>54893115</td>\n",
       "      <td>english</td>\n",
       "      <td>awesome atmosphere, story, chracterization, ga...</td>\n",
       "      <td>Ori and the Blind Forest</td>\n",
       "    </tr>\n",
       "    <tr>\n",
       "      <th>2</th>\n",
       "      <td>76561198350154247</td>\n",
       "      <td>55028510</td>\n",
       "      <td>english</td>\n",
       "      <td>I finished this game tonight after not playing...</td>\n",
       "      <td>Ori and the Blind Forest</td>\n",
       "    </tr>\n",
       "    <tr>\n",
       "      <th>3</th>\n",
       "      <td>76561198807623891</td>\n",
       "      <td>54941206</td>\n",
       "      <td>english</td>\n",
       "      <td>It one of the best game I never play and I rea...</td>\n",
       "      <td>Ori and the Blind Forest</td>\n",
       "    </tr>\n",
       "    <tr>\n",
       "      <th>4</th>\n",
       "      <td>76561197974484281</td>\n",
       "      <td>54832361</td>\n",
       "      <td>english</td>\n",
       "      <td>Really pretty</td>\n",
       "      <td>Ori and the Blind Forest</td>\n",
       "    </tr>\n",
       "    <tr>\n",
       "      <th>5</th>\n",
       "      <td>76561198252275376</td>\n",
       "      <td>54920899</td>\n",
       "      <td>english</td>\n",
       "      <td>Bruh</td>\n",
       "      <td>Ori and the Blind Forest</td>\n",
       "    </tr>\n",
       "  </tbody>\n",
       "</table>\n",
       "</div>"
      ],
      "text/plain": [
       "              author recommendationid language  \\\n",
       "0  76561198032423721         54942326  english   \n",
       "1  76561198331955552         54893115  english   \n",
       "2  76561198350154247         55028510  english   \n",
       "3  76561198807623891         54941206  english   \n",
       "4  76561197974484281         54832361  english   \n",
       "5  76561198252275376         54920899  english   \n",
       "\n",
       "                                              review                 game_name  \n",
       "0                     This game is a masterpiece. :)  Ori and the Blind Forest  \n",
       "1  awesome atmosphere, story, chracterization, ga...  Ori and the Blind Forest  \n",
       "2  I finished this game tonight after not playing...  Ori and the Blind Forest  \n",
       "3  It one of the best game I never play and I rea...  Ori and the Blind Forest  \n",
       "4                                      Really pretty  Ori and the Blind Forest  \n",
       "5                                               Bruh  Ori and the Blind Forest  "
      ]
     },
     "execution_count": 18,
     "metadata": {},
     "output_type": "execute_result"
    }
   ],
   "source": [
    "data"
   ]
  },
  {
   "cell_type": "code",
   "execution_count": 19,
   "metadata": {},
   "outputs": [],
   "source": [
    "topplayedgame=topplayedgame.drop(error)"
   ]
  },
  {
   "cell_type": "code",
   "execution_count": 20,
   "metadata": {},
   "outputs": [
    {
     "data": {
      "text/html": [
       "<div>\n",
       "<style scoped>\n",
       "    .dataframe tbody tr th:only-of-type {\n",
       "        vertical-align: middle;\n",
       "    }\n",
       "\n",
       "    .dataframe tbody tr th {\n",
       "        vertical-align: top;\n",
       "    }\n",
       "\n",
       "    .dataframe thead th {\n",
       "        text-align: right;\n",
       "    }\n",
       "</style>\n",
       "<table border=\"1\" class=\"dataframe\">\n",
       "  <thead>\n",
       "    <tr style=\"text-align: right;\">\n",
       "      <th></th>\n",
       "      <th>playtime</th>\n",
       "      <th>name</th>\n",
       "    </tr>\n",
       "    <tr>\n",
       "      <th>ids</th>\n",
       "      <th></th>\n",
       "      <th></th>\n",
       "    </tr>\n",
       "  </thead>\n",
       "  <tbody>\n",
       "    <tr>\n",
       "      <th>72850</th>\n",
       "      <td>38466</td>\n",
       "      <td>The Elder Scrolls V: Skyrim</td>\n",
       "    </tr>\n",
       "    <tr>\n",
       "      <th>219740</th>\n",
       "      <td>10514</td>\n",
       "      <td>Don't Starve</td>\n",
       "    </tr>\n",
       "    <tr>\n",
       "      <th>33230</th>\n",
       "      <td>5768</td>\n",
       "      <td>Assassin's Creed II</td>\n",
       "    </tr>\n",
       "    <tr>\n",
       "      <th>242050</th>\n",
       "      <td>4405</td>\n",
       "      <td>Assassin's Creed IV Black Flag</td>\n",
       "    </tr>\n",
       "    <tr>\n",
       "      <th>22330</th>\n",
       "      <td>3391</td>\n",
       "      <td>The Elder Scrolls IV: Oblivion</td>\n",
       "    </tr>\n",
       "    <tr>\n",
       "      <th>48190</th>\n",
       "      <td>2773</td>\n",
       "      <td>Assassin's Creed Brotherhood</td>\n",
       "    </tr>\n",
       "    <tr>\n",
       "      <th>413150</th>\n",
       "      <td>2250</td>\n",
       "      <td>Stardew Valley</td>\n",
       "    </tr>\n",
       "    <tr>\n",
       "      <th>391540</th>\n",
       "      <td>1726</td>\n",
       "      <td>Undertale</td>\n",
       "    </tr>\n",
       "    <tr>\n",
       "      <th>205100</th>\n",
       "      <td>1542</td>\n",
       "      <td>Dishonored</td>\n",
       "    </tr>\n",
       "    <tr>\n",
       "      <th>311560</th>\n",
       "      <td>1525</td>\n",
       "      <td>Assassin's Creed Rogue</td>\n",
       "    </tr>\n",
       "    <tr>\n",
       "      <th>208480</th>\n",
       "      <td>1390</td>\n",
       "      <td>Assassin's Creed® III</td>\n",
       "    </tr>\n",
       "    <tr>\n",
       "      <th>368500</th>\n",
       "      <td>1263</td>\n",
       "      <td>Assassin's Creed Syndicate</td>\n",
       "    </tr>\n",
       "    <tr>\n",
       "      <th>201870</th>\n",
       "      <td>1011</td>\n",
       "      <td>Assassin's Creed Revelations</td>\n",
       "    </tr>\n",
       "    <tr>\n",
       "      <th>261570</th>\n",
       "      <td>682</td>\n",
       "      <td>Ori and the Blind Forest</td>\n",
       "    </tr>\n",
       "  </tbody>\n",
       "</table>\n",
       "</div>"
      ],
      "text/plain": [
       "        playtime                             name\n",
       "ids                                              \n",
       "72850      38466      The Elder Scrolls V: Skyrim\n",
       "219740     10514                     Don't Starve\n",
       "33230       5768              Assassin's Creed II\n",
       "242050      4405   Assassin's Creed IV Black Flag\n",
       "22330       3391  The Elder Scrolls IV: Oblivion \n",
       "48190       2773     Assassin's Creed Brotherhood\n",
       "413150      2250                   Stardew Valley\n",
       "391540      1726                        Undertale\n",
       "205100      1542                       Dishonored\n",
       "311560      1525           Assassin's Creed Rogue\n",
       "208480      1390            Assassin's Creed® III\n",
       "368500      1263       Assassin's Creed Syndicate\n",
       "201870      1011     Assassin's Creed Revelations\n",
       "261570       682         Ori and the Blind Forest"
      ]
     },
     "execution_count": 20,
     "metadata": {},
     "output_type": "execute_result"
    }
   ],
   "source": [
    "topplayedgame"
   ]
  },
  {
   "cell_type": "code",
   "execution_count": 21,
   "metadata": {},
   "outputs": [
    {
     "data": {
      "text/html": [
       "<div>\n",
       "<style scoped>\n",
       "    .dataframe tbody tr th:only-of-type {\n",
       "        vertical-align: middle;\n",
       "    }\n",
       "\n",
       "    .dataframe tbody tr th {\n",
       "        vertical-align: top;\n",
       "    }\n",
       "\n",
       "    .dataframe thead th {\n",
       "        text-align: right;\n",
       "    }\n",
       "</style>\n",
       "<table border=\"1\" class=\"dataframe\">\n",
       "  <thead>\n",
       "    <tr style=\"text-align: right;\">\n",
       "      <th></th>\n",
       "      <th>author</th>\n",
       "      <th>recommendationid</th>\n",
       "      <th>language</th>\n",
       "      <th>review</th>\n",
       "      <th>game_name</th>\n",
       "    </tr>\n",
       "  </thead>\n",
       "  <tbody>\n",
       "    <tr>\n",
       "      <th>0</th>\n",
       "      <td>76561198263094175</td>\n",
       "      <td>54936091</td>\n",
       "      <td>english</td>\n",
       "      <td>As an online freelancer, it was so easy to dit...</td>\n",
       "      <td>The Elder Scrolls V: Skyrim</td>\n",
       "    </tr>\n",
       "    <tr>\n",
       "      <th>1</th>\n",
       "      <td>76561198198376499</td>\n",
       "      <td>54670757</td>\n",
       "      <td>english</td>\n",
       "      <td>NEVER SHOULD HAVE COME HEAR!</td>\n",
       "      <td>The Elder Scrolls V: Skyrim</td>\n",
       "    </tr>\n",
       "    <tr>\n",
       "      <th>2</th>\n",
       "      <td>76561198381668622</td>\n",
       "      <td>54669408</td>\n",
       "      <td>english</td>\n",
       "      <td>[b] c l o u t  d i s t r i c t [b]</td>\n",
       "      <td>The Elder Scrolls V: Skyrim</td>\n",
       "    </tr>\n",
       "    <tr>\n",
       "      <th>3</th>\n",
       "      <td>76561198354872324</td>\n",
       "      <td>55087029</td>\n",
       "      <td>english</td>\n",
       "      <td>Currently not able to play, all I get is three...</td>\n",
       "      <td>The Elder Scrolls V: Skyrim</td>\n",
       "    </tr>\n",
       "    <tr>\n",
       "      <th>4</th>\n",
       "      <td>76561198149237388</td>\n",
       "      <td>55066295</td>\n",
       "      <td>english</td>\n",
       "      <td>Definitely ome of the best games in my library</td>\n",
       "      <td>The Elder Scrolls V: Skyrim</td>\n",
       "    </tr>\n",
       "  </tbody>\n",
       "</table>\n",
       "</div>"
      ],
      "text/plain": [
       "              author recommendationid language  \\\n",
       "0  76561198263094175         54936091  english   \n",
       "1  76561198198376499         54670757  english   \n",
       "2  76561198381668622         54669408  english   \n",
       "3  76561198354872324         55087029  english   \n",
       "4  76561198149237388         55066295  english   \n",
       "\n",
       "                                              review  \\\n",
       "0  As an online freelancer, it was so easy to dit...   \n",
       "1                       NEVER SHOULD HAVE COME HEAR!   \n",
       "2                 [b] c l o u t  d i s t r i c t [b]   \n",
       "3  Currently not able to play, all I get is three...   \n",
       "4     Definitely ome of the best games in my library   \n",
       "\n",
       "                     game_name  \n",
       "0  The Elder Scrolls V: Skyrim  \n",
       "1  The Elder Scrolls V: Skyrim  \n",
       "2  The Elder Scrolls V: Skyrim  \n",
       "3  The Elder Scrolls V: Skyrim  \n",
       "4  The Elder Scrolls V: Skyrim  "
      ]
     },
     "execution_count": 21,
     "metadata": {},
     "output_type": "execute_result"
    }
   ],
   "source": [
    "player_df.head()"
   ]
  },
  {
   "cell_type": "markdown",
   "metadata": {},
   "source": [
    "In order to use cosine similarity to compare these lists to other games, all the reviews from each games are made into one big corpus. i.e. one corpus each for all the game respectively."
   ]
  },
  {
   "cell_type": "code",
   "execution_count": 22,
   "metadata": {},
   "outputs": [],
   "source": [
    "def amalgamate(df):\n",
    "    dumped_dict=dict()\n",
    "    for name in df['game_name'].unique():\n",
    "        dump=df.loc[(df['game_name']==name)]['review'].sum(axis=0)\n",
    "        dumped_dict[name]=dump\n",
    "    return dumped_dict"
   ]
  },
  {
   "cell_type": "code",
   "execution_count": 23,
   "metadata": {},
   "outputs": [],
   "source": [
    "allgamedatabase=amalgamate(loaded_df)\n",
    "player_dict=amalgamate(player_df)"
   ]
  },
  {
   "cell_type": "code",
   "execution_count": 24,
   "metadata": {},
   "outputs": [
    {
     "data": {
      "text/plain": [
       "dict_keys(['The Elder Scrolls V: Skyrim', \"Don't Starve\", \"Assassin's Creed II\", \"Assassin's Creed IV Black Flag\", 'The Elder Scrolls IV: Oblivion ', \"Assassin's Creed Brotherhood\", 'Stardew Valley', 'Undertale', 'Dishonored', \"Assassin's Creed Rogue\", \"Assassin's Creed® III\", \"Assassin's Creed Syndicate\", \"Assassin's Creed Revelations\", 'Ori and the Blind Forest'])"
      ]
     },
     "execution_count": 24,
     "metadata": {},
     "output_type": "execute_result"
    }
   ],
   "source": [
    "player_dict.keys()"
   ]
  },
  {
   "cell_type": "code",
   "execution_count": 25,
   "metadata": {},
   "outputs": [],
   "source": [
    "for_analysis={**allgamedatabase,**player_dict}"
   ]
  },
  {
   "cell_type": "code",
   "execution_count": 26,
   "metadata": {},
   "outputs": [],
   "source": [
    "from sklearn.feature_extraction.text import TfidfVectorizer\n",
    "from sklearn.feature_extraction.text import CountVectorizer\n",
    "from nltk.tokenize import word_tokenize\n",
    "from nltk.corpus import stopwords\n",
    "import nltk.stem\n",
    "import string\n",
    "all_stops = stopwords.words('english')+list(string.punctuation)+['I','II','III','IV','V','VI','game','games','play']"
   ]
  },
  {
   "cell_type": "code",
   "execution_count": 27,
   "metadata": {},
   "outputs": [],
   "source": [
    "import re\n",
    "stemmer = nltk.stem.SnowballStemmer('english')\n",
    "class StemmedCountVectorizer(CountVectorizer):\n",
    "    def build_analyzer(self):\n",
    "        analyzer = super(StemmedCountVectorizer, self).build_analyzer()\n",
    "        return lambda doc: ([stemmer.stem(w) for w in analyzer(doc)])\n",
    "\n",
    "vectorizer_s = StemmedCountVectorizer(analyzer=\"word\", stop_words=all_stops,ngram_range=(1,2),min_df=0.01,token_pattern=r'\\b[^\\d\\W]+\\b')"
   ]
  },
  {
   "cell_type": "code",
   "execution_count": 28,
   "metadata": {},
   "outputs": [],
   "source": [
    "class StemmedTfidfVectorizer(TfidfVectorizer):\n",
    "    def build_analyzer(self):\n",
    "        analyzer = super(StemmedTfidfVectorizer, self).build_analyzer()\n",
    "        return lambda doc: ([stemmer.stem(w) for w in analyzer(doc)])\n",
    "\n",
    "tfidf_s = StemmedTfidfVectorizer(smooth_idf=False, sublinear_tf=False, norm=None, analyzer='word', stop_words=all_stops,ngram_range=(1,2),min_df=0.01,token_pattern=r'\\b[^\\d\\W]+\\b')"
   ]
  },
  {
   "cell_type": "code",
   "execution_count": 29,
   "metadata": {
    "scrolled": false
   },
   "outputs": [],
   "source": [
    "text=player_df.review.sum(axis=0)"
   ]
  },
  {
   "cell_type": "code",
   "execution_count": 30,
   "metadata": {
    "scrolled": true
   },
   "outputs": [
    {
     "ename": "NameError",
     "evalue": "name 'WordCloud' is not defined",
     "output_type": "error",
     "traceback": [
      "\u001b[0;31m---------------------------------------------------------------------------\u001b[0m",
      "\u001b[0;31mNameError\u001b[0m                                 Traceback (most recent call last)",
      "\u001b[0;32m<ipython-input-30-1ff2a4d5ab36>\u001b[0m in \u001b[0;36m<module>\u001b[0;34m\u001b[0m\n\u001b[0;32m----> 1\u001b[0;31m \u001b[0mwordcloud\u001b[0m\u001b[0;34m=\u001b[0m\u001b[0mWordCloud\u001b[0m\u001b[0;34m(\u001b[0m\u001b[0mstopwords\u001b[0m\u001b[0;34m=\u001b[0m\u001b[0mall_stops\u001b[0m\u001b[0;34m)\u001b[0m\u001b[0;34m.\u001b[0m\u001b[0mgenerate\u001b[0m\u001b[0;34m(\u001b[0m\u001b[0mtext\u001b[0m\u001b[0;34m)\u001b[0m\u001b[0;34m\u001b[0m\u001b[0;34m\u001b[0m\u001b[0m\n\u001b[0m\u001b[1;32m      2\u001b[0m \u001b[0mplt\u001b[0m\u001b[0;34m.\u001b[0m\u001b[0maxis\u001b[0m\u001b[0;34m(\u001b[0m\u001b[0;34m'off'\u001b[0m\u001b[0;34m)\u001b[0m\u001b[0;34m\u001b[0m\u001b[0;34m\u001b[0m\u001b[0m\n\u001b[1;32m      3\u001b[0m \u001b[0mplt\u001b[0m\u001b[0;34m.\u001b[0m\u001b[0mtitle\u001b[0m\u001b[0;34m(\u001b[0m\u001b[0;34m'player preference'\u001b[0m\u001b[0;34m)\u001b[0m\u001b[0;34m\u001b[0m\u001b[0;34m\u001b[0m\u001b[0m\n\u001b[1;32m      4\u001b[0m \u001b[0mplt\u001b[0m\u001b[0;34m.\u001b[0m\u001b[0mimshow\u001b[0m\u001b[0;34m(\u001b[0m\u001b[0mwordcloud\u001b[0m\u001b[0;34m)\u001b[0m\u001b[0;34m\u001b[0m\u001b[0;34m\u001b[0m\u001b[0m\n",
      "\u001b[0;31mNameError\u001b[0m: name 'WordCloud' is not defined"
     ]
    }
   ],
   "source": [
    "wordcloud=WordCloud(stopwords=all_stops).generate(text)\n",
    "plt.axis('off')\n",
    "plt.title('player preference')\n",
    "plt.imshow(wordcloud)"
   ]
  },
  {
   "cell_type": "markdown",
   "metadata": {},
   "source": [
    "From all the games this player played, the term \"story\" pops up quite a lot giving us a clue that this player enjoys games that has story element to it. They may like a game that has a lot of characters.\n",
    "\n",
    "\"time\" also shows up quite a lot but it is unsure just from this wordcloud whether that means a game that takes a lot of time to play or the opposite.\n",
    "\n",
    "\n"
   ]
  },
  {
   "cell_type": "markdown",
   "metadata": {},
   "source": [
    "<br>\n",
    "Using only the stems of each words, I calculate the TF-IDF scores of the reviews"
   ]
  },
  {
   "cell_type": "code",
   "execution_count": null,
   "metadata": {},
   "outputs": [],
   "source": [
    "def stemvect(text):\n",
    "    X=vectorizer_s.fit_transform(text)\n",
    "    return X.toarray(), vectorizer_s.get_feature_names()"
   ]
  },
  {
   "cell_type": "code",
   "execution_count": null,
   "metadata": {},
   "outputs": [],
   "source": [
    "def stemtfidf(text):\n",
    "    X=tfidf_s.fit_transform(text)\n",
    "    return X.toarray(),tfidf_s.get_feature_names()"
   ]
  },
  {
   "cell_type": "code",
   "execution_count": null,
   "metadata": {},
   "outputs": [],
   "source": [
    "freq,words=stemvect(for_analysis.values())\n",
    "tdfscore,tdfwords=stemtfidf(for_analysis.values())"
   ]
  },
  {
   "cell_type": "code",
   "execution_count": null,
   "metadata": {},
   "outputs": [],
   "source": [
    "games_tdf=pd.DataFrame(tdfscore,index=for_analysis.keys(),columns=tdfwords)"
   ]
  },
  {
   "cell_type": "code",
   "execution_count": null,
   "metadata": {},
   "outputs": [],
   "source": [
    "games_tdf.head()"
   ]
  },
  {
   "cell_type": "markdown",
   "metadata": {},
   "source": [
    "These will in turn be used to calculate cosine similarity with each other: matrixforgame\n",
    "\n",
    "This allows us to find out how similar each game's reviews are to others, which in turn implies how similar each game is to the other"
   ]
  },
  {
   "cell_type": "code",
   "execution_count": null,
   "metadata": {},
   "outputs": [],
   "source": [
    "list_of_games=games_tdf.index.tolist()\n",
    "listlength=len(list_of_games)\n",
    "import numpy as np\n",
    "from scipy import spatial\n",
    "matrixforgame=np.zeros(shape=(listlength,listlength))\n",
    "for i in range(len(list_of_games)):\n",
    "    game=list_of_games[i]\n",
    "    for j in range(len(list_of_games)):\n",
    "        another=list_of_games[j]\n",
    "        if game!=another:\n",
    "            result=1-spatial.distance.cosine(games_tdf.loc[game].values,games_tdf.loc[another].values)\n",
    "            matrixforgame[i][j]=result"
   ]
  },
  {
   "cell_type": "code",
   "execution_count": null,
   "metadata": {},
   "outputs": [],
   "source": []
  },
  {
   "cell_type": "code",
   "execution_count": null,
   "metadata": {},
   "outputs": [],
   "source": [
    "result_df=pd.DataFrame(matrixforgame,index=list_of_games,columns=list_of_games)"
   ]
  },
  {
   "cell_type": "code",
   "execution_count": null,
   "metadata": {},
   "outputs": [],
   "source": [
    "import seaborn as sns\n",
    "sns.heatmap(result_df[topplayedgame['name']])"
   ]
  },
  {
   "cell_type": "markdown",
   "metadata": {},
   "source": [
    "You can see as a heat map that there were a lot more games similar to Undertale than Assassins's Creed Brotherhood.<br>\n",
    "There also seem to be a small number of game that was very similar to Ori and the Blind Forest as there is one bright band.\n",
    "\n",
    "\n",
    "<br>\n",
    "<br>\n",
    "\n",
    "I added weight to each games according to how long the player played it for and added all the cosine similarity values: result_df<br>\n",
    "This allows me to get a list of games that this player is likely to enjoy because they played these list of games a lot."
   ]
  },
  {
   "cell_type": "code",
   "execution_count": null,
   "metadata": {},
   "outputs": [],
   "source": [
    "weight=len(list(player_dict.keys()))\n",
    "result_df['total'] = 0\n",
    "for name in player_df['game_name'].unique():\n",
    "    result_df['total']=result_df['total']+(weight*result_df[name])\n",
    "    weight=weight-1"
   ]
  },
  {
   "cell_type": "markdown",
   "metadata": {},
   "source": [
    "remove the games that this player already possess: removed<br>\n",
    "Then we take the top 10 games with the largest similarity: finaltop10recommendation"
   ]
  },
  {
   "cell_type": "code",
   "execution_count": null,
   "metadata": {},
   "outputs": [],
   "source": [
    "alreadyownedgames=test_df['name'].tolist()\n",
    "removed=[name for name in result_df.index.tolist() if name not in alreadyownedgames]"
   ]
  },
  {
   "cell_type": "code",
   "execution_count": null,
   "metadata": {},
   "outputs": [],
   "source": [
    "finaltop10recommendation=result_df['total'].loc[removed].sort_values(ascending=False)[0:10]\n",
    "final_list=finaltop10recommendation.index.tolist()"
   ]
  },
  {
   "cell_type": "markdown",
   "metadata": {},
   "source": [
    "To give users accessibility, I added in urls to each recommended game and presented them: recommended_games"
   ]
  },
  {
   "cell_type": "code",
   "execution_count": null,
   "metadata": {},
   "outputs": [],
   "source": [
    "recommended_games=list()\n",
    "for name in final_list:\n",
    "    ids=list(steamapp_dict.keys())[list(steamapp_dict.values()).index(name)]\n",
    "    recommended_games.append((name,\"https://store.steampowered.com/app/\"+str(ids)))"
   ]
  },
  {
   "cell_type": "code",
   "execution_count": null,
   "metadata": {},
   "outputs": [],
   "source": [
    "plot_num=1\n",
    "plt.figure(figsize = (50,30))\n",
    "for name in final_list:\n",
    "    working_data=review_df[review_df['game_name']==name]\n",
    "    text=working_data.review.sum(axis=0)\n",
    "    wordcloud=WordCloud(stopwords=all_stops).generate(text)\n",
    "    plt.subplot(2, 5, plot_num)\n",
    "    plt.gca().set_title(name, fontsize=30)\n",
    "    plt.imshow(wordcloud,aspect='auto')\n",
    "    plt.axis('off')\n",
    "    plot_num=plot_num+1"
   ]
  },
  {
   "cell_type": "code",
   "execution_count": null,
   "metadata": {},
   "outputs": [],
   "source": [
    "print(\"\\nBecause you played games such as {}, {} and {}, \\n you will like these games as well!\\n\".format(alreadyownedgames[0],alreadyownedgames[1],alreadyownedgames[2]))\n",
    "print(pd.DataFrame(recommended_games,columns=[\"Game Name\",\"Store page\"]))"
   ]
  },
  {
   "cell_type": "code",
   "execution_count": null,
   "metadata": {},
   "outputs": [],
   "source": []
  },
  {
   "cell_type": "code",
   "execution_count": null,
   "metadata": {},
   "outputs": [],
   "source": []
  }
 ],
 "metadata": {
  "kernelspec": {
   "display_name": "Python 3",
   "language": "python",
   "name": "python3"
  },
  "language_info": {
   "codemirror_mode": {
    "name": "ipython",
    "version": 3
   },
   "file_extension": ".py",
   "mimetype": "text/x-python",
   "name": "python",
   "nbconvert_exporter": "python",
   "pygments_lexer": "ipython3",
   "version": "3.6.8"
  }
 },
 "nbformat": 4,
 "nbformat_minor": 2
}
