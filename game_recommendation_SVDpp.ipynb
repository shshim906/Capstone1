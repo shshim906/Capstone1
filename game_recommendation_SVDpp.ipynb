{
 "cells": [
  {
   "cell_type": "markdown",
   "metadata": {},
   "source": [
    "This code uses SVD++ algorithm to recommend game to the player. The rating is obtained by analyzing the sentiment from the reviews given on each games."
   ]
  },
  {
   "cell_type": "code",
   "execution_count": 38,
   "metadata": {},
   "outputs": [],
   "source": [
    "import pandas as pd"
   ]
  },
  {
   "cell_type": "code",
   "execution_count": 1,
   "metadata": {},
   "outputs": [],
   "source": [
    "import requests\n",
    "# Get all the games that the player played\n",
    "def getownedgames(idnum):\n",
    "    \"\"\"Takes the id number of a steam user and returns the id num of games they own\"\"\"\n",
    "    url='http://api.steampowered.com/IPlayerService/GetOwnedGames/v0001/?key=3A629E52AE594CB777253431189F2967&steamid={}&format=json'.format(idnum)\n",
    "    r=requests.get(url)\n",
    "    json_data=r.json()\n",
    "    return json_data"
   ]
  },
  {
   "cell_type": "markdown",
   "metadata": {},
   "source": [
    "Get all the application id that is on STEAM website."
   ]
  },
  {
   "cell_type": "code",
   "execution_count": 2,
   "metadata": {},
   "outputs": [],
   "source": [
    "api_key='3A629E52AE594CB777253431189F2967' # API key for getting information from Steam\n",
    "allgame='http://api.steampowered.com/ISteamApps/GetAppList/v0002/?key={}&format=json'.format(api_key)\n",
    "all_r=requests.get(allgame)\n",
    "allgame_id=all_r.json()"
   ]
  },
  {
   "cell_type": "code",
   "execution_count": 3,
   "metadata": {},
   "outputs": [],
   "source": [
    "steamapp_dict=dict()\n",
    "for num in range(len(allgame_id['applist']['apps'])):\n",
    "    key=allgame_id['applist']['apps'][num]['appid']\n",
    "    value=allgame_id['applist']['apps'][num]['name']\n",
    "    if key in steamapp_dict:\n",
    "        continue\n",
    "    else:\n",
    "        steamapp_dict[key]=value"
   ]
  },
  {
   "cell_type": "markdown",
   "metadata": {},
   "source": [
    "get data from pickled file"
   ]
  },
  {
   "cell_type": "code",
   "execution_count": 4,
   "metadata": {},
   "outputs": [],
   "source": [
    "import pickle\n",
    "file_name='steam_review_bulk.p'\n",
    "loaded_df=pickle.load(open(file_name,\"rb\"))"
   ]
  },
  {
   "cell_type": "code",
   "execution_count": 5,
   "metadata": {},
   "outputs": [
    {
     "data": {
      "text/html": [
       "<div>\n",
       "<style scoped>\n",
       "    .dataframe tbody tr th:only-of-type {\n",
       "        vertical-align: middle;\n",
       "    }\n",
       "\n",
       "    .dataframe tbody tr th {\n",
       "        vertical-align: top;\n",
       "    }\n",
       "\n",
       "    .dataframe thead th {\n",
       "        text-align: right;\n",
       "    }\n",
       "</style>\n",
       "<table border=\"1\" class=\"dataframe\">\n",
       "  <thead>\n",
       "    <tr style=\"text-align: right;\">\n",
       "      <th></th>\n",
       "      <th>author</th>\n",
       "      <th>comment_count</th>\n",
       "      <th>language</th>\n",
       "      <th>received_for_free</th>\n",
       "      <th>recommendationid</th>\n",
       "      <th>review</th>\n",
       "      <th>steam_purchase</th>\n",
       "      <th>timestamp_created</th>\n",
       "      <th>timestamp_updated</th>\n",
       "      <th>voted_up</th>\n",
       "      <th>votes_funny</th>\n",
       "      <th>votes_up</th>\n",
       "      <th>weighted_vote_score</th>\n",
       "      <th>written_during_early_access</th>\n",
       "      <th>game_name</th>\n",
       "      <th>developer_response</th>\n",
       "      <th>timestamp_dev_responded</th>\n",
       "    </tr>\n",
       "  </thead>\n",
       "  <tbody>\n",
       "    <tr>\n",
       "      <th>0</th>\n",
       "      <td>76561198418549470</td>\n",
       "      <td>2</td>\n",
       "      <td>english</td>\n",
       "      <td>False</td>\n",
       "      <td>48738870</td>\n",
       "      <td>Well, I had never played a time-management gam...</td>\n",
       "      <td>True</td>\n",
       "      <td>1549214430</td>\n",
       "      <td>1549236308</td>\n",
       "      <td>True</td>\n",
       "      <td>0</td>\n",
       "      <td>9</td>\n",
       "      <td>0.589138209819793701</td>\n",
       "      <td>False</td>\n",
       "      <td>Elven Legend</td>\n",
       "      <td>NaN</td>\n",
       "      <td>NaN</td>\n",
       "    </tr>\n",
       "    <tr>\n",
       "      <th>1</th>\n",
       "      <td>76561198044857549</td>\n",
       "      <td>0</td>\n",
       "      <td>english</td>\n",
       "      <td>False</td>\n",
       "      <td>30095674</td>\n",
       "      <td>This is the third time I have had to leave a r...</td>\n",
       "      <td>True</td>\n",
       "      <td>1487755088</td>\n",
       "      <td>1487755088</td>\n",
       "      <td>False</td>\n",
       "      <td>0</td>\n",
       "      <td>28</td>\n",
       "      <td>0.807962000370025635</td>\n",
       "      <td>False</td>\n",
       "      <td>Bequest</td>\n",
       "      <td>NaN</td>\n",
       "      <td>NaN</td>\n",
       "    </tr>\n",
       "    <tr>\n",
       "      <th>2</th>\n",
       "      <td>76561198030980450</td>\n",
       "      <td>0</td>\n",
       "      <td>english</td>\n",
       "      <td>False</td>\n",
       "      <td>49686292</td>\n",
       "      <td>has potiential. needs more cultures as well. h...</td>\n",
       "      <td>True</td>\n",
       "      <td>1553224936</td>\n",
       "      <td>1553224936</td>\n",
       "      <td>True</td>\n",
       "      <td>0</td>\n",
       "      <td>1</td>\n",
       "      <td>0.444444417953491211</td>\n",
       "      <td>False</td>\n",
       "      <td>Empire Architect</td>\n",
       "      <td>NaN</td>\n",
       "      <td>NaN</td>\n",
       "    </tr>\n",
       "    <tr>\n",
       "      <th>3</th>\n",
       "      <td>76561198129998583</td>\n",
       "      <td>0</td>\n",
       "      <td>english</td>\n",
       "      <td>False</td>\n",
       "      <td>45343379</td>\n",
       "      <td>Trash.</td>\n",
       "      <td>True</td>\n",
       "      <td>1539976440</td>\n",
       "      <td>1539976440</td>\n",
       "      <td>False</td>\n",
       "      <td>0</td>\n",
       "      <td>1</td>\n",
       "      <td>0.482841163873672485</td>\n",
       "      <td>False</td>\n",
       "      <td>Jelly in the sky</td>\n",
       "      <td>NaN</td>\n",
       "      <td>NaN</td>\n",
       "    </tr>\n",
       "    <tr>\n",
       "      <th>4</th>\n",
       "      <td>76561198135538727</td>\n",
       "      <td>0</td>\n",
       "      <td>english</td>\n",
       "      <td>False</td>\n",
       "      <td>48179714</td>\n",
       "      <td>Not made for 1080p or higher, since text and i...</td>\n",
       "      <td>True</td>\n",
       "      <td>1546910395</td>\n",
       "      <td>1546910395</td>\n",
       "      <td>False</td>\n",
       "      <td>0</td>\n",
       "      <td>1</td>\n",
       "      <td>0.533527672290802002</td>\n",
       "      <td>False</td>\n",
       "      <td>The Last Cargo</td>\n",
       "      <td>NaN</td>\n",
       "      <td>NaN</td>\n",
       "    </tr>\n",
       "  </tbody>\n",
       "</table>\n",
       "</div>"
      ],
      "text/plain": [
       "              author  comment_count language  received_for_free  \\\n",
       "0  76561198418549470              2  english              False   \n",
       "1  76561198044857549              0  english              False   \n",
       "2  76561198030980450              0  english              False   \n",
       "3  76561198129998583              0  english              False   \n",
       "4  76561198135538727              0  english              False   \n",
       "\n",
       "  recommendationid                                             review  \\\n",
       "0         48738870  Well, I had never played a time-management gam...   \n",
       "1         30095674  This is the third time I have had to leave a r...   \n",
       "2         49686292  has potiential. needs more cultures as well. h...   \n",
       "3         45343379                                             Trash.   \n",
       "4         48179714  Not made for 1080p or higher, since text and i...   \n",
       "\n",
       "   steam_purchase  timestamp_created  timestamp_updated  voted_up  \\\n",
       "0            True         1549214430         1549236308      True   \n",
       "1            True         1487755088         1487755088     False   \n",
       "2            True         1553224936         1553224936      True   \n",
       "3            True         1539976440         1539976440     False   \n",
       "4            True         1546910395         1546910395     False   \n",
       "\n",
       "   votes_funny  votes_up   weighted_vote_score  written_during_early_access  \\\n",
       "0            0         9  0.589138209819793701                        False   \n",
       "1            0        28  0.807962000370025635                        False   \n",
       "2            0         1  0.444444417953491211                        False   \n",
       "3            0         1  0.482841163873672485                        False   \n",
       "4            0         1  0.533527672290802002                        False   \n",
       "\n",
       "          game_name developer_response  timestamp_dev_responded  \n",
       "0      Elven Legend                NaN                      NaN  \n",
       "1           Bequest                NaN                      NaN  \n",
       "2  Empire Architect                NaN                      NaN  \n",
       "3  Jelly in the sky                NaN                      NaN  \n",
       "4    The Last Cargo                NaN                      NaN  "
      ]
     },
     "execution_count": 5,
     "metadata": {},
     "output_type": "execute_result"
    }
   ],
   "source": [
    "loaded_df.head()"
   ]
  },
  {
   "cell_type": "markdown",
   "metadata": {},
   "source": [
    "Because we do not have rating provided in the raw data, we will get the sentiment values from the reviews and assign rating based on that"
   ]
  },
  {
   "cell_type": "code",
   "execution_count": 6,
   "metadata": {},
   "outputs": [],
   "source": [
    "loaded_df=loaded_df.drop_duplicates()"
   ]
  },
  {
   "cell_type": "code",
   "execution_count": 7,
   "metadata": {},
   "outputs": [],
   "source": [
    "from textblob import TextBlob"
   ]
  },
  {
   "cell_type": "code",
   "execution_count": 8,
   "metadata": {},
   "outputs": [],
   "source": [
    "review_sentiment=list()\n",
    "review_recomd=list()\n",
    "i=0\n",
    "for review in loaded_df.review:\n",
    "    sent = TextBlob(review)\n",
    "    rating=round(2*(sent.sentiment.polarity+1))\n",
    "    if sent.sentiment.polarity>0:\n",
    "        recomd=True\n",
    "    else:\n",
    "        recomd=False\n",
    "    review_sentiment.append(rating)\n",
    "    review_recomd.append(recomd)"
   ]
  },
  {
   "cell_type": "code",
   "execution_count": 9,
   "metadata": {},
   "outputs": [],
   "source": [
    "loaded_df['review_sentiment']=review_sentiment\n",
    "loaded_df['recommend']=review_recomd"
   ]
  },
  {
   "cell_type": "code",
   "execution_count": 11,
   "metadata": {},
   "outputs": [],
   "source": [
    "from surprise import *"
   ]
  },
  {
   "cell_type": "code",
   "execution_count": 10,
   "metadata": {},
   "outputs": [],
   "source": [
    "# Surprise takes user, item, and rating as input\n",
    "df=loaded_df[['author','game_name','review_sentiment']]"
   ]
  },
  {
   "cell_type": "code",
   "execution_count": 28,
   "metadata": {},
   "outputs": [
    {
     "name": "stdout",
     "output_type": "stream",
     "text": [
      "The original data frame shape:\t(98044, 3)\n",
      "The new data frame shape:\t(8852, 3)\n"
     ]
    }
   ],
   "source": [
    "# Only take games that have more than 5 reviews into consideration \n",
    "min_games_review = 5\n",
    "filter_games = df['game_name'].value_counts() > min_games_review\n",
    "filter_games = filter_games[filter_games].index.tolist()\n",
    "\n",
    "# Only take users that left more than 5 reviews into consideration \n",
    "min_user_review = 5\n",
    "filter_users = df['author'].value_counts() > min_user_review\n",
    "filter_users = filter_users[filter_users].index.tolist()\n",
    "\n",
    "df_new = df[(df['game_name'].isin(filter_games)) & (df['author'].isin(filter_users))]\n",
    "print('The original data frame shape:\\t{}'.format(df.shape))\n",
    "print('The new data frame shape:\\t{}'.format(df_new.shape))"
   ]
  },
  {
   "cell_type": "code",
   "execution_count": 14,
   "metadata": {},
   "outputs": [],
   "source": [
    "# Make the reader and data form\n",
    "reader = Reader(rating_scale=(0, 4))\n",
    "data = Dataset.load_from_df(df_new, reader)"
   ]
  },
  {
   "cell_type": "code",
   "execution_count": 35,
   "metadata": {},
   "outputs": [
    {
     "data": {
      "text/plain": [
       "{'test_rmse': array([0.48067647, 0.47552341, 0.45936497]),\n",
       " 'fit_time': (1.4934563636779785, 1.4026877880096436, 1.4840326309204102),\n",
       " 'test_time': (0.07191944122314453, 0.06203174591064453, 0.05703902244567871)}"
      ]
     },
     "execution_count": 35,
     "metadata": {},
     "output_type": "execute_result"
    }
   ],
   "source": [
    "from surprise.model_selection import cross_validate\n",
    "svdmodel=SVDpp()\n",
    "cross_validate(svdmodel,data,measures=['RMSE'],cv=3,verbose=False)"
   ]
  },
  {
   "cell_type": "code",
   "execution_count": 36,
   "metadata": {},
   "outputs": [],
   "source": [
    "from surprise.model_selection import train_test_split\n",
    "trainset,testset=train_test_split(data,test_size=0.3)"
   ]
  },
  {
   "cell_type": "code",
   "execution_count": 37,
   "metadata": {},
   "outputs": [
    {
     "name": "stdout",
     "output_type": "stream",
     "text": [
      "RMSE: 0.4731\n"
     ]
    },
    {
     "data": {
      "text/plain": [
       "0.47306970619069905"
      ]
     },
     "execution_count": 37,
     "metadata": {},
     "output_type": "execute_result"
    }
   ],
   "source": [
    "from surprise import accuracy\n",
    "model=svdmodel.fit(trainset)\n",
    "predict1=model.test(testset)\n",
    "accuracy.rmse(predict1)"
   ]
  },
  {
   "cell_type": "code",
   "execution_count": 19,
   "metadata": {},
   "outputs": [],
   "source": [
    "predict_df=pd.DataFrame(predict1)\n",
    "predict_df['err'] = abs(predict_df.est - predict_df.r_ui)\n",
    "best_predictions = predict_df.sort_values(by='err')[:10]\n",
    "worst_predictions = predict_df.sort_values(by='err')[-10:]"
   ]
  },
  {
   "cell_type": "code",
   "execution_count": 20,
   "metadata": {},
   "outputs": [
    {
     "data": {
      "text/html": [
       "<div>\n",
       "<style scoped>\n",
       "    .dataframe tbody tr th:only-of-type {\n",
       "        vertical-align: middle;\n",
       "    }\n",
       "\n",
       "    .dataframe tbody tr th {\n",
       "        vertical-align: top;\n",
       "    }\n",
       "\n",
       "    .dataframe thead th {\n",
       "        text-align: right;\n",
       "    }\n",
       "</style>\n",
       "<table border=\"1\" class=\"dataframe\">\n",
       "  <thead>\n",
       "    <tr style=\"text-align: right;\">\n",
       "      <th></th>\n",
       "      <th>uid</th>\n",
       "      <th>iid</th>\n",
       "      <th>r_ui</th>\n",
       "      <th>est</th>\n",
       "      <th>details</th>\n",
       "      <th>err</th>\n",
       "    </tr>\n",
       "  </thead>\n",
       "  <tbody>\n",
       "    <tr>\n",
       "      <th>1740</th>\n",
       "      <td>76561198035285721</td>\n",
       "      <td>Juice Fresh</td>\n",
       "      <td>2.0</td>\n",
       "      <td>1.999996</td>\n",
       "      <td>{'was_impossible': False}</td>\n",
       "      <td>0.000004</td>\n",
       "    </tr>\n",
       "    <tr>\n",
       "      <th>292</th>\n",
       "      <td>76561198035285721</td>\n",
       "      <td>RKN Block Me: Telegram</td>\n",
       "      <td>2.0</td>\n",
       "      <td>1.999996</td>\n",
       "      <td>{'was_impossible': False}</td>\n",
       "      <td>0.000004</td>\n",
       "    </tr>\n",
       "    <tr>\n",
       "      <th>859</th>\n",
       "      <td>76561198301417309</td>\n",
       "      <td>Shadows in the Darkness</td>\n",
       "      <td>2.0</td>\n",
       "      <td>1.999970</td>\n",
       "      <td>{'was_impossible': False}</td>\n",
       "      <td>0.000030</td>\n",
       "    </tr>\n",
       "    <tr>\n",
       "      <th>1591</th>\n",
       "      <td>76561198013274120</td>\n",
       "      <td>Vernon's Legacy</td>\n",
       "      <td>2.0</td>\n",
       "      <td>1.999916</td>\n",
       "      <td>{'was_impossible': False}</td>\n",
       "      <td>0.000084</td>\n",
       "    </tr>\n",
       "    <tr>\n",
       "      <th>285</th>\n",
       "      <td>76561198091533948</td>\n",
       "      <td>Fallout 4</td>\n",
       "      <td>2.0</td>\n",
       "      <td>1.999883</td>\n",
       "      <td>{'was_impossible': False}</td>\n",
       "      <td>0.000117</td>\n",
       "    </tr>\n",
       "    <tr>\n",
       "      <th>1710</th>\n",
       "      <td>76561198069159152</td>\n",
       "      <td>Disgraced</td>\n",
       "      <td>2.0</td>\n",
       "      <td>2.000392</td>\n",
       "      <td>{'was_impossible': False}</td>\n",
       "      <td>0.000392</td>\n",
       "    </tr>\n",
       "    <tr>\n",
       "      <th>1696</th>\n",
       "      <td>76561198019816374</td>\n",
       "      <td>Rainbow Step</td>\n",
       "      <td>2.0</td>\n",
       "      <td>1.999580</td>\n",
       "      <td>{'was_impossible': False}</td>\n",
       "      <td>0.000420</td>\n",
       "    </tr>\n",
       "    <tr>\n",
       "      <th>1963</th>\n",
       "      <td>76561198009614137</td>\n",
       "      <td>★ Fallalypse ★</td>\n",
       "      <td>2.0</td>\n",
       "      <td>1.999391</td>\n",
       "      <td>{'was_impossible': False}</td>\n",
       "      <td>0.000609</td>\n",
       "    </tr>\n",
       "    <tr>\n",
       "      <th>1377</th>\n",
       "      <td>76561198044229474</td>\n",
       "      <td>GabeN: The Final Decision</td>\n",
       "      <td>2.0</td>\n",
       "      <td>2.000771</td>\n",
       "      <td>{'was_impossible': False}</td>\n",
       "      <td>0.000771</td>\n",
       "    </tr>\n",
       "    <tr>\n",
       "      <th>2048</th>\n",
       "      <td>76561198003033413</td>\n",
       "      <td>Hell`S Little Story</td>\n",
       "      <td>2.0</td>\n",
       "      <td>1.999188</td>\n",
       "      <td>{'was_impossible': False}</td>\n",
       "      <td>0.000812</td>\n",
       "    </tr>\n",
       "  </tbody>\n",
       "</table>\n",
       "</div>"
      ],
      "text/plain": [
       "                    uid                        iid  r_ui       est  \\\n",
       "1740  76561198035285721                Juice Fresh   2.0  1.999996   \n",
       "292   76561198035285721     RKN Block Me: Telegram   2.0  1.999996   \n",
       "859   76561198301417309    Shadows in the Darkness   2.0  1.999970   \n",
       "1591  76561198013274120            Vernon's Legacy   2.0  1.999916   \n",
       "285   76561198091533948                  Fallout 4   2.0  1.999883   \n",
       "1710  76561198069159152                  Disgraced   2.0  2.000392   \n",
       "1696  76561198019816374               Rainbow Step   2.0  1.999580   \n",
       "1963  76561198009614137             ★ Fallalypse ★   2.0  1.999391   \n",
       "1377  76561198044229474  GabeN: The Final Decision   2.0  2.000771   \n",
       "2048  76561198003033413        Hell`S Little Story   2.0  1.999188   \n",
       "\n",
       "                        details       err  \n",
       "1740  {'was_impossible': False}  0.000004  \n",
       "292   {'was_impossible': False}  0.000004  \n",
       "859   {'was_impossible': False}  0.000030  \n",
       "1591  {'was_impossible': False}  0.000084  \n",
       "285   {'was_impossible': False}  0.000117  \n",
       "1710  {'was_impossible': False}  0.000392  \n",
       "1696  {'was_impossible': False}  0.000420  \n",
       "1963  {'was_impossible': False}  0.000609  \n",
       "1377  {'was_impossible': False}  0.000771  \n",
       "2048  {'was_impossible': False}  0.000812  "
      ]
     },
     "execution_count": 20,
     "metadata": {},
     "output_type": "execute_result"
    }
   ],
   "source": [
    "best_predictions"
   ]
  },
  {
   "cell_type": "code",
   "execution_count": 21,
   "metadata": {},
   "outputs": [
    {
     "data": {
      "text/html": [
       "<div>\n",
       "<style scoped>\n",
       "    .dataframe tbody tr th:only-of-type {\n",
       "        vertical-align: middle;\n",
       "    }\n",
       "\n",
       "    .dataframe tbody tr th {\n",
       "        vertical-align: top;\n",
       "    }\n",
       "\n",
       "    .dataframe thead th {\n",
       "        text-align: right;\n",
       "    }\n",
       "</style>\n",
       "<table border=\"1\" class=\"dataframe\">\n",
       "  <thead>\n",
       "    <tr style=\"text-align: right;\">\n",
       "      <th></th>\n",
       "      <th>uid</th>\n",
       "      <th>iid</th>\n",
       "      <th>r_ui</th>\n",
       "      <th>est</th>\n",
       "      <th>details</th>\n",
       "      <th>err</th>\n",
       "    </tr>\n",
       "  </thead>\n",
       "  <tbody>\n",
       "    <tr>\n",
       "      <th>2249</th>\n",
       "      <td>76561198390832861</td>\n",
       "      <td>Factorio</td>\n",
       "      <td>4.0</td>\n",
       "      <td>2.051539</td>\n",
       "      <td>{'was_impossible': False}</td>\n",
       "      <td>1.948461</td>\n",
       "    </tr>\n",
       "    <tr>\n",
       "      <th>2607</th>\n",
       "      <td>76561198068849291</td>\n",
       "      <td>The chronicles of Emerland. Solitaire.</td>\n",
       "      <td>4.0</td>\n",
       "      <td>2.047632</td>\n",
       "      <td>{'was_impossible': False}</td>\n",
       "      <td>1.952368</td>\n",
       "    </tr>\n",
       "    <tr>\n",
       "      <th>2223</th>\n",
       "      <td>76561198091533948</td>\n",
       "      <td>Fallout 4</td>\n",
       "      <td>4.0</td>\n",
       "      <td>1.999883</td>\n",
       "      <td>{'was_impossible': False}</td>\n",
       "      <td>2.000117</td>\n",
       "    </tr>\n",
       "    <tr>\n",
       "      <th>202</th>\n",
       "      <td>76561198015030636</td>\n",
       "      <td>Fallout 4</td>\n",
       "      <td>0.0</td>\n",
       "      <td>2.045722</td>\n",
       "      <td>{'was_impossible': False}</td>\n",
       "      <td>2.045722</td>\n",
       "    </tr>\n",
       "    <tr>\n",
       "      <th>1923</th>\n",
       "      <td>76561198011965365</td>\n",
       "      <td>Lilly and Sasha: Curse of the Immortals</td>\n",
       "      <td>4.0</td>\n",
       "      <td>1.950597</td>\n",
       "      <td>{'was_impossible': False}</td>\n",
       "      <td>2.049403</td>\n",
       "    </tr>\n",
       "    <tr>\n",
       "      <th>1129</th>\n",
       "      <td>76561198157193042</td>\n",
       "      <td>Shift</td>\n",
       "      <td>4.0</td>\n",
       "      <td>1.939000</td>\n",
       "      <td>{'was_impossible': False}</td>\n",
       "      <td>2.061000</td>\n",
       "    </tr>\n",
       "    <tr>\n",
       "      <th>574</th>\n",
       "      <td>76561198046979223</td>\n",
       "      <td>Pixel Puzzles 2: Birds</td>\n",
       "      <td>4.0</td>\n",
       "      <td>1.932399</td>\n",
       "      <td>{'was_impossible': False}</td>\n",
       "      <td>2.067601</td>\n",
       "    </tr>\n",
       "    <tr>\n",
       "      <th>225</th>\n",
       "      <td>76561198025301599</td>\n",
       "      <td>Robot Roller-Derby Disco Dodgeball Soundtrack</td>\n",
       "      <td>4.0</td>\n",
       "      <td>1.885280</td>\n",
       "      <td>{'was_impossible': False}</td>\n",
       "      <td>2.114720</td>\n",
       "    </tr>\n",
       "    <tr>\n",
       "      <th>694</th>\n",
       "      <td>76561198015785536</td>\n",
       "      <td>Black Desert Online SA</td>\n",
       "      <td>4.0</td>\n",
       "      <td>1.711927</td>\n",
       "      <td>{'was_impossible': False}</td>\n",
       "      <td>2.288073</td>\n",
       "    </tr>\n",
       "    <tr>\n",
       "      <th>281</th>\n",
       "      <td>76561198272538113</td>\n",
       "      <td>Lumber Island - That Special Place</td>\n",
       "      <td>0.0</td>\n",
       "      <td>2.293233</td>\n",
       "      <td>{'was_impossible': False}</td>\n",
       "      <td>2.293233</td>\n",
       "    </tr>\n",
       "  </tbody>\n",
       "</table>\n",
       "</div>"
      ],
      "text/plain": [
       "                    uid                                            iid  r_ui  \\\n",
       "2249  76561198390832861                                       Factorio   4.0   \n",
       "2607  76561198068849291         The chronicles of Emerland. Solitaire.   4.0   \n",
       "2223  76561198091533948                                      Fallout 4   4.0   \n",
       "202   76561198015030636                                      Fallout 4   0.0   \n",
       "1923  76561198011965365        Lilly and Sasha: Curse of the Immortals   4.0   \n",
       "1129  76561198157193042                                          Shift   4.0   \n",
       "574   76561198046979223                         Pixel Puzzles 2: Birds   4.0   \n",
       "225   76561198025301599  Robot Roller-Derby Disco Dodgeball Soundtrack   4.0   \n",
       "694   76561198015785536                         Black Desert Online SA   4.0   \n",
       "281   76561198272538113             Lumber Island - That Special Place   0.0   \n",
       "\n",
       "           est                    details       err  \n",
       "2249  2.051539  {'was_impossible': False}  1.948461  \n",
       "2607  2.047632  {'was_impossible': False}  1.952368  \n",
       "2223  1.999883  {'was_impossible': False}  2.000117  \n",
       "202   2.045722  {'was_impossible': False}  2.045722  \n",
       "1923  1.950597  {'was_impossible': False}  2.049403  \n",
       "1129  1.939000  {'was_impossible': False}  2.061000  \n",
       "574   1.932399  {'was_impossible': False}  2.067601  \n",
       "225   1.885280  {'was_impossible': False}  2.114720  \n",
       "694   1.711927  {'was_impossible': False}  2.288073  \n",
       "281   2.293233  {'was_impossible': False}  2.293233  "
      ]
     },
     "execution_count": 21,
     "metadata": {},
     "output_type": "execute_result"
    }
   ],
   "source": [
    "worst_predictions"
   ]
  },
  {
   "cell_type": "code",
   "execution_count": 24,
   "metadata": {},
   "outputs": [
    {
     "name": "stdout",
     "output_type": "stream",
     "text": [
      "2.067729734134687\n",
      "user: 76561198141485825 item: Fallout 4  r_ui = None   est = 2.07   {'was_impossible': False}\n"
     ]
    }
   ],
   "source": [
    "test_id='76561198141485825'\n",
    "pred=model.predict(uid=test_id,iid=\"Fallout 4\")\n",
    "score=pred.est"
   ]
  },
  {
   "cell_type": "code",
   "execution_count": 39,
   "metadata": {},
   "outputs": [],
   "source": [
    "tests=[[test_id,iid,5] for iid in predict_df[\"iid\"].unique().tolist()]\n",
    "predictions=model.test(tests)\n",
    "pred_df=pd.DataFrame(predictions)"
   ]
  },
  {
   "cell_type": "code",
   "execution_count": 40,
   "metadata": {},
   "outputs": [],
   "source": [
    "test_df=pd.DataFrame(list(zip(testids,testplaytimes)),columns=['ids','playtime']).sort_values('playtime',ascending=False)\n",
    "playedgame_name=list()\n",
    "for id_ in test_df['ids']:\n",
    "    name=steamapp_dict.get(id_)\n",
    "    playedgame_name.append(name)"
   ]
  },
  {
   "cell_type": "code",
   "execution_count": 42,
   "metadata": {},
   "outputs": [],
   "source": [
    "removed=[name for name in pred_df['iid'].tolist() if name not in playedgame_name]"
   ]
  },
  {
   "cell_type": "code",
   "execution_count": 43,
   "metadata": {},
   "outputs": [],
   "source": [
    "pred_df=pred_df.set_index(['iid'])"
   ]
  },
  {
   "cell_type": "code",
   "execution_count": 44,
   "metadata": {},
   "outputs": [],
   "source": [
    "finaltop10recommendation=pred_df.loc[removed].sort_values(['est'],ascending=False)[:10]"
   ]
  },
  {
   "cell_type": "code",
   "execution_count": 45,
   "metadata": {},
   "outputs": [
    {
     "name": "stdout",
     "output_type": "stream",
     "text": [
      "Top item for user 76561198141485825 is Warhammer 40,000: Sanctus Reach - Sons of Cadia with predicted rating 2.5731488503622937\n"
     ]
    }
   ],
   "source": [
    "pred_game=finaltop10recommendation.index[0]\n",
    "pred_rate=finaltop10recommendation['est'][0]\n",
    "print('Top item for user {0} is {1} with predicted rating {2}'.format(test_id,pred_game, pred_rate))"
   ]
  },
  {
   "cell_type": "markdown",
   "metadata": {},
   "source": [
    "Improving the model"
   ]
  },
  {
   "cell_type": "code",
   "execution_count": 77,
   "metadata": {},
   "outputs": [
    {
     "name": "stdout",
     "output_type": "stream",
     "text": [
      "0.001 0.8\n"
     ]
    }
   ],
   "source": [
    "from surprise.model_selection import GridSearchCV\n",
    "param_grid={'lr_all' : [0.0001,.001,.01,.1], 'reg_all':[0.025,.05,.1,.5,.8]}\n",
    "gs=GridSearchCV(SVDpp,param_grid,measures=['rmse','mae'],cv=3)\n",
    "gs.fit(data)\n",
    "print(gs.best_params['rmse']['lr_all'],gs.best_params['rmse']['reg_all'])"
   ]
  },
  {
   "cell_type": "code",
   "execution_count": 78,
   "metadata": {},
   "outputs": [
    {
     "data": {
      "text/plain": [
       "{'rmse': {'n_factors': 100, 'n_epochs': 120, 'lr_all': 0.001, 'reg_all': 0.8},\n",
       " 'mae': {'n_factors': 100, 'n_epochs': 120, 'lr_all': 0.001, 'reg_all': 0.8}}"
      ]
     },
     "execution_count": 78,
     "metadata": {},
     "output_type": "execute_result"
    }
   ],
   "source": [
    "gs.best_params"
   ]
  },
  {
   "cell_type": "code",
   "execution_count": 82,
   "metadata": {},
   "outputs": [
    {
     "name": "stdout",
     "output_type": "stream",
     "text": [
      "Evaluating RMSE, MAE of algorithm SVDpp on 5 split(s).\n",
      "\n",
      "                  Fold 1  Fold 2  Fold 3  Fold 4  Fold 5  Mean    Std     \n",
      "RMSE (testset)    0.4788  0.4877  0.4876  0.4787  0.4644  0.4795  0.0085  \n",
      "MAE (testset)     0.2920  0.2946  0.2920  0.2827  0.2742  0.2871  0.0076  \n",
      "Fit time          1.76    1.75    1.88    2.06    1.87    1.87    0.11    \n",
      "Test time         0.04    0.04    0.06    0.04    0.04    0.04    0.01    \n"
     ]
    },
    {
     "data": {
      "text/plain": [
       "{'test_rmse': array([0.47882086, 0.48772503, 0.48763341, 0.4786779 , 0.46444422]),\n",
       " 'test_mae': array([0.29202963, 0.29459704, 0.29203005, 0.28272914, 0.27424259]),\n",
       " 'fit_time': (1.7622883319854736,\n",
       "  1.7533588409423828,\n",
       "  1.8817856311798096,\n",
       "  2.0648488998413086,\n",
       "  1.8654580116271973),\n",
       " 'test_time': (0.04020833969116211,\n",
       "  0.036743879318237305,\n",
       "  0.05508565902709961,\n",
       "  0.04463958740234375,\n",
       "  0.03623700141906738)}"
      ]
     },
     "execution_count": 82,
     "metadata": {},
     "output_type": "execute_result"
    }
   ],
   "source": [
    "new_model=SVDpp(lr_all=gs.best_params['rmse']['lr_all'],\n",
    "                reg_all=gs.best_params['rmse']['reg_all'])\n",
    "cross_validate(new_model,data,verbose=True)"
   ]
  },
  {
   "cell_type": "code",
   "execution_count": 49,
   "metadata": {},
   "outputs": [],
   "source": [
    "from surprise.model_selection import train_test_split\n",
    "trainset,testset=train_test_split(data,test_size=0.3)"
   ]
  },
  {
   "cell_type": "code",
   "execution_count": 83,
   "metadata": {},
   "outputs": [
    {
     "name": "stdout",
     "output_type": "stream",
     "text": [
      "RMSE: 0.4769\n"
     ]
    },
    {
     "data": {
      "text/plain": [
       "0.4768878945828707"
      ]
     },
     "execution_count": 83,
     "metadata": {},
     "output_type": "execute_result"
    }
   ],
   "source": [
    "from surprise import accuracy\n",
    "model2=new_model.fit(trainset)\n",
    "predict2=model2.test(testset)\n",
    "accuracy.rmse(predict2)"
   ]
  },
  {
   "cell_type": "code",
   "execution_count": 51,
   "metadata": {},
   "outputs": [],
   "source": [
    "import pandas as pd\n",
    "predict_df2=pd.DataFrame(predict2)\n",
    "predict_df2['err'] = abs(predict_df2.est - predict_df2.r_ui)\n",
    "best_predictions2 = predict_df2.sort_values(by='err')[:10]\n",
    "worst_predictions2 = predict_df2.sort_values(by='err')[-10:]"
   ]
  },
  {
   "cell_type": "code",
   "execution_count": 57,
   "metadata": {},
   "outputs": [],
   "source": [
    "tests=[[test_id,iid,5] for iid in predict_df2[\"iid\"].unique().tolist()]\n",
    "new_predictions=new_model.test(tests)\n",
    "pred_df2=pd.DataFrame(new_predictions)"
   ]
  },
  {
   "cell_type": "code",
   "execution_count": 59,
   "metadata": {},
   "outputs": [
    {
     "name": "stderr",
     "output_type": "stream",
     "text": [
      "C:\\Users\\shshi\\Anaconda3\\lib\\site-packages\\ipykernel_launcher.py:2: FutureWarning: \n",
      "Passing list-likes to .loc or [] with any missing label will raise\n",
      "KeyError in the future, you can use .reindex() as an alternative.\n",
      "\n",
      "See the documentation here:\n",
      "https://pandas.pydata.org/pandas-docs/stable/indexing.html#deprecate-loc-reindex-listlike\n",
      "  \n"
     ]
    }
   ],
   "source": [
    "pred_df2=pred_df2.set_index(['iid'])\n",
    "new_top10recommendation=pred_df2.loc[removed].sort_values(['est'],ascending=False)[:10]"
   ]
  },
  {
   "cell_type": "code",
   "execution_count": 60,
   "metadata": {},
   "outputs": [
    {
     "name": "stdout",
     "output_type": "stream",
     "text": [
      "Top item for user 76561198141485825 is MARS VR(全球使命VR) with predicted rating 2.5100051364363445\n"
     ]
    }
   ],
   "source": [
    "pred_game2=new_top10recommendation.index[0]\n",
    "pred_rate2=new_top10recommendation['est'][0]\n",
    "print('Top item for user {0} is {1} with predicted rating {2}'.format(test_id,pred_game2, pred_rate2))"
   ]
  },
  {
   "cell_type": "code",
   "execution_count": 70,
   "metadata": {},
   "outputs": [],
   "source": [
    "top10=pred_df2.sort_values(['est'],ascending=False)[:10]\n",
    "recommended_games=list()\n",
    "for name in top10.index.tolist():\n",
    "    ids=list(steamapp_dict.keys())[list(steamapp_dict.values()).index(name)]\n",
    "    recommended_games.append((name,\"https://store.steampowered.com/app/\"+str(ids)))"
   ]
  },
  {
   "cell_type": "code",
   "execution_count": 64,
   "metadata": {},
   "outputs": [
    {
     "data": {
      "text/html": [
       "<div>\n",
       "<style scoped>\n",
       "    .dataframe tbody tr th:only-of-type {\n",
       "        vertical-align: middle;\n",
       "    }\n",
       "\n",
       "    .dataframe tbody tr th {\n",
       "        vertical-align: top;\n",
       "    }\n",
       "\n",
       "    .dataframe thead th {\n",
       "        text-align: right;\n",
       "    }\n",
       "</style>\n",
       "<table border=\"1\" class=\"dataframe\">\n",
       "  <thead>\n",
       "    <tr style=\"text-align: right;\">\n",
       "      <th></th>\n",
       "      <th>uid</th>\n",
       "      <th>r_ui</th>\n",
       "      <th>est</th>\n",
       "      <th>details</th>\n",
       "    </tr>\n",
       "    <tr>\n",
       "      <th>iid</th>\n",
       "      <th></th>\n",
       "      <th></th>\n",
       "      <th></th>\n",
       "      <th></th>\n",
       "    </tr>\n",
       "  </thead>\n",
       "  <tbody>\n",
       "    <tr>\n",
       "      <th>MARS VR(全球使命VR)</th>\n",
       "      <td>76561198141485825</td>\n",
       "      <td>4</td>\n",
       "      <td>2.510005</td>\n",
       "      <td>{'was_impossible': False}</td>\n",
       "    </tr>\n",
       "    <tr>\n",
       "      <th>Euro Truck Simulator 2 - Danish Paint Jobs Pack</th>\n",
       "      <td>76561198141485825</td>\n",
       "      <td>4</td>\n",
       "      <td>2.505192</td>\n",
       "      <td>{'was_impossible': False}</td>\n",
       "    </tr>\n",
       "    <tr>\n",
       "      <th>Mars</th>\n",
       "      <td>76561198141485825</td>\n",
       "      <td>4</td>\n",
       "      <td>2.481897</td>\n",
       "      <td>{'was_impossible': False}</td>\n",
       "    </tr>\n",
       "    <tr>\n",
       "      <th>Down Here</th>\n",
       "      <td>76561198141485825</td>\n",
       "      <td>4</td>\n",
       "      <td>2.481482</td>\n",
       "      <td>{'was_impossible': False}</td>\n",
       "    </tr>\n",
       "    <tr>\n",
       "      <th>FSX: Steam Edition - Greenland Nuuk Add-On</th>\n",
       "      <td>76561198141485825</td>\n",
       "      <td>4</td>\n",
       "      <td>2.468923</td>\n",
       "      <td>{'was_impossible': False}</td>\n",
       "    </tr>\n",
       "    <tr>\n",
       "      <th>Hover 2030</th>\n",
       "      <td>76561198141485825</td>\n",
       "      <td>4</td>\n",
       "      <td>2.434097</td>\n",
       "      <td>{'was_impossible': False}</td>\n",
       "    </tr>\n",
       "    <tr>\n",
       "      <th>Hiveswap Friendsim - Volume Eight</th>\n",
       "      <td>76561198141485825</td>\n",
       "      <td>4</td>\n",
       "      <td>2.425076</td>\n",
       "      <td>{'was_impossible': False}</td>\n",
       "    </tr>\n",
       "    <tr>\n",
       "      <th>The Grand Canyon VR Experience</th>\n",
       "      <td>76561198141485825</td>\n",
       "      <td>4</td>\n",
       "      <td>2.422966</td>\n",
       "      <td>{'was_impossible': False}</td>\n",
       "    </tr>\n",
       "    <tr>\n",
       "      <th>Brilliant Shadows - Part One of the Book of Gray Magic</th>\n",
       "      <td>76561198141485825</td>\n",
       "      <td>4</td>\n",
       "      <td>2.417089</td>\n",
       "      <td>{'was_impossible': False}</td>\n",
       "    </tr>\n",
       "    <tr>\n",
       "      <th>3 Suicides of Paul Hamilton</th>\n",
       "      <td>76561198141485825</td>\n",
       "      <td>4</td>\n",
       "      <td>2.414442</td>\n",
       "      <td>{'was_impossible': False}</td>\n",
       "    </tr>\n",
       "  </tbody>\n",
       "</table>\n",
       "</div>"
      ],
      "text/plain": [
       "                                                                  uid  r_ui  \\\n",
       "iid                                                                           \n",
       "MARS VR(全球使命VR)                                     76561198141485825     4   \n",
       "Euro Truck Simulator 2 - Danish Paint Jobs Pack     76561198141485825     4   \n",
       "Mars                                                76561198141485825     4   \n",
       "Down Here                                           76561198141485825     4   \n",
       "FSX: Steam Edition - Greenland Nuuk Add-On          76561198141485825     4   \n",
       "Hover 2030                                          76561198141485825     4   \n",
       "Hiveswap Friendsim - Volume Eight                   76561198141485825     4   \n",
       "The Grand Canyon VR Experience                      76561198141485825     4   \n",
       "Brilliant Shadows - Part One of the Book of Gra...  76561198141485825     4   \n",
       "3 Suicides of Paul Hamilton                         76561198141485825     4   \n",
       "\n",
       "                                                         est  \\\n",
       "iid                                                            \n",
       "MARS VR(全球使命VR)                                     2.510005   \n",
       "Euro Truck Simulator 2 - Danish Paint Jobs Pack     2.505192   \n",
       "Mars                                                2.481897   \n",
       "Down Here                                           2.481482   \n",
       "FSX: Steam Edition - Greenland Nuuk Add-On          2.468923   \n",
       "Hover 2030                                          2.434097   \n",
       "Hiveswap Friendsim - Volume Eight                   2.425076   \n",
       "The Grand Canyon VR Experience                      2.422966   \n",
       "Brilliant Shadows - Part One of the Book of Gra...  2.417089   \n",
       "3 Suicides of Paul Hamilton                         2.414442   \n",
       "\n",
       "                                                                      details  \n",
       "iid                                                                            \n",
       "MARS VR(全球使命VR)                                     {'was_impossible': False}  \n",
       "Euro Truck Simulator 2 - Danish Paint Jobs Pack     {'was_impossible': False}  \n",
       "Mars                                                {'was_impossible': False}  \n",
       "Down Here                                           {'was_impossible': False}  \n",
       "FSX: Steam Edition - Greenland Nuuk Add-On          {'was_impossible': False}  \n",
       "Hover 2030                                          {'was_impossible': False}  \n",
       "Hiveswap Friendsim - Volume Eight                   {'was_impossible': False}  \n",
       "The Grand Canyon VR Experience                      {'was_impossible': False}  \n",
       "Brilliant Shadows - Part One of the Book of Gra...  {'was_impossible': False}  \n",
       "3 Suicides of Paul Hamilton                         {'was_impossible': False}  "
      ]
     },
     "execution_count": 64,
     "metadata": {},
     "output_type": "execute_result"
    }
   ],
   "source": [
    "top10"
   ]
  },
  {
   "cell_type": "code",
   "execution_count": 73,
   "metadata": {},
   "outputs": [
    {
     "name": "stdout",
     "output_type": "stream",
     "text": [
      "Based on what other players' are playing a lot, here are some of the games you may like.\n",
      "                                           Game Name  \\\n",
      "0                                    MARS VR(全球使命VR)   \n",
      "1    Euro Truck Simulator 2 - Danish Paint Jobs Pack   \n",
      "2                                               Mars   \n",
      "3                                          Down Here   \n",
      "4         FSX: Steam Edition - Greenland Nuuk Add-On   \n",
      "5                                         Hover 2030   \n",
      "6                  Hiveswap Friendsim - Volume Eight   \n",
      "7                     The Grand Canyon VR Experience   \n",
      "8  Brilliant Shadows - Part One of the Book of Gr...   \n",
      "9                        3 Suicides of Paul Hamilton   \n",
      "\n",
      "                                  Store page  \n",
      "0  https://store.steampowered.com/app/596560  \n",
      "1  https://store.steampowered.com/app/347210  \n",
      "2  https://store.steampowered.com/app/357400  \n",
      "3  https://store.steampowered.com/app/387690  \n",
      "4  https://store.steampowered.com/app/379541  \n",
      "5  https://store.steampowered.com/app/488580  \n",
      "6  https://store.steampowered.com/app/904580  \n",
      "7  https://store.steampowered.com/app/407710  \n",
      "8  https://store.steampowered.com/app/409920  \n",
      "9  https://store.steampowered.com/app/419220  \n"
     ]
    }
   ],
   "source": [
    "print(\"Based on what other players' are playing a lot, here are some of the games you may like.\")\n",
    "print(pd.DataFrame(recommended_games,columns=[\"Game Name\",\"Store page\"]))"
   ]
  },
  {
   "cell_type": "code",
   "execution_count": null,
   "metadata": {},
   "outputs": [],
   "source": []
  }
 ],
 "metadata": {
  "kernelspec": {
   "display_name": "Python 3",
   "language": "python",
   "name": "python3"
  },
  "language_info": {
   "codemirror_mode": {
    "name": "ipython",
    "version": 3
   },
   "file_extension": ".py",
   "mimetype": "text/x-python",
   "name": "python",
   "nbconvert_exporter": "python",
   "pygments_lexer": "ipython3",
   "version": "3.7.0"
  }
 },
 "nbformat": 4,
 "nbformat_minor": 2
}
