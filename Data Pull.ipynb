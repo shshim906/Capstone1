{
 "cells": [
  {
   "cell_type": "code",
   "execution_count": 1,
   "metadata": {},
   "outputs": [],
   "source": [
    "import requests\n",
    "# Get all the games that the player played\n",
    "def getownedgames(idnum):\n",
    "    \"\"\"Takes the id number of a steam user and returns the id num of games they own\"\"\"\n",
    "    url='http://api.steampowered.com/IPlayerService/GetOwnedGames/v0001/?key=3A629E52AE594CB777253431189F2967&steamid={}&format=json'.format(idnum)\n",
    "    r=requests.get(url)\n",
    "    json_data=r.json()\n",
    "    return json_data"
   ]
  },
  {
   "cell_type": "code",
   "execution_count": 2,
   "metadata": {},
   "outputs": [],
   "source": [
    "def get_reviews(gameid,num):\n",
    "    \"\"\"Takes the id number of a game and returns 20 reviews\"\"\"\n",
    "    url='http://store.steampowered.com/appreviews/{}?json=1&start_offset={} '.format(gameid,num)\n",
    "    r=requests.get(url)\n",
    "    json_data=r.json()\n",
    "    return json_data"
   ]
  },
  {
   "cell_type": "code",
   "execution_count": 3,
   "metadata": {},
   "outputs": [],
   "source": [
    "import pandas as pd\n",
    "def get_all_reviews(gameid):\n",
    "    \"\"\"Uses 'get_review' function to pull as many reviews as it can from steam website\"\"\"\n",
    "    \"\"\"STEAM website usually have limitation (20 reviews) on how many reviews we can pull\"\"\"\n",
    "    n=0\n",
    "    stop=0\n",
    "    fst_iterat=get_reviews(gameid,n)\n",
    "    if fst_iterat['success']==1:\n",
    "        df=pd.DataFrame(fst_iterat['reviews'])\n",
    "        numreview=fst_iterat['query_summary']['num_reviews']             \n",
    "        while numreview==20:\n",
    "            if len(df)>=120:\n",
    "                break\n",
    "            n+=20\n",
    "            add_iterat=get_reviews(gameid,n)\n",
    "            df_add=pd.DataFrame(add_iterat['reviews'])\n",
    "            df=df.append(df_add)\n",
    "            numreview=add_iterat['query_summary']['num_reviews']\n",
    "        df_author=pd.DataFrame(df['author'].tolist())\n",
    "        df['author']=df_author['steamid']\n",
    "    return df"
   ]
  },
  {
   "cell_type": "markdown",
   "metadata": {},
   "source": [
    "Get all the application id that is on STEAM website."
   ]
  },
  {
   "cell_type": "code",
   "execution_count": 4,
   "metadata": {
    "scrolled": false
   },
   "outputs": [],
   "source": [
    "api_key='3A629E52AE594CB777253431189F2967' # API key for getting information from Steam\n",
    "allgame='http://api.steampowered.com/ISteamApps/GetAppList/v0002/?key={}&format=json'.format(api_key)\n",
    "all_r=requests.get(allgame)\n",
    "allgame_id=all_r.json()"
   ]
  },
  {
   "cell_type": "code",
   "execution_count": 5,
   "metadata": {},
   "outputs": [],
   "source": [
    "steamapp_dict=dict()\n",
    "for num in range(len(allgame_id['applist']['apps'])):\n",
    "    key=allgame_id['applist']['apps'][num]['appid']\n",
    "    value=allgame_id['applist']['apps'][num]['name']\n",
    "    if key in steamapp_dict:\n",
    "        continue\n",
    "    else:\n",
    "        steamapp_dict[key]=value"
   ]
  },
  {
   "cell_type": "code",
   "execution_count": 7,
   "metadata": {},
   "outputs": [],
   "source": [
    "import pickle"
   ]
  },
  {
   "cell_type": "code",
   "execution_count": 19,
   "metadata": {},
   "outputs": [],
   "source": [
    "file_name='testfile'\n",
    "review_df=pickle.load(open(file_name,\"rb\"))"
   ]
  },
  {
   "cell_type": "code",
   "execution_count": 8,
   "metadata": {},
   "outputs": [],
   "source": [
    "file_name='got_review_14000.p'\n",
    "review_df=pickle.load(open(file_name,\"rb\"))"
   ]
  },
  {
   "cell_type": "code",
   "execution_count": 13,
   "metadata": {},
   "outputs": [],
   "source": [
    "error=list()\n",
    "recommended_games=list()\n",
    "for name in review_df['game_name']:\n",
    "    try:\n",
    "        ids=list(steamapp_dict.keys())[list(steamapp_dict.values()).index(name)]\n",
    "        recommended_games.append(ids)\n",
    "    except:\n",
    "        error.append(name)"
   ]
  },
  {
   "cell_type": "code",
   "execution_count": 14,
   "metadata": {},
   "outputs": [
    {
     "data": {
      "text/plain": [
       "['Dream Beach - Mallorca | VR Relaxation Sphaere | 360° Video | 6K/2D',\n",
       " 'Attracting Abundance | VR Motivation Sphaere | 360° Video | 6K/2D',\n",
       " 'Sun & Clouds Timelapse | VR Travel Sphaere | 360° Video | 6K/2D',\n",
       " 'Pebbly Beach Nature Meditation | VR Meditation Sphaere | 360° Video | 6K/2D']"
      ]
     },
     "execution_count": 14,
     "metadata": {},
     "output_type": "execute_result"
    }
   ],
   "source": [
    "error"
   ]
  },
  {
   "cell_type": "code",
   "execution_count": 17,
   "metadata": {},
   "outputs": [],
   "source": [
    "prev_ids=recommended_games"
   ]
  },
  {
   "cell_type": "code",
   "execution_count": 18,
   "metadata": {},
   "outputs": [],
   "source": [
    "# get all keys\n",
    "allkeys=list(steamapp_dict.keys())\n",
    "# remove keys included in previous pickle\n",
    "newkeys = [key for key in allkeys if key not in prev_ids]"
   ]
  },
  {
   "cell_type": "code",
   "execution_count": null,
   "metadata": {},
   "outputs": [
    {
     "name": "stdout",
     "output_type": "stream",
     "text": [
      "108000\n",
      "109000\n"
     ]
    },
    {
     "name": "stderr",
     "output_type": "stream",
     "text": [
      "C:\\Users\\shshi\\Anaconda3\\lib\\site-packages\\pandas\\core\\frame.py:6211: FutureWarning: Sorting because non-concatenation axis is not aligned. A future version\n",
      "of pandas will change to not sort by default.\n",
      "\n",
      "To accept the future behavior, pass 'sort=False'.\n",
      "\n",
      "To retain the current behavior and silence the warning, pass 'sort=True'.\n",
      "\n",
      "  sort=sort)\n"
     ]
    },
    {
     "name": "stdout",
     "output_type": "stream",
     "text": [
      "110000\n",
      "111000\n",
      "112000\n",
      "113000\n"
     ]
    }
   ],
   "source": [
    "import pickle\n",
    "i=len(prev_ids)\n",
    "for key in newkeys:\n",
    "    try:\n",
    "        df=get_all_reviews(key)\n",
    "    except: \n",
    "        continue\n",
    "        print('failed')\n",
    "    df['game_name']=steamapp_dict.get(key)\n",
    "    if 'review_df' not in locals():\n",
    "        review_df=df\n",
    "    else:\n",
    "        review_df=review_df.append(df, ignore_index=True, sort=False)\n",
    "        i=i+1\n",
    "        if i%1000==0:\n",
    "            print(i)\n",
    "            name='got_review_{}.p'.format(i)\n",
    "            pickle.dump(review_df,open(name,\"wb\"))"
   ]
  },
  {
   "cell_type": "code",
   "execution_count": null,
   "metadata": {},
   "outputs": [],
   "source": [
    "name"
   ]
  },
  {
   "cell_type": "code",
   "execution_count": null,
   "metadata": {},
   "outputs": [],
   "source": [
    "pickle.dump(review_df,open(\"final.p\",\"wb\"))"
   ]
  }
 ],
 "metadata": {
  "kernelspec": {
   "display_name": "Python 3",
   "language": "python",
   "name": "python3"
  },
  "language_info": {
   "codemirror_mode": {
    "name": "ipython",
    "version": 3
   },
   "file_extension": ".py",
   "mimetype": "text/x-python",
   "name": "python",
   "nbconvert_exporter": "python",
   "pygments_lexer": "ipython3",
   "version": "3.7.0"
  }
 },
 "nbformat": 4,
 "nbformat_minor": 2
}
